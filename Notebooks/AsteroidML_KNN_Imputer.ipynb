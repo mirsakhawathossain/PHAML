{
 "cells": [
  {
   "cell_type": "code",
   "execution_count": 1,
   "id": "00ac2d90-1f91-47ef-a2f6-b25cef098b9d",
   "metadata": {
    "execution": {
     "iopub.execute_input": "2023-10-04T11:12:36.495867Z",
     "iopub.status.busy": "2023-10-04T11:12:36.495119Z",
     "iopub.status.idle": "2023-10-04T11:12:36.542360Z",
     "shell.execute_reply": "2023-10-04T11:12:36.537510Z"
    }
   },
   "outputs": [],
   "source": [
    "#/home/idies/workspace/Storage/s.hossain18/Permanent/Asteroid_ML"
   ]
  },
  {
   "cell_type": "code",
   "execution_count": 2,
   "id": "e6d3f7b9-14a8-4f49-b3ab-08cd7369a3e8",
   "metadata": {
    "execution": {
     "iopub.execute_input": "2023-10-04T11:12:36.565073Z",
     "iopub.status.busy": "2023-10-04T11:12:36.564239Z",
     "iopub.status.idle": "2023-10-04T11:12:51.081709Z",
     "shell.execute_reply": "2023-10-04T11:12:51.078666Z"
    },
    "tags": []
   },
   "outputs": [
    {
     "name": "stdout",
     "output_type": "stream",
     "text": [
      "Collecting scikit-learn\r\n",
      "  Downloading scikit_learn-1.3.1-cp39-cp39-manylinux_2_17_x86_64.manylinux2014_x86_64.whl (10.9 MB)\r\n",
      "\u001b[2K     \u001b[90m━━━━━━━━━━━━━━━━━━━━━━━━━━━━━━━━━━━━━━━━\u001b[0m \u001b[32m10.9/10.9 MB\u001b[0m \u001b[31m14.8 MB/s\u001b[0m eta \u001b[36m0:00:00\u001b[0m\r\n",
      "\u001b[?25hCollecting joblib>=1.1.1\r\n",
      "  Downloading joblib-1.3.2-py3-none-any.whl (302 kB)\r\n",
      "\u001b[2K     \u001b[90m━━━━━━━━━━━━━━━━━━━━━━━━━━━━━━━━━━━━━━\u001b[0m \u001b[32m302.2/302.2 kB\u001b[0m \u001b[31m14.1 MB/s\u001b[0m eta \u001b[36m0:00:00\u001b[0m\r\n",
      "\u001b[?25hRequirement already satisfied: scipy>=1.5.0 in /home/idies/mambaforge/envs/py39/lib/python3.9/site-packages (from scikit-learn) (1.9.3)\r\n",
      "Requirement already satisfied: numpy<2.0,>=1.17.3 in /home/idies/mambaforge/envs/py39/lib/python3.9/site-packages (from scikit-learn) (1.23.4)\r\n",
      "Collecting threadpoolctl>=2.0.0\r\n",
      "  Downloading threadpoolctl-3.2.0-py3-none-any.whl (15 kB)\r\n",
      "Installing collected packages: threadpoolctl, joblib, scikit-learn\r\n",
      "Successfully installed joblib-1.3.2 scikit-learn-1.3.1 threadpoolctl-3.2.0\r\n"
     ]
    }
   ],
   "source": [
    "import sys\n",
    "!{sys.executable} -m pip install scikit-learn"
   ]
  },
  {
   "cell_type": "code",
   "execution_count": 3,
   "id": "29ab4739-ebb0-46ea-bffa-c44333105085",
   "metadata": {
    "execution": {
     "iopub.execute_input": "2023-10-04T11:12:51.092910Z",
     "iopub.status.busy": "2023-10-04T11:12:51.092154Z",
     "iopub.status.idle": "2023-10-04T11:12:53.487741Z",
     "shell.execute_reply": "2023-10-04T11:12:53.485464Z"
    },
    "tags": []
   },
   "outputs": [],
   "source": [
    "import pandas as pd\n",
    "import numpy as np"
   ]
  },
  {
   "cell_type": "code",
   "execution_count": 4,
   "id": "4783bd37-1705-4df0-8d9c-3c7d6e25623f",
   "metadata": {
    "execution": {
     "iopub.execute_input": "2023-10-04T11:12:53.497863Z",
     "iopub.status.busy": "2023-10-04T11:12:53.497085Z",
     "iopub.status.idle": "2023-10-04T11:13:15.910103Z",
     "shell.execute_reply": "2023-10-04T11:13:15.907154Z"
    },
    "tags": []
   },
   "outputs": [],
   "source": [
    "asteroid_data = pd.read_csv('https://dagshub.com/mirsakhawathossain/Asteroid_ML/raw/cceba246d6e1755c40511f7ccbabd1ac819f0515/Data/sbdb_query_results.csv',low_memory=False).sort_index(axis=0)"
   ]
  },
  {
   "cell_type": "code",
   "execution_count": 5,
   "id": "ba80fe92-fe75-4738-96c4-3bdd7f12a48b",
   "metadata": {
    "execution": {
     "iopub.execute_input": "2023-10-04T11:13:15.921148Z",
     "iopub.status.busy": "2023-10-04T11:13:15.920553Z",
     "iopub.status.idle": "2023-10-04T11:13:15.948080Z",
     "shell.execute_reply": "2023-10-04T11:13:15.946015Z"
    },
    "tags": []
   },
   "outputs": [
    {
     "data": {
      "text/plain": [
       "Index(['full_name', 'neo', 'pha', 'H', 'diameter', 'albedo', 'rot_per', 'e',\n",
       "       'a', 'q', 'i', 'om', 'w', 'ma', 'ad', 'n', 'per', 'moid_ld', 'class'],\n",
       "      dtype='object')"
      ]
     },
     "execution_count": 5,
     "metadata": {},
     "output_type": "execute_result"
    }
   ],
   "source": [
    "asteroid_data.columns"
   ]
  },
  {
   "cell_type": "code",
   "execution_count": 6,
   "id": "50f6802b-2001-4c57-950d-c5e892f9a19d",
   "metadata": {
    "execution": {
     "iopub.execute_input": "2023-10-04T11:13:15.955975Z",
     "iopub.status.busy": "2023-10-04T11:13:15.955434Z",
     "iopub.status.idle": "2023-10-04T11:13:16.103399Z",
     "shell.execute_reply": "2023-10-04T11:13:16.101366Z"
    }
   },
   "outputs": [],
   "source": [
    "asteroid_data['pha_map'] = asteroid_data.pha.map({'Y':1, 'N':0})"
   ]
  },
  {
   "cell_type": "code",
   "execution_count": 7,
   "id": "0b698b52-cd1b-445c-9d2b-3537468fd50f",
   "metadata": {
    "execution": {
     "iopub.execute_input": "2023-10-04T11:13:16.112808Z",
     "iopub.status.busy": "2023-10-04T11:13:16.112171Z",
     "iopub.status.idle": "2023-10-04T11:13:16.146649Z",
     "shell.execute_reply": "2023-10-04T11:13:16.144436Z"
    },
    "tags": []
   },
   "outputs": [
    {
     "data": {
      "text/plain": [
       "0.0    1298338\n",
       "1.0       2370\n",
       "Name: pha_map, dtype: int64"
      ]
     },
     "execution_count": 7,
     "metadata": {},
     "output_type": "execute_result"
    }
   ],
   "source": [
    "asteroid_data['pha_map'].value_counts()"
   ]
  },
  {
   "cell_type": "code",
   "execution_count": 8,
   "id": "62367153-9bc3-4daa-af50-283fc6ca1804",
   "metadata": {
    "execution": {
     "iopub.execute_input": "2023-10-04T11:13:16.154376Z",
     "iopub.status.busy": "2023-10-04T11:13:16.153769Z",
     "iopub.status.idle": "2023-10-04T11:13:17.901661Z",
     "shell.execute_reply": "2023-10-04T11:13:17.899373Z"
    }
   },
   "outputs": [],
   "source": [
    "from sklearn.impute import KNNImputer"
   ]
  },
  {
   "cell_type": "code",
   "execution_count": 9,
   "id": "ac586522-851f-4d9e-be77-373014999b59",
   "metadata": {
    "execution": {
     "iopub.execute_input": "2023-10-04T11:13:17.912562Z",
     "iopub.status.busy": "2023-10-04T11:13:17.911703Z",
     "iopub.status.idle": "2023-10-04T11:13:17.921386Z",
     "shell.execute_reply": "2023-10-04T11:13:17.919467Z"
    }
   },
   "outputs": [],
   "source": [
    "imputer = KNNImputer(n_neighbors=5)"
   ]
  },
  {
   "cell_type": "code",
   "execution_count": 10,
   "id": "23e1fcba-5d42-4bfb-90c6-92b03ff66d45",
   "metadata": {
    "execution": {
     "iopub.execute_input": "2023-10-04T11:13:17.928628Z",
     "iopub.status.busy": "2023-10-04T11:13:17.928038Z",
     "iopub.status.idle": "2023-10-04T12:08:14.484649Z",
     "shell.execute_reply": "2023-10-04T12:08:14.475693Z"
    }
   },
   "outputs": [],
   "source": [
    "df_filled = imputer.fit_transform(asteroid_data[['pha_map']])"
   ]
  },
  {
   "cell_type": "code",
   "execution_count": 11,
   "id": "5a76bcb1-e5f7-4e7e-9119-d4efbc834596",
   "metadata": {
    "execution": {
     "iopub.execute_input": "2023-10-04T12:08:14.506199Z",
     "iopub.status.busy": "2023-10-04T12:08:14.505565Z",
     "iopub.status.idle": "2023-10-04T12:08:14.839646Z",
     "shell.execute_reply": "2023-10-04T12:08:14.837119Z"
    }
   },
   "outputs": [],
   "source": [
    "np.save(\"/home/idies/workspace/Storage/s.hossain18/Permanent/Asteroid_ML/pha_map.npy\",df_filled)"
   ]
  }
 ],
 "metadata": {
  "kernelspec": {
   "display_name": "Python 3.9 (py39)",
   "language": "python",
   "name": "py39"
  },
  "language_info": {
   "codemirror_mode": {
    "name": "ipython",
    "version": 3
   },
   "file_extension": ".py",
   "mimetype": "text/x-python",
   "name": "python",
   "nbconvert_exporter": "python",
   "pygments_lexer": "ipython3",
   "version": "3.9.13"
  }
 },
 "nbformat": 4,
 "nbformat_minor": 5
}
