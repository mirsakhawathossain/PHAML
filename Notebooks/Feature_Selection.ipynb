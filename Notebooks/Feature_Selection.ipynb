{
 "cells": [
  {
   "cell_type": "code",
   "execution_count": 1,
   "id": "9b8128d5-1291-41df-8c4e-df5065ccbcf8",
   "metadata": {
    "execution": {
     "iopub.execute_input": "2023-10-09T05:45:26.658446Z",
     "iopub.status.busy": "2023-10-09T05:45:26.658169Z",
     "iopub.status.idle": "2023-10-09T05:45:26.668889Z",
     "shell.execute_reply": "2023-10-09T05:45:26.668002Z",
     "shell.execute_reply.started": "2023-10-09T05:45:26.658409Z"
    },
    "tags": []
   },
   "outputs": [],
   "source": [
    "import warnings\n",
    "warnings.filterwarnings('ignore')"
   ]
  },
  {
   "cell_type": "code",
   "execution_count": 2,
   "id": "c9632720-5762-4491-9c18-5f12e1e5fe65",
   "metadata": {
    "execution": {
     "iopub.execute_input": "2023-10-09T05:45:26.671949Z",
     "iopub.status.busy": "2023-10-09T05:45:26.671259Z",
     "iopub.status.idle": "2023-10-09T05:45:28.970497Z",
     "shell.execute_reply": "2023-10-09T05:45:28.969777Z",
     "shell.execute_reply.started": "2023-10-09T05:45:26.671917Z"
    },
    "tags": []
   },
   "outputs": [
    {
     "name": "stdout",
     "output_type": "stream",
     "text": [
      "Requirement already satisfied: scikit-learn in /opt/saturncloud/envs/saturn/lib/python3.9/site-packages (1.0.2)\n",
      "Requirement already satisfied: numpy>=1.14.6 in /opt/saturncloud/envs/saturn/lib/python3.9/site-packages (from scikit-learn) (1.21.6)\n",
      "Requirement already satisfied: scipy>=1.1.0 in /opt/saturncloud/envs/saturn/lib/python3.9/site-packages (from scikit-learn) (1.8.0)\n",
      "Requirement already satisfied: joblib>=0.11 in /opt/saturncloud/envs/saturn/lib/python3.9/site-packages (from scikit-learn) (1.3.0)\n",
      "Requirement already satisfied: threadpoolctl>=2.0.0 in /opt/saturncloud/envs/saturn/lib/python3.9/site-packages (from scikit-learn) (3.2.0)\n"
     ]
    }
   ],
   "source": [
    "import sys\n",
    "!{sys.executable} -m pip install scikit-learn"
   ]
  },
  {
   "cell_type": "code",
   "execution_count": 24,
   "id": "7c19c444-0a68-4c4a-a3ca-0363c94c76a8",
   "metadata": {
    "execution": {
     "iopub.execute_input": "2023-10-09T05:47:28.372696Z",
     "iopub.status.busy": "2023-10-09T05:47:28.372293Z",
     "iopub.status.idle": "2023-10-09T05:47:28.377977Z",
     "shell.execute_reply": "2023-10-09T05:47:28.377225Z",
     "shell.execute_reply.started": "2023-10-09T05:47:28.372665Z"
    },
    "tags": []
   },
   "outputs": [],
   "source": [
    " #import libraries\n",
    "import pandas as pd\n",
    "import numpy as np\n",
    "import matplotlib as mpl\n",
    "import matplotlib.pyplot as plt\n",
    "%matplotlib inline\n",
    "mpl.rcParams['figure.figsize'] = (17, 10)\n",
    "mpl.rcParams['axes.grid'] = True"
   ]
  },
  {
   "cell_type": "code",
   "execution_count": 4,
   "id": "3e8b85f2-ceec-4ebd-a404-f3e5769f63fc",
   "metadata": {
    "execution": {
     "iopub.execute_input": "2023-10-09T05:45:29.862159Z",
     "iopub.status.busy": "2023-10-09T05:45:29.861589Z",
     "iopub.status.idle": "2023-10-09T05:45:36.391605Z",
     "shell.execute_reply": "2023-10-09T05:45:36.390863Z",
     "shell.execute_reply.started": "2023-10-09T05:45:29.862133Z"
    },
    "tags": []
   },
   "outputs": [],
   "source": [
    "asteroid_data = pd.read_csv('https://dagshub.com/mirsakhawathossain/Asteroid_ML/raw/cceba246d6e1755c40511f7ccbabd1ac819f0515/Data/sbdb_query_results.csv',low_memory=False).sort_index(axis=0)"
   ]
  },
  {
   "cell_type": "code",
   "execution_count": 5,
   "id": "97e4c56d-2538-4695-bb24-50d8129adaf5",
   "metadata": {
    "execution": {
     "iopub.execute_input": "2023-10-09T05:45:36.393185Z",
     "iopub.status.busy": "2023-10-09T05:45:36.392853Z",
     "iopub.status.idle": "2023-10-09T05:45:36.414964Z",
     "shell.execute_reply": "2023-10-09T05:45:36.414208Z",
     "shell.execute_reply.started": "2023-10-09T05:45:36.393151Z"
    },
    "tags": []
   },
   "outputs": [
    {
     "data": {
      "text/html": [
       "<div>\n",
       "<style scoped>\n",
       "    .dataframe tbody tr th:only-of-type {\n",
       "        vertical-align: middle;\n",
       "    }\n",
       "\n",
       "    .dataframe tbody tr th {\n",
       "        vertical-align: top;\n",
       "    }\n",
       "\n",
       "    .dataframe thead th {\n",
       "        text-align: right;\n",
       "    }\n",
       "</style>\n",
       "<table border=\"1\" class=\"dataframe\">\n",
       "  <thead>\n",
       "    <tr style=\"text-align: right;\">\n",
       "      <th></th>\n",
       "      <th>full_name</th>\n",
       "      <th>neo</th>\n",
       "      <th>pha</th>\n",
       "      <th>H</th>\n",
       "      <th>diameter</th>\n",
       "      <th>albedo</th>\n",
       "      <th>rot_per</th>\n",
       "      <th>e</th>\n",
       "      <th>a</th>\n",
       "      <th>q</th>\n",
       "      <th>i</th>\n",
       "      <th>om</th>\n",
       "      <th>w</th>\n",
       "      <th>ma</th>\n",
       "      <th>ad</th>\n",
       "      <th>n</th>\n",
       "      <th>per</th>\n",
       "      <th>moid_ld</th>\n",
       "      <th>class</th>\n",
       "    </tr>\n",
       "  </thead>\n",
       "  <tbody>\n",
       "    <tr>\n",
       "      <th>0</th>\n",
       "      <td>1 Ceres (A801 AA)</td>\n",
       "      <td>N</td>\n",
       "      <td>N</td>\n",
       "      <td>3.33</td>\n",
       "      <td>939.400</td>\n",
       "      <td>0.0900</td>\n",
       "      <td>9.074170</td>\n",
       "      <td>0.0789</td>\n",
       "      <td>2.767</td>\n",
       "      <td>2.549</td>\n",
       "      <td>10.59</td>\n",
       "      <td>80.25</td>\n",
       "      <td>73.42</td>\n",
       "      <td>60.08</td>\n",
       "      <td>2.99</td>\n",
       "      <td>0.2141</td>\n",
       "      <td>1680.0</td>\n",
       "      <td>616.0</td>\n",
       "      <td>MBA</td>\n",
       "    </tr>\n",
       "    <tr>\n",
       "      <th>1</th>\n",
       "      <td>2 Pallas (A802 FA)</td>\n",
       "      <td>N</td>\n",
       "      <td>N</td>\n",
       "      <td>4.12</td>\n",
       "      <td>513.000</td>\n",
       "      <td>0.1550</td>\n",
       "      <td>7.813221</td>\n",
       "      <td>0.2302</td>\n",
       "      <td>2.770</td>\n",
       "      <td>2.132</td>\n",
       "      <td>34.93</td>\n",
       "      <td>172.92</td>\n",
       "      <td>310.87</td>\n",
       "      <td>40.60</td>\n",
       "      <td>3.41</td>\n",
       "      <td>0.2138</td>\n",
       "      <td>1680.0</td>\n",
       "      <td>478.0</td>\n",
       "      <td>MBA</td>\n",
       "    </tr>\n",
       "    <tr>\n",
       "      <th>2</th>\n",
       "      <td>3 Juno (A804 RA)</td>\n",
       "      <td>N</td>\n",
       "      <td>N</td>\n",
       "      <td>5.16</td>\n",
       "      <td>246.596</td>\n",
       "      <td>0.2140</td>\n",
       "      <td>7.210000</td>\n",
       "      <td>0.2562</td>\n",
       "      <td>2.669</td>\n",
       "      <td>1.985</td>\n",
       "      <td>12.99</td>\n",
       "      <td>169.84</td>\n",
       "      <td>247.74</td>\n",
       "      <td>37.02</td>\n",
       "      <td>3.35</td>\n",
       "      <td>0.2260</td>\n",
       "      <td>1590.0</td>\n",
       "      <td>403.0</td>\n",
       "      <td>MBA</td>\n",
       "    </tr>\n",
       "    <tr>\n",
       "      <th>3</th>\n",
       "      <td>4 Vesta (A807 FA)</td>\n",
       "      <td>N</td>\n",
       "      <td>N</td>\n",
       "      <td>3.22</td>\n",
       "      <td>525.400</td>\n",
       "      <td>0.4228</td>\n",
       "      <td>5.342128</td>\n",
       "      <td>0.0894</td>\n",
       "      <td>2.362</td>\n",
       "      <td>2.151</td>\n",
       "      <td>7.14</td>\n",
       "      <td>103.71</td>\n",
       "      <td>151.66</td>\n",
       "      <td>169.35</td>\n",
       "      <td>2.57</td>\n",
       "      <td>0.2715</td>\n",
       "      <td>1330.0</td>\n",
       "      <td>443.0</td>\n",
       "      <td>MBA</td>\n",
       "    </tr>\n",
       "    <tr>\n",
       "      <th>4</th>\n",
       "      <td>5 Astraea (A845 XA)</td>\n",
       "      <td>N</td>\n",
       "      <td>N</td>\n",
       "      <td>7.00</td>\n",
       "      <td>106.699</td>\n",
       "      <td>0.2740</td>\n",
       "      <td>16.806000</td>\n",
       "      <td>0.1874</td>\n",
       "      <td>2.577</td>\n",
       "      <td>2.094</td>\n",
       "      <td>5.36</td>\n",
       "      <td>141.47</td>\n",
       "      <td>359.14</td>\n",
       "      <td>303.40</td>\n",
       "      <td>3.06</td>\n",
       "      <td>0.2383</td>\n",
       "      <td>1510.0</td>\n",
       "      <td>430.0</td>\n",
       "      <td>MBA</td>\n",
       "    </tr>\n",
       "  </tbody>\n",
       "</table>\n",
       "</div>"
      ],
      "text/plain": [
       "                  full_name neo pha     H  diameter  albedo    rot_per  \\\n",
       "0         1 Ceres (A801 AA)   N   N  3.33   939.400  0.0900   9.074170   \n",
       "1        2 Pallas (A802 FA)   N   N  4.12   513.000  0.1550   7.813221   \n",
       "2          3 Juno (A804 RA)   N   N  5.16   246.596  0.2140   7.210000   \n",
       "3         4 Vesta (A807 FA)   N   N  3.22   525.400  0.4228   5.342128   \n",
       "4       5 Astraea (A845 XA)   N   N  7.00   106.699  0.2740  16.806000   \n",
       "\n",
       "        e      a      q      i      om       w      ma    ad       n     per  \\\n",
       "0  0.0789  2.767  2.549  10.59   80.25   73.42   60.08  2.99  0.2141  1680.0   \n",
       "1  0.2302  2.770  2.132  34.93  172.92  310.87   40.60  3.41  0.2138  1680.0   \n",
       "2  0.2562  2.669  1.985  12.99  169.84  247.74   37.02  3.35  0.2260  1590.0   \n",
       "3  0.0894  2.362  2.151   7.14  103.71  151.66  169.35  2.57  0.2715  1330.0   \n",
       "4  0.1874  2.577  2.094   5.36  141.47  359.14  303.40  3.06  0.2383  1510.0   \n",
       "\n",
       "   moid_ld class  \n",
       "0    616.0   MBA  \n",
       "1    478.0   MBA  \n",
       "2    403.0   MBA  \n",
       "3    443.0   MBA  \n",
       "4    430.0   MBA  "
      ]
     },
     "execution_count": 5,
     "metadata": {},
     "output_type": "execute_result"
    }
   ],
   "source": [
    "asteroid_data.head(5)"
   ]
  },
  {
   "cell_type": "code",
   "execution_count": 6,
   "id": "e2018924-70ba-48e1-8dd3-eb08126fbaab",
   "metadata": {
    "execution": {
     "iopub.execute_input": "2023-10-09T05:45:36.418371Z",
     "iopub.status.busy": "2023-10-09T05:45:36.418087Z",
     "iopub.status.idle": "2023-10-09T05:45:37.089967Z",
     "shell.execute_reply": "2023-10-09T05:45:37.089341Z",
     "shell.execute_reply.started": "2023-10-09T05:45:36.418349Z"
    },
    "tags": []
   },
   "outputs": [
    {
     "data": {
      "text/plain": [
       "full_name          0\n",
       "neo                4\n",
       "pha            11255\n",
       "H               1230\n",
       "diameter     1172332\n",
       "albedo       1173460\n",
       "rot_per      1277860\n",
       "e                  0\n",
       "a                  0\n",
       "q                  0\n",
       "i                  0\n",
       "om                 0\n",
       "w                  0\n",
       "ma                 1\n",
       "ad                 4\n",
       "n                  0\n",
       "per                4\n",
       "moid_ld        11254\n",
       "class              0\n",
       "dtype: int64"
      ]
     },
     "execution_count": 6,
     "metadata": {},
     "output_type": "execute_result"
    }
   ],
   "source": [
    "asteroid_data.isnull().sum()"
   ]
  },
  {
   "cell_type": "code",
   "execution_count": 7,
   "id": "d58c0ccc-e65a-4f74-ae52-38f977165cf6",
   "metadata": {
    "execution": {
     "iopub.execute_input": "2023-10-09T05:45:37.091336Z",
     "iopub.status.busy": "2023-10-09T05:45:37.091028Z",
     "iopub.status.idle": "2023-10-09T05:45:37.839614Z",
     "shell.execute_reply": "2023-10-09T05:45:37.838888Z",
     "shell.execute_reply.started": "2023-10-09T05:45:37.091306Z"
    },
    "tags": []
   },
   "outputs": [
    {
     "name": "stdout",
     "output_type": "stream",
     "text": [
      "<class 'pandas.core.frame.DataFrame'>\n",
      "RangeIndex: 1311963 entries, 0 to 1311962\n",
      "Data columns (total 19 columns):\n",
      " #   Column     Non-Null Count    Dtype  \n",
      "---  ------     --------------    -----  \n",
      " 0   full_name  1311963 non-null  object \n",
      " 1   neo        1311959 non-null  object \n",
      " 2   pha        1300708 non-null  object \n",
      " 3   H          1310733 non-null  float64\n",
      " 4   diameter   139631 non-null   float64\n",
      " 5   albedo     138503 non-null   float64\n",
      " 6   rot_per    34103 non-null    float64\n",
      " 7   e          1311963 non-null  float64\n",
      " 8   a          1311963 non-null  float64\n",
      " 9   q          1311963 non-null  float64\n",
      " 10  i          1311963 non-null  float64\n",
      " 11  om         1311963 non-null  float64\n",
      " 12  w          1311963 non-null  float64\n",
      " 13  ma         1311962 non-null  float64\n",
      " 14  ad         1311959 non-null  float64\n",
      " 15  n          1311963 non-null  float64\n",
      " 16  per        1311959 non-null  float64\n",
      " 17  moid_ld    1300709 non-null  float64\n",
      " 18  class      1311963 non-null  object \n",
      "dtypes: float64(15), object(4)\n",
      "memory usage: 190.2+ MB\n"
     ]
    }
   ],
   "source": [
    "asteroid_data.info()"
   ]
  },
  {
   "cell_type": "code",
   "execution_count": 8,
   "id": "e3cfadd3-edf1-4b7d-869b-ad506a0eb4a7",
   "metadata": {
    "execution": {
     "iopub.execute_input": "2023-10-09T05:45:37.842423Z",
     "iopub.status.busy": "2023-10-09T05:45:37.840753Z",
     "iopub.status.idle": "2023-10-09T05:45:37.907716Z",
     "shell.execute_reply": "2023-10-09T05:45:37.906959Z",
     "shell.execute_reply.started": "2023-10-09T05:45:37.842398Z"
    },
    "tags": []
   },
   "outputs": [],
   "source": [
    "dataframe=asteroid_data.drop(columns=['neo','full_name'])"
   ]
  },
  {
   "cell_type": "code",
   "execution_count": 9,
   "id": "fe49c4e7-7ac2-423d-9c49-532fa390b36e",
   "metadata": {
    "execution": {
     "iopub.execute_input": "2023-10-09T05:45:37.909409Z",
     "iopub.status.busy": "2023-10-09T05:45:37.909005Z",
     "iopub.status.idle": "2023-10-09T05:45:38.568360Z",
     "shell.execute_reply": "2023-10-09T05:45:38.567616Z",
     "shell.execute_reply.started": "2023-10-09T05:45:37.909373Z"
    },
    "tags": []
   },
   "outputs": [],
   "source": [
    "dataframe['diameter'].fillna(dataframe.groupby('class')['diameter'].transform('median'),inplace=True)\n",
    "dataframe['H'].fillna(dataframe.groupby('class')['H'].transform('median'),inplace=True)\n",
    "dataframe['albedo'].fillna(dataframe.groupby('class')['albedo'].transform('median'),inplace=True)\n",
    "dataframe['ma'].fillna(dataframe.groupby('class')['ma'].transform('median'),inplace=True)\n",
    "dataframe['ad'].fillna(dataframe.groupby('class')['ad'].transform('median'),inplace=True)\n",
    "dataframe['per'].fillna(dataframe.groupby('class')['per'].transform('median'),inplace=True)\n",
    "dataframe['moid_ld'].fillna(dataframe.groupby('class')['moid_ld'].transform('median'),inplace=True)\n",
    "dataframe['rot_per'].fillna(dataframe.groupby('class')['rot_per'].transform('median'),inplace=True)"
   ]
  },
  {
   "cell_type": "code",
   "execution_count": 10,
   "id": "f48c2ea2-324f-46c6-9d20-48ec9314a1d4",
   "metadata": {
    "execution": {
     "iopub.execute_input": "2023-10-09T05:45:38.570079Z",
     "iopub.status.busy": "2023-10-09T05:45:38.569747Z",
     "iopub.status.idle": "2023-10-09T05:45:38.896228Z",
     "shell.execute_reply": "2023-10-09T05:45:38.895516Z",
     "shell.execute_reply.started": "2023-10-09T05:45:38.570048Z"
    },
    "tags": []
   },
   "outputs": [],
   "source": [
    "dataframe[['diameter','albedo','ad','per']]=dataframe[['diameter','albedo','ad','per']].fillna(value=dataframe[['diameter','albedo','ad','per']].median())"
   ]
  },
  {
   "cell_type": "code",
   "execution_count": 11,
   "id": "dad1888c-47b4-4b4c-8ae5-755b5b68eaf8",
   "metadata": {
    "execution": {
     "iopub.execute_input": "2023-10-09T05:45:38.897751Z",
     "iopub.status.busy": "2023-10-09T05:45:38.897436Z",
     "iopub.status.idle": "2023-10-09T05:45:39.259321Z",
     "shell.execute_reply": "2023-10-09T05:45:39.258676Z",
     "shell.execute_reply.started": "2023-10-09T05:45:38.897717Z"
    },
    "tags": []
   },
   "outputs": [
    {
     "data": {
      "text/plain": [
       "pha         11255\n",
       "H               0\n",
       "diameter        0\n",
       "albedo          0\n",
       "rot_per         0\n",
       "e               0\n",
       "a               0\n",
       "q               0\n",
       "i               0\n",
       "om              0\n",
       "w               0\n",
       "ma              0\n",
       "ad              0\n",
       "n               0\n",
       "per             0\n",
       "moid_ld         0\n",
       "class           0\n",
       "dtype: int64"
      ]
     },
     "execution_count": 11,
     "metadata": {},
     "output_type": "execute_result"
    }
   ],
   "source": [
    "dataframe.isnull().sum()"
   ]
  },
  {
   "cell_type": "code",
   "execution_count": 12,
   "id": "7671f489-5389-4595-a9a7-d4ef8d745b61",
   "metadata": {
    "execution": {
     "iopub.execute_input": "2023-10-09T05:45:39.260787Z",
     "iopub.status.busy": "2023-10-09T05:45:39.260479Z",
     "iopub.status.idle": "2023-10-09T05:45:39.428098Z",
     "shell.execute_reply": "2023-10-09T05:45:39.427325Z",
     "shell.execute_reply.started": "2023-10-09T05:45:39.260757Z"
    },
    "tags": []
   },
   "outputs": [],
   "source": [
    "dataframe = dataframe.drop(columns=['class','pha'])"
   ]
  },
  {
   "cell_type": "code",
   "execution_count": 13,
   "id": "2e7d30be-6a9e-4dff-aab5-41318231f62f",
   "metadata": {
    "execution": {
     "iopub.execute_input": "2023-10-09T05:45:39.431532Z",
     "iopub.status.busy": "2023-10-09T05:45:39.431216Z",
     "iopub.status.idle": "2023-10-09T05:45:39.473205Z",
     "shell.execute_reply": "2023-10-09T05:45:39.472599Z",
     "shell.execute_reply.started": "2023-10-09T05:45:39.431508Z"
    },
    "tags": []
   },
   "outputs": [
    {
     "data": {
      "text/plain": [
       "H           0\n",
       "diameter    0\n",
       "albedo      0\n",
       "rot_per     0\n",
       "e           0\n",
       "a           0\n",
       "q           0\n",
       "i           0\n",
       "om          0\n",
       "w           0\n",
       "ma          0\n",
       "ad          0\n",
       "n           0\n",
       "per         0\n",
       "moid_ld     0\n",
       "dtype: int64"
      ]
     },
     "execution_count": 13,
     "metadata": {},
     "output_type": "execute_result"
    }
   ],
   "source": [
    "dataframe.isnull().sum()"
   ]
  },
  {
   "cell_type": "code",
   "execution_count": 14,
   "id": "f0801307-cfac-4956-8e23-23bbb06d6308",
   "metadata": {
    "execution": {
     "iopub.execute_input": "2023-10-09T05:45:39.474779Z",
     "iopub.status.busy": "2023-10-09T05:45:39.474488Z",
     "iopub.status.idle": "2023-10-09T05:45:39.480934Z",
     "shell.execute_reply": "2023-10-09T05:45:39.480235Z",
     "shell.execute_reply.started": "2023-10-09T05:45:39.474748Z"
    },
    "tags": []
   },
   "outputs": [],
   "source": [
    "X = dataframe"
   ]
  },
  {
   "cell_type": "code",
   "execution_count": 15,
   "id": "77a79a5b-9b74-4c3e-a1d6-26ad42f323ba",
   "metadata": {
    "execution": {
     "iopub.execute_input": "2023-10-09T05:45:39.482267Z",
     "iopub.status.busy": "2023-10-09T05:45:39.481923Z",
     "iopub.status.idle": "2023-10-09T05:45:39.727752Z",
     "shell.execute_reply": "2023-10-09T05:45:39.727024Z",
     "shell.execute_reply.started": "2023-10-09T05:45:39.482237Z"
    },
    "tags": []
   },
   "outputs": [],
   "source": [
    "import requests\n",
    "response = requests.get('https://dagshub.com/mirsakhawathossain/Asteroid_ML/raw/a838c5aaa42a52947c920739b7a4970288e0a9a3/Data/pha_map.npy')"
   ]
  },
  {
   "cell_type": "code",
   "execution_count": 16,
   "id": "702d8e48-2d12-44a9-8afa-b1b3fc10de32",
   "metadata": {
    "execution": {
     "iopub.execute_input": "2023-10-09T05:45:39.730530Z",
     "iopub.status.busy": "2023-10-09T05:45:39.729923Z",
     "iopub.status.idle": "2023-10-09T05:45:39.734292Z",
     "shell.execute_reply": "2023-10-09T05:45:39.733530Z",
     "shell.execute_reply.started": "2023-10-09T05:45:39.730493Z"
    },
    "tags": []
   },
   "outputs": [],
   "source": [
    "from io import BytesIO\n",
    "\n",
    "data = BytesIO(response.content)"
   ]
  },
  {
   "cell_type": "code",
   "execution_count": 17,
   "id": "859c1e72-e27d-4dab-aff1-dc4200aaa71b",
   "metadata": {
    "execution": {
     "iopub.execute_input": "2023-10-09T05:45:39.736124Z",
     "iopub.status.busy": "2023-10-09T05:45:39.735627Z",
     "iopub.status.idle": "2023-10-09T05:45:39.744560Z",
     "shell.execute_reply": "2023-10-09T05:45:39.743881Z",
     "shell.execute_reply.started": "2023-10-09T05:45:39.736092Z"
    },
    "tags": []
   },
   "outputs": [],
   "source": [
    "y = np.load(data)"
   ]
  },
  {
   "cell_type": "code",
   "execution_count": 18,
   "id": "d20afde7-1e10-4c53-b28a-25be7dd214d4",
   "metadata": {
    "execution": {
     "iopub.execute_input": "2023-10-09T05:45:39.748453Z",
     "iopub.status.busy": "2023-10-09T05:45:39.748219Z",
     "iopub.status.idle": "2023-10-09T05:45:41.007542Z",
     "shell.execute_reply": "2023-10-09T05:45:41.006789Z",
     "shell.execute_reply.started": "2023-10-09T05:45:39.748432Z"
    },
    "tags": []
   },
   "outputs": [
    {
     "name": "stderr",
     "output_type": "stream",
     "text": [
      "Intel(R) Extension for Scikit-learn* enabled (https://github.com/intel/scikit-learn-intelex)\n"
     ]
    }
   ],
   "source": [
    "from sklearn import preprocessing\n",
    "scaler = preprocessing.RobustScaler().fit(X)\n",
    "X_new = scaler.transform(X)\n",
    "min_max = preprocessing.MinMaxScaler().fit(X_new)\n",
    "X_minmax = min_max.transform(X_new)"
   ]
  },
  {
   "cell_type": "code",
   "execution_count": 19,
   "id": "0646483d-b16e-4cff-aece-34cac635269b",
   "metadata": {
    "execution": {
     "iopub.execute_input": "2023-10-09T05:45:41.009290Z",
     "iopub.status.busy": "2023-10-09T05:45:41.008977Z",
     "iopub.status.idle": "2023-10-09T05:45:41.013421Z",
     "shell.execute_reply": "2023-10-09T05:45:41.012669Z",
     "shell.execute_reply.started": "2023-10-09T05:45:41.009258Z"
    },
    "tags": []
   },
   "outputs": [],
   "source": [
    "X_data = pd.DataFrame(X_minmax,columns=X.columns)"
   ]
  },
  {
   "cell_type": "code",
   "execution_count": 20,
   "id": "73206511-88e3-4e9f-a57f-5d41b03ece90",
   "metadata": {
    "execution": {
     "iopub.execute_input": "2023-10-09T05:45:41.015217Z",
     "iopub.status.busy": "2023-10-09T05:45:41.014680Z",
     "iopub.status.idle": "2023-10-09T05:45:41.022669Z",
     "shell.execute_reply": "2023-10-09T05:45:41.022041Z",
     "shell.execute_reply.started": "2023-10-09T05:45:41.015184Z"
    },
    "tags": []
   },
   "outputs": [],
   "source": [
    "y_data = pd.DataFrame(y,columns=['pha']).astype('int32')"
   ]
  },
  {
   "cell_type": "code",
   "execution_count": 21,
   "id": "c4d65232-f72d-4627-92a0-c09bbbb69923",
   "metadata": {
    "execution": {
     "iopub.execute_input": "2023-10-09T05:45:41.024141Z",
     "iopub.status.busy": "2023-10-09T05:45:41.023846Z",
     "iopub.status.idle": "2023-10-09T05:45:41.031229Z",
     "shell.execute_reply": "2023-10-09T05:45:41.030653Z",
     "shell.execute_reply.started": "2023-10-09T05:45:41.024112Z"
    },
    "tags": []
   },
   "outputs": [],
   "source": [
    "from sklearn.feature_selection import SelectKBest\n",
    "from sklearn.feature_selection import chi2"
   ]
  },
  {
   "cell_type": "code",
   "execution_count": 22,
   "id": "d3ab1106-2ae9-44ea-a5c0-69d75aa41f7b",
   "metadata": {
    "execution": {
     "iopub.execute_input": "2023-10-09T05:45:41.032688Z",
     "iopub.status.busy": "2023-10-09T05:45:41.032369Z",
     "iopub.status.idle": "2023-10-09T05:45:41.279761Z",
     "shell.execute_reply": "2023-10-09T05:45:41.278359Z",
     "shell.execute_reply.started": "2023-10-09T05:45:41.032659Z"
    },
    "tags": []
   },
   "outputs": [
    {
     "name": "stdout",
     "output_type": "stream",
     "text": [
      "     Feature        Score\n",
      "4          e  1805.058034\n",
      "12         n   252.470980\n",
      "2     albedo    49.287066\n",
      "14   moid_ld    40.679396\n",
      "7          i    36.993302\n",
      "6          q    33.734227\n",
      "0          H    28.953978\n",
      "1   diameter     7.761626\n",
      "8         om     0.644109\n",
      "10        ma     0.075554\n"
     ]
    }
   ],
   "source": [
    "from sklearn.feature_selection import SelectKBest, chi2\n",
    "\n",
    "# Assuming you have your data loaded and X_data, y defined\n",
    "# X_data is your features, and y is your target variable\n",
    "\n",
    "# Convert y to a 1D array\n",
    "y = y_data.values.ravel()\n",
    "\n",
    "# Feature selection using chi-squared test\n",
    "best_features = SelectKBest(score_func=chi2, k=10)\n",
    "fit = best_features.fit(X_data, y)\n",
    "\n",
    "# Get scores and columns\n",
    "dfscores = pd.DataFrame(fit.scores_)\n",
    "dfcolumns = pd.DataFrame(X_data.columns)\n",
    "\n",
    "# Concatenate scores and columns into a single DataFrame\n",
    "feature_scores = pd.concat([dfcolumns, dfscores], axis=1)\n",
    "feature_scores.columns = ['Feature', 'Score']\n",
    "\n",
    "# Display the selected features and their scores\n",
    "print(feature_scores.nlargest(10, 'Score'))"
   ]
  },
  {
   "cell_type": "code",
   "execution_count": 25,
   "id": "167ba11b-db84-4c91-b79c-41f782365f9d",
   "metadata": {
    "execution": {
     "iopub.execute_input": "2023-10-09T05:47:33.479022Z",
     "iopub.status.busy": "2023-10-09T05:47:33.478633Z",
     "iopub.status.idle": "2023-10-09T05:48:23.904275Z",
     "shell.execute_reply": "2023-10-09T05:48:23.903452Z",
     "shell.execute_reply.started": "2023-10-09T05:47:33.478991Z"
    },
    "tags": []
   },
   "outputs": [
    {
     "name": "stdout",
     "output_type": "stream",
     "text": [
      "[0.20537129 0.03144476 0.02647088 0.03739344 0.08915975 0.03930585\n",
      " 0.07490085 0.05231084 0.03778883 0.04407991 0.04871795 0.04079131\n",
      " 0.05255598 0.02735279 0.19235556]\n"
     ]
    },
    {
     "data": {
      "image/png": "[encoded data removed]",
      "text/plain": [
       "<Figure size 1700x1000 with 1 Axes>"
      ]
     },
     "metadata": {},
     "output_type": "display_data"
    }
   ],
   "source": [
    "from sklearn.ensemble import ExtraTreesClassifier\n",
    "import matplotlib.pyplot as plt\n",
    "model = ExtraTreesClassifier()\n",
    "model.fit(X_data,y_data)\n",
    "print(model.feature_importances_) #use inbuilt class feature_importances of tree based classifiers\n",
    "#plot graph of feature importances for better visualization\n",
    "feat_importances = pd.Series(model.feature_importances_, index=X_data.columns)\n",
    "feat_importances.nlargest(10).plot(kind='barh')\n",
    "plt.show()"
   ]
  },
  {
   "cell_type": "code",
   "execution_count": null,
   "id": "cde63ee7-6a26-4cf8-ab95-cf914ea0de84",
   "metadata": {},
   "outputs": [],
   "source": []
  }
 ],
 "metadata": {
  "kernelspec": {
   "display_name": "saturn (Python 3)",
   "language": "python",
   "name": "python3"
  },
  "language_info": {
   "codemirror_mode": {
    "name": "ipython",
    "version": 3
   },
   "file_extension": ".py",
   "mimetype": "text/x-python",
   "name": "python",
   "nbconvert_exporter": "python",
   "pygments_lexer": "ipython3",
   "version": "3.9.15"
  }
 },
 "nbformat": 4,
 "nbformat_minor": 5
}
