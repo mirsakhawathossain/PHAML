{
 "cells": [
  {
   "cell_type": "code",
   "execution_count": 1,
   "metadata": {
    "execution": {
     "iopub.execute_input": "2023-10-15T08:29:51.154166Z",
     "iopub.status.busy": "2023-10-15T08:29:51.153534Z",
     "iopub.status.idle": "2023-10-15T08:30:05.135467Z",
     "shell.execute_reply": "2023-10-15T08:30:05.132582Z"
    }
   },
   "outputs": [
    {
     "name": "stdout",
     "output_type": "stream",
     "text": [
      "Collecting scikit-learn\r\n",
      "  Downloading scikit_learn-1.3.1-cp39-cp39-manylinux_2_17_x86_64.manylinux2014_x86_64.whl (10.9 MB)\r\n",
      "\u001b[2K     \u001b[90m━━━━━━━━━━━━━━━━━━━━━━━━━━━━━━━━━━━━━━━━\u001b[0m \u001b[32m10.9/10.9 MB\u001b[0m \u001b[31m16.9 MB/s\u001b[0m eta \u001b[36m0:00:00\u001b[0m\r\n",
      "\u001b[?25hRequirement already satisfied: scipy>=1.5.0 in /home/idies/mambaforge/envs/py39/lib/python3.9/site-packages (from scikit-learn) (1.9.3)\r\n",
      "Collecting joblib>=1.1.1\r\n",
      "  Downloading joblib-1.3.2-py3-none-any.whl (302 kB)\r\n",
      "\u001b[2K     \u001b[90m━━━━━━━━━━━━━━━━━━━━━━━━━━━━━━━━━━━━━━━\u001b[0m \u001b[32m302.2/302.2 kB\u001b[0m \u001b[31m7.5 MB/s\u001b[0m eta \u001b[36m0:00:00\u001b[0m\r\n",
      "\u001b[?25hCollecting threadpoolctl>=2.0.0\r\n",
      "  Downloading threadpoolctl-3.2.0-py3-none-any.whl (15 kB)\r\n",
      "Requirement already satisfied: numpy<2.0,>=1.17.3 in /home/idies/mambaforge/envs/py39/lib/python3.9/site-packages (from scikit-learn) (1.23.4)\r\n",
      "Installing collected packages: threadpoolctl, joblib, scikit-learn\r\n",
      "Successfully installed joblib-1.3.2 scikit-learn-1.3.1 threadpoolctl-3.2.0\r\n"
     ]
    }
   ],
   "source": [
    "import sys\n",
    "!{sys.executable} -m pip install scikit-learn"
   ]
  },
  {
   "cell_type": "code",
   "execution_count": 2,
   "metadata": {
    "execution": {
     "iopub.execute_input": "2023-10-15T08:30:05.147021Z",
     "iopub.status.busy": "2023-10-15T08:30:05.146403Z",
     "iopub.status.idle": "2023-10-15T08:30:07.793119Z",
     "shell.execute_reply": "2023-10-15T08:30:07.790598Z"
    }
   },
   "outputs": [],
   "source": [
    "import pandas as pd\n",
    "import numpy as np"
   ]
  },
  {
   "cell_type": "code",
   "execution_count": 3,
   "metadata": {
    "execution": {
     "iopub.execute_input": "2023-10-15T08:30:07.802715Z",
     "iopub.status.busy": "2023-10-15T08:30:07.801921Z",
     "iopub.status.idle": "2023-10-15T08:30:28.773555Z",
     "shell.execute_reply": "2023-10-15T08:30:28.771046Z"
    }
   },
   "outputs": [],
   "source": [
    "asteroid_data = pd.read_csv('https://dagshub.com/mirsakhawathossain/Asteroid_ML/raw/cceba246d6e1755c40511f7ccbabd1ac819f0515/Data/sbdb_query_results.csv',low_memory=False).sort_index(axis=0)"
   ]
  },
  {
   "cell_type": "code",
   "execution_count": 4,
   "metadata": {
    "execution": {
     "iopub.execute_input": "2023-10-15T08:30:28.784386Z",
     "iopub.status.busy": "2023-10-15T08:30:28.783767Z",
     "iopub.status.idle": "2023-10-15T08:30:29.169002Z",
     "shell.execute_reply": "2023-10-15T08:30:29.166370Z"
    }
   },
   "outputs": [],
   "source": [
    "dataframe=asteroid_data.drop(columns=['neo','full_name','pha','class'])"
   ]
  },
  {
   "cell_type": "code",
   "execution_count": 5,
   "metadata": {
    "execution": {
     "iopub.execute_input": "2023-10-15T08:30:29.177558Z",
     "iopub.status.busy": "2023-10-15T08:30:29.176955Z",
     "iopub.status.idle": "2023-10-15T08:30:29.316628Z",
     "shell.execute_reply": "2023-10-15T08:30:29.314752Z"
    }
   },
   "outputs": [
    {
     "data": {
      "text/plain": [
       "H              1230\n",
       "diameter    1172332\n",
       "albedo      1173460\n",
       "rot_per     1277860\n",
       "e                 0\n",
       "a                 0\n",
       "q                 0\n",
       "i                 0\n",
       "om                0\n",
       "w                 0\n",
       "ma                1\n",
       "ad                4\n",
       "n                 0\n",
       "per               4\n",
       "moid_ld       11254\n",
       "dtype: int64"
      ]
     },
     "execution_count": 5,
     "metadata": {},
     "output_type": "execute_result"
    }
   ],
   "source": [
    "dataframe.isnull().sum()"
   ]
  },
  {
   "cell_type": "code",
   "execution_count": 6,
   "metadata": {
    "execution": {
     "iopub.execute_input": "2023-10-15T08:30:29.324524Z",
     "iopub.status.busy": "2023-10-15T08:30:29.323919Z",
     "iopub.status.idle": "2023-10-15T08:30:31.325006Z",
     "shell.execute_reply": "2023-10-15T08:30:31.322690Z"
    }
   },
   "outputs": [],
   "source": [
    "from sklearn.experimental import enable_iterative_imputer\n",
    "from sklearn.impute import IterativeImputer"
   ]
  },
  {
   "cell_type": "code",
   "execution_count": 7,
   "metadata": {
    "execution": {
     "iopub.execute_input": "2023-10-15T08:30:31.336751Z",
     "iopub.status.busy": "2023-10-15T08:30:31.335927Z",
     "iopub.status.idle": "2023-10-15T08:30:31.348086Z",
     "shell.execute_reply": "2023-10-15T08:30:31.345478Z"
    }
   },
   "outputs": [],
   "source": [
    "imputer = IterativeImputer(n_nearest_features=5, initial_strategy='median', max_iter=10, random_state=0)"
   ]
  },
  {
   "cell_type": "code",
   "execution_count": 8,
   "metadata": {
    "execution": {
     "iopub.execute_input": "2023-10-15T08:30:31.355853Z",
     "iopub.status.busy": "2023-10-15T08:30:31.355206Z",
     "iopub.status.idle": "2023-10-15T08:33:33.769248Z",
     "shell.execute_reply": "2023-10-15T08:33:33.765635Z"
    }
   },
   "outputs": [],
   "source": [
    "df_filled = imputer.fit_transform(dataframe)"
   ]
  },
  {
   "cell_type": "code",
   "execution_count": 9,
   "metadata": {
    "execution": {
     "iopub.execute_input": "2023-10-15T08:33:33.792584Z",
     "iopub.status.busy": "2023-10-15T08:33:33.791908Z",
     "iopub.status.idle": "2023-10-15T08:33:33.810682Z",
     "shell.execute_reply": "2023-10-15T08:33:33.808465Z"
    }
   },
   "outputs": [],
   "source": [
    "final_df = pd.DataFrame(df_filled, columns=dataframe.columns)"
   ]
  },
  {
   "cell_type": "code",
   "execution_count": 10,
   "metadata": {
    "execution": {
     "iopub.execute_input": "2023-10-15T08:33:33.819140Z",
     "iopub.status.busy": "2023-10-15T08:33:33.818545Z",
     "iopub.status.idle": "2023-10-15T08:34:07.001364Z",
     "shell.execute_reply": "2023-10-15T08:34:06.998539Z"
    }
   },
   "outputs": [],
   "source": [
    "final_df.to_csv('/home/idies/workspace/Storage/s.hossain18/Permanent/Asteroid_ML/final_data.csv', index=False)"
   ]
  }
 ],
 "metadata": {
  "kernelspec": {
   "display_name": "Python 3.9 (py39)",
   "language": "python",
   "name": "py39"
  },
  "language_info": {
   "codemirror_mode": {
    "name": "ipython",
    "version": 3
   },
   "file_extension": ".py",
   "mimetype": "text/x-python",
   "name": "python",
   "nbconvert_exporter": "python",
   "pygments_lexer": "ipython3",
   "version": "3.9.13"
  }
 },
 "nbformat": 4,
 "nbformat_minor": 4
}
