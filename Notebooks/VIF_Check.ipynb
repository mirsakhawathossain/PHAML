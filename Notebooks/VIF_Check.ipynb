{
 "cells": [
  {
   "cell_type": "code",
   "execution_count": 1,
   "id": "8c360126-9f53-4d8e-9632-a1b3148f03b4",
   "metadata": {
    "execution": {
     "iopub.execute_input": "2023-10-09T03:40:22.079759Z",
     "iopub.status.busy": "2023-10-09T03:40:22.079390Z",
     "iopub.status.idle": "2023-10-09T03:40:22.086357Z",
     "shell.execute_reply": "2023-10-09T03:40:22.085474Z",
     "shell.execute_reply.started": "2023-10-09T03:40:22.079725Z"
    },
    "tags": []
   },
   "outputs": [],
   "source": [
    "import warnings\n",
    "warnings.filterwarnings('ignore')"
   ]
  },
  {
   "cell_type": "code",
   "execution_count": 2,
   "id": "1db1cc0a-e7ce-4e97-80cf-24ed6cba82aa",
   "metadata": {
    "execution": {
     "iopub.execute_input": "2023-10-09T03:40:31.531589Z",
     "iopub.status.busy": "2023-10-09T03:40:31.531214Z",
     "iopub.status.idle": "2023-10-09T03:40:39.822910Z",
     "shell.execute_reply": "2023-10-09T03:40:39.822107Z",
     "shell.execute_reply.started": "2023-10-09T03:40:31.531560Z"
    },
    "tags": []
   },
   "outputs": [
    {
     "name": "stdout",
     "output_type": "stream",
     "text": [
      "Collecting scikit-learn-intelex\n",
      "  Obtaining dependency information for scikit-learn-intelex from https://files.pythonhosted.org/packages/df/cb/bd7884773d26f931acfc774d6cdd03227b75ca9d70da553215beb4be76db/scikit_learn_intelex-2023.2.1-py39-none-manylinux1_x86_64.whl.metadata\n",
      "  Downloading scikit_learn_intelex-2023.2.1-py39-none-manylinux1_x86_64.whl.metadata (12 kB)\n",
      "Collecting daal4py==2023.2.1 (from scikit-learn-intelex)\n",
      "  Obtaining dependency information for daal4py==2023.2.1 from https://files.pythonhosted.org/packages/11/29/eaa8872a2a7ccaa00593c726624fa3427e02eeaa16ce553c4f0b230f848c/daal4py-2023.2.1-py39-none-manylinux1_x86_64.whl.metadata\n",
      "  Downloading daal4py-2023.2.1-py39-none-manylinux1_x86_64.whl.metadata (7.4 kB)\n",
      "Requirement already satisfied: scikit-learn>=0.22 in /opt/saturncloud/envs/saturn/lib/python3.9/site-packages (from scikit-learn-intelex) (1.0.2)\n",
      "Collecting daal==2023.2.1 (from daal4py==2023.2.1->scikit-learn-intelex)\n",
      "  Obtaining dependency information for daal==2023.2.1 from https://files.pythonhosted.org/packages/e0/51/9369c49b50a51279660c31b0ec22afcb649f082fd2753915d1306dc6d038/daal-2023.2.1-py2.py3-none-manylinux1_x86_64.whl.metadata\n",
      "  Downloading daal-2023.2.1-py2.py3-none-manylinux1_x86_64.whl.metadata (1.1 kB)\n",
      "Requirement already satisfied: numpy>=1.19 in /opt/saturncloud/envs/saturn/lib/python3.9/site-packages (from daal4py==2023.2.1->scikit-learn-intelex) (1.21.6)\n",
      "Collecting tbb==2021.* (from daal==2023.2.1->daal4py==2023.2.1->scikit-learn-intelex)\n",
      "  Obtaining dependency information for tbb==2021.* from https://files.pythonhosted.org/packages/79/a8/01ac205ff1f68f543aa73d69d6947218cd0973992a4b60cf0a4bfe507561/tbb-2021.10.0-py2.py3-none-manylinux1_x86_64.whl.metadata\n",
      "  Downloading tbb-2021.10.0-py2.py3-none-manylinux1_x86_64.whl.metadata (1.0 kB)\n",
      "Requirement already satisfied: scipy>=1.1.0 in /opt/saturncloud/envs/saturn/lib/python3.9/site-packages (from scikit-learn>=0.22->scikit-learn-intelex) (1.8.0)\n",
      "Requirement already satisfied: joblib>=0.11 in /opt/saturncloud/envs/saturn/lib/python3.9/site-packages (from scikit-learn>=0.22->scikit-learn-intelex) (1.3.0)\n",
      "Requirement already satisfied: threadpoolctl>=2.0.0 in /opt/saturncloud/envs/saturn/lib/python3.9/site-packages (from scikit-learn>=0.22->scikit-learn-intelex) (3.2.0)\n",
      "Downloading scikit_learn_intelex-2023.2.1-py39-none-manylinux1_x86_64.whl (128 kB)\n",
      "\u001b[2K   \u001b[90m━━━━━━━━━━━━━━━━━━━━━━━━━━━━━━━━━━━━━━━━\u001b[0m \u001b[32m128.7/128.7 kB\u001b[0m \u001b[31m12.6 MB/s\u001b[0m eta \u001b[36m0:00:00\u001b[0m\n",
      "\u001b[?25hDownloading daal4py-2023.2.1-py39-none-manylinux1_x86_64.whl (14.1 MB)\n",
      "\u001b[2K   \u001b[90m━━━━━━━━━━━━━━━━━━━━━━━━━━━━━━━━━━━━━━━━\u001b[0m \u001b[32m14.1/14.1 MB\u001b[0m \u001b[31m23.5 MB/s\u001b[0m eta \u001b[36m0:00:00\u001b[0m00:01\u001b[0m00:01\u001b[0m\n",
      "\u001b[?25hDownloading daal-2023.2.1-py2.py3-none-manylinux1_x86_64.whl (75.3 MB)\n",
      "\u001b[2K   \u001b[90m━━━━━━━━━━━━━━━━━━━━━━━━━━━━━━━━━━━━━━━━\u001b[0m \u001b[32m75.3/75.3 MB\u001b[0m \u001b[31m23.4 MB/s\u001b[0m eta \u001b[36m0:00:00\u001b[0m:00:01\u001b[0m00:01\u001b[0m\n",
      "\u001b[?25hDownloading tbb-2021.10.0-py2.py3-none-manylinux1_x86_64.whl (4.4 MB)\n",
      "\u001b[2K   \u001b[90m━━━━━━━━━━━━━━━━━━━━━━━━━━━━━━━━━━━━━━━━\u001b[0m \u001b[32m4.4/4.4 MB\u001b[0m \u001b[31m98.3 MB/s\u001b[0m eta \u001b[36m0:00:00\u001b[0m:00:01\u001b[0m\n",
      "\u001b[?25hInstalling collected packages: tbb, daal, daal4py, scikit-learn-intelex\n",
      "Successfully installed daal-2023.2.1 daal4py-2023.2.1 scikit-learn-intelex-2023.2.1 tbb-2021.10.0\n"
     ]
    }
   ],
   "source": [
    "import sys\n",
    "!{sys.executable} -m pip install scikit-learn-intelex"
   ]
  },
  {
   "cell_type": "code",
   "execution_count": 19,
   "id": "dd0d7105-b5f6-4e63-9c10-afea73173c44",
   "metadata": {
    "execution": {
     "iopub.execute_input": "2023-10-09T03:50:01.924345Z",
     "iopub.status.busy": "2023-10-09T03:50:01.923953Z",
     "iopub.status.idle": "2023-10-09T03:50:07.298681Z",
     "shell.execute_reply": "2023-10-09T03:50:07.297805Z",
     "shell.execute_reply.started": "2023-10-09T03:50:01.924313Z"
    },
    "tags": []
   },
   "outputs": [
    {
     "name": "stdout",
     "output_type": "stream",
     "text": [
      "Collecting statsmodels\n",
      "  Downloading statsmodels-0.14.0-cp39-cp39-manylinux_2_17_x86_64.manylinux2014_x86_64.whl (10.1 MB)\n",
      "\u001b[2K     \u001b[90m━━━━━━━━━━━━━━━━━━━━━━━━━━━━━━━━━━━━━━━━\u001b[0m \u001b[32m10.1/10.1 MB\u001b[0m \u001b[31m67.0 MB/s\u001b[0m eta \u001b[36m0:00:00\u001b[0m00:01\u001b[0m00:01\u001b[0m\n",
      "\u001b[?25hRequirement already satisfied: numpy>=1.18 in /opt/saturncloud/envs/saturn/lib/python3.9/site-packages (from statsmodels) (1.21.6)\n",
      "Requirement already satisfied: scipy!=1.9.2,>=1.4 in /opt/saturncloud/envs/saturn/lib/python3.9/site-packages (from statsmodels) (1.8.0)\n",
      "Requirement already satisfied: pandas>=1.0 in /opt/saturncloud/envs/saturn/lib/python3.9/site-packages (from statsmodels) (1.4.2)\n",
      "Collecting patsy>=0.5.2 (from statsmodels)\n",
      "  Downloading patsy-0.5.3-py2.py3-none-any.whl (233 kB)\n",
      "\u001b[2K     \u001b[90m━━━━━━━━━━━━━━━━━━━━━━━━━━━━━━━━━━━━━━\u001b[0m \u001b[32m233.8/233.8 kB\u001b[0m \u001b[31m36.8 MB/s\u001b[0m eta \u001b[36m0:00:00\u001b[0m\n",
      "\u001b[?25hRequirement already satisfied: packaging>=21.3 in /opt/saturncloud/envs/saturn/lib/python3.9/site-packages (from statsmodels) (23.1)\n",
      "Requirement already satisfied: python-dateutil>=2.8.1 in /opt/saturncloud/envs/saturn/lib/python3.9/site-packages (from pandas>=1.0->statsmodels) (2.8.2)\n",
      "Requirement already satisfied: pytz>=2020.1 in /opt/saturncloud/envs/saturn/lib/python3.9/site-packages (from pandas>=1.0->statsmodels) (2023.3)\n",
      "Requirement already satisfied: six in /opt/saturncloud/envs/saturn/lib/python3.9/site-packages (from patsy>=0.5.2->statsmodels) (1.16.0)\n",
      "Installing collected packages: patsy, statsmodels\n",
      "Successfully installed patsy-0.5.3 statsmodels-0.14.0\n"
     ]
    }
   ],
   "source": [
    "import sys\n",
    "!{sys.executable} -m pip install statsmodels"
   ]
  },
  {
   "cell_type": "code",
   "execution_count": 3,
   "id": "1e43d459-282d-40b5-be21-11a774dd5234",
   "metadata": {
    "execution": {
     "iopub.execute_input": "2023-10-09T03:40:44.988649Z",
     "iopub.status.busy": "2023-10-09T03:40:44.988218Z",
     "iopub.status.idle": "2023-10-09T03:40:47.454479Z",
     "shell.execute_reply": "2023-10-09T03:40:47.453574Z",
     "shell.execute_reply.started": "2023-10-09T03:40:44.988615Z"
    },
    "tags": []
   },
   "outputs": [
    {
     "name": "stdout",
     "output_type": "stream",
     "text": [
      "Scikit-learn was successfully globally patched by Intel(R) Extension for Scikit-learn\n"
     ]
    },
    {
     "name": "stderr",
     "output_type": "stream",
     "text": [
      "Intel(R) Extension for Scikit-learn* enabled (https://github.com/intel/scikit-learn-intelex)\n"
     ]
    }
   ],
   "source": [
    " from sklearnex import patch_sklearn\n",
    "patch_sklearn(global_patch=True)"
   ]
  },
  {
   "cell_type": "code",
   "execution_count": 4,
   "id": "82b05dad-1d7f-4ceb-93ed-50cd01aef4bc",
   "metadata": {
    "execution": {
     "iopub.execute_input": "2023-10-09T03:40:56.430450Z",
     "iopub.status.busy": "2023-10-09T03:40:56.429977Z",
     "iopub.status.idle": "2023-10-09T03:40:56.434255Z",
     "shell.execute_reply": "2023-10-09T03:40:56.433461Z",
     "shell.execute_reply.started": "2023-10-09T03:40:56.430418Z"
    },
    "tags": []
   },
   "outputs": [],
   "source": [
    " #import libraries\n",
    "import pandas as pd\n",
    "from sklearn.linear_model import LinearRegression"
   ]
  },
  {
   "cell_type": "code",
   "execution_count": 5,
   "id": "13a3d5b9-6d53-4fed-88fc-986dccdee9cd",
   "metadata": {
    "execution": {
     "iopub.execute_input": "2023-10-09T03:41:04.146228Z",
     "iopub.status.busy": "2023-10-09T03:41:04.145849Z",
     "iopub.status.idle": "2023-10-09T03:41:04.151409Z",
     "shell.execute_reply": "2023-10-09T03:41:04.150613Z",
     "shell.execute_reply.started": "2023-10-09T03:41:04.146199Z"
    },
    "tags": []
   },
   "outputs": [],
   "source": [
    "#define a function to calculate VIF\n",
    "def vif(df):\n",
    "  #initialize an empty dataframe to store VIF values\n",
    "  vif_df = pd.DataFrame()\n",
    "  #get the names of the features\n",
    "  vif_df[\"feature\"] = df.columns\n",
    "  #loop through each feature and regress it against the others\n",
    "  vif_df[\"VIF\"] = [1 / (1 - LinearRegression(n_jobs=-1).fit(df.drop(feature, axis=1), df[feature]).score(df.drop(feature, axis=1), df[feature])) for feature in df.columns]\n",
    "  #return the VIF dataframe\n",
    "  return vif_df"
   ]
  },
  {
   "cell_type": "code",
   "execution_count": 6,
   "id": "95ffe6a6-e230-48aa-a740-77149a991c21",
   "metadata": {
    "execution": {
     "iopub.execute_input": "2023-10-09T03:42:33.569348Z",
     "iopub.status.busy": "2023-10-09T03:42:33.568952Z",
     "iopub.status.idle": "2023-10-09T03:42:39.514825Z",
     "shell.execute_reply": "2023-10-09T03:42:39.514080Z",
     "shell.execute_reply.started": "2023-10-09T03:42:33.569319Z"
    },
    "tags": []
   },
   "outputs": [],
   "source": [
    "asteroid_data = pd.read_csv('https://dagshub.com/mirsakhawathossain/Asteroid_ML/raw/cceba246d6e1755c40511f7ccbabd1ac819f0515/Data/sbdb_query_results.csv',low_memory=False).sort_index(axis=0)"
   ]
  },
  {
   "cell_type": "code",
   "execution_count": 7,
   "id": "8eb2c645-20f6-4c9a-b2ba-5321c46bed82",
   "metadata": {
    "execution": {
     "iopub.execute_input": "2023-10-09T03:42:47.261497Z",
     "iopub.status.busy": "2023-10-09T03:42:47.261114Z",
     "iopub.status.idle": "2023-10-09T03:42:47.291750Z",
     "shell.execute_reply": "2023-10-09T03:42:47.290929Z",
     "shell.execute_reply.started": "2023-10-09T03:42:47.261467Z"
    },
    "tags": []
   },
   "outputs": [
    {
     "data": {
      "text/html": [
       "<div>\n",
       "<style scoped>\n",
       "    .dataframe tbody tr th:only-of-type {\n",
       "        vertical-align: middle;\n",
       "    }\n",
       "\n",
       "    .dataframe tbody tr th {\n",
       "        vertical-align: top;\n",
       "    }\n",
       "\n",
       "    .dataframe thead th {\n",
       "        text-align: right;\n",
       "    }\n",
       "</style>\n",
       "<table border=\"1\" class=\"dataframe\">\n",
       "  <thead>\n",
       "    <tr style=\"text-align: right;\">\n",
       "      <th></th>\n",
       "      <th>full_name</th>\n",
       "      <th>neo</th>\n",
       "      <th>pha</th>\n",
       "      <th>H</th>\n",
       "      <th>diameter</th>\n",
       "      <th>albedo</th>\n",
       "      <th>rot_per</th>\n",
       "      <th>e</th>\n",
       "      <th>a</th>\n",
       "      <th>q</th>\n",
       "      <th>i</th>\n",
       "      <th>om</th>\n",
       "      <th>w</th>\n",
       "      <th>ma</th>\n",
       "      <th>ad</th>\n",
       "      <th>n</th>\n",
       "      <th>per</th>\n",
       "      <th>moid_ld</th>\n",
       "      <th>class</th>\n",
       "    </tr>\n",
       "  </thead>\n",
       "  <tbody>\n",
       "    <tr>\n",
       "      <th>0</th>\n",
       "      <td>1 Ceres (A801 AA)</td>\n",
       "      <td>N</td>\n",
       "      <td>N</td>\n",
       "      <td>3.33</td>\n",
       "      <td>939.400</td>\n",
       "      <td>0.0900</td>\n",
       "      <td>9.074170</td>\n",
       "      <td>0.0789</td>\n",
       "      <td>2.767</td>\n",
       "      <td>2.549</td>\n",
       "      <td>10.59</td>\n",
       "      <td>80.25</td>\n",
       "      <td>73.42</td>\n",
       "      <td>60.08</td>\n",
       "      <td>2.99</td>\n",
       "      <td>0.2141</td>\n",
       "      <td>1680.0</td>\n",
       "      <td>616.0</td>\n",
       "      <td>MBA</td>\n",
       "    </tr>\n",
       "    <tr>\n",
       "      <th>1</th>\n",
       "      <td>2 Pallas (A802 FA)</td>\n",
       "      <td>N</td>\n",
       "      <td>N</td>\n",
       "      <td>4.12</td>\n",
       "      <td>513.000</td>\n",
       "      <td>0.1550</td>\n",
       "      <td>7.813221</td>\n",
       "      <td>0.2302</td>\n",
       "      <td>2.770</td>\n",
       "      <td>2.132</td>\n",
       "      <td>34.93</td>\n",
       "      <td>172.92</td>\n",
       "      <td>310.87</td>\n",
       "      <td>40.60</td>\n",
       "      <td>3.41</td>\n",
       "      <td>0.2138</td>\n",
       "      <td>1680.0</td>\n",
       "      <td>478.0</td>\n",
       "      <td>MBA</td>\n",
       "    </tr>\n",
       "    <tr>\n",
       "      <th>2</th>\n",
       "      <td>3 Juno (A804 RA)</td>\n",
       "      <td>N</td>\n",
       "      <td>N</td>\n",
       "      <td>5.16</td>\n",
       "      <td>246.596</td>\n",
       "      <td>0.2140</td>\n",
       "      <td>7.210000</td>\n",
       "      <td>0.2562</td>\n",
       "      <td>2.669</td>\n",
       "      <td>1.985</td>\n",
       "      <td>12.99</td>\n",
       "      <td>169.84</td>\n",
       "      <td>247.74</td>\n",
       "      <td>37.02</td>\n",
       "      <td>3.35</td>\n",
       "      <td>0.2260</td>\n",
       "      <td>1590.0</td>\n",
       "      <td>403.0</td>\n",
       "      <td>MBA</td>\n",
       "    </tr>\n",
       "    <tr>\n",
       "      <th>3</th>\n",
       "      <td>4 Vesta (A807 FA)</td>\n",
       "      <td>N</td>\n",
       "      <td>N</td>\n",
       "      <td>3.22</td>\n",
       "      <td>525.400</td>\n",
       "      <td>0.4228</td>\n",
       "      <td>5.342128</td>\n",
       "      <td>0.0894</td>\n",
       "      <td>2.362</td>\n",
       "      <td>2.151</td>\n",
       "      <td>7.14</td>\n",
       "      <td>103.71</td>\n",
       "      <td>151.66</td>\n",
       "      <td>169.35</td>\n",
       "      <td>2.57</td>\n",
       "      <td>0.2715</td>\n",
       "      <td>1330.0</td>\n",
       "      <td>443.0</td>\n",
       "      <td>MBA</td>\n",
       "    </tr>\n",
       "    <tr>\n",
       "      <th>4</th>\n",
       "      <td>5 Astraea (A845 XA)</td>\n",
       "      <td>N</td>\n",
       "      <td>N</td>\n",
       "      <td>7.00</td>\n",
       "      <td>106.699</td>\n",
       "      <td>0.2740</td>\n",
       "      <td>16.806000</td>\n",
       "      <td>0.1874</td>\n",
       "      <td>2.577</td>\n",
       "      <td>2.094</td>\n",
       "      <td>5.36</td>\n",
       "      <td>141.47</td>\n",
       "      <td>359.14</td>\n",
       "      <td>303.40</td>\n",
       "      <td>3.06</td>\n",
       "      <td>0.2383</td>\n",
       "      <td>1510.0</td>\n",
       "      <td>430.0</td>\n",
       "      <td>MBA</td>\n",
       "    </tr>\n",
       "  </tbody>\n",
       "</table>\n",
       "</div>"
      ],
      "text/plain": [
       "                  full_name neo pha     H  diameter  albedo    rot_per  \\\n",
       "0         1 Ceres (A801 AA)   N   N  3.33   939.400  0.0900   9.074170   \n",
       "1        2 Pallas (A802 FA)   N   N  4.12   513.000  0.1550   7.813221   \n",
       "2          3 Juno (A804 RA)   N   N  5.16   246.596  0.2140   7.210000   \n",
       "3         4 Vesta (A807 FA)   N   N  3.22   525.400  0.4228   5.342128   \n",
       "4       5 Astraea (A845 XA)   N   N  7.00   106.699  0.2740  16.806000   \n",
       "\n",
       "        e      a      q      i      om       w      ma    ad       n     per  \\\n",
       "0  0.0789  2.767  2.549  10.59   80.25   73.42   60.08  2.99  0.2141  1680.0   \n",
       "1  0.2302  2.770  2.132  34.93  172.92  310.87   40.60  3.41  0.2138  1680.0   \n",
       "2  0.2562  2.669  1.985  12.99  169.84  247.74   37.02  3.35  0.2260  1590.0   \n",
       "3  0.0894  2.362  2.151   7.14  103.71  151.66  169.35  2.57  0.2715  1330.0   \n",
       "4  0.1874  2.577  2.094   5.36  141.47  359.14  303.40  3.06  0.2383  1510.0   \n",
       "\n",
       "   moid_ld class  \n",
       "0    616.0   MBA  \n",
       "1    478.0   MBA  \n",
       "2    403.0   MBA  \n",
       "3    443.0   MBA  \n",
       "4    430.0   MBA  "
      ]
     },
     "execution_count": 7,
     "metadata": {},
     "output_type": "execute_result"
    }
   ],
   "source": [
    "asteroid_data.head(5)"
   ]
  },
  {
   "cell_type": "code",
   "execution_count": 8,
   "id": "aeeb7859-2438-44f0-be82-f7f0bd273537",
   "metadata": {
    "execution": {
     "iopub.execute_input": "2023-10-09T03:43:09.557108Z",
     "iopub.status.busy": "2023-10-09T03:43:09.556725Z",
     "iopub.status.idle": "2023-10-09T03:43:10.222519Z",
     "shell.execute_reply": "2023-10-09T03:43:10.221689Z",
     "shell.execute_reply.started": "2023-10-09T03:43:09.557079Z"
    },
    "tags": []
   },
   "outputs": [
    {
     "data": {
      "text/plain": [
       "full_name          0\n",
       "neo                4\n",
       "pha            11255\n",
       "H               1230\n",
       "diameter     1172332\n",
       "albedo       1173460\n",
       "rot_per      1277860\n",
       "e                  0\n",
       "a                  0\n",
       "q                  0\n",
       "i                  0\n",
       "om                 0\n",
       "w                  0\n",
       "ma                 1\n",
       "ad                 4\n",
       "n                  0\n",
       "per                4\n",
       "moid_ld        11254\n",
       "class              0\n",
       "dtype: int64"
      ]
     },
     "execution_count": 8,
     "metadata": {},
     "output_type": "execute_result"
    }
   ],
   "source": [
    "asteroid_data.isnull().sum()"
   ]
  },
  {
   "cell_type": "code",
   "execution_count": 9,
   "id": "ae9b2434-5209-4fd7-b29e-54aa431f48a8",
   "metadata": {
    "execution": {
     "iopub.execute_input": "2023-10-09T03:43:19.366204Z",
     "iopub.status.busy": "2023-10-09T03:43:19.365822Z",
     "iopub.status.idle": "2023-10-09T03:43:20.059411Z",
     "shell.execute_reply": "2023-10-09T03:43:20.057394Z",
     "shell.execute_reply.started": "2023-10-09T03:43:19.366176Z"
    },
    "tags": []
   },
   "outputs": [
    {
     "name": "stdout",
     "output_type": "stream",
     "text": [
      "<class 'pandas.core.frame.DataFrame'>\n",
      "RangeIndex: 1311963 entries, 0 to 1311962\n",
      "Data columns (total 19 columns):\n",
      " #   Column     Non-Null Count    Dtype  \n",
      "---  ------     --------------    -----  \n",
      " 0   full_name  1311963 non-null  object \n",
      " 1   neo        1311959 non-null  object \n",
      " 2   pha        1300708 non-null  object \n",
      " 3   H          1310733 non-null  float64\n",
      " 4   diameter   139631 non-null   float64\n",
      " 5   albedo     138503 non-null   float64\n",
      " 6   rot_per    34103 non-null    float64\n",
      " 7   e          1311963 non-null  float64\n",
      " 8   a          1311963 non-null  float64\n",
      " 9   q          1311963 non-null  float64\n",
      " 10  i          1311963 non-null  float64\n",
      " 11  om         1311963 non-null  float64\n",
      " 12  w          1311963 non-null  float64\n",
      " 13  ma         1311962 non-null  float64\n",
      " 14  ad         1311959 non-null  float64\n",
      " 15  n          1311963 non-null  float64\n",
      " 16  per        1311959 non-null  float64\n",
      " 17  moid_ld    1300709 non-null  float64\n",
      " 18  class      1311963 non-null  object \n",
      "dtypes: float64(15), object(4)\n",
      "memory usage: 190.2+ MB\n"
     ]
    }
   ],
   "source": [
    "asteroid_data.info()"
   ]
  },
  {
   "cell_type": "code",
   "execution_count": 10,
   "id": "ef741084-4b6c-453d-9117-498dc0f7245a",
   "metadata": {
    "execution": {
     "iopub.execute_input": "2023-10-09T03:43:31.253773Z",
     "iopub.status.busy": "2023-10-09T03:43:31.253387Z",
     "iopub.status.idle": "2023-10-09T03:43:31.333020Z",
     "shell.execute_reply": "2023-10-09T03:43:31.332264Z",
     "shell.execute_reply.started": "2023-10-09T03:43:31.253744Z"
    },
    "tags": []
   },
   "outputs": [],
   "source": [
    "dataframe=asteroid_data.drop(columns=['neo','full_name'])"
   ]
  },
  {
   "cell_type": "code",
   "execution_count": 11,
   "id": "df7e1420-b472-4595-acaf-0222ddd531f7",
   "metadata": {
    "execution": {
     "iopub.execute_input": "2023-10-09T03:43:48.556792Z",
     "iopub.status.busy": "2023-10-09T03:43:48.556374Z",
     "iopub.status.idle": "2023-10-09T03:43:49.401613Z",
     "shell.execute_reply": "2023-10-09T03:43:49.400880Z",
     "shell.execute_reply.started": "2023-10-09T03:43:48.556763Z"
    },
    "tags": []
   },
   "outputs": [],
   "source": [
    "dataframe['diameter'].fillna(dataframe.groupby('class')['diameter'].transform('median'),inplace=True)\n",
    "dataframe['H'].fillna(dataframe.groupby('class')['H'].transform('median'),inplace=True)\n",
    "dataframe['albedo'].fillna(dataframe.groupby('class')['albedo'].transform('median'),inplace=True)\n",
    "dataframe['ma'].fillna(dataframe.groupby('class')['ma'].transform('median'),inplace=True)\n",
    "dataframe['ad'].fillna(dataframe.groupby('class')['ad'].transform('median'),inplace=True)\n",
    "dataframe['per'].fillna(dataframe.groupby('class')['per'].transform('median'),inplace=True)\n",
    "dataframe['moid_ld'].fillna(dataframe.groupby('class')['moid_ld'].transform('median'),inplace=True)\n",
    "dataframe['rot_per'].fillna(dataframe.groupby('class')['rot_per'].transform('median'),inplace=True)"
   ]
  },
  {
   "cell_type": "code",
   "execution_count": 12,
   "id": "7b7f2f83-b04c-4e66-9522-33f7f1c62191",
   "metadata": {
    "execution": {
     "iopub.execute_input": "2023-10-09T03:44:03.863543Z",
     "iopub.status.busy": "2023-10-09T03:44:03.863161Z",
     "iopub.status.idle": "2023-10-09T03:44:04.279433Z",
     "shell.execute_reply": "2023-10-09T03:44:04.278694Z",
     "shell.execute_reply.started": "2023-10-09T03:44:03.863515Z"
    },
    "tags": []
   },
   "outputs": [],
   "source": [
    "dataframe[['diameter','albedo','ad','per']]=dataframe[['diameter','albedo','ad','per']].fillna(value=dataframe[['diameter','albedo','ad','per']].median())"
   ]
  },
  {
   "cell_type": "code",
   "execution_count": 13,
   "id": "69ae9347-bbc9-469b-bb5c-580d7dc4db6e",
   "metadata": {
    "execution": {
     "iopub.execute_input": "2023-10-09T03:44:15.636679Z",
     "iopub.status.busy": "2023-10-09T03:44:15.636277Z",
     "iopub.status.idle": "2023-10-09T03:44:16.038464Z",
     "shell.execute_reply": "2023-10-09T03:44:16.037797Z",
     "shell.execute_reply.started": "2023-10-09T03:44:15.636650Z"
    },
    "tags": []
   },
   "outputs": [
    {
     "data": {
      "text/plain": [
       "pha         11255\n",
       "H               0\n",
       "diameter        0\n",
       "albedo          0\n",
       "rot_per         0\n",
       "e               0\n",
       "a               0\n",
       "q               0\n",
       "i               0\n",
       "om              0\n",
       "w               0\n",
       "ma              0\n",
       "ad              0\n",
       "n               0\n",
       "per             0\n",
       "moid_ld         0\n",
       "class           0\n",
       "dtype: int64"
      ]
     },
     "execution_count": 13,
     "metadata": {},
     "output_type": "execute_result"
    }
   ],
   "source": [
    "dataframe.isnull().sum()"
   ]
  },
  {
   "cell_type": "code",
   "execution_count": 15,
   "id": "2cba8cfe-0281-4b94-b098-240254a8f18a",
   "metadata": {
    "execution": {
     "iopub.execute_input": "2023-10-09T03:45:42.864165Z",
     "iopub.status.busy": "2023-10-09T03:45:42.863765Z",
     "iopub.status.idle": "2023-10-09T03:45:43.090303Z",
     "shell.execute_reply": "2023-10-09T03:45:43.089583Z",
     "shell.execute_reply.started": "2023-10-09T03:45:42.864135Z"
    },
    "tags": []
   },
   "outputs": [],
   "source": [
    "dataframe = dataframe.drop(columns=['class','pha'])"
   ]
  },
  {
   "cell_type": "code",
   "execution_count": 16,
   "id": "448b3936-20f3-4f68-b5b2-019306568af5",
   "metadata": {
    "execution": {
     "iopub.execute_input": "2023-10-09T03:45:57.029976Z",
     "iopub.status.busy": "2023-10-09T03:45:57.029608Z",
     "iopub.status.idle": "2023-10-09T03:45:57.071482Z",
     "shell.execute_reply": "2023-10-09T03:45:57.070644Z",
     "shell.execute_reply.started": "2023-10-09T03:45:57.029949Z"
    },
    "tags": []
   },
   "outputs": [
    {
     "data": {
      "text/plain": [
       "H           0\n",
       "diameter    0\n",
       "albedo      0\n",
       "rot_per     0\n",
       "e           0\n",
       "a           0\n",
       "q           0\n",
       "i           0\n",
       "om          0\n",
       "w           0\n",
       "ma          0\n",
       "ad          0\n",
       "n           0\n",
       "per         0\n",
       "moid_ld     0\n",
       "dtype: int64"
      ]
     },
     "execution_count": 16,
     "metadata": {},
     "output_type": "execute_result"
    }
   ],
   "source": [
    "dataframe.isnull().sum()"
   ]
  },
  {
   "cell_type": "code",
   "execution_count": 18,
   "id": "1c5e7a9a-0cc8-4af0-94af-9576c6db6917",
   "metadata": {
    "execution": {
     "iopub.execute_input": "2023-10-09T03:47:09.480271Z",
     "iopub.status.busy": "2023-10-09T03:47:09.479889Z",
     "iopub.status.idle": "2023-10-09T03:47:13.230015Z",
     "shell.execute_reply": "2023-10-09T03:47:13.229051Z",
     "shell.execute_reply.started": "2023-10-09T03:47:09.480243Z"
    },
    "tags": []
   },
   "outputs": [
    {
     "name": "stdout",
     "output_type": "stream",
     "text": [
      "     feature         VIF\n",
      "0          H    2.144841\n",
      "1   diameter    1.791293\n",
      "2     albedo    1.281071\n",
      "3    rot_per    1.007632\n",
      "4          e    1.296050\n",
      "5          a    1.135971\n",
      "6          q  531.394980\n",
      "7          i    1.154549\n",
      "8         om    1.024163\n",
      "9          w    1.023703\n",
      "10        ma    1.001337\n",
      "11        ad   21.679548\n",
      "12         n    1.881244\n",
      "13       per   21.120860\n",
      "14   moid_ld  528.314893\n"
     ]
    }
   ],
   "source": [
    "#calculate VIF for each feature\n",
    "vif_df = vif(dataframe)\n",
    "\n",
    "#print the VIF dataframe\n",
    "print(vif_df)"
   ]
  },
  {
   "cell_type": "markdown",
   "id": "1267686d-1617-409e-9746-a7f1c27ff993",
   "metadata": {},
   "source": [
    "# Multi Colinearity with statsmodels"
   ]
  },
  {
   "cell_type": "code",
   "execution_count": 20,
   "id": "6b4ceb70-0635-4201-86b6-47e490116543",
   "metadata": {
    "execution": {
     "iopub.execute_input": "2023-10-09T03:51:03.624058Z",
     "iopub.status.busy": "2023-10-09T03:51:03.623608Z",
     "iopub.status.idle": "2023-10-09T03:51:03.658403Z",
     "shell.execute_reply": "2023-10-09T03:51:03.657619Z",
     "shell.execute_reply.started": "2023-10-09T03:51:03.624018Z"
    },
    "tags": []
   },
   "outputs": [],
   "source": [
    "from statsmodels.stats.outliers_influence import variance_inflation_factor"
   ]
  },
  {
   "cell_type": "code",
   "execution_count": 21,
   "id": "bcfa1d07-070e-403e-916b-9b2342604ab6",
   "metadata": {
    "execution": {
     "iopub.execute_input": "2023-10-09T03:52:12.534663Z",
     "iopub.status.busy": "2023-10-09T03:52:12.534263Z",
     "iopub.status.idle": "2023-10-09T03:52:41.060577Z",
     "shell.execute_reply": "2023-10-09T03:52:41.059802Z",
     "shell.execute_reply.started": "2023-10-09T03:52:12.534631Z"
    },
    "tags": []
   },
   "outputs": [],
   "source": [
    "vif = pd.DataFrame()\n",
    "vif['VIF Factor'] = [variance_inflation_factor(dataframe.values,i) for i in range(dataframe.shape[1])]"
   ]
  },
  {
   "cell_type": "code",
   "execution_count": 22,
   "id": "62974618-a642-40f6-bae2-1807150f7e12",
   "metadata": {
    "execution": {
     "iopub.execute_input": "2023-10-09T03:52:59.536814Z",
     "iopub.status.busy": "2023-10-09T03:52:59.536399Z",
     "iopub.status.idle": "2023-10-09T03:52:59.542079Z",
     "shell.execute_reply": "2023-10-09T03:52:59.541261Z",
     "shell.execute_reply.started": "2023-10-09T03:52:59.536785Z"
    },
    "tags": []
   },
   "outputs": [],
   "source": [
    "vif['Features'] = dataframe.columns"
   ]
  },
  {
   "cell_type": "code",
   "execution_count": 23,
   "id": "995f99e2-a03d-4b85-9102-73406a295f5f",
   "metadata": {
    "execution": {
     "iopub.execute_input": "2023-10-09T03:53:02.918098Z",
     "iopub.status.busy": "2023-10-09T03:53:02.917256Z",
     "iopub.status.idle": "2023-10-09T03:53:02.940927Z",
     "shell.execute_reply": "2023-10-09T03:53:02.939992Z",
     "shell.execute_reply.started": "2023-10-09T03:53:02.918054Z"
    },
    "tags": []
   },
   "outputs": [
    {
     "data": {
      "text/html": [
       "<div>\n",
       "<style scoped>\n",
       "    .dataframe tbody tr th:only-of-type {\n",
       "        vertical-align: middle;\n",
       "    }\n",
       "\n",
       "    .dataframe tbody tr th {\n",
       "        vertical-align: top;\n",
       "    }\n",
       "\n",
       "    .dataframe thead th {\n",
       "        text-align: right;\n",
       "    }\n",
       "</style>\n",
       "<table border=\"1\" class=\"dataframe\">\n",
       "  <thead>\n",
       "    <tr style=\"text-align: right;\">\n",
       "      <th></th>\n",
       "      <th>VIF Factor</th>\n",
       "      <th>Features</th>\n",
       "    </tr>\n",
       "  </thead>\n",
       "  <tbody>\n",
       "    <tr>\n",
       "      <th>0</th>\n",
       "      <td>109.93</td>\n",
       "      <td>H</td>\n",
       "    </tr>\n",
       "    <tr>\n",
       "      <th>1</th>\n",
       "      <td>3.42</td>\n",
       "      <td>diameter</td>\n",
       "    </tr>\n",
       "    <tr>\n",
       "      <th>2</th>\n",
       "      <td>3.82</td>\n",
       "      <td>albedo</td>\n",
       "    </tr>\n",
       "    <tr>\n",
       "      <th>3</th>\n",
       "      <td>1.16</td>\n",
       "      <td>rot_per</td>\n",
       "    </tr>\n",
       "    <tr>\n",
       "      <th>4</th>\n",
       "      <td>4.99</td>\n",
       "      <td>e</td>\n",
       "    </tr>\n",
       "    <tr>\n",
       "      <th>5</th>\n",
       "      <td>1.14</td>\n",
       "      <td>a</td>\n",
       "    </tr>\n",
       "    <tr>\n",
       "      <th>6</th>\n",
       "      <td>703.62</td>\n",
       "      <td>q</td>\n",
       "    </tr>\n",
       "    <tr>\n",
       "      <th>7</th>\n",
       "      <td>3.20</td>\n",
       "      <td>i</td>\n",
       "    </tr>\n",
       "    <tr>\n",
       "      <th>8</th>\n",
       "      <td>3.75</td>\n",
       "      <td>om</td>\n",
       "    </tr>\n",
       "    <tr>\n",
       "      <th>9</th>\n",
       "      <td>4.10</td>\n",
       "      <td>w</td>\n",
       "    </tr>\n",
       "    <tr>\n",
       "      <th>10</th>\n",
       "      <td>3.82</td>\n",
       "      <td>ma</td>\n",
       "    </tr>\n",
       "    <tr>\n",
       "      <th>11</th>\n",
       "      <td>21.91</td>\n",
       "      <td>ad</td>\n",
       "    </tr>\n",
       "    <tr>\n",
       "      <th>12</th>\n",
       "      <td>17.38</td>\n",
       "      <td>n</td>\n",
       "    </tr>\n",
       "    <tr>\n",
       "      <th>13</th>\n",
       "      <td>21.12</td>\n",
       "      <td>per</td>\n",
       "    </tr>\n",
       "    <tr>\n",
       "      <th>14</th>\n",
       "      <td>448.49</td>\n",
       "      <td>moid_ld</td>\n",
       "    </tr>\n",
       "  </tbody>\n",
       "</table>\n",
       "</div>"
      ],
      "text/plain": [
       "    VIF Factor  Features\n",
       "0       109.93         H\n",
       "1         3.42  diameter\n",
       "2         3.82    albedo\n",
       "3         1.16   rot_per\n",
       "4         4.99         e\n",
       "5         1.14         a\n",
       "6       703.62         q\n",
       "7         3.20         i\n",
       "8         3.75        om\n",
       "9         4.10         w\n",
       "10        3.82        ma\n",
       "11       21.91        ad\n",
       "12       17.38         n\n",
       "13       21.12       per\n",
       "14      448.49   moid_ld"
      ]
     },
     "execution_count": 23,
     "metadata": {},
     "output_type": "execute_result"
    }
   ],
   "source": [
    " vif.round(2)"
   ]
  },
  {
   "cell_type": "code",
   "execution_count": null,
   "id": "59d2997c-2acc-448e-ad30-de6ffb4c65e8",
   "metadata": {},
   "outputs": [],
   "source": []
  }
 ],
 "metadata": {
  "kernelspec": {
   "display_name": "saturn (Python 3)",
   "language": "python",
   "name": "python3"
  },
  "language_info": {
   "codemirror_mode": {
    "name": "ipython",
    "version": 3
   },
   "file_extension": ".py",
   "mimetype": "text/x-python",
   "name": "python",
   "nbconvert_exporter": "python",
   "pygments_lexer": "ipython3",
   "version": "3.9.15"
  }
 },
 "nbformat": 4,
 "nbformat_minor": 5
}
