{
 "cells": [
  {
   "cell_type": "code",
   "execution_count": 1,
   "id": "dc0ff596-c116-4166-8c21-1607a52ee097",
   "metadata": {
    "execution": {
     "iopub.execute_input": "2024-04-03T06:37:42.584788Z",
     "iopub.status.busy": "2024-04-03T06:37:42.583466Z",
     "iopub.status.idle": "2024-04-03T06:38:35.791567Z",
     "shell.execute_reply": "2024-04-03T06:38:35.788630Z",
     "shell.execute_reply.started": "2024-04-03T06:37:42.584502Z"
    },
    "tags": []
   },
   "outputs": [
    {
     "name": "stdout",
     "output_type": "stream",
     "text": [
      "Collecting dagshub\n",
      "  Downloading dagshub-0.3.22-py3-none-any.whl (222 kB)\n",
      "\u001b[2K     \u001b[90m━━━━━━━━━━━━━━━━━━━━━━━━━━━━━━━━━━━━━━━\u001b[0m \u001b[32m222.3/222.3 kB\u001b[0m \u001b[31m4.7 MB/s\u001b[0m eta \u001b[36m0:00:00\u001b[0ma \u001b[36m0:00:01\u001b[0m\n",
      "\u001b[?25hCollecting mlflow\n",
      "  Downloading mlflow-2.11.3-py3-none-any.whl (19.7 MB)\n",
      "\u001b[2K     \u001b[90m━━━━━━━━━━━━━━━━━━━━━━━━━━━━━━━━━━━━━━━━\u001b[0m \u001b[32m19.7/19.7 MB\u001b[0m \u001b[31m6.2 MB/s\u001b[0m eta \u001b[36m0:00:00\u001b[0m:00:01\u001b[0m00:01\u001b[0m\n",
      "\u001b[?25hRequirement already satisfied: python-dateutil in /home/idies/mambaforge/envs/py39/lib/python3.9/site-packages (from dagshub) (2.8.2)\n",
      "Collecting tenacity~=8.2.2\n",
      "  Downloading tenacity-8.2.3-py3-none-any.whl (24 kB)\n",
      "Requirement already satisfied: click>=8.0.4 in /home/idies/mambaforge/envs/py39/lib/python3.9/site-packages (from dagshub) (8.1.3)\n",
      "Requirement already satisfied: GitPython>=3.1.29 in /home/idies/mambaforge/envs/py39/lib/python3.9/site-packages (from dagshub) (3.1.29)\n",
      "Collecting dataclasses-json\n",
      "  Downloading dataclasses_json-0.6.4-py3-none-any.whl (28 kB)\n",
      "Requirement already satisfied: pandas in /home/idies/mambaforge/envs/py39/lib/python3.9/site-packages (from dagshub) (1.5.1)\n",
      "Collecting boto3\n",
      "  Downloading boto3-1.34.76-py3-none-any.whl (139 kB)\n",
      "\u001b[2K     \u001b[90m━━━━━━━━━━━━━━━━━━━━━━━━━━━━━━━━━━━━━━━\u001b[0m \u001b[32m139.3/139.3 kB\u001b[0m \u001b[31m3.3 MB/s\u001b[0m eta \u001b[36m0:00:00\u001b[0m\n",
      "\u001b[?25hCollecting appdirs>=1.4.4\n",
      "  Downloading appdirs-1.4.4-py2.py3-none-any.whl (9.6 kB)\n",
      "Collecting rich~=13.1.0\n",
      "  Downloading rich-13.1.0-py3-none-any.whl (238 kB)\n",
      "\u001b[2K     \u001b[90m━━━━━━━━━━━━━━━━━━━━━━━━━━━━━━━━━━━━━━\u001b[0m \u001b[32m238.4/238.4 kB\u001b[0m \u001b[31m14.5 MB/s\u001b[0m eta \u001b[36m0:00:00\u001b[0m\n",
      "\u001b[?25hCollecting pathvalidate~=3.0.0\n",
      "  Downloading pathvalidate-3.0.0-py3-none-any.whl (21 kB)\n",
      "Collecting dacite~=1.6.0\n",
      "  Downloading dacite-1.6.0-py3-none-any.whl (12 kB)\n",
      "Collecting gql[requests]\n",
      "  Downloading gql-3.5.0-py2.py3-none-any.whl (74 kB)\n",
      "\u001b[2K     \u001b[90m━━━━━━━━━━━━━━━━━━━━━━━━━━━━━━━━━━━━━━━━\u001b[0m \u001b[32m74.0/74.0 kB\u001b[0m \u001b[31m5.7 MB/s\u001b[0m eta \u001b[36m0:00:00\u001b[0m\n",
      "\u001b[?25hRequirement already satisfied: PyYAML>=5 in /home/idies/mambaforge/envs/py39/lib/python3.9/site-packages (from dagshub) (6.0)\n",
      "Collecting treelib~=1.6.4\n",
      "  Downloading treelib-1.6.4-py3-none-any.whl (18 kB)\n",
      "Collecting httpx~=0.23.0\n",
      "  Downloading httpx-0.23.3-py3-none-any.whl (71 kB)\n",
      "\u001b[2K     \u001b[90m━━━━━━━━━━━━━━━━━━━━━━━━━━━━━━━━━━━━━━━━\u001b[0m \u001b[32m71.5/71.5 kB\u001b[0m \u001b[31m2.9 MB/s\u001b[0m eta \u001b[36m0:00:00\u001b[0m\n",
      "\u001b[?25hCollecting fusepy>=3\n",
      "  Downloading fusepy-3.0.1.tar.gz (11 kB)\n",
      "  Preparing metadata (setup.py) ... \u001b[?25ldone\n",
      "\u001b[?25hCollecting sqlparse<1,>=0.4.0\n",
      "  Downloading sqlparse-0.4.4-py3-none-any.whl (41 kB)\n",
      "\u001b[2K     \u001b[90m━━━━━━━━━━━━━━━━━━━━━━━━━━━━━━━━━━━━━━━━\u001b[0m \u001b[32m41.2/41.2 kB\u001b[0m \u001b[31m3.0 MB/s\u001b[0m eta \u001b[36m0:00:00\u001b[0m\n",
      "\u001b[?25hCollecting alembic!=1.10.0,<2\n",
      "  Downloading alembic-1.13.1-py3-none-any.whl (233 kB)\n",
      "\u001b[2K     \u001b[90m━━━━━━━━━━━━━━━━━━━━━━━━━━━━━━━━━━━━━━\u001b[0m \u001b[32m233.4/233.4 kB\u001b[0m \u001b[31m16.2 MB/s\u001b[0m eta \u001b[36m0:00:00\u001b[0m\n",
      "\u001b[?25hRequirement already satisfied: sqlalchemy<3,>=1.4.0 in /home/idies/mambaforge/envs/py39/lib/python3.9/site-packages (from mlflow) (1.4.44)\n",
      "Requirement already satisfied: pyarrow<16,>=4.0.0 in /home/idies/mambaforge/envs/py39/lib/python3.9/site-packages (from mlflow) (11.0.0)\n",
      "Requirement already satisfied: cloudpickle<4 in /home/idies/mambaforge/envs/py39/lib/python3.9/site-packages (from mlflow) (2.2.0)\n",
      "Collecting graphene<4\n",
      "  Downloading graphene-3.3-py2.py3-none-any.whl (128 kB)\n",
      "\u001b[2K     \u001b[90m━━━━━━━━━━━━━━━━━━━━━━━━━━━━━━━━━━━━━━\u001b[0m \u001b[32m128.2/128.2 kB\u001b[0m \u001b[31m10.8 MB/s\u001b[0m eta \u001b[36m0:00:00\u001b[0m\n",
      "\u001b[?25hRequirement already satisfied: packaging<24 in /home/idies/mambaforge/envs/py39/lib/python3.9/site-packages (from mlflow) (21.3)\n",
      "Collecting querystring-parser<2\n",
      "  Downloading querystring_parser-1.2.4-py2.py3-none-any.whl (7.9 kB)\n",
      "Requirement already satisfied: requests<3,>=2.17.3 in /home/idies/mambaforge/envs/py39/lib/python3.9/site-packages (from mlflow) (2.28.1)\n",
      "Collecting gunicorn<22\n",
      "  Downloading gunicorn-21.2.0-py3-none-any.whl (80 kB)\n",
      "\u001b[2K     \u001b[90m━━━━━━━━━━━━━━━━━━━━━━━━━━━━━━━━━━━━━━━━\u001b[0m \u001b[32m80.2/80.2 kB\u001b[0m \u001b[31m2.7 MB/s\u001b[0m eta \u001b[36m0:00:00\u001b[0m\n",
      "\u001b[?25hRequirement already satisfied: pytz<2025 in /home/idies/mambaforge/envs/py39/lib/python3.9/site-packages (from mlflow) (2022.6)\n",
      "Requirement already satisfied: numpy<2 in /home/idies/mambaforge/envs/py39/lib/python3.9/site-packages (from mlflow) (1.23.4)\n",
      "Requirement already satisfied: scipy<2 in /home/idies/mambaforge/envs/py39/lib/python3.9/site-packages (from mlflow) (1.9.3)\n",
      "Collecting scikit-learn<2\n",
      "  Downloading scikit_learn-1.4.1.post1-cp39-cp39-manylinux_2_17_x86_64.manylinux2014_x86_64.whl (12.2 MB)\n",
      "\u001b[2K     \u001b[90m━━━━━━━━━━━━━━━━━━━━━━━━━━━━━━━━━━━━━━━━\u001b[0m \u001b[32m12.2/12.2 MB\u001b[0m \u001b[31m11.4 MB/s\u001b[0m eta \u001b[36m0:00:00\u001b[0m00:01\u001b[0m00:01\u001b[0m\n",
      "\u001b[?25hRequirement already satisfied: markdown<4,>=3.3 in /home/idies/mambaforge/envs/py39/lib/python3.9/site-packages (from mlflow) (3.4.1)\n",
      "Requirement already satisfied: matplotlib<4 in /home/idies/mambaforge/envs/py39/lib/python3.9/site-packages (from mlflow) (3.6.2)\n",
      "Requirement already satisfied: Jinja2<4,>=2.11 in /home/idies/mambaforge/envs/py39/lib/python3.9/site-packages (from mlflow) (3.1.2)\n",
      "Requirement already satisfied: entrypoints<1 in /home/idies/mambaforge/envs/py39/lib/python3.9/site-packages (from mlflow) (0.4)\n",
      "Requirement already satisfied: protobuf<5,>=3.12.0 in /home/idies/mambaforge/envs/py39/lib/python3.9/site-packages (from mlflow) (3.19.6)\n",
      "Requirement already satisfied: Flask<4 in /home/idies/mambaforge/envs/py39/lib/python3.9/site-packages (from mlflow) (2.2.2)\n",
      "Collecting docker<8,>=4.0.0\n",
      "  Downloading docker-7.0.0-py3-none-any.whl (147 kB)\n",
      "\u001b[2K     \u001b[90m━━━━━━━━━━━━━━━━━━━━━━━━━━━━━━━━━━━━━━━\u001b[0m \u001b[32m147.6/147.6 kB\u001b[0m \u001b[31m8.6 MB/s\u001b[0m eta \u001b[36m0:00:00\u001b[0m\n",
      "\u001b[?25hRequirement already satisfied: importlib-metadata!=4.7.0,<8,>=3.7.0 in /home/idies/mambaforge/envs/py39/lib/python3.9/site-packages (from mlflow) (5.0.0)\n",
      "Collecting Mako\n",
      "  Downloading Mako-1.3.2-py3-none-any.whl (78 kB)\n",
      "\u001b[2K     \u001b[90m━━━━━━━━━━━━━━━━━━━━━━━━━━━━━━━━━━━━━━━━\u001b[0m \u001b[32m78.7/78.7 kB\u001b[0m \u001b[31m4.6 MB/s\u001b[0m eta \u001b[36m0:00:00\u001b[0m\n",
      "\u001b[?25hRequirement already satisfied: typing-extensions>=4 in /home/idies/mambaforge/envs/py39/lib/python3.9/site-packages (from alembic!=1.10.0,<2->mlflow) (4.4.0)\n",
      "Requirement already satisfied: urllib3>=1.26.0 in /home/idies/mambaforge/envs/py39/lib/python3.9/site-packages (from docker<8,>=4.0.0->mlflow) (1.26.11)\n",
      "Requirement already satisfied: itsdangerous>=2.0 in /home/idies/mambaforge/envs/py39/lib/python3.9/site-packages (from Flask<4->mlflow) (2.1.2)\n",
      "Requirement already satisfied: Werkzeug>=2.2.2 in /home/idies/mambaforge/envs/py39/lib/python3.9/site-packages (from Flask<4->mlflow) (2.2.2)\n",
      "Requirement already satisfied: gitdb<5,>=4.0.1 in /home/idies/mambaforge/envs/py39/lib/python3.9/site-packages (from GitPython>=3.1.29->dagshub) (4.0.9)\n",
      "Collecting graphql-relay<3.3,>=3.1\n",
      "  Downloading graphql_relay-3.2.0-py3-none-any.whl (16 kB)\n",
      "Collecting aniso8601<10,>=8\n",
      "  Downloading aniso8601-9.0.1-py2.py3-none-any.whl (52 kB)\n",
      "\u001b[2K     \u001b[90m━━━━━━━━━━━━━━━━━━━━━━━━━━━━━━━━━━━━━━━━\u001b[0m \u001b[32m52.8/52.8 kB\u001b[0m \u001b[31m2.8 MB/s\u001b[0m eta \u001b[36m0:00:00\u001b[0m\n",
      "\u001b[?25hCollecting graphql-core<3.3,>=3.1\n",
      "  Downloading graphql_core-3.2.3-py3-none-any.whl (202 kB)\n",
      "\u001b[2K     \u001b[90m━━━━━━━━━━━━━━━━━━━━━━━━━━━━━━━━━━━━━━\u001b[0m \u001b[32m202.9/202.9 kB\u001b[0m \u001b[31m14.1 MB/s\u001b[0m eta \u001b[36m0:00:00\u001b[0m\n",
      "\u001b[?25hCollecting httpcore<0.17.0,>=0.15.0\n",
      "  Downloading httpcore-0.16.3-py3-none-any.whl (69 kB)\n",
      "\u001b[2K     \u001b[90m━━━━━━━━━━━━━━━━━━━━━━━━━━━━━━━━━━━━━━━━\u001b[0m \u001b[32m69.6/69.6 kB\u001b[0m \u001b[31m5.7 MB/s\u001b[0m eta \u001b[36m0:00:00\u001b[0m\n",
      "\u001b[?25hRequirement already satisfied: certifi in /home/idies/mambaforge/envs/py39/lib/python3.9/site-packages (from httpx~=0.23.0->dagshub) (2022.12.7)\n",
      "Collecting rfc3986[idna2008]<2,>=1.3\n",
      "  Downloading rfc3986-1.5.0-py2.py3-none-any.whl (31 kB)\n",
      "Requirement already satisfied: sniffio in /home/idies/mambaforge/envs/py39/lib/python3.9/site-packages (from httpx~=0.23.0->dagshub) (1.3.0)\n",
      "Requirement already satisfied: zipp>=0.5 in /home/idies/mambaforge/envs/py39/lib/python3.9/site-packages (from importlib-metadata!=4.7.0,<8,>=3.7.0->mlflow) (3.10.0)\n",
      "Requirement already satisfied: MarkupSafe>=2.0 in /home/idies/mambaforge/envs/py39/lib/python3.9/site-packages (from Jinja2<4,>=2.11->mlflow) (2.1.1)\n",
      "Requirement already satisfied: pyparsing>=2.2.1 in /home/idies/mambaforge/envs/py39/lib/python3.9/site-packages (from matplotlib<4->mlflow) (3.0.9)\n",
      "Requirement already satisfied: cycler>=0.10 in /home/idies/mambaforge/envs/py39/lib/python3.9/site-packages (from matplotlib<4->mlflow) (0.11.0)\n",
      "Requirement already satisfied: pillow>=6.2.0 in /home/idies/mambaforge/envs/py39/lib/python3.9/site-packages (from matplotlib<4->mlflow) (9.2.0)\n",
      "Requirement already satisfied: fonttools>=4.22.0 in /home/idies/mambaforge/envs/py39/lib/python3.9/site-packages (from matplotlib<4->mlflow) (4.38.0)\n",
      "Requirement already satisfied: kiwisolver>=1.0.1 in /home/idies/mambaforge/envs/py39/lib/python3.9/site-packages (from matplotlib<4->mlflow) (1.4.4)\n",
      "Requirement already satisfied: contourpy>=1.0.1 in /home/idies/mambaforge/envs/py39/lib/python3.9/site-packages (from matplotlib<4->mlflow) (1.0.6)\n",
      "Requirement already satisfied: six>=1.5 in /home/idies/mambaforge/envs/py39/lib/python3.9/site-packages (from python-dateutil->dagshub) (1.16.0)\n",
      "Requirement already satisfied: charset-normalizer<3,>=2 in /home/idies/mambaforge/envs/py39/lib/python3.9/site-packages (from requests<3,>=2.17.3->mlflow) (2.1.1)\n",
      "Requirement already satisfied: idna<4,>=2.5 in /home/idies/mambaforge/envs/py39/lib/python3.9/site-packages (from requests<3,>=2.17.3->mlflow) (3.4)\n",
      "Collecting commonmark<0.10.0,>=0.9.0\n",
      "  Downloading commonmark-0.9.1-py2.py3-none-any.whl (51 kB)\n",
      "\u001b[2K     \u001b[90m━━━━━━━━━━━━━━━━━━━━━━━━━━━━━━━━━━━━━━━━\u001b[0m \u001b[32m51.1/51.1 kB\u001b[0m \u001b[31m5.0 MB/s\u001b[0m eta \u001b[36m0:00:00\u001b[0m\n",
      "\u001b[?25hRequirement already satisfied: pygments<3.0.0,>=2.6.0 in /home/idies/mambaforge/envs/py39/lib/python3.9/site-packages (from rich~=13.1.0->dagshub) (2.13.0)\n",
      "Collecting joblib>=1.2.0\n",
      "  Downloading joblib-1.3.2-py3-none-any.whl (302 kB)\n",
      "\u001b[2K     \u001b[90m━━━━━━━━━━━━━━━━━━━━━━━━━━━━━━━━━━━━━━\u001b[0m \u001b[32m302.2/302.2 kB\u001b[0m \u001b[31m11.8 MB/s\u001b[0m eta \u001b[36m0:00:00\u001b[0m\n",
      "\u001b[?25hCollecting threadpoolctl>=2.0.0\n",
      "  Downloading threadpoolctl-3.4.0-py3-none-any.whl (17 kB)\n",
      "Requirement already satisfied: greenlet!=0.4.17 in /home/idies/mambaforge/envs/py39/lib/python3.9/site-packages (from sqlalchemy<3,>=1.4.0->mlflow) (2.0.1)\n",
      "Collecting botocore<1.35.0,>=1.34.76\n",
      "  Downloading botocore-1.34.76-py3-none-any.whl (12.1 MB)\n",
      "\u001b[2K     \u001b[90m━━━━━━━━━━━━━━━━━━━━━━━━━━━━━━━━━━━━━━━━\u001b[0m \u001b[32m12.1/12.1 MB\u001b[0m \u001b[31m16.0 MB/s\u001b[0m eta \u001b[36m0:00:00\u001b[0m00:01\u001b[0m00:01\u001b[0m\n",
      "\u001b[?25hCollecting s3transfer<0.11.0,>=0.10.0\n",
      "  Downloading s3transfer-0.10.1-py3-none-any.whl (82 kB)\n",
      "\u001b[2K     \u001b[90m━━━━━━━━━━━━━━━━━━━━━━━━━━━━━━━━━━━━━━━━\u001b[0m \u001b[32m82.2/82.2 kB\u001b[0m \u001b[31m3.6 MB/s\u001b[0m eta \u001b[36m0:00:00\u001b[0m\n",
      "\u001b[?25hCollecting jmespath<2.0.0,>=0.7.1\n",
      "  Downloading jmespath-1.0.1-py3-none-any.whl (20 kB)\n",
      "Collecting marshmallow<4.0.0,>=3.18.0\n",
      "  Downloading marshmallow-3.21.1-py3-none-any.whl (49 kB)\n",
      "\u001b[2K     \u001b[90m━━━━━━━━━━━━━━━━━━━━━━━━━━━━━━━━━━━━━━━━\u001b[0m \u001b[32m49.4/49.4 kB\u001b[0m \u001b[31m1.4 MB/s\u001b[0m eta \u001b[36m0:00:00\u001b[0m\n",
      "\u001b[?25hCollecting typing-inspect<1,>=0.4.0\n",
      "  Downloading typing_inspect-0.9.0-py3-none-any.whl (8.8 kB)\n",
      "Requirement already satisfied: anyio<5,>=3.0 in /home/idies/mambaforge/envs/py39/lib/python3.9/site-packages (from gql[requests]->dagshub) (3.6.2)\n",
      "Collecting backoff<3.0,>=1.11.1\n",
      "  Downloading backoff-2.2.1-py3-none-any.whl (15 kB)\n",
      "Requirement already satisfied: yarl<2.0,>=1.6 in /home/idies/mambaforge/envs/py39/lib/python3.9/site-packages (from gql[requests]->dagshub) (1.8.1)\n",
      "Collecting requests-toolbelt<2,>=1.0.0\n",
      "  Downloading requests_toolbelt-1.0.0-py2.py3-none-any.whl (54 kB)\n",
      "\u001b[2K     \u001b[90m━━━━━━━━━━━━━━━━━━━━━━━━━━━━━━━━━━━━━━━━\u001b[0m \u001b[32m54.5/54.5 kB\u001b[0m \u001b[31m4.6 MB/s\u001b[0m eta \u001b[36m0:00:00\u001b[0m\n",
      "\u001b[?25hRequirement already satisfied: smmap<6,>=3.0.1 in /home/idies/mambaforge/envs/py39/lib/python3.9/site-packages (from gitdb<5,>=4.0.1->GitPython>=3.1.29->dagshub) (3.0.5)\n",
      "Collecting h11<0.15,>=0.13\n",
      "  Downloading h11-0.14.0-py3-none-any.whl (58 kB)\n",
      "\u001b[2K     \u001b[90m━━━━━━━━━━━━━━━━━━━━━━━━━━━━━━━━━━━━━━━━\u001b[0m \u001b[32m58.3/58.3 kB\u001b[0m \u001b[31m4.9 MB/s\u001b[0m eta \u001b[36m0:00:00\u001b[0m\n",
      "\u001b[?25hCollecting mypy-extensions>=0.3.0\n",
      "  Downloading mypy_extensions-1.0.0-py3-none-any.whl (4.7 kB)\n",
      "Requirement already satisfied: multidict>=4.0 in /home/idies/mambaforge/envs/py39/lib/python3.9/site-packages (from yarl<2.0,>=1.6->gql[requests]->dagshub) (6.0.2)\n",
      "Building wheels for collected packages: fusepy\n",
      "  Building wheel for fusepy (setup.py) ... \u001b[?25ldone\n",
      "\u001b[?25h  Created wheel for fusepy: filename=fusepy-3.0.1-py3-none-any.whl size=10486 sha256=af17a73ec3caec6b5d9bbcdf1fb3337e062115c898f92e4a0046015467daebb6\n",
      "  Stored in directory: /home/idies/.cache/pip/wheels/56/a9/80/5ea091b709dffcf1c26e998f8bd983a5ed8eb46fb54a363eca\n",
      "Successfully built fusepy\n",
      "Installing collected packages: rfc3986, fusepy, commonmark, appdirs, aniso8601, treelib, threadpoolctl, tenacity, sqlparse, rich, querystring-parser, pathvalidate, mypy-extensions, Mako, joblib, jmespath, h11, graphql-core, dacite, backoff, typing-inspect, scikit-learn, requests-toolbelt, marshmallow, httpcore, gunicorn, graphql-relay, gql, docker, botocore, alembic, s3transfer, httpx, graphene, dataclasses-json, mlflow, boto3, dagshub\n",
      "  Attempting uninstall: tenacity\n",
      "    Found existing installation: tenacity 8.1.0\n",
      "    Uninstalling tenacity-8.1.0:\n",
      "      Successfully uninstalled tenacity-8.1.0\n",
      "\u001b[31mERROR: pip's dependency resolver does not currently take into account all the packages that are installed. This behaviour is the source of the following dependency conflicts.\n",
      "dash 2.7.0 requires dash-core-components==2.0.0, which is not installed.\n",
      "dash 2.7.0 requires dash-html-components==2.0.0, which is not installed.\n",
      "dash 2.7.0 requires dash-table==5.0.0, which is not installed.\u001b[0m\u001b[31m\n",
      "\u001b[0mSuccessfully installed Mako-1.3.2 alembic-1.13.1 aniso8601-9.0.1 appdirs-1.4.4 backoff-2.2.1 boto3-1.34.76 botocore-1.34.76 commonmark-0.9.1 dacite-1.6.0 dagshub-0.3.22 dataclasses-json-0.6.4 docker-7.0.0 fusepy-3.0.1 gql-3.5.0 graphene-3.3 graphql-core-3.2.3 graphql-relay-3.2.0 gunicorn-21.2.0 h11-0.14.0 httpcore-0.16.3 httpx-0.23.3 jmespath-1.0.1 joblib-1.3.2 marshmallow-3.21.1 mlflow-2.11.3 mypy-extensions-1.0.0 pathvalidate-3.0.0 querystring-parser-1.2.4 requests-toolbelt-1.0.0 rfc3986-1.5.0 rich-13.1.0 s3transfer-0.10.1 scikit-learn-1.4.1.post1 sqlparse-0.4.4 tenacity-8.2.3 threadpoolctl-3.4.0 treelib-1.6.4 typing-inspect-0.9.0\n"
     ]
    }
   ],
   "source": [
    "#Dagshub library installation\n",
    "import sys\n",
    "!{sys.executable} -m pip install dagshub mlflow"
   ]
  },
  {
   "cell_type": "code",
   "execution_count": 2,
   "id": "780dc5bf-4ea7-4263-afe1-d0d2db691c8e",
   "metadata": {
    "execution": {
     "iopub.execute_input": "2024-04-03T06:38:35.797899Z",
     "iopub.status.busy": "2024-04-03T06:38:35.797225Z",
     "iopub.status.idle": "2024-04-03T06:38:36.922397Z",
     "shell.execute_reply": "2024-04-03T06:38:36.919787Z",
     "shell.execute_reply.started": "2024-04-03T06:38:35.797826Z"
    },
    "tags": []
   },
   "outputs": [
    {
     "data": {
      "text/html": [
       "<pre style=\"white-space:pre;overflow-x:auto;line-height:normal;font-family:Menlo,'DejaVu Sans Mono',consolas,'Courier New',monospace\">Initialized MLflow to track repo <span style=\"color: #008000; text-decoration-color: #008000\">\"mirsakhawathossain/Asteroid_ML\"</span>\n",
       "</pre>\n"
      ],
      "text/plain": [
       "Initialized MLflow to track repo \u001b[32m\"mirsakhawathossain/Asteroid_ML\"\u001b[0m\n"
      ]
     },
     "metadata": {},
     "output_type": "display_data"
    },
    {
     "data": {
      "text/html": [
       "<pre style=\"white-space:pre;overflow-x:auto;line-height:normal;font-family:Menlo,'DejaVu Sans Mono',consolas,'Courier New',monospace\">Repository mirsakhawathossain/Asteroid_ML initialized!\n",
       "</pre>\n"
      ],
      "text/plain": [
       "Repository mirsakhawathossain/Asteroid_ML initialized!\n"
      ]
     },
     "metadata": {},
     "output_type": "display_data"
    }
   ],
   "source": [
    "#Initialization of mlflow in dagshub\n",
    "import dagshub\n",
    "TOKEN = dagshub.auth.add_app_token('bd542a469d89871e8fb28e80ff882f0bf386bc8e')\n",
    "dagshub.init(repo_owner='mirsakhawathossain', repo_name='Asteroid_ML', mlflow=True)"
   ]
  },
  {
   "cell_type": "code",
   "execution_count": 3,
   "id": "cd8e92c1-9330-49e7-9560-3cc4abdd5647",
   "metadata": {
    "execution": {
     "iopub.execute_input": "2024-04-03T06:38:36.924738Z",
     "iopub.status.busy": "2024-04-03T06:38:36.924123Z",
     "iopub.status.idle": "2024-04-03T06:38:36.935261Z",
     "shell.execute_reply": "2024-04-03T06:38:36.933102Z",
     "shell.execute_reply.started": "2024-04-03T06:38:36.924657Z"
    },
    "tags": []
   },
   "outputs": [],
   "source": [
    "import os\n",
    "os.environ['MLFLOW_TRACKING_USERNAME'] = 'mirsakhawathossain'\n",
    "os.environ['MLFLOW_TRACKING_PASSWORD'] = 'bd542a469d89871e8fb28e80ff882f0bf386bc8e'"
   ]
  },
  {
   "cell_type": "code",
   "execution_count": 4,
   "id": "99ccb085-db5e-43b3-858e-3aa9fef14bbe",
   "metadata": {
    "execution": {
     "iopub.execute_input": "2024-04-03T06:38:36.937302Z",
     "iopub.status.busy": "2024-04-03T06:38:36.936773Z",
     "iopub.status.idle": "2024-04-03T06:38:40.664771Z",
     "shell.execute_reply": "2024-04-03T06:38:40.662289Z",
     "shell.execute_reply.started": "2024-04-03T06:38:36.937248Z"
    },
    "tags": []
   },
   "outputs": [],
   "source": [
    "#Import mlflow\n",
    "import mlflow"
   ]
  },
  {
   "cell_type": "code",
   "execution_count": 5,
   "id": "dca1e065-5e94-4c77-a74d-6a824103ec7a",
   "metadata": {
    "execution": {
     "iopub.execute_input": "2024-04-03T06:38:40.670984Z",
     "iopub.status.busy": "2024-04-03T06:38:40.670067Z",
     "iopub.status.idle": "2024-04-03T06:38:40.681430Z",
     "shell.execute_reply": "2024-04-03T06:38:40.679234Z",
     "shell.execute_reply.started": "2024-04-03T06:38:40.670923Z"
    },
    "tags": []
   },
   "outputs": [],
   "source": [
    "mlflow.set_tracking_uri('https://dagshub.com/mirsakhawathossain/Asteroid_ML.mlflow')"
   ]
  },
  {
   "cell_type": "code",
   "execution_count": 6,
   "id": "554d820b-9e30-4503-9db6-c98bf5f848b2",
   "metadata": {
    "execution": {
     "iopub.execute_input": "2024-04-03T06:38:40.684218Z",
     "iopub.status.busy": "2024-04-03T06:38:40.683652Z",
     "iopub.status.idle": "2024-04-03T06:38:40.693771Z",
     "shell.execute_reply": "2024-04-03T06:38:40.691379Z",
     "shell.execute_reply.started": "2024-04-03T06:38:40.684164Z"
    },
    "tags": []
   },
   "outputs": [],
   "source": [
    "#Enable Autolog\n",
    "mlflow.autolog()"
   ]
  },
  {
   "cell_type": "code",
   "execution_count": 7,
   "id": "4034372f-b31f-4884-9928-e9fc9ade3230",
   "metadata": {
    "execution": {
     "iopub.execute_input": "2024-04-03T06:38:40.696366Z",
     "iopub.status.busy": "2024-04-03T06:38:40.695822Z",
     "iopub.status.idle": "2024-04-03T06:38:40.705026Z",
     "shell.execute_reply": "2024-04-03T06:38:40.702684Z",
     "shell.execute_reply.started": "2024-04-03T06:38:40.696311Z"
    },
    "tags": []
   },
   "outputs": [],
   "source": [
    "#Import mlflow\n",
    "import mlflow"
   ]
  },
  {
   "cell_type": "code",
   "execution_count": 10,
   "id": "96ba07bf-7bb0-4cbf-b294-ee648d38dad9",
   "metadata": {
    "execution": {
     "iopub.execute_input": "2024-04-03T06:42:06.541270Z",
     "iopub.status.busy": "2024-04-03T06:42:06.540287Z",
     "iopub.status.idle": "2024-04-03T06:42:07.010802Z",
     "shell.execute_reply": "2024-04-03T06:42:07.006411Z",
     "shell.execute_reply.started": "2024-04-03T06:42:06.541205Z"
    },
    "tags": []
   },
   "outputs": [
    {
     "ename": "RestException",
     "evalue": "INVALID_PARAMETER_VALUE: Response: {'error_code': 'INVALID_PARAMETER_VALUE'}",
     "output_type": "error",
     "traceback": [
      "\u001b[0;31m---------------------------------------------------------------------------\u001b[0m",
      "\u001b[0;31mRestException\u001b[0m                             Traceback (most recent call last)",
      "Cell \u001b[0;32mIn [10], line 1\u001b[0m\n\u001b[0;32m----> 1\u001b[0m \u001b[43mmlflow\u001b[49m\u001b[38;5;241;43m.\u001b[39;49m\u001b[43mstart_run\u001b[49m\u001b[43m(\u001b[49m\u001b[43m)\u001b[49m\n\u001b[1;32m      2\u001b[0m mlflow\u001b[38;5;241m.\u001b[39mlog_param(\u001b[38;5;124m\"\u001b[39m\u001b[38;5;124mmy\u001b[39m\u001b[38;5;124m\"\u001b[39m, \u001b[38;5;124m\"\u001b[39m\u001b[38;5;124mparam\u001b[39m\u001b[38;5;124m\"\u001b[39m)\n\u001b[1;32m      3\u001b[0m mlflow\u001b[38;5;241m.\u001b[39mlog_metric(\u001b[38;5;124m\"\u001b[39m\u001b[38;5;124mscore\u001b[39m\u001b[38;5;124m\"\u001b[39m, \u001b[38;5;241m100\u001b[39m)\n",
      "File \u001b[0;32m~/mambaforge/envs/py39/lib/python3.9/site-packages/mlflow/tracking/fluent.py:381\u001b[0m, in \u001b[0;36mstart_run\u001b[0;34m(run_id, experiment_id, run_name, nested, tags, description, log_system_metrics)\u001b[0m\n\u001b[1;32m    377\u001b[0m         user_specified_tags[MLFLOW_RUN_NAME] \u001b[38;5;241m=\u001b[39m run_name\n\u001b[1;32m    379\u001b[0m     resolved_tags \u001b[38;5;241m=\u001b[39m context_registry\u001b[38;5;241m.\u001b[39mresolve_tags(user_specified_tags)\n\u001b[0;32m--> 381\u001b[0m     active_run_obj \u001b[38;5;241m=\u001b[39m \u001b[43mclient\u001b[49m\u001b[38;5;241;43m.\u001b[39;49m\u001b[43mcreate_run\u001b[49m\u001b[43m(\u001b[49m\n\u001b[1;32m    382\u001b[0m \u001b[43m        \u001b[49m\u001b[43mexperiment_id\u001b[49m\u001b[38;5;241;43m=\u001b[39;49m\u001b[43mexp_id_for_run\u001b[49m\u001b[43m,\u001b[49m\n\u001b[1;32m    383\u001b[0m \u001b[43m        \u001b[49m\u001b[43mtags\u001b[49m\u001b[38;5;241;43m=\u001b[39;49m\u001b[43mresolved_tags\u001b[49m\u001b[43m,\u001b[49m\n\u001b[1;32m    384\u001b[0m \u001b[43m        \u001b[49m\u001b[43mrun_name\u001b[49m\u001b[38;5;241;43m=\u001b[39;49m\u001b[43mrun_name\u001b[49m\u001b[43m,\u001b[49m\n\u001b[1;32m    385\u001b[0m \u001b[43m    \u001b[49m\u001b[43m)\u001b[49m\n\u001b[1;32m    387\u001b[0m \u001b[38;5;28;01mif\u001b[39;00m log_system_metrics \u001b[38;5;129;01mis\u001b[39;00m \u001b[38;5;28;01mNone\u001b[39;00m:\n\u001b[1;32m    388\u001b[0m     \u001b[38;5;66;03m# If `log_system_metrics` is not specified, we will check environment variable.\u001b[39;00m\n\u001b[1;32m    389\u001b[0m     log_system_metrics \u001b[38;5;241m=\u001b[39m MLFLOW_ENABLE_SYSTEM_METRICS_LOGGING\u001b[38;5;241m.\u001b[39mget()\n",
      "File \u001b[0;32m~/mambaforge/envs/py39/lib/python3.9/site-packages/mlflow/tracking/client.py:353\u001b[0m, in \u001b[0;36mMlflowClient.create_run\u001b[0;34m(self, experiment_id, start_time, tags, run_name)\u001b[0m\n\u001b[1;32m    299\u001b[0m \u001b[38;5;28;01mdef\u001b[39;00m \u001b[38;5;21mcreate_run\u001b[39m(\n\u001b[1;32m    300\u001b[0m     \u001b[38;5;28mself\u001b[39m,\n\u001b[1;32m    301\u001b[0m     experiment_id: \u001b[38;5;28mstr\u001b[39m,\n\u001b[0;32m   (...)\u001b[0m\n\u001b[1;32m    304\u001b[0m     run_name: Optional[\u001b[38;5;28mstr\u001b[39m] \u001b[38;5;241m=\u001b[39m \u001b[38;5;28;01mNone\u001b[39;00m,\n\u001b[1;32m    305\u001b[0m ) \u001b[38;5;241m-\u001b[39m\u001b[38;5;241m>\u001b[39m Run:\n\u001b[1;32m    306\u001b[0m     \u001b[38;5;124;03m\"\"\"\u001b[39;00m\n\u001b[1;32m    307\u001b[0m \u001b[38;5;124;03m    Create a :py:class:`mlflow.entities.Run` object that can be associated with\u001b[39;00m\n\u001b[1;32m    308\u001b[0m \u001b[38;5;124;03m    metrics, parameters, artifacts, etc.\u001b[39;00m\n\u001b[0;32m   (...)\u001b[0m\n\u001b[1;32m    351\u001b[0m \u001b[38;5;124;03m        status: RUNNING\u001b[39;00m\n\u001b[1;32m    352\u001b[0m \u001b[38;5;124;03m    \"\"\"\u001b[39;00m\n\u001b[0;32m--> 353\u001b[0m     \u001b[38;5;28;01mreturn\u001b[39;00m \u001b[38;5;28;43mself\u001b[39;49m\u001b[38;5;241;43m.\u001b[39;49m\u001b[43m_tracking_client\u001b[49m\u001b[38;5;241;43m.\u001b[39;49m\u001b[43mcreate_run\u001b[49m\u001b[43m(\u001b[49m\u001b[43mexperiment_id\u001b[49m\u001b[43m,\u001b[49m\u001b[43m \u001b[49m\u001b[43mstart_time\u001b[49m\u001b[43m,\u001b[49m\u001b[43m \u001b[49m\u001b[43mtags\u001b[49m\u001b[43m,\u001b[49m\u001b[43m \u001b[49m\u001b[43mrun_name\u001b[49m\u001b[43m)\u001b[49m\n",
      "File \u001b[0;32m~/mambaforge/envs/py39/lib/python3.9/site-packages/mlflow/tracking/_tracking_service/client.py:139\u001b[0m, in \u001b[0;36mTrackingServiceClient.create_run\u001b[0;34m(self, experiment_id, start_time, tags, run_name)\u001b[0m\n\u001b[1;32m    134\u001b[0m \u001b[38;5;66;03m# Extract user from tags\u001b[39;00m\n\u001b[1;32m    135\u001b[0m \u001b[38;5;66;03m# This logic is temporary; the user_id attribute of runs is deprecated and will be removed\u001b[39;00m\n\u001b[1;32m    136\u001b[0m \u001b[38;5;66;03m# in a later release.\u001b[39;00m\n\u001b[1;32m    137\u001b[0m user_id \u001b[38;5;241m=\u001b[39m tags\u001b[38;5;241m.\u001b[39mget(MLFLOW_USER, \u001b[38;5;124m\"\u001b[39m\u001b[38;5;124munknown\u001b[39m\u001b[38;5;124m\"\u001b[39m)\n\u001b[0;32m--> 139\u001b[0m \u001b[38;5;28;01mreturn\u001b[39;00m \u001b[38;5;28;43mself\u001b[39;49m\u001b[38;5;241;43m.\u001b[39;49m\u001b[43mstore\u001b[49m\u001b[38;5;241;43m.\u001b[39;49m\u001b[43mcreate_run\u001b[49m\u001b[43m(\u001b[49m\n\u001b[1;32m    140\u001b[0m \u001b[43m    \u001b[49m\u001b[43mexperiment_id\u001b[49m\u001b[38;5;241;43m=\u001b[39;49m\u001b[43mexperiment_id\u001b[49m\u001b[43m,\u001b[49m\n\u001b[1;32m    141\u001b[0m \u001b[43m    \u001b[49m\u001b[43muser_id\u001b[49m\u001b[38;5;241;43m=\u001b[39;49m\u001b[43muser_id\u001b[49m\u001b[43m,\u001b[49m\n\u001b[1;32m    142\u001b[0m \u001b[43m    \u001b[49m\u001b[43mstart_time\u001b[49m\u001b[38;5;241;43m=\u001b[39;49m\u001b[43mstart_time\u001b[49m\u001b[43m \u001b[49m\u001b[38;5;129;43;01mor\u001b[39;49;00m\u001b[43m \u001b[49m\u001b[43mget_current_time_millis\u001b[49m\u001b[43m(\u001b[49m\u001b[43m)\u001b[49m\u001b[43m,\u001b[49m\n\u001b[1;32m    143\u001b[0m \u001b[43m    \u001b[49m\u001b[43mtags\u001b[49m\u001b[38;5;241;43m=\u001b[39;49m\u001b[43m[\u001b[49m\u001b[43mRunTag\u001b[49m\u001b[43m(\u001b[49m\u001b[43mkey\u001b[49m\u001b[43m,\u001b[49m\u001b[43m \u001b[49m\u001b[43mvalue\u001b[49m\u001b[43m)\u001b[49m\u001b[43m \u001b[49m\u001b[38;5;28;43;01mfor\u001b[39;49;00m\u001b[43m \u001b[49m\u001b[43m(\u001b[49m\u001b[43mkey\u001b[49m\u001b[43m,\u001b[49m\u001b[43m \u001b[49m\u001b[43mvalue\u001b[49m\u001b[43m)\u001b[49m\u001b[43m \u001b[49m\u001b[38;5;129;43;01min\u001b[39;49;00m\u001b[43m \u001b[49m\u001b[43mtags\u001b[49m\u001b[38;5;241;43m.\u001b[39;49m\u001b[43mitems\u001b[49m\u001b[43m(\u001b[49m\u001b[43m)\u001b[49m\u001b[43m]\u001b[49m\u001b[43m,\u001b[49m\n\u001b[1;32m    144\u001b[0m \u001b[43m    \u001b[49m\u001b[43mrun_name\u001b[49m\u001b[38;5;241;43m=\u001b[39;49m\u001b[43mrun_name\u001b[49m\u001b[43m,\u001b[49m\n\u001b[1;32m    145\u001b[0m \u001b[43m\u001b[49m\u001b[43m)\u001b[49m\n",
      "File \u001b[0;32m~/mambaforge/envs/py39/lib/python3.9/site-packages/mlflow/store/tracking/rest_store.py:187\u001b[0m, in \u001b[0;36mRestStore.create_run\u001b[0;34m(self, experiment_id, user_id, start_time, tags, run_name)\u001b[0m\n\u001b[1;32m    177\u001b[0m tag_protos \u001b[38;5;241m=\u001b[39m [tag\u001b[38;5;241m.\u001b[39mto_proto() \u001b[38;5;28;01mfor\u001b[39;00m tag \u001b[38;5;129;01min\u001b[39;00m tags]\n\u001b[1;32m    178\u001b[0m req_body \u001b[38;5;241m=\u001b[39m message_to_json(\n\u001b[1;32m    179\u001b[0m     CreateRun(\n\u001b[1;32m    180\u001b[0m         experiment_id\u001b[38;5;241m=\u001b[39m\u001b[38;5;28mstr\u001b[39m(experiment_id),\n\u001b[0;32m   (...)\u001b[0m\n\u001b[1;32m    185\u001b[0m     )\n\u001b[1;32m    186\u001b[0m )\n\u001b[0;32m--> 187\u001b[0m response_proto \u001b[38;5;241m=\u001b[39m \u001b[38;5;28;43mself\u001b[39;49m\u001b[38;5;241;43m.\u001b[39;49m\u001b[43m_call_endpoint\u001b[49m\u001b[43m(\u001b[49m\u001b[43mCreateRun\u001b[49m\u001b[43m,\u001b[49m\u001b[43m \u001b[49m\u001b[43mreq_body\u001b[49m\u001b[43m)\u001b[49m\n\u001b[1;32m    188\u001b[0m \u001b[38;5;28;01mreturn\u001b[39;00m Run\u001b[38;5;241m.\u001b[39mfrom_proto(response_proto\u001b[38;5;241m.\u001b[39mrun)\n",
      "File \u001b[0;32m~/mambaforge/envs/py39/lib/python3.9/site-packages/mlflow/store/tracking/rest_store.py:60\u001b[0m, in \u001b[0;36mRestStore._call_endpoint\u001b[0;34m(self, api, json_body)\u001b[0m\n\u001b[1;32m     58\u001b[0m endpoint, method \u001b[38;5;241m=\u001b[39m _METHOD_TO_INFO[api]\n\u001b[1;32m     59\u001b[0m response_proto \u001b[38;5;241m=\u001b[39m api\u001b[38;5;241m.\u001b[39mResponse()\n\u001b[0;32m---> 60\u001b[0m \u001b[38;5;28;01mreturn\u001b[39;00m \u001b[43mcall_endpoint\u001b[49m\u001b[43m(\u001b[49m\u001b[38;5;28;43mself\u001b[39;49m\u001b[38;5;241;43m.\u001b[39;49m\u001b[43mget_host_creds\u001b[49m\u001b[43m(\u001b[49m\u001b[43m)\u001b[49m\u001b[43m,\u001b[49m\u001b[43m \u001b[49m\u001b[43mendpoint\u001b[49m\u001b[43m,\u001b[49m\u001b[43m \u001b[49m\u001b[43mmethod\u001b[49m\u001b[43m,\u001b[49m\u001b[43m \u001b[49m\u001b[43mjson_body\u001b[49m\u001b[43m,\u001b[49m\u001b[43m \u001b[49m\u001b[43mresponse_proto\u001b[49m\u001b[43m)\u001b[49m\n",
      "File \u001b[0;32m~/mambaforge/envs/py39/lib/python3.9/site-packages/mlflow/utils/rest_utils.py:220\u001b[0m, in \u001b[0;36mcall_endpoint\u001b[0;34m(host_creds, endpoint, method, json_body, response_proto, extra_headers)\u001b[0m\n\u001b[1;32m    218\u001b[0m     call_kwargs[\u001b[38;5;124m\"\u001b[39m\u001b[38;5;124mjson\u001b[39m\u001b[38;5;124m\"\u001b[39m] \u001b[38;5;241m=\u001b[39m json_body\n\u001b[1;32m    219\u001b[0m     response \u001b[38;5;241m=\u001b[39m http_request(\u001b[38;5;241m*\u001b[39m\u001b[38;5;241m*\u001b[39mcall_kwargs)\n\u001b[0;32m--> 220\u001b[0m response \u001b[38;5;241m=\u001b[39m \u001b[43mverify_rest_response\u001b[49m\u001b[43m(\u001b[49m\u001b[43mresponse\u001b[49m\u001b[43m,\u001b[49m\u001b[43m \u001b[49m\u001b[43mendpoint\u001b[49m\u001b[43m)\u001b[49m\n\u001b[1;32m    221\u001b[0m js_dict \u001b[38;5;241m=\u001b[39m json\u001b[38;5;241m.\u001b[39mloads(response\u001b[38;5;241m.\u001b[39mtext)\n\u001b[1;32m    222\u001b[0m parse_dict(js_dict\u001b[38;5;241m=\u001b[39mjs_dict, message\u001b[38;5;241m=\u001b[39mresponse_proto)\n",
      "File \u001b[0;32m~/mambaforge/envs/py39/lib/python3.9/site-packages/mlflow/utils/rest_utils.py:152\u001b[0m, in \u001b[0;36mverify_rest_response\u001b[0;34m(response, endpoint)\u001b[0m\n\u001b[1;32m    150\u001b[0m \u001b[38;5;28;01mif\u001b[39;00m response\u001b[38;5;241m.\u001b[39mstatus_code \u001b[38;5;241m!=\u001b[39m \u001b[38;5;241m200\u001b[39m:\n\u001b[1;32m    151\u001b[0m     \u001b[38;5;28;01mif\u001b[39;00m _can_parse_as_json_object(response\u001b[38;5;241m.\u001b[39mtext):\n\u001b[0;32m--> 152\u001b[0m         \u001b[38;5;28;01mraise\u001b[39;00m RestException(json\u001b[38;5;241m.\u001b[39mloads(response\u001b[38;5;241m.\u001b[39mtext))\n\u001b[1;32m    153\u001b[0m     \u001b[38;5;28;01melse\u001b[39;00m:\n\u001b[1;32m    154\u001b[0m         base_msg \u001b[38;5;241m=\u001b[39m (\n\u001b[1;32m    155\u001b[0m             \u001b[38;5;124mf\u001b[39m\u001b[38;5;124m\"\u001b[39m\u001b[38;5;124mAPI request to endpoint \u001b[39m\u001b[38;5;132;01m{\u001b[39;00mendpoint\u001b[38;5;132;01m}\u001b[39;00m\u001b[38;5;124m \u001b[39m\u001b[38;5;124m\"\u001b[39m\n\u001b[1;32m    156\u001b[0m             \u001b[38;5;124mf\u001b[39m\u001b[38;5;124m\"\u001b[39m\u001b[38;5;124mfailed with error code \u001b[39m\u001b[38;5;132;01m{\u001b[39;00mresponse\u001b[38;5;241m.\u001b[39mstatus_code\u001b[38;5;132;01m}\u001b[39;00m\u001b[38;5;124m != 200\u001b[39m\u001b[38;5;124m\"\u001b[39m\n\u001b[1;32m    157\u001b[0m         )\n",
      "\u001b[0;31mRestException\u001b[0m: INVALID_PARAMETER_VALUE: Response: {'error_code': 'INVALID_PARAMETER_VALUE'}"
     ]
    }
   ],
   "source": [
    "mlflow.start_run()\n",
    "mlflow.log_param(\"my\", \"param\")\n",
    "mlflow.log_metric(\"score\", 100)\n",
    "mlflow.end_run()\n"
   ]
  },
  {
   "cell_type": "code",
   "execution_count": null,
   "id": "cbc1345e-b755-4e76-aee0-83c3cf317ffc",
   "metadata": {},
   "outputs": [],
   "source": []
  }
 ],
 "metadata": {
  "kernelspec": {
   "display_name": "Python 3.9 (py39)",
   "language": "python",
   "name": "py39"
  },
  "language_info": {
   "codemirror_mode": {
    "name": "ipython",
    "version": 3
   },
   "file_extension": ".py",
   "mimetype": "text/x-python",
   "name": "python",
   "nbconvert_exporter": "python",
   "pygments_lexer": "ipython3",
   "version": "3.9.13"
  }
 },
 "nbformat": 4,
 "nbformat_minor": 5
}
