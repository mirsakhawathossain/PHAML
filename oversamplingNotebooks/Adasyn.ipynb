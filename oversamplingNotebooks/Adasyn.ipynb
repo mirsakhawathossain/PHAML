{
  "cells": [
    {
      "cell_type": "code",
      "execution_count": null,
      "metadata": {
        "id": "py4I58thZxRE"
      },
      "outputs": [],
      "source": [
        "import pandas as pd\n",
        "import numpy as np\n",
        "import matplotlib.pyplot as plt\n",
        "import seaborn as sns"
      ]
    },
    {
      "cell_type": "code",
      "execution_count": null,
      "metadata": {
        "id": "Qn-Wk_gVaIkU"
      },
      "outputs": [],
      "source": [
        "df = pd.read_csv(\"/content/final_data.csv\")"
      ]
    },
    {
      "cell_type": "code",
      "execution_count": null,
      "metadata": {
        "id": "HDZxiEp3aKfq"
      },
      "outputs": [],
      "source": [
        "y = pd.read_csv(\"/content/pha_map.csv\")"
      ]
    },
    {
      "cell_type": "code",
      "execution_count": null,
      "metadata": {
        "id": "QeM12Z3xaKia"
      },
      "outputs": [],
      "source": [
        "X = df.drop(columns=['albedo', 'rot_per', 'e', 'a', 'q', 'om', 'w', 'ma', 'ad'])"
      ]
    },
    {
      "cell_type": "code",
      "execution_count": null,
      "metadata": {
        "colab": {
          "base_uri": "https://localhost:8080/"
        },
        "id": "KD1Y4j-RaKlB",
        "outputId": "77380619-a9f0-451d-b380-ff05f273629e"
      },
      "outputs": [
        {
          "data": {
            "text/plain": [
              "H           0\n",
              "diameter    0\n",
              "i           0\n",
              "n           0\n",
              "per         0\n",
              "moid_ld     0\n",
              "dtype: int64"
            ]
          },
          "execution_count": 5,
          "metadata": {},
          "output_type": "execute_result"
        }
      ],
      "source": [
        "X.isnull().sum()"
      ]
    },
    {
      "cell_type": "code",
      "execution_count": null,
      "metadata": {
        "colab": {
          "base_uri": "https://localhost:8080/"
        },
        "id": "DGb4ptbAetQk",
        "outputId": "7943f6b8-6412-4fb3-b4c8-c498f6cb2891"
      },
      "outputs": [
        {
          "name": "stdout",
          "output_type": "stream",
          "text": [
            "Requirement already satisfied: xgboost in /usr/local/lib/python3.10/dist-packages (2.0.3)\n",
            "Requirement already satisfied: numpy in /usr/local/lib/python3.10/dist-packages (from xgboost) (1.25.2)\n",
            "Requirement already satisfied: scipy in /usr/local/lib/python3.10/dist-packages (from xgboost) (1.11.4)\n"
          ]
        }
      ],
      "source": [
        "!pip install xgboost"
      ]
    },
    {
      "cell_type": "code",
      "execution_count": null,
      "metadata": {
        "colab": {
          "base_uri": "https://localhost:8080/"
        },
        "id": "3Zz0Qsohey3z",
        "outputId": "316f09b6-0846-413c-c030-cd1425201d1b"
      },
      "outputs": [
        {
          "name": "stdout",
          "output_type": "stream",
          "text": [
            "Collecting lightgbm\n",
            "  Downloading lightgbm-4.4.0-py3-none-manylinux_2_28_x86_64.whl (3.6 MB)\n",
            "\u001b[2K     \u001b[90m━━━━━━━━━━━━━━━━━━━━━━━━━━━━━━━━━━━━━━━━\u001b[0m \u001b[32m3.6/3.6 MB\u001b[0m \u001b[31m14.0 MB/s\u001b[0m eta \u001b[36m0:00:00\u001b[0m\n",
            "\u001b[?25hRequirement already satisfied: numpy>=1.17.0 in /usr/local/lib/python3.10/dist-packages (from lightgbm) (1.25.2)\n",
            "Requirement already satisfied: scipy in /usr/local/lib/python3.10/dist-packages (from lightgbm) (1.11.4)\n",
            "Installing collected packages: lightgbm\n",
            "Successfully installed lightgbm-4.4.0\n"
          ]
        }
      ],
      "source": [
        "!pip install lightgbm"
      ]
    },
    {
      "cell_type": "code",
      "execution_count": null,
      "metadata": {
        "colab": {
          "base_uri": "https://localhost:8080/"
        },
        "id": "2knB8nSme2gy",
        "outputId": "5a6a6388-1de8-49f8-e3c6-a38fba0664b4"
      },
      "outputs": [
        {
          "name": "stdout",
          "output_type": "stream",
          "text": [
            "Collecting imbalanced-learn\n",
            "  Downloading imbalanced_learn-0.12.3-py3-none-any.whl (258 kB)\n",
            "\u001b[2K     \u001b[90m━━━━━━━━━━━━━━━━━━━━━━━━━━━━━━━━━━━━━━━━\u001b[0m \u001b[32m258.3/258.3 kB\u001b[0m \u001b[31m2.1 MB/s\u001b[0m eta \u001b[36m0:00:00\u001b[0m\n",
            "\u001b[?25hRequirement already satisfied: numpy>=1.17.3 in /usr/local/lib/python3.10/dist-packages (from imbalanced-learn) (1.25.2)\n",
            "Requirement already satisfied: scipy>=1.5.0 in /usr/local/lib/python3.10/dist-packages (from imbalanced-learn) (1.11.4)\n",
            "Requirement already satisfied: scikit-learn>=1.0.2 in /usr/local/lib/python3.10/dist-packages (from imbalanced-learn) (1.2.2)\n",
            "Requirement already satisfied: joblib>=1.1.1 in /usr/local/lib/python3.10/dist-packages (from imbalanced-learn) (1.4.2)\n",
            "Requirement already satisfied: threadpoolctl>=2.0.0 in /usr/local/lib/python3.10/dist-packages (from imbalanced-learn) (3.5.0)\n",
            "Installing collected packages: imbalanced-learn\n",
            "Successfully installed imbalanced-learn-0.12.3\n"
          ]
        }
      ],
      "source": [
        "!pip install imbalanced-learn"
      ]
    },
    {
      "cell_type": "code",
      "execution_count": null,
      "metadata": {
        "colab": {
          "base_uri": "https://localhost:8080/"
        },
        "id": "VGdW3kwICELz",
        "outputId": "950768f6-ff49-4197-c54e-5ecd9bd1dd1e"
      },
      "outputs": [
        {
          "data": {
            "text/plain": [
              "2"
            ]
          },
          "execution_count": 9,
          "metadata": {},
          "output_type": "execute_result"
        }
      ],
      "source": [
        "import os\n",
        "os.cpu_count()"
      ]
    },
    {
      "cell_type": "code",
      "execution_count": null,
      "metadata": {
        "colab": {
          "base_uri": "https://localhost:8080/"
        },
        "id": "AkYw18o2aKnd",
        "outputId": "3505e371-2578-4815-fb5c-b279df9c2a8b"
      },
      "outputs": [
        {
          "name": "stderr",
          "output_type": "stream",
          "text": [
            "/usr/local/lib/python3.10/dist-packages/dask/dataframe/__init__.py:49: FutureWarning: \n",
            "Dask dataframe query planning is disabled because dask-expr is not installed.\n",
            "\n",
            "You can install it with `pip install dask[dataframe]` or `conda install dask`.\n",
            "This will raise in a future version.\n",
            "\n",
            "  warnings.warn(msg, FutureWarning)\n"
          ]
        }
      ],
      "source": [
        "from sklearn.model_selection import train_test_split\n",
        "from sklearn.ensemble import AdaBoostClassifier\n",
        "from sklearn.ensemble import RandomForestClassifier\n",
        "from sklearn.ensemble import HistGradientBoostingClassifier\n",
        "# from xgboost import XGBClassifier\n",
        "from lightgbm import LGBMClassifier\n",
        "from sklearn.metrics import accuracy_score, confusion_matrix, roc_auc_score, f1_score, roc_curve, ConfusionMatrixDisplay, RocCurveDisplay\n",
        "from imblearn.metrics import sensitivity_specificity_support, classification_report_imbalanced\n",
        "from imblearn.over_sampling import ADASYN, KMeansSMOTE"
      ]
    },
    {
      "cell_type": "code",
      "execution_count": null,
      "metadata": {
        "id": "_zE5a247aKqS"
      },
      "outputs": [],
      "source": [
        "ad = ADASYN(random_state=42)\n",
        "X_resampled, y_resampled = ad.fit_resample(X, y)"
      ]
    },
    {
      "cell_type": "code",
      "execution_count": null,
      "metadata": {
        "colab": {
          "base_uri": "https://localhost:8080/"
        },
        "id": "vkIibnzjaKsp",
        "outputId": "3cae64b8-022d-4747-f7fd-962d63701aae"
      },
      "outputs": [
        {
          "data": {
            "text/plain": [
              "(2618891, 6)"
            ]
          },
          "execution_count": 12,
          "metadata": {},
          "output_type": "execute_result"
        }
      ],
      "source": [
        "X_resampled.shape"
      ]
    },
    {
      "cell_type": "code",
      "execution_count": null,
      "metadata": {
        "colab": {
          "base_uri": "https://localhost:8080/"
        },
        "id": "Z8eXL3xRaKvB",
        "outputId": "f14d9bd1-6ec2-4dab-ef68-cadaca656944"
      },
      "outputs": [
        {
          "data": {
            "text/plain": [
              "pha\n",
              "0      1309593\n",
              "1      1309298\n",
              "Name: count, dtype: int64"
            ]
          },
          "execution_count": 35,
          "metadata": {},
          "output_type": "execute_result"
        }
      ],
      "source": [
        "y_resampled.value_counts()"
      ]
    },
    {
      "cell_type": "code",
      "execution_count": null,
      "metadata": {
        "id": "U35NfJSWaK0Z"
      },
      "outputs": [],
      "source": [
        "X_train,X_test,y_train,y_test = train_test_split(X_resampled,y_resampled, test_size=0.2, random_state=43)"
      ]
    },
    {
      "cell_type": "code",
      "execution_count": null,
      "metadata": {
        "colab": {
          "base_uri": "https://localhost:8080/"
        },
        "id": "iooLfwR1aK3S",
        "outputId": "51280ca9-182a-4716-d766-a5173a6117db"
      },
      "outputs": [
        {
          "data": {
            "text/plain": [
              "pha\n",
              "1    1047936\n",
              "0    1047176\n",
              "Name: count, dtype: int64"
            ]
          },
          "execution_count": 36,
          "metadata": {},
          "output_type": "execute_result"
        }
      ],
      "source": [
        "y_train.value_counts()"
      ]
    },
    {
      "cell_type": "code",
      "execution_count": null,
      "metadata": {
        "colab": {
          "base_uri": "https://localhost:8080/"
        },
        "id": "8OFDW_SpaK55",
        "outputId": "84bc794f-2cda-45e7-af92-150c66a0c9f7"
      },
      "outputs": [
        {
          "data": {
            "text/plain": [
              "pha\n",
              "0      262417\n",
              "1      261362\n",
              "Name: count, dtype: int64"
            ]
          },
          "execution_count": 37,
          "metadata": {},
          "output_type": "execute_result"
        }
      ],
      "source": [
        "y_test.value_counts()"
      ]
    },
    {
      "cell_type": "code",
      "execution_count": null,
      "metadata": {
        "colab": {
          "base_uri": "https://localhost:8080/"
        },
        "id": "Z9fysUlJbKTz",
        "outputId": "a42f0517-3436-49ba-cb15-4bbf576ff67b"
      },
      "outputs": [
        {
          "name": "stdout",
          "output_type": "stream",
          "text": [
            "Collecting dask\n",
            "  Downloading dask-2024.6.2-py3-none-any.whl (1.2 MB)\n",
            "\u001b[2K     \u001b[90m━━━━━━━━━━━━━━━━━━━━━━━━━━━━━━━━━━━━━━━━\u001b[0m \u001b[32m1.2/1.2 MB\u001b[0m \u001b[31m5.2 MB/s\u001b[0m eta \u001b[36m0:00:00\u001b[0m\n",
            "\u001b[?25hRequirement already satisfied: click>=8.1 in /usr/local/lib/python3.10/dist-packages (from dask) (8.1.7)\n",
            "Requirement already satisfied: cloudpickle>=1.5.0 in /usr/local/lib/python3.10/dist-packages (from dask) (3.0.0)\n",
            "Requirement already satisfied: fsspec>=2021.09.0 in /usr/local/lib/python3.10/dist-packages (from dask) (2024.6.1)\n",
            "Requirement already satisfied: packaging>=20.0 in /usr/local/lib/python3.10/dist-packages (from dask) (24.1)\n",
            "Collecting partd>=1.2.0 (from dask)\n",
            "  Downloading partd-1.4.2-py3-none-any.whl (18 kB)\n",
            "Requirement already satisfied: pyyaml>=5.3.1 in /usr/local/lib/python3.10/dist-packages (from dask) (6.0.1)\n",
            "Requirement already satisfied: toolz>=0.10.0 in /usr/local/lib/python3.10/dist-packages (from dask) (0.12.1)\n",
            "Collecting importlib-metadata>=4.13.0 (from dask)\n",
            "  Downloading importlib_metadata-8.0.0-py3-none-any.whl (24 kB)\n",
            "Requirement already satisfied: zipp>=0.5 in /usr/local/lib/python3.10/dist-packages (from importlib-metadata>=4.13.0->dask) (3.19.2)\n",
            "Collecting locket (from partd>=1.2.0->dask)\n",
            "  Downloading locket-1.0.0-py2.py3-none-any.whl (4.4 kB)\n",
            "Installing collected packages: locket, importlib-metadata, partd, dask\n",
            "  Attempting uninstall: importlib-metadata\n",
            "    Found existing installation: importlib-metadata 4.6.4\n",
            "    Uninstalling importlib-metadata-4.6.4:\n",
            "      Successfully uninstalled importlib-metadata-4.6.4\n",
            "Successfully installed dask-2024.6.2 importlib-metadata-8.0.0 locket-1.0.0 partd-1.4.2\n"
          ]
        }
      ],
      "source": [
        "!pip install dask"
      ]
    },
    {
      "cell_type": "code",
      "execution_count": null,
      "metadata": {
        "colab": {
          "base_uri": "https://localhost:8080/"
        },
        "id": "as0IW3i4bKWu",
        "outputId": "d879c0bb-f96f-42cd-bef0-8c9d9baa9998"
      },
      "outputs": [
        {
          "name": "stdout",
          "output_type": "stream",
          "text": [
            "Requirement already satisfied: dask in /usr/local/lib/python3.10/dist-packages (2024.6.2)\n",
            "Collecting distributed\n",
            "  Downloading distributed-2024.6.2-py3-none-any.whl (1.0 MB)\n",
            "\u001b[2K     \u001b[90m━━━━━━━━━━━━━━━━━━━━━━━━━━━━━━━━━━━━━━━━\u001b[0m \u001b[32m1.0/1.0 MB\u001b[0m \u001b[31m5.6 MB/s\u001b[0m eta \u001b[36m0:00:00\u001b[0m\n",
            "\u001b[?25hRequirement already satisfied: click>=8.1 in /usr/local/lib/python3.10/dist-packages (from dask) (8.1.7)\n",
            "Requirement already satisfied: cloudpickle>=1.5.0 in /usr/local/lib/python3.10/dist-packages (from dask) (3.0.0)\n",
            "Requirement already satisfied: fsspec>=2021.09.0 in /usr/local/lib/python3.10/dist-packages (from dask) (2024.6.1)\n",
            "Requirement already satisfied: packaging>=20.0 in /usr/local/lib/python3.10/dist-packages (from dask) (24.1)\n",
            "Requirement already satisfied: partd>=1.2.0 in /usr/local/lib/python3.10/dist-packages (from dask) (1.4.2)\n",
            "Requirement already satisfied: pyyaml>=5.3.1 in /usr/local/lib/python3.10/dist-packages (from dask) (6.0.1)\n",
            "Requirement already satisfied: toolz>=0.10.0 in /usr/local/lib/python3.10/dist-packages (from dask) (0.12.1)\n",
            "Requirement already satisfied: importlib-metadata>=4.13.0 in /usr/local/lib/python3.10/dist-packages (from dask) (8.0.0)\n",
            "Requirement already satisfied: jinja2>=2.10.3 in /usr/local/lib/python3.10/dist-packages (from distributed) (3.1.4)\n",
            "Requirement already satisfied: locket>=1.0.0 in /usr/local/lib/python3.10/dist-packages (from distributed) (1.0.0)\n",
            "Requirement already satisfied: msgpack>=1.0.0 in /usr/local/lib/python3.10/dist-packages (from distributed) (1.0.8)\n",
            "Requirement already satisfied: psutil>=5.7.2 in /usr/local/lib/python3.10/dist-packages (from distributed) (5.9.5)\n",
            "Collecting sortedcontainers>=2.0.5 (from distributed)\n",
            "  Downloading sortedcontainers-2.4.0-py2.py3-none-any.whl (29 kB)\n",
            "Collecting tblib>=1.6.0 (from distributed)\n",
            "  Downloading tblib-3.0.0-py3-none-any.whl (12 kB)\n",
            "Requirement already satisfied: tornado>=6.0.4 in /usr/local/lib/python3.10/dist-packages (from distributed) (6.3.3)\n",
            "Requirement already satisfied: urllib3>=1.24.3 in /usr/local/lib/python3.10/dist-packages (from distributed) (2.0.7)\n",
            "Collecting zict>=3.0.0 (from distributed)\n",
            "  Downloading zict-3.0.0-py2.py3-none-any.whl (43 kB)\n",
            "\u001b[2K     \u001b[90m━━━━━━━━━━━━━━━━━━━━━━━━━━━━━━━━━━━━━━━━\u001b[0m \u001b[32m43.3/43.3 kB\u001b[0m \u001b[31m4.5 MB/s\u001b[0m eta \u001b[36m0:00:00\u001b[0m\n",
            "\u001b[?25hRequirement already satisfied: zipp>=0.5 in /usr/local/lib/python3.10/dist-packages (from importlib-metadata>=4.13.0->dask) (3.19.2)\n",
            "Requirement already satisfied: MarkupSafe>=2.0 in /usr/local/lib/python3.10/dist-packages (from jinja2>=2.10.3->distributed) (2.1.5)\n",
            "Installing collected packages: sortedcontainers, zict, tblib, distributed\n",
            "Successfully installed distributed-2024.6.2 sortedcontainers-2.4.0 tblib-3.0.0 zict-3.0.0\n"
          ]
        }
      ],
      "source": [
        "!python -m pip install dask distributed --upgrade"
      ]
    },
    {
      "cell_type": "code",
      "execution_count": null,
      "metadata": {
        "colab": {
          "base_uri": "https://localhost:8080/"
        },
        "id": "9-P_JzvnbKZZ",
        "outputId": "1d1a03d2-f3ea-47b1-bef5-446795110e30"
      },
      "outputs": [
        {
          "data": {
            "text/plain": [
              "96"
            ]
          },
          "execution_count": 22,
          "metadata": {},
          "output_type": "execute_result"
        }
      ],
      "source": [
        "import os\n",
        "os.cpu_count()"
      ]
    },
    {
      "cell_type": "code",
      "execution_count": null,
      "metadata": {
        "colab": {
          "base_uri": "https://localhost:8080/",
          "height": 1000
        },
        "id": "aU91fEvZbKcM",
        "outputId": "051acce5-acad-483c-8cad-334873b292c3"
      },
      "outputs": [
        {
          "name": "stderr",
          "output_type": "stream",
          "text": [
            "/usr/local/lib/python3.10/dist-packages/distributed/node.py:182: UserWarning: Port 8787 is already in use.\n",
            "Perhaps you already have a cluster running?\n",
            "Hosting the HTTP server on port 36255 instead\n",
            "  warnings.warn(\n",
            "INFO:distributed.scheduler:State start\n",
            "INFO:distributed.scheduler:  Scheduler at:     tcp://127.0.0.1:41879\n",
            "INFO:distributed.scheduler:  dashboard at:  http://127.0.0.1:36255/status\n",
            "INFO:distributed.scheduler:Registering Worker plugin shuffle\n",
            "INFO:distributed.nanny:        Start Nanny at: 'tcp://127.0.0.1:44951'\n",
            "INFO:distributed.nanny:        Start Nanny at: 'tcp://127.0.0.1:39775'\n",
            "INFO:distributed.nanny:        Start Nanny at: 'tcp://127.0.0.1:45277'\n",
            "INFO:distributed.nanny:        Start Nanny at: 'tcp://127.0.0.1:39581'\n",
            "INFO:distributed.nanny:        Start Nanny at: 'tcp://127.0.0.1:46101'\n",
            "INFO:distributed.nanny:        Start Nanny at: 'tcp://127.0.0.1:44679'\n",
            "INFO:distributed.nanny:        Start Nanny at: 'tcp://127.0.0.1:34755'\n",
            "INFO:distributed.nanny:        Start Nanny at: 'tcp://127.0.0.1:44341'\n",
            "INFO:distributed.nanny:        Start Nanny at: 'tcp://127.0.0.1:33425'\n",
            "INFO:distributed.nanny:        Start Nanny at: 'tcp://127.0.0.1:32893'\n",
            "INFO:distributed.nanny:        Start Nanny at: 'tcp://127.0.0.1:41143'\n",
            "INFO:distributed.nanny:        Start Nanny at: 'tcp://127.0.0.1:44019'\n",
            "INFO:distributed.nanny:        Start Nanny at: 'tcp://127.0.0.1:46569'\n",
            "INFO:distributed.nanny:        Start Nanny at: 'tcp://127.0.0.1:42439'\n",
            "INFO:distributed.nanny:        Start Nanny at: 'tcp://127.0.0.1:44625'\n",
            "INFO:distributed.nanny:        Start Nanny at: 'tcp://127.0.0.1:45093'\n",
            "INFO:distributed.nanny:        Start Nanny at: 'tcp://127.0.0.1:40857'\n",
            "INFO:distributed.nanny:        Start Nanny at: 'tcp://127.0.0.1:41681'\n",
            "INFO:distributed.nanny:        Start Nanny at: 'tcp://127.0.0.1:40767'\n",
            "INFO:distributed.nanny:        Start Nanny at: 'tcp://127.0.0.1:33911'\n",
            "INFO:distributed.nanny:        Start Nanny at: 'tcp://127.0.0.1:35617'\n",
            "INFO:distributed.nanny:        Start Nanny at: 'tcp://127.0.0.1:39315'\n",
            "INFO:distributed.nanny:        Start Nanny at: 'tcp://127.0.0.1:35271'\n",
            "INFO:distributed.nanny:        Start Nanny at: 'tcp://127.0.0.1:34579'\n",
            "INFO:distributed.nanny:        Start Nanny at: 'tcp://127.0.0.1:33365'\n",
            "INFO:distributed.nanny:        Start Nanny at: 'tcp://127.0.0.1:36485'\n",
            "INFO:distributed.nanny:        Start Nanny at: 'tcp://127.0.0.1:37411'\n",
            "INFO:distributed.nanny:        Start Nanny at: 'tcp://127.0.0.1:38365'\n",
            "INFO:distributed.nanny:        Start Nanny at: 'tcp://127.0.0.1:34307'\n",
            "INFO:distributed.nanny:        Start Nanny at: 'tcp://127.0.0.1:46679'\n",
            "INFO:distributed.nanny:        Start Nanny at: 'tcp://127.0.0.1:41427'\n",
            "INFO:distributed.nanny:        Start Nanny at: 'tcp://127.0.0.1:36327'\n",
            "INFO:distributed.scheduler:Register worker <WorkerState 'tcp://127.0.0.1:44873', name: 0, status: init, memory: 0, processing: 0>\n",
            "INFO:distributed.scheduler:Starting worker compute stream, tcp://127.0.0.1:44873\n",
            "INFO:distributed.core:Starting established connection to tcp://127.0.0.1:49462\n",
            "INFO:distributed.scheduler:Register worker <WorkerState 'tcp://127.0.0.1:40291', name: 1, status: init, memory: 0, processing: 0>\n",
            "INFO:distributed.scheduler:Starting worker compute stream, tcp://127.0.0.1:40291\n",
            "INFO:distributed.core:Starting established connection to tcp://127.0.0.1:49478\n",
            "INFO:distributed.scheduler:Register worker <WorkerState 'tcp://127.0.0.1:45523', name: 2, status: init, memory: 0, processing: 0>\n",
            "INFO:distributed.scheduler:Starting worker compute stream, tcp://127.0.0.1:45523\n",
            "INFO:distributed.core:Starting established connection to tcp://127.0.0.1:49472\n",
            "INFO:distributed.scheduler:Register worker <WorkerState 'tcp://127.0.0.1:43571', name: 4, status: init, memory: 0, processing: 0>\n",
            "INFO:distributed.scheduler:Starting worker compute stream, tcp://127.0.0.1:43571\n",
            "INFO:distributed.core:Starting established connection to tcp://127.0.0.1:49488\n",
            "INFO:distributed.scheduler:Register worker <WorkerState 'tcp://127.0.0.1:41517', name: 5, status: init, memory: 0, processing: 0>\n",
            "INFO:distributed.scheduler:Starting worker compute stream, tcp://127.0.0.1:41517\n",
            "INFO:distributed.core:Starting established connection to tcp://127.0.0.1:49502\n",
            "INFO:distributed.scheduler:Register worker <WorkerState 'tcp://127.0.0.1:36593', name: 3, status: init, memory: 0, processing: 0>\n",
            "INFO:distributed.scheduler:Starting worker compute stream, tcp://127.0.0.1:36593\n",
            "INFO:distributed.core:Starting established connection to tcp://127.0.0.1:49506\n",
            "INFO:distributed.scheduler:Register worker <WorkerState 'tcp://127.0.0.1:37293', name: 7, status: init, memory: 0, processing: 0>\n",
            "INFO:distributed.scheduler:Starting worker compute stream, tcp://127.0.0.1:37293\n",
            "INFO:distributed.core:Starting established connection to tcp://127.0.0.1:49510\n",
            "INFO:distributed.scheduler:Register worker <WorkerState 'tcp://127.0.0.1:43415', name: 6, status: init, memory: 0, processing: 0>\n",
            "INFO:distributed.scheduler:Starting worker compute stream, tcp://127.0.0.1:43415\n",
            "INFO:distributed.core:Starting established connection to tcp://127.0.0.1:49498\n",
            "INFO:distributed.scheduler:Register worker <WorkerState 'tcp://127.0.0.1:46483', name: 12, status: init, memory: 0, processing: 0>\n",
            "INFO:distributed.scheduler:Starting worker compute stream, tcp://127.0.0.1:46483\n",
            "INFO:distributed.core:Starting established connection to tcp://127.0.0.1:49548\n",
            "INFO:distributed.scheduler:Register worker <WorkerState 'tcp://127.0.0.1:39059', name: 8, status: init, memory: 0, processing: 0>\n",
            "INFO:distributed.scheduler:Starting worker compute stream, tcp://127.0.0.1:39059\n",
            "INFO:distributed.core:Starting established connection to tcp://127.0.0.1:49526\n",
            "INFO:distributed.scheduler:Register worker <WorkerState 'tcp://127.0.0.1:41145', name: 9, status: init, memory: 0, processing: 0>\n",
            "INFO:distributed.scheduler:Starting worker compute stream, tcp://127.0.0.1:41145\n",
            "INFO:distributed.core:Starting established connection to tcp://127.0.0.1:49572\n",
            "INFO:distributed.scheduler:Register worker <WorkerState 'tcp://127.0.0.1:38739', name: 10, status: init, memory: 0, processing: 0>\n",
            "INFO:distributed.scheduler:Starting worker compute stream, tcp://127.0.0.1:38739\n",
            "INFO:distributed.core:Starting established connection to tcp://127.0.0.1:49536\n",
            "INFO:distributed.scheduler:Register worker <WorkerState 'tcp://127.0.0.1:40533', name: 13, status: init, memory: 0, processing: 0>\n",
            "INFO:distributed.scheduler:Starting worker compute stream, tcp://127.0.0.1:40533\n",
            "INFO:distributed.core:Starting established connection to tcp://127.0.0.1:49578\n",
            "INFO:distributed.scheduler:Register worker <WorkerState 'tcp://127.0.0.1:32927', name: 14, status: init, memory: 0, processing: 0>\n",
            "INFO:distributed.scheduler:Starting worker compute stream, tcp://127.0.0.1:32927\n",
            "INFO:distributed.core:Starting established connection to tcp://127.0.0.1:49564\n",
            "INFO:distributed.scheduler:Register worker <WorkerState 'tcp://127.0.0.1:44231', name: 11, status: init, memory: 0, processing: 0>\n",
            "INFO:distributed.scheduler:Starting worker compute stream, tcp://127.0.0.1:44231\n",
            "INFO:distributed.core:Starting established connection to tcp://127.0.0.1:49556\n",
            "INFO:distributed.scheduler:Register worker <WorkerState 'tcp://127.0.0.1:35373', name: 15, status: init, memory: 0, processing: 0>\n",
            "INFO:distributed.scheduler:Starting worker compute stream, tcp://127.0.0.1:35373\n",
            "INFO:distributed.core:Starting established connection to tcp://127.0.0.1:49590\n",
            "INFO:distributed.scheduler:Register worker <WorkerState 'tcp://127.0.0.1:43899', name: 17, status: init, memory: 0, processing: 0>\n",
            "INFO:distributed.scheduler:Starting worker compute stream, tcp://127.0.0.1:43899\n",
            "INFO:distributed.core:Starting established connection to tcp://127.0.0.1:49598\n",
            "INFO:distributed.scheduler:Register worker <WorkerState 'tcp://127.0.0.1:41431', name: 19, status: init, memory: 0, processing: 0>\n",
            "INFO:distributed.scheduler:Starting worker compute stream, tcp://127.0.0.1:41431\n",
            "INFO:distributed.core:Starting established connection to tcp://127.0.0.1:49610\n",
            "INFO:distributed.scheduler:Register worker <WorkerState 'tcp://127.0.0.1:40899', name: 16, status: init, memory: 0, processing: 0>\n",
            "INFO:distributed.scheduler:Starting worker compute stream, tcp://127.0.0.1:40899\n",
            "INFO:distributed.core:Starting established connection to tcp://127.0.0.1:49592\n",
            "INFO:distributed.scheduler:Register worker <WorkerState 'tcp://127.0.0.1:34375', name: 18, status: init, memory: 0, processing: 0>\n",
            "INFO:distributed.scheduler:Starting worker compute stream, tcp://127.0.0.1:34375\n",
            "INFO:distributed.core:Starting established connection to tcp://127.0.0.1:49604\n",
            "INFO:distributed.scheduler:Register worker <WorkerState 'tcp://127.0.0.1:36597', name: 22, status: init, memory: 0, processing: 0>\n",
            "INFO:distributed.scheduler:Starting worker compute stream, tcp://127.0.0.1:36597\n",
            "INFO:distributed.core:Starting established connection to tcp://127.0.0.1:49632\n",
            "INFO:distributed.scheduler:Register worker <WorkerState 'tcp://127.0.0.1:42935', name: 21, status: init, memory: 0, processing: 0>\n",
            "INFO:distributed.scheduler:Starting worker compute stream, tcp://127.0.0.1:42935\n",
            "INFO:distributed.core:Starting established connection to tcp://127.0.0.1:49616\n",
            "INFO:distributed.scheduler:Register worker <WorkerState 'tcp://127.0.0.1:40431', name: 20, status: init, memory: 0, processing: 0>\n",
            "INFO:distributed.scheduler:Starting worker compute stream, tcp://127.0.0.1:40431\n",
            "INFO:distributed.core:Starting established connection to tcp://127.0.0.1:49640\n",
            "INFO:distributed.scheduler:Register worker <WorkerState 'tcp://127.0.0.1:38253', name: 24, status: init, memory: 0, processing: 0>\n",
            "INFO:distributed.scheduler:Starting worker compute stream, tcp://127.0.0.1:38253\n",
            "INFO:distributed.core:Starting established connection to tcp://127.0.0.1:49656\n",
            "INFO:distributed.scheduler:Register worker <WorkerState 'tcp://127.0.0.1:39337', name: 25, status: init, memory: 0, processing: 0>\n",
            "INFO:distributed.scheduler:Starting worker compute stream, tcp://127.0.0.1:39337\n",
            "INFO:distributed.core:Starting established connection to tcp://127.0.0.1:49684\n",
            "INFO:distributed.scheduler:Register worker <WorkerState 'tcp://127.0.0.1:36201', name: 23, status: init, memory: 0, processing: 0>\n",
            "INFO:distributed.scheduler:Starting worker compute stream, tcp://127.0.0.1:36201\n",
            "INFO:distributed.core:Starting established connection to tcp://127.0.0.1:49670\n",
            "INFO:distributed.scheduler:Register worker <WorkerState 'tcp://127.0.0.1:38629', name: 27, status: init, memory: 0, processing: 0>\n",
            "INFO:distributed.scheduler:Starting worker compute stream, tcp://127.0.0.1:38629\n",
            "INFO:distributed.core:Starting established connection to tcp://127.0.0.1:49698\n",
            "INFO:distributed.scheduler:Register worker <WorkerState 'tcp://127.0.0.1:44091', name: 26, status: init, memory: 0, processing: 0>\n",
            "INFO:distributed.scheduler:Starting worker compute stream, tcp://127.0.0.1:44091\n",
            "INFO:distributed.core:Starting established connection to tcp://127.0.0.1:49696\n",
            "INFO:distributed.scheduler:Register worker <WorkerState 'tcp://127.0.0.1:34333', name: 28, status: init, memory: 0, processing: 0>\n",
            "INFO:distributed.scheduler:Starting worker compute stream, tcp://127.0.0.1:34333\n",
            "INFO:distributed.core:Starting established connection to tcp://127.0.0.1:49710\n",
            "INFO:distributed.scheduler:Register worker <WorkerState 'tcp://127.0.0.1:45525', name: 29, status: init, memory: 0, processing: 0>\n",
            "INFO:distributed.scheduler:Starting worker compute stream, tcp://127.0.0.1:45525\n",
            "INFO:distributed.core:Starting established connection to tcp://127.0.0.1:49700\n",
            "INFO:distributed.scheduler:Register worker <WorkerState 'tcp://127.0.0.1:42643', name: 31, status: init, memory: 0, processing: 0>\n",
            "INFO:distributed.scheduler:Starting worker compute stream, tcp://127.0.0.1:42643\n",
            "INFO:distributed.core:Starting established connection to tcp://127.0.0.1:49726\n",
            "INFO:distributed.scheduler:Register worker <WorkerState 'tcp://127.0.0.1:38001', name: 30, status: init, memory: 0, processing: 0>\n",
            "INFO:distributed.scheduler:Starting worker compute stream, tcp://127.0.0.1:38001\n",
            "INFO:distributed.core:Starting established connection to tcp://127.0.0.1:49736\n",
            "INFO:distributed.scheduler:Receive client connection: Client-60434e7e-39c7-11ef-94a2-0242ac1c000c\n",
            "INFO:distributed.core:Starting established connection to tcp://127.0.0.1:49750\n"
          ]
        },
        {
          "data": {
            "text/html": [
              "<div>\n",
              "    <div style=\"width: 24px; height: 24px; background-color: #e1e1e1; border: 3px solid #9D9D9D; border-radius: 5px; position: absolute;\"> </div>\n",
              "    <div style=\"margin-left: 48px;\">\n",
              "        <h3 style=\"margin-bottom: 0px;\">Client</h3>\n",
              "        <p style=\"color: #9D9D9D; margin-bottom: 0px;\">Client-60434e7e-39c7-11ef-94a2-0242ac1c000c</p>\n",
              "        <table style=\"width: 100%; text-align: left;\">\n",
              "\n",
              "        <tr>\n",
              "        \n",
              "            <td style=\"text-align: left;\"><strong>Connection method:</strong> Cluster object</td>\n",
              "            <td style=\"text-align: left;\"><strong>Cluster type:</strong> distributed.LocalCluster</td>\n",
              "        \n",
              "        </tr>\n",
              "\n",
              "        \n",
              "            <tr>\n",
              "                <td style=\"text-align: left;\">\n",
              "                    <strong>Dashboard: </strong> <a href=\"http://127.0.0.1:36255/status\" target=\"_blank\">http://127.0.0.1:36255/status</a>\n",
              "                </td>\n",
              "                <td style=\"text-align: left;\"></td>\n",
              "            </tr>\n",
              "        \n",
              "\n",
              "        </table>\n",
              "\n",
              "        \n",
              "\n",
              "        \n",
              "            <details>\n",
              "            <summary style=\"margin-bottom: 20px;\"><h3 style=\"display: inline;\">Cluster Info</h3></summary>\n",
              "            <div class=\"jp-RenderedHTMLCommon jp-RenderedHTML jp-mod-trusted jp-OutputArea-output\">\n",
              "    <div style=\"width: 24px; height: 24px; background-color: #e1e1e1; border: 3px solid #9D9D9D; border-radius: 5px; position: absolute;\">\n",
              "    </div>\n",
              "    <div style=\"margin-left: 48px;\">\n",
              "        <h3 style=\"margin-bottom: 0px; margin-top: 0px;\">LocalCluster</h3>\n",
              "        <p style=\"color: #9D9D9D; margin-bottom: 0px;\">11af0966</p>\n",
              "        <table style=\"width: 100%; text-align: left;\">\n",
              "            <tr>\n",
              "                <td style=\"text-align: left;\">\n",
              "                    <strong>Dashboard:</strong> <a href=\"http://127.0.0.1:36255/status\" target=\"_blank\">http://127.0.0.1:36255/status</a>\n",
              "                </td>\n",
              "                <td style=\"text-align: left;\">\n",
              "                    <strong>Workers:</strong> 32\n",
              "                </td>\n",
              "            </tr>\n",
              "            <tr>\n",
              "                <td style=\"text-align: left;\">\n",
              "                    <strong>Total threads:</strong> 96\n",
              "                </td>\n",
              "                <td style=\"text-align: left;\">\n",
              "                    <strong>Total memory:</strong> 334.56 GiB\n",
              "                </td>\n",
              "            </tr>\n",
              "            \n",
              "            <tr>\n",
              "    <td style=\"text-align: left;\"><strong>Status:</strong> running</td>\n",
              "    <td style=\"text-align: left;\"><strong>Using processes:</strong> True</td>\n",
              "</tr>\n",
              "\n",
              "            \n",
              "        </table>\n",
              "\n",
              "        <details>\n",
              "            <summary style=\"margin-bottom: 20px;\">\n",
              "                <h3 style=\"display: inline;\">Scheduler Info</h3>\n",
              "            </summary>\n",
              "\n",
              "            <div style=\"\">\n",
              "    <div>\n",
              "        <div style=\"width: 24px; height: 24px; background-color: #FFF7E5; border: 3px solid #FF6132; border-radius: 5px; position: absolute;\"> </div>\n",
              "        <div style=\"margin-left: 48px;\">\n",
              "            <h3 style=\"margin-bottom: 0px;\">Scheduler</h3>\n",
              "            <p style=\"color: #9D9D9D; margin-bottom: 0px;\">Scheduler-c7f1d2be-9fe5-4494-beb5-3f931084aa97</p>\n",
              "            <table style=\"width: 100%; text-align: left;\">\n",
              "                <tr>\n",
              "                    <td style=\"text-align: left;\">\n",
              "                        <strong>Comm:</strong> tcp://127.0.0.1:41879\n",
              "                    </td>\n",
              "                    <td style=\"text-align: left;\">\n",
              "                        <strong>Workers:</strong> 32\n",
              "                    </td>\n",
              "                </tr>\n",
              "                <tr>\n",
              "                    <td style=\"text-align: left;\">\n",
              "                        <strong>Dashboard:</strong> <a href=\"http://127.0.0.1:36255/status\" target=\"_blank\">http://127.0.0.1:36255/status</a>\n",
              "                    </td>\n",
              "                    <td style=\"text-align: left;\">\n",
              "                        <strong>Total threads:</strong> 96\n",
              "                    </td>\n",
              "                </tr>\n",
              "                <tr>\n",
              "                    <td style=\"text-align: left;\">\n",
              "                        <strong>Started:</strong> Just now\n",
              "                    </td>\n",
              "                    <td style=\"text-align: left;\">\n",
              "                        <strong>Total memory:</strong> 334.56 GiB\n",
              "                    </td>\n",
              "                </tr>\n",
              "            </table>\n",
              "        </div>\n",
              "    </div>\n",
              "\n",
              "    <details style=\"margin-left: 48px;\">\n",
              "        <summary style=\"margin-bottom: 20px;\">\n",
              "            <h3 style=\"display: inline;\">Workers</h3>\n",
              "        </summary>\n",
              "\n",
              "        \n",
              "        <div style=\"margin-bottom: 20px;\">\n",
              "            <div style=\"width: 24px; height: 24px; background-color: #DBF5FF; border: 3px solid #4CC9FF; border-radius: 5px; position: absolute;\"> </div>\n",
              "            <div style=\"margin-left: 48px;\">\n",
              "            <details>\n",
              "                <summary>\n",
              "                    <h4 style=\"margin-bottom: 0px; display: inline;\">Worker: 0</h4>\n",
              "                </summary>\n",
              "                <table style=\"width: 100%; text-align: left;\">\n",
              "                    <tr>\n",
              "                        <td style=\"text-align: left;\">\n",
              "                            <strong>Comm: </strong> tcp://127.0.0.1:44873\n",
              "                        </td>\n",
              "                        <td style=\"text-align: left;\">\n",
              "                            <strong>Total threads: </strong> 3\n",
              "                        </td>\n",
              "                    </tr>\n",
              "                    <tr>\n",
              "                        <td style=\"text-align: left;\">\n",
              "                            <strong>Dashboard: </strong> <a href=\"http://127.0.0.1:36087/status\" target=\"_blank\">http://127.0.0.1:36087/status</a>\n",
              "                        </td>\n",
              "                        <td style=\"text-align: left;\">\n",
              "                            <strong>Memory: </strong> 10.46 GiB\n",
              "                        </td>\n",
              "                    </tr>\n",
              "                    <tr>\n",
              "                        <td style=\"text-align: left;\">\n",
              "                            <strong>Nanny: </strong> tcp://127.0.0.1:44951\n",
              "                        </td>\n",
              "                        <td style=\"text-align: left;\"></td>\n",
              "                    </tr>\n",
              "                    <tr>\n",
              "                        <td colspan=\"2\" style=\"text-align: left;\">\n",
              "                            <strong>Local directory: </strong> /tmp/dask-scratch-space/worker-kkm4g5ku\n",
              "                        </td>\n",
              "                    </tr>\n",
              "\n",
              "                    \n",
              "\n",
              "                    \n",
              "\n",
              "                </table>\n",
              "            </details>\n",
              "            </div>\n",
              "        </div>\n",
              "        \n",
              "        <div style=\"margin-bottom: 20px;\">\n",
              "            <div style=\"width: 24px; height: 24px; background-color: #DBF5FF; border: 3px solid #4CC9FF; border-radius: 5px; position: absolute;\"> </div>\n",
              "            <div style=\"margin-left: 48px;\">\n",
              "            <details>\n",
              "                <summary>\n",
              "                    <h4 style=\"margin-bottom: 0px; display: inline;\">Worker: 1</h4>\n",
              "                </summary>\n",
              "                <table style=\"width: 100%; text-align: left;\">\n",
              "                    <tr>\n",
              "                        <td style=\"text-align: left;\">\n",
              "                            <strong>Comm: </strong> tcp://127.0.0.1:40291\n",
              "                        </td>\n",
              "                        <td style=\"text-align: left;\">\n",
              "                            <strong>Total threads: </strong> 3\n",
              "                        </td>\n",
              "                    </tr>\n",
              "                    <tr>\n",
              "                        <td style=\"text-align: left;\">\n",
              "                            <strong>Dashboard: </strong> <a href=\"http://127.0.0.1:37977/status\" target=\"_blank\">http://127.0.0.1:37977/status</a>\n",
              "                        </td>\n",
              "                        <td style=\"text-align: left;\">\n",
              "                            <strong>Memory: </strong> 10.46 GiB\n",
              "                        </td>\n",
              "                    </tr>\n",
              "                    <tr>\n",
              "                        <td style=\"text-align: left;\">\n",
              "                            <strong>Nanny: </strong> tcp://127.0.0.1:39775\n",
              "                        </td>\n",
              "                        <td style=\"text-align: left;\"></td>\n",
              "                    </tr>\n",
              "                    <tr>\n",
              "                        <td colspan=\"2\" style=\"text-align: left;\">\n",
              "                            <strong>Local directory: </strong> /tmp/dask-scratch-space/worker-u_dslod0\n",
              "                        </td>\n",
              "                    </tr>\n",
              "\n",
              "                    \n",
              "\n",
              "                    \n",
              "\n",
              "                </table>\n",
              "            </details>\n",
              "            </div>\n",
              "        </div>\n",
              "        \n",
              "        <div style=\"margin-bottom: 20px;\">\n",
              "            <div style=\"width: 24px; height: 24px; background-color: #DBF5FF; border: 3px solid #4CC9FF; border-radius: 5px; position: absolute;\"> </div>\n",
              "            <div style=\"margin-left: 48px;\">\n",
              "            <details>\n",
              "                <summary>\n",
              "                    <h4 style=\"margin-bottom: 0px; display: inline;\">Worker: 2</h4>\n",
              "                </summary>\n",
              "                <table style=\"width: 100%; text-align: left;\">\n",
              "                    <tr>\n",
              "                        <td style=\"text-align: left;\">\n",
              "                            <strong>Comm: </strong> tcp://127.0.0.1:45523\n",
              "                        </td>\n",
              "                        <td style=\"text-align: left;\">\n",
              "                            <strong>Total threads: </strong> 3\n",
              "                        </td>\n",
              "                    </tr>\n",
              "                    <tr>\n",
              "                        <td style=\"text-align: left;\">\n",
              "                            <strong>Dashboard: </strong> <a href=\"http://127.0.0.1:43627/status\" target=\"_blank\">http://127.0.0.1:43627/status</a>\n",
              "                        </td>\n",
              "                        <td style=\"text-align: left;\">\n",
              "                            <strong>Memory: </strong> 10.46 GiB\n",
              "                        </td>\n",
              "                    </tr>\n",
              "                    <tr>\n",
              "                        <td style=\"text-align: left;\">\n",
              "                            <strong>Nanny: </strong> tcp://127.0.0.1:45277\n",
              "                        </td>\n",
              "                        <td style=\"text-align: left;\"></td>\n",
              "                    </tr>\n",
              "                    <tr>\n",
              "                        <td colspan=\"2\" style=\"text-align: left;\">\n",
              "                            <strong>Local directory: </strong> /tmp/dask-scratch-space/worker-02lm40kz\n",
              "                        </td>\n",
              "                    </tr>\n",
              "\n",
              "                    \n",
              "\n",
              "                    \n",
              "\n",
              "                </table>\n",
              "            </details>\n",
              "            </div>\n",
              "        </div>\n",
              "        \n",
              "        <div style=\"margin-bottom: 20px;\">\n",
              "            <div style=\"width: 24px; height: 24px; background-color: #DBF5FF; border: 3px solid #4CC9FF; border-radius: 5px; position: absolute;\"> </div>\n",
              "            <div style=\"margin-left: 48px;\">\n",
              "            <details>\n",
              "                <summary>\n",
              "                    <h4 style=\"margin-bottom: 0px; display: inline;\">Worker: 3</h4>\n",
              "                </summary>\n",
              "                <table style=\"width: 100%; text-align: left;\">\n",
              "                    <tr>\n",
              "                        <td style=\"text-align: left;\">\n",
              "                            <strong>Comm: </strong> tcp://127.0.0.1:36593\n",
              "                        </td>\n",
              "                        <td style=\"text-align: left;\">\n",
              "                            <strong>Total threads: </strong> 3\n",
              "                        </td>\n",
              "                    </tr>\n",
              "                    <tr>\n",
              "                        <td style=\"text-align: left;\">\n",
              "                            <strong>Dashboard: </strong> <a href=\"http://127.0.0.1:41809/status\" target=\"_blank\">http://127.0.0.1:41809/status</a>\n",
              "                        </td>\n",
              "                        <td style=\"text-align: left;\">\n",
              "                            <strong>Memory: </strong> 10.46 GiB\n",
              "                        </td>\n",
              "                    </tr>\n",
              "                    <tr>\n",
              "                        <td style=\"text-align: left;\">\n",
              "                            <strong>Nanny: </strong> tcp://127.0.0.1:39581\n",
              "                        </td>\n",
              "                        <td style=\"text-align: left;\"></td>\n",
              "                    </tr>\n",
              "                    <tr>\n",
              "                        <td colspan=\"2\" style=\"text-align: left;\">\n",
              "                            <strong>Local directory: </strong> /tmp/dask-scratch-space/worker-5ipozyw7\n",
              "                        </td>\n",
              "                    </tr>\n",
              "\n",
              "                    \n",
              "\n",
              "                    \n",
              "\n",
              "                </table>\n",
              "            </details>\n",
              "            </div>\n",
              "        </div>\n",
              "        \n",
              "        <div style=\"margin-bottom: 20px;\">\n",
              "            <div style=\"width: 24px; height: 24px; background-color: #DBF5FF; border: 3px solid #4CC9FF; border-radius: 5px; position: absolute;\"> </div>\n",
              "            <div style=\"margin-left: 48px;\">\n",
              "            <details>\n",
              "                <summary>\n",
              "                    <h4 style=\"margin-bottom: 0px; display: inline;\">Worker: 4</h4>\n",
              "                </summary>\n",
              "                <table style=\"width: 100%; text-align: left;\">\n",
              "                    <tr>\n",
              "                        <td style=\"text-align: left;\">\n",
              "                            <strong>Comm: </strong> tcp://127.0.0.1:43571\n",
              "                        </td>\n",
              "                        <td style=\"text-align: left;\">\n",
              "                            <strong>Total threads: </strong> 3\n",
              "                        </td>\n",
              "                    </tr>\n",
              "                    <tr>\n",
              "                        <td style=\"text-align: left;\">\n",
              "                            <strong>Dashboard: </strong> <a href=\"http://127.0.0.1:44041/status\" target=\"_blank\">http://127.0.0.1:44041/status</a>\n",
              "                        </td>\n",
              "                        <td style=\"text-align: left;\">\n",
              "                            <strong>Memory: </strong> 10.46 GiB\n",
              "                        </td>\n",
              "                    </tr>\n",
              "                    <tr>\n",
              "                        <td style=\"text-align: left;\">\n",
              "                            <strong>Nanny: </strong> tcp://127.0.0.1:46101\n",
              "                        </td>\n",
              "                        <td style=\"text-align: left;\"></td>\n",
              "                    </tr>\n",
              "                    <tr>\n",
              "                        <td colspan=\"2\" style=\"text-align: left;\">\n",
              "                            <strong>Local directory: </strong> /tmp/dask-scratch-space/worker-44agaqxa\n",
              "                        </td>\n",
              "                    </tr>\n",
              "\n",
              "                    \n",
              "\n",
              "                    \n",
              "\n",
              "                </table>\n",
              "            </details>\n",
              "            </div>\n",
              "        </div>\n",
              "        \n",
              "        <div style=\"margin-bottom: 20px;\">\n",
              "            <div style=\"width: 24px; height: 24px; background-color: #DBF5FF; border: 3px solid #4CC9FF; border-radius: 5px; position: absolute;\"> </div>\n",
              "            <div style=\"margin-left: 48px;\">\n",
              "            <details>\n",
              "                <summary>\n",
              "                    <h4 style=\"margin-bottom: 0px; display: inline;\">Worker: 5</h4>\n",
              "                </summary>\n",
              "                <table style=\"width: 100%; text-align: left;\">\n",
              "                    <tr>\n",
              "                        <td style=\"text-align: left;\">\n",
              "                            <strong>Comm: </strong> tcp://127.0.0.1:41517\n",
              "                        </td>\n",
              "                        <td style=\"text-align: left;\">\n",
              "                            <strong>Total threads: </strong> 3\n",
              "                        </td>\n",
              "                    </tr>\n",
              "                    <tr>\n",
              "                        <td style=\"text-align: left;\">\n",
              "                            <strong>Dashboard: </strong> <a href=\"http://127.0.0.1:46763/status\" target=\"_blank\">http://127.0.0.1:46763/status</a>\n",
              "                        </td>\n",
              "                        <td style=\"text-align: left;\">\n",
              "                            <strong>Memory: </strong> 10.46 GiB\n",
              "                        </td>\n",
              "                    </tr>\n",
              "                    <tr>\n",
              "                        <td style=\"text-align: left;\">\n",
              "                            <strong>Nanny: </strong> tcp://127.0.0.1:44679\n",
              "                        </td>\n",
              "                        <td style=\"text-align: left;\"></td>\n",
              "                    </tr>\n",
              "                    <tr>\n",
              "                        <td colspan=\"2\" style=\"text-align: left;\">\n",
              "                            <strong>Local directory: </strong> /tmp/dask-scratch-space/worker-9sqaa7ub\n",
              "                        </td>\n",
              "                    </tr>\n",
              "\n",
              "                    \n",
              "\n",
              "                    \n",
              "\n",
              "                </table>\n",
              "            </details>\n",
              "            </div>\n",
              "        </div>\n",
              "        \n",
              "        <div style=\"margin-bottom: 20px;\">\n",
              "            <div style=\"width: 24px; height: 24px; background-color: #DBF5FF; border: 3px solid #4CC9FF; border-radius: 5px; position: absolute;\"> </div>\n",
              "            <div style=\"margin-left: 48px;\">\n",
              "            <details>\n",
              "                <summary>\n",
              "                    <h4 style=\"margin-bottom: 0px; display: inline;\">Worker: 6</h4>\n",
              "                </summary>\n",
              "                <table style=\"width: 100%; text-align: left;\">\n",
              "                    <tr>\n",
              "                        <td style=\"text-align: left;\">\n",
              "                            <strong>Comm: </strong> tcp://127.0.0.1:43415\n",
              "                        </td>\n",
              "                        <td style=\"text-align: left;\">\n",
              "                            <strong>Total threads: </strong> 3\n",
              "                        </td>\n",
              "                    </tr>\n",
              "                    <tr>\n",
              "                        <td style=\"text-align: left;\">\n",
              "                            <strong>Dashboard: </strong> <a href=\"http://127.0.0.1:42437/status\" target=\"_blank\">http://127.0.0.1:42437/status</a>\n",
              "                        </td>\n",
              "                        <td style=\"text-align: left;\">\n",
              "                            <strong>Memory: </strong> 10.46 GiB\n",
              "                        </td>\n",
              "                    </tr>\n",
              "                    <tr>\n",
              "                        <td style=\"text-align: left;\">\n",
              "                            <strong>Nanny: </strong> tcp://127.0.0.1:34755\n",
              "                        </td>\n",
              "                        <td style=\"text-align: left;\"></td>\n",
              "                    </tr>\n",
              "                    <tr>\n",
              "                        <td colspan=\"2\" style=\"text-align: left;\">\n",
              "                            <strong>Local directory: </strong> /tmp/dask-scratch-space/worker-xi7pzof6\n",
              "                        </td>\n",
              "                    </tr>\n",
              "\n",
              "                    \n",
              "\n",
              "                    \n",
              "\n",
              "                </table>\n",
              "            </details>\n",
              "            </div>\n",
              "        </div>\n",
              "        \n",
              "        <div style=\"margin-bottom: 20px;\">\n",
              "            <div style=\"width: 24px; height: 24px; background-color: #DBF5FF; border: 3px solid #4CC9FF; border-radius: 5px; position: absolute;\"> </div>\n",
              "            <div style=\"margin-left: 48px;\">\n",
              "            <details>\n",
              "                <summary>\n",
              "                    <h4 style=\"margin-bottom: 0px; display: inline;\">Worker: 7</h4>\n",
              "                </summary>\n",
              "                <table style=\"width: 100%; text-align: left;\">\n",
              "                    <tr>\n",
              "                        <td style=\"text-align: left;\">\n",
              "                            <strong>Comm: </strong> tcp://127.0.0.1:37293\n",
              "                        </td>\n",
              "                        <td style=\"text-align: left;\">\n",
              "                            <strong>Total threads: </strong> 3\n",
              "                        </td>\n",
              "                    </tr>\n",
              "                    <tr>\n",
              "                        <td style=\"text-align: left;\">\n",
              "                            <strong>Dashboard: </strong> <a href=\"http://127.0.0.1:39607/status\" target=\"_blank\">http://127.0.0.1:39607/status</a>\n",
              "                        </td>\n",
              "                        <td style=\"text-align: left;\">\n",
              "                            <strong>Memory: </strong> 10.46 GiB\n",
              "                        </td>\n",
              "                    </tr>\n",
              "                    <tr>\n",
              "                        <td style=\"text-align: left;\">\n",
              "                            <strong>Nanny: </strong> tcp://127.0.0.1:44341\n",
              "                        </td>\n",
              "                        <td style=\"text-align: left;\"></td>\n",
              "                    </tr>\n",
              "                    <tr>\n",
              "                        <td colspan=\"2\" style=\"text-align: left;\">\n",
              "                            <strong>Local directory: </strong> /tmp/dask-scratch-space/worker-6b7x8o_z\n",
              "                        </td>\n",
              "                    </tr>\n",
              "\n",
              "                    \n",
              "\n",
              "                    \n",
              "\n",
              "                </table>\n",
              "            </details>\n",
              "            </div>\n",
              "        </div>\n",
              "        \n",
              "        <div style=\"margin-bottom: 20px;\">\n",
              "            <div style=\"width: 24px; height: 24px; background-color: #DBF5FF; border: 3px solid #4CC9FF; border-radius: 5px; position: absolute;\"> </div>\n",
              "            <div style=\"margin-left: 48px;\">\n",
              "            <details>\n",
              "                <summary>\n",
              "                    <h4 style=\"margin-bottom: 0px; display: inline;\">Worker: 8</h4>\n",
              "                </summary>\n",
              "                <table style=\"width: 100%; text-align: left;\">\n",
              "                    <tr>\n",
              "                        <td style=\"text-align: left;\">\n",
              "                            <strong>Comm: </strong> tcp://127.0.0.1:39059\n",
              "                        </td>\n",
              "                        <td style=\"text-align: left;\">\n",
              "                            <strong>Total threads: </strong> 3\n",
              "                        </td>\n",
              "                    </tr>\n",
              "                    <tr>\n",
              "                        <td style=\"text-align: left;\">\n",
              "                            <strong>Dashboard: </strong> <a href=\"http://127.0.0.1:41537/status\" target=\"_blank\">http://127.0.0.1:41537/status</a>\n",
              "                        </td>\n",
              "                        <td style=\"text-align: left;\">\n",
              "                            <strong>Memory: </strong> 10.46 GiB\n",
              "                        </td>\n",
              "                    </tr>\n",
              "                    <tr>\n",
              "                        <td style=\"text-align: left;\">\n",
              "                            <strong>Nanny: </strong> tcp://127.0.0.1:33425\n",
              "                        </td>\n",
              "                        <td style=\"text-align: left;\"></td>\n",
              "                    </tr>\n",
              "                    <tr>\n",
              "                        <td colspan=\"2\" style=\"text-align: left;\">\n",
              "                            <strong>Local directory: </strong> /tmp/dask-scratch-space/worker-d8no1ztk\n",
              "                        </td>\n",
              "                    </tr>\n",
              "\n",
              "                    \n",
              "\n",
              "                    \n",
              "\n",
              "                </table>\n",
              "            </details>\n",
              "            </div>\n",
              "        </div>\n",
              "        \n",
              "        <div style=\"margin-bottom: 20px;\">\n",
              "            <div style=\"width: 24px; height: 24px; background-color: #DBF5FF; border: 3px solid #4CC9FF; border-radius: 5px; position: absolute;\"> </div>\n",
              "            <div style=\"margin-left: 48px;\">\n",
              "            <details>\n",
              "                <summary>\n",
              "                    <h4 style=\"margin-bottom: 0px; display: inline;\">Worker: 9</h4>\n",
              "                </summary>\n",
              "                <table style=\"width: 100%; text-align: left;\">\n",
              "                    <tr>\n",
              "                        <td style=\"text-align: left;\">\n",
              "                            <strong>Comm: </strong> tcp://127.0.0.1:41145\n",
              "                        </td>\n",
              "                        <td style=\"text-align: left;\">\n",
              "                            <strong>Total threads: </strong> 3\n",
              "                        </td>\n",
              "                    </tr>\n",
              "                    <tr>\n",
              "                        <td style=\"text-align: left;\">\n",
              "                            <strong>Dashboard: </strong> <a href=\"http://127.0.0.1:43715/status\" target=\"_blank\">http://127.0.0.1:43715/status</a>\n",
              "                        </td>\n",
              "                        <td style=\"text-align: left;\">\n",
              "                            <strong>Memory: </strong> 10.46 GiB\n",
              "                        </td>\n",
              "                    </tr>\n",
              "                    <tr>\n",
              "                        <td style=\"text-align: left;\">\n",
              "                            <strong>Nanny: </strong> tcp://127.0.0.1:32893\n",
              "                        </td>\n",
              "                        <td style=\"text-align: left;\"></td>\n",
              "                    </tr>\n",
              "                    <tr>\n",
              "                        <td colspan=\"2\" style=\"text-align: left;\">\n",
              "                            <strong>Local directory: </strong> /tmp/dask-scratch-space/worker-jdm0t8bo\n",
              "                        </td>\n",
              "                    </tr>\n",
              "\n",
              "                    \n",
              "\n",
              "                    \n",
              "\n",
              "                </table>\n",
              "            </details>\n",
              "            </div>\n",
              "        </div>\n",
              "        \n",
              "        <div style=\"margin-bottom: 20px;\">\n",
              "            <div style=\"width: 24px; height: 24px; background-color: #DBF5FF; border: 3px solid #4CC9FF; border-radius: 5px; position: absolute;\"> </div>\n",
              "            <div style=\"margin-left: 48px;\">\n",
              "            <details>\n",
              "                <summary>\n",
              "                    <h4 style=\"margin-bottom: 0px; display: inline;\">Worker: 10</h4>\n",
              "                </summary>\n",
              "                <table style=\"width: 100%; text-align: left;\">\n",
              "                    <tr>\n",
              "                        <td style=\"text-align: left;\">\n",
              "                            <strong>Comm: </strong> tcp://127.0.0.1:38739\n",
              "                        </td>\n",
              "                        <td style=\"text-align: left;\">\n",
              "                            <strong>Total threads: </strong> 3\n",
              "                        </td>\n",
              "                    </tr>\n",
              "                    <tr>\n",
              "                        <td style=\"text-align: left;\">\n",
              "                            <strong>Dashboard: </strong> <a href=\"http://127.0.0.1:39929/status\" target=\"_blank\">http://127.0.0.1:39929/status</a>\n",
              "                        </td>\n",
              "                        <td style=\"text-align: left;\">\n",
              "                            <strong>Memory: </strong> 10.46 GiB\n",
              "                        </td>\n",
              "                    </tr>\n",
              "                    <tr>\n",
              "                        <td style=\"text-align: left;\">\n",
              "                            <strong>Nanny: </strong> tcp://127.0.0.1:41143\n",
              "                        </td>\n",
              "                        <td style=\"text-align: left;\"></td>\n",
              "                    </tr>\n",
              "                    <tr>\n",
              "                        <td colspan=\"2\" style=\"text-align: left;\">\n",
              "                            <strong>Local directory: </strong> /tmp/dask-scratch-space/worker-xlmbamn3\n",
              "                        </td>\n",
              "                    </tr>\n",
              "\n",
              "                    \n",
              "\n",
              "                    \n",
              "\n",
              "                </table>\n",
              "            </details>\n",
              "            </div>\n",
              "        </div>\n",
              "        \n",
              "        <div style=\"margin-bottom: 20px;\">\n",
              "            <div style=\"width: 24px; height: 24px; background-color: #DBF5FF; border: 3px solid #4CC9FF; border-radius: 5px; position: absolute;\"> </div>\n",
              "            <div style=\"margin-left: 48px;\">\n",
              "            <details>\n",
              "                <summary>\n",
              "                    <h4 style=\"margin-bottom: 0px; display: inline;\">Worker: 11</h4>\n",
              "                </summary>\n",
              "                <table style=\"width: 100%; text-align: left;\">\n",
              "                    <tr>\n",
              "                        <td style=\"text-align: left;\">\n",
              "                            <strong>Comm: </strong> tcp://127.0.0.1:44231\n",
              "                        </td>\n",
              "                        <td style=\"text-align: left;\">\n",
              "                            <strong>Total threads: </strong> 3\n",
              "                        </td>\n",
              "                    </tr>\n",
              "                    <tr>\n",
              "                        <td style=\"text-align: left;\">\n",
              "                            <strong>Dashboard: </strong> <a href=\"http://127.0.0.1:45773/status\" target=\"_blank\">http://127.0.0.1:45773/status</a>\n",
              "                        </td>\n",
              "                        <td style=\"text-align: left;\">\n",
              "                            <strong>Memory: </strong> 10.46 GiB\n",
              "                        </td>\n",
              "                    </tr>\n",
              "                    <tr>\n",
              "                        <td style=\"text-align: left;\">\n",
              "                            <strong>Nanny: </strong> tcp://127.0.0.1:44019\n",
              "                        </td>\n",
              "                        <td style=\"text-align: left;\"></td>\n",
              "                    </tr>\n",
              "                    <tr>\n",
              "                        <td colspan=\"2\" style=\"text-align: left;\">\n",
              "                            <strong>Local directory: </strong> /tmp/dask-scratch-space/worker-mm4yplfp\n",
              "                        </td>\n",
              "                    </tr>\n",
              "\n",
              "                    \n",
              "\n",
              "                    \n",
              "\n",
              "                </table>\n",
              "            </details>\n",
              "            </div>\n",
              "        </div>\n",
              "        \n",
              "        <div style=\"margin-bottom: 20px;\">\n",
              "            <div style=\"width: 24px; height: 24px; background-color: #DBF5FF; border: 3px solid #4CC9FF; border-radius: 5px; position: absolute;\"> </div>\n",
              "            <div style=\"margin-left: 48px;\">\n",
              "            <details>\n",
              "                <summary>\n",
              "                    <h4 style=\"margin-bottom: 0px; display: inline;\">Worker: 12</h4>\n",
              "                </summary>\n",
              "                <table style=\"width: 100%; text-align: left;\">\n",
              "                    <tr>\n",
              "                        <td style=\"text-align: left;\">\n",
              "                            <strong>Comm: </strong> tcp://127.0.0.1:46483\n",
              "                        </td>\n",
              "                        <td style=\"text-align: left;\">\n",
              "                            <strong>Total threads: </strong> 3\n",
              "                        </td>\n",
              "                    </tr>\n",
              "                    <tr>\n",
              "                        <td style=\"text-align: left;\">\n",
              "                            <strong>Dashboard: </strong> <a href=\"http://127.0.0.1:46543/status\" target=\"_blank\">http://127.0.0.1:46543/status</a>\n",
              "                        </td>\n",
              "                        <td style=\"text-align: left;\">\n",
              "                            <strong>Memory: </strong> 10.46 GiB\n",
              "                        </td>\n",
              "                    </tr>\n",
              "                    <tr>\n",
              "                        <td style=\"text-align: left;\">\n",
              "                            <strong>Nanny: </strong> tcp://127.0.0.1:46569\n",
              "                        </td>\n",
              "                        <td style=\"text-align: left;\"></td>\n",
              "                    </tr>\n",
              "                    <tr>\n",
              "                        <td colspan=\"2\" style=\"text-align: left;\">\n",
              "                            <strong>Local directory: </strong> /tmp/dask-scratch-space/worker-ow4jjwp1\n",
              "                        </td>\n",
              "                    </tr>\n",
              "\n",
              "                    \n",
              "\n",
              "                    \n",
              "\n",
              "                </table>\n",
              "            </details>\n",
              "            </div>\n",
              "        </div>\n",
              "        \n",
              "        <div style=\"margin-bottom: 20px;\">\n",
              "            <div style=\"width: 24px; height: 24px; background-color: #DBF5FF; border: 3px solid #4CC9FF; border-radius: 5px; position: absolute;\"> </div>\n",
              "            <div style=\"margin-left: 48px;\">\n",
              "            <details>\n",
              "                <summary>\n",
              "                    <h4 style=\"margin-bottom: 0px; display: inline;\">Worker: 13</h4>\n",
              "                </summary>\n",
              "                <table style=\"width: 100%; text-align: left;\">\n",
              "                    <tr>\n",
              "                        <td style=\"text-align: left;\">\n",
              "                            <strong>Comm: </strong> tcp://127.0.0.1:40533\n",
              "                        </td>\n",
              "                        <td style=\"text-align: left;\">\n",
              "                            <strong>Total threads: </strong> 3\n",
              "                        </td>\n",
              "                    </tr>\n",
              "                    <tr>\n",
              "                        <td style=\"text-align: left;\">\n",
              "                            <strong>Dashboard: </strong> <a href=\"http://127.0.0.1:36569/status\" target=\"_blank\">http://127.0.0.1:36569/status</a>\n",
              "                        </td>\n",
              "                        <td style=\"text-align: left;\">\n",
              "                            <strong>Memory: </strong> 10.46 GiB\n",
              "                        </td>\n",
              "                    </tr>\n",
              "                    <tr>\n",
              "                        <td style=\"text-align: left;\">\n",
              "                            <strong>Nanny: </strong> tcp://127.0.0.1:42439\n",
              "                        </td>\n",
              "                        <td style=\"text-align: left;\"></td>\n",
              "                    </tr>\n",
              "                    <tr>\n",
              "                        <td colspan=\"2\" style=\"text-align: left;\">\n",
              "                            <strong>Local directory: </strong> /tmp/dask-scratch-space/worker-qqjo94vb\n",
              "                        </td>\n",
              "                    </tr>\n",
              "\n",
              "                    \n",
              "\n",
              "                    \n",
              "\n",
              "                </table>\n",
              "            </details>\n",
              "            </div>\n",
              "        </div>\n",
              "        \n",
              "        <div style=\"margin-bottom: 20px;\">\n",
              "            <div style=\"width: 24px; height: 24px; background-color: #DBF5FF; border: 3px solid #4CC9FF; border-radius: 5px; position: absolute;\"> </div>\n",
              "            <div style=\"margin-left: 48px;\">\n",
              "            <details>\n",
              "                <summary>\n",
              "                    <h4 style=\"margin-bottom: 0px; display: inline;\">Worker: 14</h4>\n",
              "                </summary>\n",
              "                <table style=\"width: 100%; text-align: left;\">\n",
              "                    <tr>\n",
              "                        <td style=\"text-align: left;\">\n",
              "                            <strong>Comm: </strong> tcp://127.0.0.1:32927\n",
              "                        </td>\n",
              "                        <td style=\"text-align: left;\">\n",
              "                            <strong>Total threads: </strong> 3\n",
              "                        </td>\n",
              "                    </tr>\n",
              "                    <tr>\n",
              "                        <td style=\"text-align: left;\">\n",
              "                            <strong>Dashboard: </strong> <a href=\"http://127.0.0.1:35551/status\" target=\"_blank\">http://127.0.0.1:35551/status</a>\n",
              "                        </td>\n",
              "                        <td style=\"text-align: left;\">\n",
              "                            <strong>Memory: </strong> 10.46 GiB\n",
              "                        </td>\n",
              "                    </tr>\n",
              "                    <tr>\n",
              "                        <td style=\"text-align: left;\">\n",
              "                            <strong>Nanny: </strong> tcp://127.0.0.1:44625\n",
              "                        </td>\n",
              "                        <td style=\"text-align: left;\"></td>\n",
              "                    </tr>\n",
              "                    <tr>\n",
              "                        <td colspan=\"2\" style=\"text-align: left;\">\n",
              "                            <strong>Local directory: </strong> /tmp/dask-scratch-space/worker-3pnh_pd2\n",
              "                        </td>\n",
              "                    </tr>\n",
              "\n",
              "                    \n",
              "\n",
              "                    \n",
              "\n",
              "                </table>\n",
              "            </details>\n",
              "            </div>\n",
              "        </div>\n",
              "        \n",
              "        <div style=\"margin-bottom: 20px;\">\n",
              "            <div style=\"width: 24px; height: 24px; background-color: #DBF5FF; border: 3px solid #4CC9FF; border-radius: 5px; position: absolute;\"> </div>\n",
              "            <div style=\"margin-left: 48px;\">\n",
              "            <details>\n",
              "                <summary>\n",
              "                    <h4 style=\"margin-bottom: 0px; display: inline;\">Worker: 15</h4>\n",
              "                </summary>\n",
              "                <table style=\"width: 100%; text-align: left;\">\n",
              "                    <tr>\n",
              "                        <td style=\"text-align: left;\">\n",
              "                            <strong>Comm: </strong> tcp://127.0.0.1:35373\n",
              "                        </td>\n",
              "                        <td style=\"text-align: left;\">\n",
              "                            <strong>Total threads: </strong> 3\n",
              "                        </td>\n",
              "                    </tr>\n",
              "                    <tr>\n",
              "                        <td style=\"text-align: left;\">\n",
              "                            <strong>Dashboard: </strong> <a href=\"http://127.0.0.1:45417/status\" target=\"_blank\">http://127.0.0.1:45417/status</a>\n",
              "                        </td>\n",
              "                        <td style=\"text-align: left;\">\n",
              "                            <strong>Memory: </strong> 10.46 GiB\n",
              "                        </td>\n",
              "                    </tr>\n",
              "                    <tr>\n",
              "                        <td style=\"text-align: left;\">\n",
              "                            <strong>Nanny: </strong> tcp://127.0.0.1:45093\n",
              "                        </td>\n",
              "                        <td style=\"text-align: left;\"></td>\n",
              "                    </tr>\n",
              "                    <tr>\n",
              "                        <td colspan=\"2\" style=\"text-align: left;\">\n",
              "                            <strong>Local directory: </strong> /tmp/dask-scratch-space/worker-t36gkup9\n",
              "                        </td>\n",
              "                    </tr>\n",
              "\n",
              "                    \n",
              "\n",
              "                    \n",
              "\n",
              "                </table>\n",
              "            </details>\n",
              "            </div>\n",
              "        </div>\n",
              "        \n",
              "        <div style=\"margin-bottom: 20px;\">\n",
              "            <div style=\"width: 24px; height: 24px; background-color: #DBF5FF; border: 3px solid #4CC9FF; border-radius: 5px; position: absolute;\"> </div>\n",
              "            <div style=\"margin-left: 48px;\">\n",
              "            <details>\n",
              "                <summary>\n",
              "                    <h4 style=\"margin-bottom: 0px; display: inline;\">Worker: 16</h4>\n",
              "                </summary>\n",
              "                <table style=\"width: 100%; text-align: left;\">\n",
              "                    <tr>\n",
              "                        <td style=\"text-align: left;\">\n",
              "                            <strong>Comm: </strong> tcp://127.0.0.1:40899\n",
              "                        </td>\n",
              "                        <td style=\"text-align: left;\">\n",
              "                            <strong>Total threads: </strong> 3\n",
              "                        </td>\n",
              "                    </tr>\n",
              "                    <tr>\n",
              "                        <td style=\"text-align: left;\">\n",
              "                            <strong>Dashboard: </strong> <a href=\"http://127.0.0.1:41751/status\" target=\"_blank\">http://127.0.0.1:41751/status</a>\n",
              "                        </td>\n",
              "                        <td style=\"text-align: left;\">\n",
              "                            <strong>Memory: </strong> 10.46 GiB\n",
              "                        </td>\n",
              "                    </tr>\n",
              "                    <tr>\n",
              "                        <td style=\"text-align: left;\">\n",
              "                            <strong>Nanny: </strong> tcp://127.0.0.1:40857\n",
              "                        </td>\n",
              "                        <td style=\"text-align: left;\"></td>\n",
              "                    </tr>\n",
              "                    <tr>\n",
              "                        <td colspan=\"2\" style=\"text-align: left;\">\n",
              "                            <strong>Local directory: </strong> /tmp/dask-scratch-space/worker-vyvu0p9x\n",
              "                        </td>\n",
              "                    </tr>\n",
              "\n",
              "                    \n",
              "\n",
              "                    \n",
              "\n",
              "                </table>\n",
              "            </details>\n",
              "            </div>\n",
              "        </div>\n",
              "        \n",
              "        <div style=\"margin-bottom: 20px;\">\n",
              "            <div style=\"width: 24px; height: 24px; background-color: #DBF5FF; border: 3px solid #4CC9FF; border-radius: 5px; position: absolute;\"> </div>\n",
              "            <div style=\"margin-left: 48px;\">\n",
              "            <details>\n",
              "                <summary>\n",
              "                    <h4 style=\"margin-bottom: 0px; display: inline;\">Worker: 17</h4>\n",
              "                </summary>\n",
              "                <table style=\"width: 100%; text-align: left;\">\n",
              "                    <tr>\n",
              "                        <td style=\"text-align: left;\">\n",
              "                            <strong>Comm: </strong> tcp://127.0.0.1:43899\n",
              "                        </td>\n",
              "                        <td style=\"text-align: left;\">\n",
              "                            <strong>Total threads: </strong> 3\n",
              "                        </td>\n",
              "                    </tr>\n",
              "                    <tr>\n",
              "                        <td style=\"text-align: left;\">\n",
              "                            <strong>Dashboard: </strong> <a href=\"http://127.0.0.1:45161/status\" target=\"_blank\">http://127.0.0.1:45161/status</a>\n",
              "                        </td>\n",
              "                        <td style=\"text-align: left;\">\n",
              "                            <strong>Memory: </strong> 10.46 GiB\n",
              "                        </td>\n",
              "                    </tr>\n",
              "                    <tr>\n",
              "                        <td style=\"text-align: left;\">\n",
              "                            <strong>Nanny: </strong> tcp://127.0.0.1:41681\n",
              "                        </td>\n",
              "                        <td style=\"text-align: left;\"></td>\n",
              "                    </tr>\n",
              "                    <tr>\n",
              "                        <td colspan=\"2\" style=\"text-align: left;\">\n",
              "                            <strong>Local directory: </strong> /tmp/dask-scratch-space/worker-1bujoyu7\n",
              "                        </td>\n",
              "                    </tr>\n",
              "\n",
              "                    \n",
              "\n",
              "                    \n",
              "\n",
              "                </table>\n",
              "            </details>\n",
              "            </div>\n",
              "        </div>\n",
              "        \n",
              "        <div style=\"margin-bottom: 20px;\">\n",
              "            <div style=\"width: 24px; height: 24px; background-color: #DBF5FF; border: 3px solid #4CC9FF; border-radius: 5px; position: absolute;\"> </div>\n",
              "            <div style=\"margin-left: 48px;\">\n",
              "            <details>\n",
              "                <summary>\n",
              "                    <h4 style=\"margin-bottom: 0px; display: inline;\">Worker: 18</h4>\n",
              "                </summary>\n",
              "                <table style=\"width: 100%; text-align: left;\">\n",
              "                    <tr>\n",
              "                        <td style=\"text-align: left;\">\n",
              "                            <strong>Comm: </strong> tcp://127.0.0.1:34375\n",
              "                        </td>\n",
              "                        <td style=\"text-align: left;\">\n",
              "                            <strong>Total threads: </strong> 3\n",
              "                        </td>\n",
              "                    </tr>\n",
              "                    <tr>\n",
              "                        <td style=\"text-align: left;\">\n",
              "                            <strong>Dashboard: </strong> <a href=\"http://127.0.0.1:36425/status\" target=\"_blank\">http://127.0.0.1:36425/status</a>\n",
              "                        </td>\n",
              "                        <td style=\"text-align: left;\">\n",
              "                            <strong>Memory: </strong> 10.46 GiB\n",
              "                        </td>\n",
              "                    </tr>\n",
              "                    <tr>\n",
              "                        <td style=\"text-align: left;\">\n",
              "                            <strong>Nanny: </strong> tcp://127.0.0.1:40767\n",
              "                        </td>\n",
              "                        <td style=\"text-align: left;\"></td>\n",
              "                    </tr>\n",
              "                    <tr>\n",
              "                        <td colspan=\"2\" style=\"text-align: left;\">\n",
              "                            <strong>Local directory: </strong> /tmp/dask-scratch-space/worker-xfa4dt36\n",
              "                        </td>\n",
              "                    </tr>\n",
              "\n",
              "                    \n",
              "\n",
              "                    \n",
              "\n",
              "                </table>\n",
              "            </details>\n",
              "            </div>\n",
              "        </div>\n",
              "        \n",
              "        <div style=\"margin-bottom: 20px;\">\n",
              "            <div style=\"width: 24px; height: 24px; background-color: #DBF5FF; border: 3px solid #4CC9FF; border-radius: 5px; position: absolute;\"> </div>\n",
              "            <div style=\"margin-left: 48px;\">\n",
              "            <details>\n",
              "                <summary>\n",
              "                    <h4 style=\"margin-bottom: 0px; display: inline;\">Worker: 19</h4>\n",
              "                </summary>\n",
              "                <table style=\"width: 100%; text-align: left;\">\n",
              "                    <tr>\n",
              "                        <td style=\"text-align: left;\">\n",
              "                            <strong>Comm: </strong> tcp://127.0.0.1:41431\n",
              "                        </td>\n",
              "                        <td style=\"text-align: left;\">\n",
              "                            <strong>Total threads: </strong> 3\n",
              "                        </td>\n",
              "                    </tr>\n",
              "                    <tr>\n",
              "                        <td style=\"text-align: left;\">\n",
              "                            <strong>Dashboard: </strong> <a href=\"http://127.0.0.1:44855/status\" target=\"_blank\">http://127.0.0.1:44855/status</a>\n",
              "                        </td>\n",
              "                        <td style=\"text-align: left;\">\n",
              "                            <strong>Memory: </strong> 10.46 GiB\n",
              "                        </td>\n",
              "                    </tr>\n",
              "                    <tr>\n",
              "                        <td style=\"text-align: left;\">\n",
              "                            <strong>Nanny: </strong> tcp://127.0.0.1:33911\n",
              "                        </td>\n",
              "                        <td style=\"text-align: left;\"></td>\n",
              "                    </tr>\n",
              "                    <tr>\n",
              "                        <td colspan=\"2\" style=\"text-align: left;\">\n",
              "                            <strong>Local directory: </strong> /tmp/dask-scratch-space/worker-2os59s8d\n",
              "                        </td>\n",
              "                    </tr>\n",
              "\n",
              "                    \n",
              "\n",
              "                    \n",
              "\n",
              "                </table>\n",
              "            </details>\n",
              "            </div>\n",
              "        </div>\n",
              "        \n",
              "        <div style=\"margin-bottom: 20px;\">\n",
              "            <div style=\"width: 24px; height: 24px; background-color: #DBF5FF; border: 3px solid #4CC9FF; border-radius: 5px; position: absolute;\"> </div>\n",
              "            <div style=\"margin-left: 48px;\">\n",
              "            <details>\n",
              "                <summary>\n",
              "                    <h4 style=\"margin-bottom: 0px; display: inline;\">Worker: 20</h4>\n",
              "                </summary>\n",
              "                <table style=\"width: 100%; text-align: left;\">\n",
              "                    <tr>\n",
              "                        <td style=\"text-align: left;\">\n",
              "                            <strong>Comm: </strong> tcp://127.0.0.1:40431\n",
              "                        </td>\n",
              "                        <td style=\"text-align: left;\">\n",
              "                            <strong>Total threads: </strong> 3\n",
              "                        </td>\n",
              "                    </tr>\n",
              "                    <tr>\n",
              "                        <td style=\"text-align: left;\">\n",
              "                            <strong>Dashboard: </strong> <a href=\"http://127.0.0.1:41497/status\" target=\"_blank\">http://127.0.0.1:41497/status</a>\n",
              "                        </td>\n",
              "                        <td style=\"text-align: left;\">\n",
              "                            <strong>Memory: </strong> 10.46 GiB\n",
              "                        </td>\n",
              "                    </tr>\n",
              "                    <tr>\n",
              "                        <td style=\"text-align: left;\">\n",
              "                            <strong>Nanny: </strong> tcp://127.0.0.1:35617\n",
              "                        </td>\n",
              "                        <td style=\"text-align: left;\"></td>\n",
              "                    </tr>\n",
              "                    <tr>\n",
              "                        <td colspan=\"2\" style=\"text-align: left;\">\n",
              "                            <strong>Local directory: </strong> /tmp/dask-scratch-space/worker-lzx0nrz1\n",
              "                        </td>\n",
              "                    </tr>\n",
              "\n",
              "                    \n",
              "\n",
              "                    \n",
              "\n",
              "                </table>\n",
              "            </details>\n",
              "            </div>\n",
              "        </div>\n",
              "        \n",
              "        <div style=\"margin-bottom: 20px;\">\n",
              "            <div style=\"width: 24px; height: 24px; background-color: #DBF5FF; border: 3px solid #4CC9FF; border-radius: 5px; position: absolute;\"> </div>\n",
              "            <div style=\"margin-left: 48px;\">\n",
              "            <details>\n",
              "                <summary>\n",
              "                    <h4 style=\"margin-bottom: 0px; display: inline;\">Worker: 21</h4>\n",
              "                </summary>\n",
              "                <table style=\"width: 100%; text-align: left;\">\n",
              "                    <tr>\n",
              "                        <td style=\"text-align: left;\">\n",
              "                            <strong>Comm: </strong> tcp://127.0.0.1:42935\n",
              "                        </td>\n",
              "                        <td style=\"text-align: left;\">\n",
              "                            <strong>Total threads: </strong> 3\n",
              "                        </td>\n",
              "                    </tr>\n",
              "                    <tr>\n",
              "                        <td style=\"text-align: left;\">\n",
              "                            <strong>Dashboard: </strong> <a href=\"http://127.0.0.1:39765/status\" target=\"_blank\">http://127.0.0.1:39765/status</a>\n",
              "                        </td>\n",
              "                        <td style=\"text-align: left;\">\n",
              "                            <strong>Memory: </strong> 10.46 GiB\n",
              "                        </td>\n",
              "                    </tr>\n",
              "                    <tr>\n",
              "                        <td style=\"text-align: left;\">\n",
              "                            <strong>Nanny: </strong> tcp://127.0.0.1:39315\n",
              "                        </td>\n",
              "                        <td style=\"text-align: left;\"></td>\n",
              "                    </tr>\n",
              "                    <tr>\n",
              "                        <td colspan=\"2\" style=\"text-align: left;\">\n",
              "                            <strong>Local directory: </strong> /tmp/dask-scratch-space/worker-5_x2_89c\n",
              "                        </td>\n",
              "                    </tr>\n",
              "\n",
              "                    \n",
              "\n",
              "                    \n",
              "\n",
              "                </table>\n",
              "            </details>\n",
              "            </div>\n",
              "        </div>\n",
              "        \n",
              "        <div style=\"margin-bottom: 20px;\">\n",
              "            <div style=\"width: 24px; height: 24px; background-color: #DBF5FF; border: 3px solid #4CC9FF; border-radius: 5px; position: absolute;\"> </div>\n",
              "            <div style=\"margin-left: 48px;\">\n",
              "            <details>\n",
              "                <summary>\n",
              "                    <h4 style=\"margin-bottom: 0px; display: inline;\">Worker: 22</h4>\n",
              "                </summary>\n",
              "                <table style=\"width: 100%; text-align: left;\">\n",
              "                    <tr>\n",
              "                        <td style=\"text-align: left;\">\n",
              "                            <strong>Comm: </strong> tcp://127.0.0.1:36597\n",
              "                        </td>\n",
              "                        <td style=\"text-align: left;\">\n",
              "                            <strong>Total threads: </strong> 3\n",
              "                        </td>\n",
              "                    </tr>\n",
              "                    <tr>\n",
              "                        <td style=\"text-align: left;\">\n",
              "                            <strong>Dashboard: </strong> <a href=\"http://127.0.0.1:34745/status\" target=\"_blank\">http://127.0.0.1:34745/status</a>\n",
              "                        </td>\n",
              "                        <td style=\"text-align: left;\">\n",
              "                            <strong>Memory: </strong> 10.46 GiB\n",
              "                        </td>\n",
              "                    </tr>\n",
              "                    <tr>\n",
              "                        <td style=\"text-align: left;\">\n",
              "                            <strong>Nanny: </strong> tcp://127.0.0.1:35271\n",
              "                        </td>\n",
              "                        <td style=\"text-align: left;\"></td>\n",
              "                    </tr>\n",
              "                    <tr>\n",
              "                        <td colspan=\"2\" style=\"text-align: left;\">\n",
              "                            <strong>Local directory: </strong> /tmp/dask-scratch-space/worker-t13rgl7l\n",
              "                        </td>\n",
              "                    </tr>\n",
              "\n",
              "                    \n",
              "\n",
              "                    \n",
              "\n",
              "                </table>\n",
              "            </details>\n",
              "            </div>\n",
              "        </div>\n",
              "        \n",
              "        <div style=\"margin-bottom: 20px;\">\n",
              "            <div style=\"width: 24px; height: 24px; background-color: #DBF5FF; border: 3px solid #4CC9FF; border-radius: 5px; position: absolute;\"> </div>\n",
              "            <div style=\"margin-left: 48px;\">\n",
              "            <details>\n",
              "                <summary>\n",
              "                    <h4 style=\"margin-bottom: 0px; display: inline;\">Worker: 23</h4>\n",
              "                </summary>\n",
              "                <table style=\"width: 100%; text-align: left;\">\n",
              "                    <tr>\n",
              "                        <td style=\"text-align: left;\">\n",
              "                            <strong>Comm: </strong> tcp://127.0.0.1:36201\n",
              "                        </td>\n",
              "                        <td style=\"text-align: left;\">\n",
              "                            <strong>Total threads: </strong> 3\n",
              "                        </td>\n",
              "                    </tr>\n",
              "                    <tr>\n",
              "                        <td style=\"text-align: left;\">\n",
              "                            <strong>Dashboard: </strong> <a href=\"http://127.0.0.1:37773/status\" target=\"_blank\">http://127.0.0.1:37773/status</a>\n",
              "                        </td>\n",
              "                        <td style=\"text-align: left;\">\n",
              "                            <strong>Memory: </strong> 10.46 GiB\n",
              "                        </td>\n",
              "                    </tr>\n",
              "                    <tr>\n",
              "                        <td style=\"text-align: left;\">\n",
              "                            <strong>Nanny: </strong> tcp://127.0.0.1:34579\n",
              "                        </td>\n",
              "                        <td style=\"text-align: left;\"></td>\n",
              "                    </tr>\n",
              "                    <tr>\n",
              "                        <td colspan=\"2\" style=\"text-align: left;\">\n",
              "                            <strong>Local directory: </strong> /tmp/dask-scratch-space/worker-8jd3ziu2\n",
              "                        </td>\n",
              "                    </tr>\n",
              "\n",
              "                    \n",
              "\n",
              "                    \n",
              "\n",
              "                </table>\n",
              "            </details>\n",
              "            </div>\n",
              "        </div>\n",
              "        \n",
              "        <div style=\"margin-bottom: 20px;\">\n",
              "            <div style=\"width: 24px; height: 24px; background-color: #DBF5FF; border: 3px solid #4CC9FF; border-radius: 5px; position: absolute;\"> </div>\n",
              "            <div style=\"margin-left: 48px;\">\n",
              "            <details>\n",
              "                <summary>\n",
              "                    <h4 style=\"margin-bottom: 0px; display: inline;\">Worker: 24</h4>\n",
              "                </summary>\n",
              "                <table style=\"width: 100%; text-align: left;\">\n",
              "                    <tr>\n",
              "                        <td style=\"text-align: left;\">\n",
              "                            <strong>Comm: </strong> tcp://127.0.0.1:38253\n",
              "                        </td>\n",
              "                        <td style=\"text-align: left;\">\n",
              "                            <strong>Total threads: </strong> 3\n",
              "                        </td>\n",
              "                    </tr>\n",
              "                    <tr>\n",
              "                        <td style=\"text-align: left;\">\n",
              "                            <strong>Dashboard: </strong> <a href=\"http://127.0.0.1:36499/status\" target=\"_blank\">http://127.0.0.1:36499/status</a>\n",
              "                        </td>\n",
              "                        <td style=\"text-align: left;\">\n",
              "                            <strong>Memory: </strong> 10.46 GiB\n",
              "                        </td>\n",
              "                    </tr>\n",
              "                    <tr>\n",
              "                        <td style=\"text-align: left;\">\n",
              "                            <strong>Nanny: </strong> tcp://127.0.0.1:33365\n",
              "                        </td>\n",
              "                        <td style=\"text-align: left;\"></td>\n",
              "                    </tr>\n",
              "                    <tr>\n",
              "                        <td colspan=\"2\" style=\"text-align: left;\">\n",
              "                            <strong>Local directory: </strong> /tmp/dask-scratch-space/worker-2m82s1c7\n",
              "                        </td>\n",
              "                    </tr>\n",
              "\n",
              "                    \n",
              "\n",
              "                    \n",
              "\n",
              "                </table>\n",
              "            </details>\n",
              "            </div>\n",
              "        </div>\n",
              "        \n",
              "        <div style=\"margin-bottom: 20px;\">\n",
              "            <div style=\"width: 24px; height: 24px; background-color: #DBF5FF; border: 3px solid #4CC9FF; border-radius: 5px; position: absolute;\"> </div>\n",
              "            <div style=\"margin-left: 48px;\">\n",
              "            <details>\n",
              "                <summary>\n",
              "                    <h4 style=\"margin-bottom: 0px; display: inline;\">Worker: 25</h4>\n",
              "                </summary>\n",
              "                <table style=\"width: 100%; text-align: left;\">\n",
              "                    <tr>\n",
              "                        <td style=\"text-align: left;\">\n",
              "                            <strong>Comm: </strong> tcp://127.0.0.1:39337\n",
              "                        </td>\n",
              "                        <td style=\"text-align: left;\">\n",
              "                            <strong>Total threads: </strong> 3\n",
              "                        </td>\n",
              "                    </tr>\n",
              "                    <tr>\n",
              "                        <td style=\"text-align: left;\">\n",
              "                            <strong>Dashboard: </strong> <a href=\"http://127.0.0.1:46651/status\" target=\"_blank\">http://127.0.0.1:46651/status</a>\n",
              "                        </td>\n",
              "                        <td style=\"text-align: left;\">\n",
              "                            <strong>Memory: </strong> 10.46 GiB\n",
              "                        </td>\n",
              "                    </tr>\n",
              "                    <tr>\n",
              "                        <td style=\"text-align: left;\">\n",
              "                            <strong>Nanny: </strong> tcp://127.0.0.1:36485\n",
              "                        </td>\n",
              "                        <td style=\"text-align: left;\"></td>\n",
              "                    </tr>\n",
              "                    <tr>\n",
              "                        <td colspan=\"2\" style=\"text-align: left;\">\n",
              "                            <strong>Local directory: </strong> /tmp/dask-scratch-space/worker-ndq24xec\n",
              "                        </td>\n",
              "                    </tr>\n",
              "\n",
              "                    \n",
              "\n",
              "                    \n",
              "\n",
              "                </table>\n",
              "            </details>\n",
              "            </div>\n",
              "        </div>\n",
              "        \n",
              "        <div style=\"margin-bottom: 20px;\">\n",
              "            <div style=\"width: 24px; height: 24px; background-color: #DBF5FF; border: 3px solid #4CC9FF; border-radius: 5px; position: absolute;\"> </div>\n",
              "            <div style=\"margin-left: 48px;\">\n",
              "            <details>\n",
              "                <summary>\n",
              "                    <h4 style=\"margin-bottom: 0px; display: inline;\">Worker: 26</h4>\n",
              "                </summary>\n",
              "                <table style=\"width: 100%; text-align: left;\">\n",
              "                    <tr>\n",
              "                        <td style=\"text-align: left;\">\n",
              "                            <strong>Comm: </strong> tcp://127.0.0.1:44091\n",
              "                        </td>\n",
              "                        <td style=\"text-align: left;\">\n",
              "                            <strong>Total threads: </strong> 3\n",
              "                        </td>\n",
              "                    </tr>\n",
              "                    <tr>\n",
              "                        <td style=\"text-align: left;\">\n",
              "                            <strong>Dashboard: </strong> <a href=\"http://127.0.0.1:42229/status\" target=\"_blank\">http://127.0.0.1:42229/status</a>\n",
              "                        </td>\n",
              "                        <td style=\"text-align: left;\">\n",
              "                            <strong>Memory: </strong> 10.46 GiB\n",
              "                        </td>\n",
              "                    </tr>\n",
              "                    <tr>\n",
              "                        <td style=\"text-align: left;\">\n",
              "                            <strong>Nanny: </strong> tcp://127.0.0.1:37411\n",
              "                        </td>\n",
              "                        <td style=\"text-align: left;\"></td>\n",
              "                    </tr>\n",
              "                    <tr>\n",
              "                        <td colspan=\"2\" style=\"text-align: left;\">\n",
              "                            <strong>Local directory: </strong> /tmp/dask-scratch-space/worker-akwbymso\n",
              "                        </td>\n",
              "                    </tr>\n",
              "\n",
              "                    \n",
              "\n",
              "                    \n",
              "\n",
              "                </table>\n",
              "            </details>\n",
              "            </div>\n",
              "        </div>\n",
              "        \n",
              "        <div style=\"margin-bottom: 20px;\">\n",
              "            <div style=\"width: 24px; height: 24px; background-color: #DBF5FF; border: 3px solid #4CC9FF; border-radius: 5px; position: absolute;\"> </div>\n",
              "            <div style=\"margin-left: 48px;\">\n",
              "            <details>\n",
              "                <summary>\n",
              "                    <h4 style=\"margin-bottom: 0px; display: inline;\">Worker: 27</h4>\n",
              "                </summary>\n",
              "                <table style=\"width: 100%; text-align: left;\">\n",
              "                    <tr>\n",
              "                        <td style=\"text-align: left;\">\n",
              "                            <strong>Comm: </strong> tcp://127.0.0.1:38629\n",
              "                        </td>\n",
              "                        <td style=\"text-align: left;\">\n",
              "                            <strong>Total threads: </strong> 3\n",
              "                        </td>\n",
              "                    </tr>\n",
              "                    <tr>\n",
              "                        <td style=\"text-align: left;\">\n",
              "                            <strong>Dashboard: </strong> <a href=\"http://127.0.0.1:36801/status\" target=\"_blank\">http://127.0.0.1:36801/status</a>\n",
              "                        </td>\n",
              "                        <td style=\"text-align: left;\">\n",
              "                            <strong>Memory: </strong> 10.46 GiB\n",
              "                        </td>\n",
              "                    </tr>\n",
              "                    <tr>\n",
              "                        <td style=\"text-align: left;\">\n",
              "                            <strong>Nanny: </strong> tcp://127.0.0.1:38365\n",
              "                        </td>\n",
              "                        <td style=\"text-align: left;\"></td>\n",
              "                    </tr>\n",
              "                    <tr>\n",
              "                        <td colspan=\"2\" style=\"text-align: left;\">\n",
              "                            <strong>Local directory: </strong> /tmp/dask-scratch-space/worker-f3vfsu21\n",
              "                        </td>\n",
              "                    </tr>\n",
              "\n",
              "                    \n",
              "\n",
              "                    \n",
              "\n",
              "                </table>\n",
              "            </details>\n",
              "            </div>\n",
              "        </div>\n",
              "        \n",
              "        <div style=\"margin-bottom: 20px;\">\n",
              "            <div style=\"width: 24px; height: 24px; background-color: #DBF5FF; border: 3px solid #4CC9FF; border-radius: 5px; position: absolute;\"> </div>\n",
              "            <div style=\"margin-left: 48px;\">\n",
              "            <details>\n",
              "                <summary>\n",
              "                    <h4 style=\"margin-bottom: 0px; display: inline;\">Worker: 28</h4>\n",
              "                </summary>\n",
              "                <table style=\"width: 100%; text-align: left;\">\n",
              "                    <tr>\n",
              "                        <td style=\"text-align: left;\">\n",
              "                            <strong>Comm: </strong> tcp://127.0.0.1:34333\n",
              "                        </td>\n",
              "                        <td style=\"text-align: left;\">\n",
              "                            <strong>Total threads: </strong> 3\n",
              "                        </td>\n",
              "                    </tr>\n",
              "                    <tr>\n",
              "                        <td style=\"text-align: left;\">\n",
              "                            <strong>Dashboard: </strong> <a href=\"http://127.0.0.1:38301/status\" target=\"_blank\">http://127.0.0.1:38301/status</a>\n",
              "                        </td>\n",
              "                        <td style=\"text-align: left;\">\n",
              "                            <strong>Memory: </strong> 10.46 GiB\n",
              "                        </td>\n",
              "                    </tr>\n",
              "                    <tr>\n",
              "                        <td style=\"text-align: left;\">\n",
              "                            <strong>Nanny: </strong> tcp://127.0.0.1:34307\n",
              "                        </td>\n",
              "                        <td style=\"text-align: left;\"></td>\n",
              "                    </tr>\n",
              "                    <tr>\n",
              "                        <td colspan=\"2\" style=\"text-align: left;\">\n",
              "                            <strong>Local directory: </strong> /tmp/dask-scratch-space/worker-8m2vdl4q\n",
              "                        </td>\n",
              "                    </tr>\n",
              "\n",
              "                    \n",
              "\n",
              "                    \n",
              "\n",
              "                </table>\n",
              "            </details>\n",
              "            </div>\n",
              "        </div>\n",
              "        \n",
              "        <div style=\"margin-bottom: 20px;\">\n",
              "            <div style=\"width: 24px; height: 24px; background-color: #DBF5FF; border: 3px solid #4CC9FF; border-radius: 5px; position: absolute;\"> </div>\n",
              "            <div style=\"margin-left: 48px;\">\n",
              "            <details>\n",
              "                <summary>\n",
              "                    <h4 style=\"margin-bottom: 0px; display: inline;\">Worker: 29</h4>\n",
              "                </summary>\n",
              "                <table style=\"width: 100%; text-align: left;\">\n",
              "                    <tr>\n",
              "                        <td style=\"text-align: left;\">\n",
              "                            <strong>Comm: </strong> tcp://127.0.0.1:45525\n",
              "                        </td>\n",
              "                        <td style=\"text-align: left;\">\n",
              "                            <strong>Total threads: </strong> 3\n",
              "                        </td>\n",
              "                    </tr>\n",
              "                    <tr>\n",
              "                        <td style=\"text-align: left;\">\n",
              "                            <strong>Dashboard: </strong> <a href=\"http://127.0.0.1:42919/status\" target=\"_blank\">http://127.0.0.1:42919/status</a>\n",
              "                        </td>\n",
              "                        <td style=\"text-align: left;\">\n",
              "                            <strong>Memory: </strong> 10.46 GiB\n",
              "                        </td>\n",
              "                    </tr>\n",
              "                    <tr>\n",
              "                        <td style=\"text-align: left;\">\n",
              "                            <strong>Nanny: </strong> tcp://127.0.0.1:46679\n",
              "                        </td>\n",
              "                        <td style=\"text-align: left;\"></td>\n",
              "                    </tr>\n",
              "                    <tr>\n",
              "                        <td colspan=\"2\" style=\"text-align: left;\">\n",
              "                            <strong>Local directory: </strong> /tmp/dask-scratch-space/worker-ixwlems1\n",
              "                        </td>\n",
              "                    </tr>\n",
              "\n",
              "                    \n",
              "\n",
              "                    \n",
              "\n",
              "                </table>\n",
              "            </details>\n",
              "            </div>\n",
              "        </div>\n",
              "        \n",
              "        <div style=\"margin-bottom: 20px;\">\n",
              "            <div style=\"width: 24px; height: 24px; background-color: #DBF5FF; border: 3px solid #4CC9FF; border-radius: 5px; position: absolute;\"> </div>\n",
              "            <div style=\"margin-left: 48px;\">\n",
              "            <details>\n",
              "                <summary>\n",
              "                    <h4 style=\"margin-bottom: 0px; display: inline;\">Worker: 30</h4>\n",
              "                </summary>\n",
              "                <table style=\"width: 100%; text-align: left;\">\n",
              "                    <tr>\n",
              "                        <td style=\"text-align: left;\">\n",
              "                            <strong>Comm: </strong> tcp://127.0.0.1:38001\n",
              "                        </td>\n",
              "                        <td style=\"text-align: left;\">\n",
              "                            <strong>Total threads: </strong> 3\n",
              "                        </td>\n",
              "                    </tr>\n",
              "                    <tr>\n",
              "                        <td style=\"text-align: left;\">\n",
              "                            <strong>Dashboard: </strong> <a href=\"http://127.0.0.1:46037/status\" target=\"_blank\">http://127.0.0.1:46037/status</a>\n",
              "                        </td>\n",
              "                        <td style=\"text-align: left;\">\n",
              "                            <strong>Memory: </strong> 10.46 GiB\n",
              "                        </td>\n",
              "                    </tr>\n",
              "                    <tr>\n",
              "                        <td style=\"text-align: left;\">\n",
              "                            <strong>Nanny: </strong> tcp://127.0.0.1:41427\n",
              "                        </td>\n",
              "                        <td style=\"text-align: left;\"></td>\n",
              "                    </tr>\n",
              "                    <tr>\n",
              "                        <td colspan=\"2\" style=\"text-align: left;\">\n",
              "                            <strong>Local directory: </strong> /tmp/dask-scratch-space/worker-_1nnk181\n",
              "                        </td>\n",
              "                    </tr>\n",
              "\n",
              "                    \n",
              "\n",
              "                    \n",
              "\n",
              "                </table>\n",
              "            </details>\n",
              "            </div>\n",
              "        </div>\n",
              "        \n",
              "        <div style=\"margin-bottom: 20px;\">\n",
              "            <div style=\"width: 24px; height: 24px; background-color: #DBF5FF; border: 3px solid #4CC9FF; border-radius: 5px; position: absolute;\"> </div>\n",
              "            <div style=\"margin-left: 48px;\">\n",
              "            <details>\n",
              "                <summary>\n",
              "                    <h4 style=\"margin-bottom: 0px; display: inline;\">Worker: 31</h4>\n",
              "                </summary>\n",
              "                <table style=\"width: 100%; text-align: left;\">\n",
              "                    <tr>\n",
              "                        <td style=\"text-align: left;\">\n",
              "                            <strong>Comm: </strong> tcp://127.0.0.1:42643\n",
              "                        </td>\n",
              "                        <td style=\"text-align: left;\">\n",
              "                            <strong>Total threads: </strong> 3\n",
              "                        </td>\n",
              "                    </tr>\n",
              "                    <tr>\n",
              "                        <td style=\"text-align: left;\">\n",
              "                            <strong>Dashboard: </strong> <a href=\"http://127.0.0.1:46497/status\" target=\"_blank\">http://127.0.0.1:46497/status</a>\n",
              "                        </td>\n",
              "                        <td style=\"text-align: left;\">\n",
              "                            <strong>Memory: </strong> 10.46 GiB\n",
              "                        </td>\n",
              "                    </tr>\n",
              "                    <tr>\n",
              "                        <td style=\"text-align: left;\">\n",
              "                            <strong>Nanny: </strong> tcp://127.0.0.1:36327\n",
              "                        </td>\n",
              "                        <td style=\"text-align: left;\"></td>\n",
              "                    </tr>\n",
              "                    <tr>\n",
              "                        <td colspan=\"2\" style=\"text-align: left;\">\n",
              "                            <strong>Local directory: </strong> /tmp/dask-scratch-space/worker-dh0uhp2f\n",
              "                        </td>\n",
              "                    </tr>\n",
              "\n",
              "                    \n",
              "\n",
              "                    \n",
              "\n",
              "                </table>\n",
              "            </details>\n",
              "            </div>\n",
              "        </div>\n",
              "        \n",
              "\n",
              "    </details>\n",
              "</div>\n",
              "\n",
              "        </details>\n",
              "    </div>\n",
              "</div>\n",
              "            </details>\n",
              "        \n",
              "\n",
              "    </div>\n",
              "</div>"
            ],
            "text/plain": [
              "<Client: 'tcp://127.0.0.1:41879' processes=32 threads=96, memory=334.56 GiB>"
            ]
          },
          "execution_count": 41,
          "metadata": {},
          "output_type": "execute_result"
        }
      ],
      "source": [
        "from dask.distributed import Client\n",
        "client = Client(n_workers=32)\n",
        "client"
      ]
    },
    {
      "cell_type": "code",
      "execution_count": null,
      "metadata": {
        "id": "JUgVaYr_bKe1"
      },
      "outputs": [],
      "source": [
        "import joblib"
      ]
    },
    {
      "cell_type": "code",
      "execution_count": null,
      "metadata": {
        "colab": {
          "base_uri": "https://localhost:8080/"
        },
        "id": "AxrXdpLobKhl",
        "outputId": "9c197977-1f95-4c51-c501-e6023b0732fa"
      },
      "outputs": [
        {
          "data": {
            "text/plain": [
              "2321756    1\n",
              "54653      0\n",
              "2110397    1\n",
              "2387704    1\n",
              "781072     0\n",
              "          ..\n",
              "1106227    0\n",
              "1525776    1\n",
              "1439802    1\n",
              "2484501    1\n",
              "1613617    1\n",
              "Name: pha, Length: 2095112, dtype: int64"
            ]
          },
          "execution_count": 38,
          "metadata": {},
          "output_type": "execute_result"
        }
      ],
      "source": [
        "y_train = y_train.squeeze()\n",
        "y_train"
      ]
    },
    {
      "cell_type": "code",
      "execution_count": null,
      "metadata": {
        "colab": {
          "base_uri": "https://localhost:8080/"
        },
        "id": "k5HPGscCbKkE",
        "outputId": "bb8e2832-a043-4418-ba64-eff69aa9dbe1"
      },
      "outputs": [
        {
          "name": "stderr",
          "output_type": "stream",
          "text": [
            "INFO:distributed.scheduler:Receive client connection: Client-worker-2e3c689c-35db-11ef-a84f-0242ac1c000c\n",
            "INFO:distributed.core:Starting established connection to tcp://127.0.0.1:49204\n",
            "INFO:distributed.scheduler:Receive client connection: Client-worker-2e3ea988-35db-11ef-a831-0242ac1c000c\n",
            "INFO:distributed.core:Starting established connection to tcp://127.0.0.1:49214\n",
            "INFO:distributed.scheduler:Receive client connection: Client-worker-2ea10589-35db-11ef-a823-0242ac1c000c\n",
            "INFO:distributed.core:Starting established connection to tcp://127.0.0.1:49218\n",
            "INFO:distributed.scheduler:Receive client connection: Client-worker-2ea5b577-35db-11ef-a81d-0242ac1c000c\n",
            "INFO:distributed.core:Starting established connection to tcp://127.0.0.1:49228\n",
            "INFO:distributed.scheduler:Receive client connection: Client-worker-2eaf83e3-35db-11ef-a829-0242ac1c000c\n",
            "INFO:distributed.core:Starting established connection to tcp://127.0.0.1:49232\n",
            "INFO:distributed.scheduler:Receive client connection: Client-worker-2eafb5d7-35db-11ef-a871-0242ac1c000c\n",
            "INFO:distributed.core:Starting established connection to tcp://127.0.0.1:49236\n",
            "INFO:distributed.scheduler:Receive client connection: Client-worker-2eb48cc9-35db-11ef-a83b-0242ac1c000c\n",
            "INFO:distributed.core:Starting established connection to tcp://127.0.0.1:49240\n",
            "INFO:distributed.scheduler:Receive client connection: Client-worker-2ebe0b89-35db-11ef-a7f6-0242ac1c000c\n",
            "INFO:distributed.core:Starting established connection to tcp://127.0.0.1:49258\n",
            "INFO:distributed.scheduler:Receive client connection: Client-worker-2ebef57c-35db-11ef-a846-0242ac1c000c\n",
            "INFO:distributed.core:Starting established connection to tcp://127.0.0.1:49252\n",
            "INFO:distributed.scheduler:Receive client connection: Client-worker-2ebecd45-35db-11ef-a843-0242ac1c000c\n",
            "INFO:distributed.core:Starting established connection to tcp://127.0.0.1:49260\n",
            "INFO:distributed.scheduler:Receive client connection: Client-worker-2ec314a0-35db-11ef-a82f-0242ac1c000c\n",
            "INFO:distributed.core:Starting established connection to tcp://127.0.0.1:49296\n",
            "INFO:distributed.scheduler:Receive client connection: Client-worker-2ec1dd01-35db-11ef-a80d-0242ac1c000c\n",
            "INFO:distributed.core:Starting established connection to tcp://127.0.0.1:49280\n",
            "INFO:distributed.scheduler:Receive client connection: Client-worker-2ec21387-35db-11ef-a809-0242ac1c000c\n",
            "INFO:distributed.core:Starting established connection to tcp://127.0.0.1:49266\n",
            "INFO:distributed.scheduler:Receive client connection: Client-worker-2ec54a66-35db-11ef-a85b-0242ac1c000c\n",
            "INFO:distributed.core:Starting established connection to tcp://127.0.0.1:49306\n",
            "INFO:distributed.scheduler:Receive client connection: Client-worker-2ec625cf-35db-11ef-a813-0242ac1c000c\n",
            "INFO:distributed.core:Starting established connection to tcp://127.0.0.1:49322\n",
            "INFO:distributed.scheduler:Receive client connection: Client-worker-2ecb8a76-35db-11ef-a7fa-0242ac1c000c\n",
            "INFO:distributed.core:Starting established connection to tcp://127.0.0.1:49332\n",
            "INFO:distributed.scheduler:Receive client connection: Client-worker-2ecbd75a-35db-11ef-a86c-0242ac1c000c\n",
            "INFO:distributed.core:Starting established connection to tcp://127.0.0.1:49338\n",
            "INFO:distributed.scheduler:Receive client connection: Client-worker-2ecca0a8-35db-11ef-a817-0242ac1c000c\n",
            "INFO:distributed.core:Starting established connection to tcp://127.0.0.1:49340\n",
            "INFO:distributed.scheduler:Receive client connection: Client-worker-2ed32d17-35db-11ef-a7fe-0242ac1c000c\n",
            "INFO:distributed.core:Starting established connection to tcp://127.0.0.1:49342\n",
            "INFO:distributed.scheduler:Receive client connection: Client-worker-2ed3fb23-35db-11ef-a84b-0242ac1c000c\n",
            "INFO:distributed.core:Starting established connection to tcp://127.0.0.1:49356\n",
            "INFO:distributed.scheduler:Receive client connection: Client-worker-2ed40b0f-35db-11ef-a868-0242ac1c000c\n",
            "INFO:distributed.core:Starting established connection to tcp://127.0.0.1:49348\n",
            "INFO:distributed.scheduler:Receive client connection: Client-worker-2ed5c2bd-35db-11ef-a837-0242ac1c000c\n",
            "INFO:distributed.core:Starting established connection to tcp://127.0.0.1:49364\n",
            "INFO:distributed.scheduler:Receive client connection: Client-worker-2ed754e9-35db-11ef-a862-0242ac1c000c\n",
            "INFO:distributed.core:Starting established connection to tcp://127.0.0.1:49370\n",
            "INFO:distributed.scheduler:Receive client connection: Client-worker-2edb65f1-35db-11ef-a86f-0242ac1c000c\n",
            "INFO:distributed.core:Starting established connection to tcp://127.0.0.1:49374\n",
            "INFO:distributed.scheduler:Receive client connection: Client-worker-2edd8ad5-35db-11ef-a802-0242ac1c000c\n",
            "INFO:distributed.core:Starting established connection to tcp://127.0.0.1:49376\n",
            "INFO:distributed.scheduler:Receive client connection: Client-worker-2edda5d3-35db-11ef-a7f2-0242ac1c000c\n",
            "INFO:distributed.core:Starting established connection to tcp://127.0.0.1:49390\n",
            "INFO:distributed.scheduler:Receive client connection: Client-worker-2ee4cc8f-35db-11ef-a85f-0242ac1c000c\n",
            "INFO:distributed.core:Starting established connection to tcp://127.0.0.1:49400\n",
            "INFO:distributed.scheduler:Receive client connection: Client-worker-2ee31558-35db-11ef-a81a-0242ac1c000c\n",
            "INFO:distributed.core:Starting established connection to tcp://127.0.0.1:49392\n",
            "INFO:distributed.scheduler:Receive client connection: Client-worker-2ee7f488-35db-11ef-a828-0242ac1c000c\n",
            "INFO:distributed.core:Starting established connection to tcp://127.0.0.1:49402\n",
            "INFO:distributed.scheduler:Receive client connection: Client-worker-2efda963-35db-11ef-a806-0242ac1c000c\n",
            "INFO:distributed.core:Starting established connection to tcp://127.0.0.1:49442\n",
            "INFO:distributed.scheduler:Receive client connection: Client-worker-2f029cdb-35db-11ef-a852-0242ac1c000c\n",
            "INFO:distributed.core:Starting established connection to tcp://127.0.0.1:49458\n",
            "INFO:distributed.scheduler:Receive client connection: Client-worker-2f3a5e22-35db-11ef-a855-0242ac1c000c\n",
            "INFO:distributed.core:Starting established connection to tcp://127.0.0.1:49466\n"
          ]
        }
      ],
      "source": [
        "rf = RandomForestClassifier()\n",
        "with joblib.parallel_backend(\"dask\", scatter=[X_train,y_train]):\n",
        "    rf.fit(X_train,y_train)\n",
        "y_pred = rf.predict(X_test)"
      ]
    },
    {
      "cell_type": "code",
      "execution_count": null,
      "metadata": {
        "colab": {
          "base_uri": "https://localhost:8080/"
        },
        "id": "z2BJ8GcMbKmr",
        "outputId": "018043e0-ccc2-4454-8556-487c87dae58b"
      },
      "outputs": [
        {
          "data": {
            "text/plain": [
              "0.9999751803718744"
            ]
          },
          "execution_count": 23,
          "metadata": {},
          "output_type": "execute_result"
        }
      ],
      "source": [
        "accuracy_score(y_test,y_pred)"
      ]
    },
    {
      "cell_type": "code",
      "execution_count": null,
      "metadata": {
        "colab": {
          "base_uri": "https://localhost:8080/"
        },
        "id": "dupL37TKbKpR",
        "outputId": "4e7392b2-c5a3-4496-d1be-3bb3db61f1f1"
      },
      "outputs": [
        {
          "data": {
            "text/plain": [
              "array([[262404,     13],\n",
              "       [     0, 261362]])"
            ]
          },
          "execution_count": 24,
          "metadata": {},
          "output_type": "execute_result"
        }
      ],
      "source": [
        "confusion_matrix(y_test,y_pred)"
      ]
    },
    {
      "cell_type": "code",
      "execution_count": null,
      "metadata": {
        "id": "0LGYrhf6b-J6"
      },
      "outputs": [],
      "source": [
        "from imblearn.metrics import classification_report_imbalanced"
      ]
    },
    {
      "cell_type": "code",
      "execution_count": null,
      "metadata": {
        "colab": {
          "base_uri": "https://localhost:8080/"
        },
        "id": "CbmAyDmqbKsG",
        "outputId": "063a1246-e9ec-42f7-8ae3-5ed035d6c69b"
      },
      "outputs": [
        {
          "name": "stdout",
          "output_type": "stream",
          "text": [
            "                   pre       rec       spe        f1       geo       iba       sup\n",
            "\n",
            "          0       1.00      1.00      1.00      1.00      1.00      1.00    262417\n",
            "          1       1.00      1.00      1.00      1.00      1.00      1.00    261362\n",
            "\n",
            "avg / total       1.00      1.00      1.00      1.00      1.00      1.00    523779\n",
            "\n"
          ]
        }
      ],
      "source": [
        "print(classification_report_imbalanced(y_test,y_pred))"
      ]
    },
    {
      "cell_type": "code",
      "execution_count": null,
      "metadata": {
        "colab": {
          "base_uri": "https://localhost:8080/"
        },
        "id": "91Q7MzETbKvB",
        "outputId": "2f110588-1c79-4fd7-a66b-591d889bf268"
      },
      "outputs": [
        {
          "name": "stdout",
          "output_type": "stream",
          "text": [
            "(array([0.99995046, 1.        ]), array([1.        , 0.99995046]), array([262417, 261362]))\n"
          ]
        }
      ],
      "source": [
        "print(sensitivity_specificity_support(y_test, y_pred))"
      ]
    },
    {
      "cell_type": "code",
      "execution_count": null,
      "metadata": {
        "id": "YQJGESJJbKxz"
      },
      "outputs": [],
      "source": [
        "from sklearn.model_selection import RandomizedSearchCV\n",
        "\n",
        "model = RandomForestClassifier()\n",
        "\n",
        "param_grid = {\n",
        "    'n_estimators': [100, 200, 300, 500],\n",
        "    'max_depth': [None, 20, 30, 50]\n",
        "}\n",
        "\n",
        "rand = RandomizedSearchCV(model, param_grid, cv=5, scoring='accuracy', n_jobs=-1)"
      ]
    },
    {
      "cell_type": "code",
      "execution_count": null,
      "metadata": {
        "colab": {
          "base_uri": "https://localhost:8080/"
        },
        "id": "QdeusFIgbu7m",
        "outputId": "d838397e-76a4-42eb-f475-109244dc83e5"
      },
      "outputs": [
        {
          "name": "stderr",
          "output_type": "stream",
          "text": [
            "INFO:distributed.scheduler:Receive client connection: Client-worker-39608523-35e1-11ef-a7bf-0242ac1c000c\n",
            "INFO:distributed.core:Starting established connection to tcp://127.0.0.1:35322\n",
            "INFO:distributed.scheduler:Receive client connection: Client-worker-39639109-35e1-11ef-a7ec-0242ac1c000c\n",
            "INFO:distributed.core:Starting established connection to tcp://127.0.0.1:35336\n",
            "INFO:distributed.scheduler:Receive client connection: Client-worker-396172e4-35e1-11ef-a798-0242ac1c000c\n",
            "INFO:distributed.core:Starting established connection to tcp://127.0.0.1:35324\n",
            "INFO:distributed.scheduler:Receive client connection: Client-worker-39643fff-35e1-11ef-a7f0-0242ac1c000c\n",
            "INFO:distributed.core:Starting established connection to tcp://127.0.0.1:35350\n",
            "INFO:distributed.scheduler:Receive client connection: Client-worker-3965ecea-35e1-11ef-a7d1-0242ac1c000c\n",
            "INFO:distributed.core:Starting established connection to tcp://127.0.0.1:35364\n",
            "INFO:distributed.scheduler:Receive client connection: Client-worker-396771f2-35e1-11ef-a7c3-0242ac1c000c\n",
            "INFO:distributed.core:Starting established connection to tcp://127.0.0.1:35366\n",
            "INFO:distributed.scheduler:Receive client connection: Client-worker-39680cfb-35e1-11ef-a7f5-0242ac1c000c\n",
            "INFO:distributed.core:Starting established connection to tcp://127.0.0.1:35374\n",
            "INFO:distributed.scheduler:Receive client connection: Client-worker-396aaf84-35e1-11ef-a804-0242ac1c000c\n",
            "INFO:distributed.core:Starting established connection to tcp://127.0.0.1:35380\n",
            "INFO:distributed.scheduler:Receive client connection: Client-worker-39697d19-35e1-11ef-a7cb-0242ac1c000c\n",
            "INFO:distributed.core:Starting established connection to tcp://127.0.0.1:35388\n",
            "INFO:distributed.scheduler:Receive client connection: Client-worker-396b98ef-35e1-11ef-a7fc-0242ac1c000c\n",
            "INFO:distributed.core:Starting established connection to tcp://127.0.0.1:35386\n",
            "INFO:distributed.scheduler:Receive client connection: Client-worker-396c714d-35e1-11ef-a7e9-0242ac1c000c\n",
            "INFO:distributed.core:Starting established connection to tcp://127.0.0.1:35404\n",
            "INFO:distributed.scheduler:Receive client connection: Client-worker-396cc038-35e1-11ef-a7e5-0242ac1c000c\n",
            "INFO:distributed.core:Starting established connection to tcp://127.0.0.1:35420\n",
            "INFO:distributed.scheduler:Receive client connection: Client-worker-396d04e8-35e1-11ef-a7d3-0242ac1c000c\n",
            "INFO:distributed.core:Starting established connection to tcp://127.0.0.1:35436\n",
            "INFO:distributed.scheduler:Receive client connection: Client-worker-396d94a0-35e1-11ef-a7af-0242ac1c000c\n",
            "INFO:distributed.core:Starting established connection to tcp://127.0.0.1:35444\n",
            "INFO:distributed.scheduler:Receive client connection: Client-worker-396e1e25-35e1-11ef-a809-0242ac1c000c\n",
            "INFO:distributed.core:Starting established connection to tcp://127.0.0.1:35456\n",
            "INFO:distributed.scheduler:Receive client connection: Client-worker-3970ff9c-35e1-11ef-a80f-0242ac1c000c\n",
            "INFO:distributed.core:Starting established connection to tcp://127.0.0.1:35472\n",
            "INFO:distributed.scheduler:Receive client connection: Client-worker-39705488-35e1-11ef-a7a8-0242ac1c000c\n",
            "INFO:distributed.core:Starting established connection to tcp://127.0.0.1:35460\n",
            "INFO:distributed.scheduler:Receive client connection: Client-worker-39724626-35e1-11ef-a7f8-0242ac1c000c\n",
            "INFO:distributed.core:Starting established connection to tcp://127.0.0.1:35498\n",
            "INFO:distributed.scheduler:Receive client connection: Client-worker-39727c8d-35e1-11ef-a7c7-0242ac1c000c\n",
            "INFO:distributed.core:Starting established connection to tcp://127.0.0.1:35522\n",
            "INFO:distributed.scheduler:Receive client connection: Client-worker-3974088b-35e1-11ef-a7b7-0242ac1c000c\n",
            "INFO:distributed.core:Starting established connection to tcp://127.0.0.1:35526\n",
            "INFO:distributed.scheduler:Receive client connection: Client-worker-3967ec6e-35e1-11ef-a7d8-0242ac1c000c\n",
            "INFO:distributed.core:Starting established connection to tcp://127.0.0.1:35376\n",
            "INFO:distributed.scheduler:Receive client connection: Client-worker-3975ea96-35e1-11ef-a793-0242ac1c000c\n",
            "INFO:distributed.core:Starting established connection to tcp://127.0.0.1:35552\n",
            "INFO:distributed.scheduler:Receive client connection: Client-worker-3976971d-35e1-11ef-a78f-0242ac1c000c\n",
            "INFO:distributed.core:Starting established connection to tcp://127.0.0.1:35578\n",
            "INFO:distributed.scheduler:Receive client connection: Client-worker-3978e3a9-35e1-11ef-a7ad-0242ac1c000c\n",
            "INFO:distributed.core:Starting established connection to tcp://127.0.0.1:35586\n",
            "INFO:distributed.scheduler:Receive client connection: Client-worker-39774a34-35e1-11ef-a80c-0242ac1c000c\n",
            "INFO:distributed.core:Starting established connection to tcp://127.0.0.1:35584\n",
            "INFO:distributed.scheduler:Receive client connection: Client-worker-396fa0a3-35e1-11ef-a7a0-0242ac1c000c\n",
            "INFO:distributed.core:Starting established connection to tcp://127.0.0.1:35524\n",
            "INFO:distributed.scheduler:Receive client connection: Client-worker-3971323a-35e1-11ef-a79b-0242ac1c000c\n",
            "INFO:distributed.core:Starting established connection to tcp://127.0.0.1:35488\n",
            "INFO:distributed.scheduler:Receive client connection: Client-worker-397625f5-35e1-11ef-a7bc-0242ac1c000c\n",
            "INFO:distributed.core:Starting established connection to tcp://127.0.0.1:35568\n",
            "INFO:distributed.scheduler:Receive client connection: Client-worker-39752072-35e1-11ef-a800-0242ac1c000c\n",
            "INFO:distributed.core:Starting established connection to tcp://127.0.0.1:35540\n",
            "INFO:distributed.scheduler:Receive client connection: Client-worker-3979e70f-35e1-11ef-a7a4-0242ac1c000c\n",
            "INFO:distributed.core:Starting established connection to tcp://127.0.0.1:35588\n",
            "INFO:distributed.scheduler:Receive client connection: Client-worker-3980c1b6-35e1-11ef-a7e0-0242ac1c000c\n",
            "INFO:distributed.core:Starting established connection to tcp://127.0.0.1:35600\n",
            "INFO:distributed.scheduler:Receive client connection: Client-worker-39705d7d-35e1-11ef-a7b5-0242ac1c000c\n",
            "INFO:distributed.core:Starting established connection to tcp://127.0.0.1:35514\n"
          ]
        }
      ],
      "source": [
        "with joblib.parallel_backend(\"dask\", scatter=[X_train,y_train]):\n",
        "    rand.fit(X_train,y_train)"
      ]
    },
    {
      "cell_type": "code",
      "execution_count": null,
      "metadata": {
        "colab": {
          "base_uri": "https://localhost:8080/"
        },
        "id": "qmmtzMquaK8u",
        "outputId": "370408fb-827f-4b30-b323-c5b3ac44d5f7"
      },
      "outputs": [
        {
          "data": {
            "text/plain": [
              "{'n_estimators': 200, 'max_depth': 30}"
            ]
          },
          "execution_count": 28,
          "metadata": {},
          "output_type": "execute_result"
        }
      ],
      "source": [
        "rand.best_params_"
      ]
    },
    {
      "cell_type": "code",
      "execution_count": null,
      "metadata": {
        "colab": {
          "base_uri": "https://localhost:8080/"
        },
        "id": "LPkyxVDtaK_a",
        "outputId": "221f20d9-5cd6-4fec-8164-99f0657a89c7"
      },
      "outputs": [
        {
          "data": {
            "text/plain": [
              "0.9999670661945625"
            ]
          },
          "execution_count": 29,
          "metadata": {},
          "output_type": "execute_result"
        }
      ],
      "source": [
        "rand.best_score_"
      ]
    },
    {
      "cell_type": "code",
      "execution_count": null,
      "metadata": {
        "id": "mj4J37A0b2J3"
      },
      "outputs": [],
      "source": [
        "##Training with best parameters\n",
        "rfbest = RandomForestClassifier(n_estimators= 200, max_depth= 30)\n",
        "with joblib.parallel_backend(\"dask\", scatter=[X_train,y_train]):\n",
        "    rfbest.fit(X_train,y_train)"
      ]
    },
    {
      "cell_type": "code",
      "execution_count": null,
      "metadata": {
        "id": "zGoShkzsb2Mw"
      },
      "outputs": [],
      "source": [
        "y_pred = rfbest.predict(X_test)"
      ]
    },
    {
      "cell_type": "code",
      "execution_count": null,
      "metadata": {
        "colab": {
          "base_uri": "https://localhost:8080/"
        },
        "id": "Z-M5Jmqjb2PP",
        "outputId": "70e491d3-0487-4550-c9d6-95e42c008ba1"
      },
      "outputs": [
        {
          "name": "stdout",
          "output_type": "stream",
          "text": [
            "                   pre       rec       spe        f1       geo       iba       sup\n",
            "\n",
            "          0       1.00      1.00      1.00      1.00      1.00      1.00    262417\n",
            "          1       1.00      1.00      1.00      1.00      1.00      1.00    261362\n",
            "\n",
            "avg / total       1.00      1.00      1.00      1.00      1.00      1.00    523779\n",
            "\n"
          ]
        }
      ],
      "source": [
        "print(classification_report_imbalanced(y_test,y_pred))"
      ]
    },
    {
      "cell_type": "code",
      "execution_count": null,
      "metadata": {
        "colab": {
          "base_uri": "https://localhost:8080/",
          "height": 449
        },
        "id": "DoF9mPQhb2Rr",
        "outputId": "e042ffd8-7ccc-4f1f-c93e-829000ce4281"
      },
      "outputs": [
        {
          "data": {
            "image/png": "[encoded data removed]",
            "text/plain": [
              "<Figure size 640x480 with 2 Axes>"
            ]
          },
          "metadata": {},
          "output_type": "display_data"
        }
      ],
      "source": [
        "##Plotting Confusion matrix\n",
        "\n",
        "cm = confusion_matrix(y_test, y_pred, labels=rfbest.classes_)\n",
        "disp = ConfusionMatrixDisplay(confusion_matrix=cm,\n",
        "                              display_labels=rfbest.classes_)\n",
        "disp.plot()\n",
        "plt.show()"
      ]
    },
    {
      "cell_type": "code",
      "execution_count": null,
      "metadata": {
        "colab": {
          "base_uri": "https://localhost:8080/",
          "height": 472
        },
        "id": "0Wnbj1SJb2UG",
        "outputId": "5d05beda-4c97-4dc8-b22d-9bc04b79132f"
      },
      "outputs": [
        {
          "data": {
            "image/png": "[encoded data removed]",
            "text/plain": [
              "<Figure size 640x480 with 1 Axes>"
            ]
          },
          "metadata": {},
          "output_type": "display_data"
        }
      ],
      "source": [
        "##Plotting ROC Curve\n",
        "\n",
        "ax = plt.gca()\n",
        "roc_display = RocCurveDisplay.from_estimator(rfbest, X_test, y_test, ax=ax, alpha=0.8)\n",
        "plt.title('Receiver Operating Characteristic (ROC) Curve')\n",
        "plt.show()"
      ]
    },
    {
      "cell_type": "code",
      "execution_count": null,
      "metadata": {
        "colab": {
          "base_uri": "https://localhost:8080/"
        },
        "id": "aEbEXH1Fb2Ws",
        "outputId": "097dd564-500f-45ab-cc4b-8d8f0eeed7f5"
      },
      "outputs": [
        {
          "name": "stdout",
          "output_type": "stream",
          "text": [
            "(0.9999771356276461, 0.9999771356276461, None)\n"
          ]
        }
      ],
      "source": [
        "print(sensitivity_specificity_support(y_test, y_pred, average='macro'))"
      ]
    },
    {
      "cell_type": "code",
      "execution_count": null,
      "metadata": {
        "colab": {
          "base_uri": "https://localhost:8080/"
        },
        "id": "x8pDkJ1gb2ZM",
        "outputId": "7c85b44e-779e-4f46-ba71-9c915c368228"
      },
      "outputs": [
        {
          "name": "stdout",
          "output_type": "stream",
          "text": [
            "(0.9999770895740379, 0.9999770895740379, None)\n"
          ]
        }
      ],
      "source": [
        "print(sensitivity_specificity_support(y_test, y_pred, average='micro'))"
      ]
    },
    {
      "cell_type": "code",
      "execution_count": null,
      "metadata": {
        "colab": {
          "base_uri": "https://localhost:8080/"
        },
        "id": "2C8TeHXIb2by",
        "outputId": "67bd796d-7495-48b5-f637-ef462d14a0d5"
      },
      "outputs": [
        {
          "name": "stdout",
          "output_type": "stream",
          "text": [
            "(0.9999770895740379, 0.9999771816812543, None)\n"
          ]
        }
      ],
      "source": [
        "print(sensitivity_specificity_support(y_test, y_pred, average='weighted'))"
      ]
    },
    {
      "cell_type": "markdown",
      "source": [
        "# Training with XGBoost"
      ],
      "metadata": {
        "id": "GGUqSgKO0oEe"
      }
    },
    {
      "cell_type": "code",
      "execution_count": null,
      "metadata": {
        "id": "PjfQ34dtb2ec"
      },
      "outputs": [],
      "source": [
        "xgb = XGBClassifier()\n",
        "with joblib.parallel_backend(\"dask\", scatter=[X_train,y_train]):\n",
        "    xgb.fit(X_train,y_train)"
      ]
    },
    {
      "cell_type": "code",
      "execution_count": null,
      "metadata": {
        "id": "ljyDj7EIb2hE"
      },
      "outputs": [],
      "source": [
        "y_pred = xgb.predict(X_test)"
      ]
    },
    {
      "cell_type": "code",
      "execution_count": null,
      "metadata": {
        "colab": {
          "base_uri": "https://localhost:8080/"
        },
        "id": "nncYm6xUb2j1",
        "outputId": "9b08e18e-93f8-4e84-fc1c-5588ddf190fb"
      },
      "outputs": [
        {
          "data": {
            "text/plain": [
              "0.9999369963286042"
            ]
          },
          "execution_count": 41,
          "metadata": {},
          "output_type": "execute_result"
        }
      ],
      "source": [
        "accuracy_score(y_test,y_pred)"
      ]
    },
    {
      "cell_type": "code",
      "execution_count": null,
      "metadata": {
        "colab": {
          "base_uri": "https://localhost:8080/"
        },
        "id": "VGpBFH9zb2m2",
        "outputId": "307e5c7c-f487-4b37-e585-d4daba43279b"
      },
      "outputs": [
        {
          "data": {
            "text/plain": [
              "array([[262384,     33],\n",
              "       [     0, 261362]])"
            ]
          },
          "execution_count": 42,
          "metadata": {},
          "output_type": "execute_result"
        }
      ],
      "source": [
        "confusion_matrix(y_test,y_pred)"
      ]
    },
    {
      "cell_type": "code",
      "execution_count": null,
      "metadata": {
        "colab": {
          "base_uri": "https://localhost:8080/"
        },
        "id": "y4lhHjv_cN9Q",
        "outputId": "bceae492-3beb-4584-aa4d-ec372f2004de"
      },
      "outputs": [
        {
          "data": {
            "text/plain": [
              "0.9999371229760268"
            ]
          },
          "execution_count": 43,
          "metadata": {},
          "output_type": "execute_result"
        }
      ],
      "source": [
        "roc_auc_score(y_test,y_pred)"
      ]
    },
    {
      "cell_type": "code",
      "execution_count": null,
      "metadata": {
        "id": "IHsF7ZiZcN6R"
      },
      "outputs": [],
      "source": [
        "from sklearn.model_selection import RandomizedSearchCV\n",
        "xgb = XGBClassifier()\n",
        "param_grid = {\n",
        "    'objective' : [None, 'binary:logistic', 'binary:hinge'],\n",
        "    'max_depth': [None, 20, 30, 50],\n",
        "    'eta' : [0.0001, 0.001, 0.01, 0.1, 1],\n",
        "    'tree_method' : ['auto', 'exact']\n",
        "}\n",
        "\n",
        "rand2 = RandomizedSearchCV(xgb, param_grid, cv=5, scoring='accuracy', n_jobs=-1)"
      ]
    },
    {
      "cell_type": "code",
      "execution_count": null,
      "metadata": {
        "id": "5IZ0PD88cN3n"
      },
      "outputs": [],
      "source": [
        "with joblib.parallel_backend(\"dask\", scatter=[X_train,y_train]):\n",
        "    rand2.fit(X_train,y_train)"
      ]
    },
    {
      "cell_type": "code",
      "execution_count": null,
      "metadata": {
        "colab": {
          "base_uri": "https://localhost:8080/"
        },
        "id": "r3NHVodvcN1F",
        "outputId": "6d004e53-02ad-4a85-8548-cef83ef05bb5"
      },
      "outputs": [
        {
          "data": {
            "text/plain": [
              "{'tree_method': 'exact',\n",
              " 'objective': 'binary:logistic',\n",
              " 'max_depth': 50,\n",
              " 'eta': 1}"
            ]
          },
          "execution_count": 46,
          "metadata": {},
          "output_type": "execute_result"
        }
      ],
      "source": [
        "rand2.best_params_"
      ]
    },
    {
      "cell_type": "code",
      "execution_count": null,
      "metadata": {
        "colab": {
          "base_uri": "https://localhost:8080/"
        },
        "id": "NvLSy_03cNya",
        "outputId": "b4b87205-3b8c-46b7-ba5c-a5aaeb6e54dd"
      },
      "outputs": [
        {
          "data": {
            "text/plain": [
              "0.9999680207960999"
            ]
          },
          "execution_count": 47,
          "metadata": {},
          "output_type": "execute_result"
        }
      ],
      "source": [
        "rand2.best_score_"
      ]
    },
    {
      "cell_type": "code",
      "execution_count": null,
      "metadata": {
        "id": "LenD-SLPcNv1"
      },
      "outputs": [],
      "source": [
        "##Training with best parameters\n",
        "xgbest = XGBClassifier(tree_method='exact',\n",
        " objective= 'binary:logistic',\n",
        " max_depth=50,\n",
        " eta=1)\n",
        "xgbest.fit(X_train,y_train)\n",
        "y_pred = xgbest.predict(X_test)"
      ]
    },
    {
      "cell_type": "code",
      "execution_count": null,
      "metadata": {
        "colab": {
          "base_uri": "https://localhost:8080/"
        },
        "id": "hiLvgbtjcNte",
        "outputId": "718c4d27-5035-4ccf-d0a7-fc2760b4eb1c"
      },
      "outputs": [
        {
          "name": "stdout",
          "output_type": "stream",
          "text": [
            "                   pre       rec       spe        f1       geo       iba       sup\n",
            "\n",
            "          0       1.00      1.00      1.00      1.00      1.00      1.00    262417\n",
            "          1       1.00      1.00      1.00      1.00      1.00      1.00    261362\n",
            "\n",
            "avg / total       1.00      1.00      1.00      1.00      1.00      1.00    523779\n",
            "\n"
          ]
        }
      ],
      "source": [
        "print(classification_report_imbalanced(y_test,y_pred))"
      ]
    },
    {
      "cell_type": "code",
      "execution_count": null,
      "metadata": {
        "colab": {
          "base_uri": "https://localhost:8080/",
          "height": 449
        },
        "id": "fqYcWVvkcNqn",
        "outputId": "3c4b37c3-04c3-4599-ea3a-a51a863b2150"
      },
      "outputs": [
        {
          "data": {
            "image/png": "[encoded data removed]",
            "text/plain": [
              "<Figure size 640x480 with 2 Axes>"
            ]
          },
          "metadata": {},
          "output_type": "display_data"
        }
      ],
      "source": [
        "##Plotting Confusion matrix\n",
        "\n",
        "cm = confusion_matrix(y_test, y_pred, labels=xgbest.classes_)\n",
        "disp = ConfusionMatrixDisplay(confusion_matrix=cm,\n",
        "                              display_labels=xgbest.classes_)\n",
        "disp.plot()\n",
        "plt.show()"
      ]
    },
    {
      "cell_type": "code",
      "execution_count": null,
      "metadata": {
        "colab": {
          "base_uri": "https://localhost:8080/",
          "height": 472
        },
        "id": "dPNRVEm1cNl8",
        "outputId": "73649a4c-6393-4501-82a2-b3d0f3e2f7e0"
      },
      "outputs": [
        {
          "data": {
            "image/png": "[encoded data removed]",
            "text/plain": [
              "<Figure size 640x480 with 1 Axes>"
            ]
          },
          "metadata": {},
          "output_type": "display_data"
        }
      ],
      "source": [
        "##Plotting ROC Curve\n",
        "\n",
        "ax = plt.gca()\n",
        "roc_display = RocCurveDisplay.from_estimator(xgbest, X_test, y_test, ax=ax, alpha=0.8)\n",
        "plt.title('Receiver Operating Characteristic (ROC) Curve')\n",
        "plt.show()"
      ]
    },
    {
      "cell_type": "code",
      "execution_count": null,
      "metadata": {
        "colab": {
          "base_uri": "https://localhost:8080/"
        },
        "id": "xEvOw0VAcNjQ",
        "outputId": "a857c9c2-019f-44fa-c497-94993dffec02"
      },
      "outputs": [
        {
          "name": "stdout",
          "output_type": "stream",
          "text": [
            "(array([0.99995808, 0.99999617]), array([0.99999617, 0.99995808]), array([262417, 261362]))\n"
          ]
        }
      ],
      "source": [
        "print(sensitivity_specificity_support(y_test, y_pred))"
      ]
    },
    {
      "cell_type": "code",
      "execution_count": null,
      "metadata": {
        "colab": {
          "base_uri": "https://localhost:8080/"
        },
        "id": "iCLgp1tTcNgo",
        "outputId": "5be7794e-326f-4f8f-ce8b-307293abf841"
      },
      "outputs": [
        {
          "name": "stdout",
          "output_type": "stream",
          "text": [
            "(0.9999771279365532, 0.9999771279365532, None)\n"
          ]
        }
      ],
      "source": [
        "print(sensitivity_specificity_support(y_test, y_pred, average='macro'))"
      ]
    },
    {
      "cell_type": "code",
      "execution_count": null,
      "metadata": {
        "colab": {
          "base_uri": "https://localhost:8080/"
        },
        "id": "fVX6RuBBcNeL",
        "outputId": "4891e8c8-4091-45e4-a45e-469902d22f21"
      },
      "outputs": [
        {
          "name": "stdout",
          "output_type": "stream",
          "text": [
            "(0.9999770895740379, 0.9999770895740379, None)\n"
          ]
        }
      ],
      "source": [
        "print(sensitivity_specificity_support(y_test, y_pred, average='micro'))"
      ]
    },
    {
      "cell_type": "code",
      "execution_count": null,
      "metadata": {
        "colab": {
          "base_uri": "https://localhost:8080/"
        },
        "id": "dy7iM6OHcNbx",
        "outputId": "11b4aa08-34ce-432b-f8e3-dbe6ebd21426"
      },
      "outputs": [
        {
          "name": "stdout",
          "output_type": "stream",
          "text": [
            "(0.9999770895740379, 0.9999771662990686, None)\n"
          ]
        }
      ],
      "source": [
        "print(sensitivity_specificity_support(y_test, y_pred, average='weighted'))"
      ]
    },
    {
      "cell_type": "code",
      "execution_count": null,
      "metadata": {
        "id": "-17FCUzVcycG"
      },
      "outputs": [],
      "source": []
    },
    {
      "cell_type": "markdown",
      "source": [
        "# Training with AdaBoost"
      ],
      "metadata": {
        "id": "bQMV-4AX08IB"
      }
    },
    {
      "cell_type": "code",
      "execution_count": null,
      "metadata": {
        "id": "p7nAbs-bdn-w"
      },
      "outputs": [],
      "source": [
        "abc = AdaBoostClassifier()\n",
        "abc.fit(X_train,y_train)\n",
        "y_pred = abc.predict(X_test)"
      ]
    },
    {
      "cell_type": "code",
      "execution_count": null,
      "metadata": {
        "colab": {
          "base_uri": "https://localhost:8080/"
        },
        "id": "-bMDzdo0dn7z",
        "outputId": "e4f89839-ab81-4f86-b033-e008821680f7"
      },
      "outputs": [
        {
          "data": {
            "text/plain": [
              "0.99989117547668"
            ]
          },
          "execution_count": 22,
          "metadata": {},
          "output_type": "execute_result"
        }
      ],
      "source": [
        "accuracy_score(y_test,y_pred)"
      ]
    },
    {
      "cell_type": "code",
      "execution_count": null,
      "metadata": {
        "colab": {
          "base_uri": "https://localhost:8080/"
        },
        "id": "W8tTUTS0eD3J",
        "outputId": "579a265a-25cd-4a70-f9a9-d225dc629dff"
      },
      "outputs": [
        {
          "data": {
            "text/plain": [
              "array([[262361,     56],\n",
              "       [     1, 261361]])"
            ]
          },
          "execution_count": 23,
          "metadata": {},
          "output_type": "execute_result"
        }
      ],
      "source": [
        "confusion_matrix(y_test,y_pred)"
      ]
    },
    {
      "cell_type": "code",
      "execution_count": null,
      "metadata": {
        "colab": {
          "base_uri": "https://localhost:8080/"
        },
        "id": "pdlRK1GPeDvv",
        "outputId": "b325983c-804a-4edd-92e9-7fb5d1c0b943"
      },
      "outputs": [
        {
          "data": {
            "text/plain": [
              "0.999891386540226"
            ]
          },
          "execution_count": 24,
          "metadata": {},
          "output_type": "execute_result"
        }
      ],
      "source": [
        "roc_auc_score(y_test,y_pred)"
      ]
    },
    {
      "cell_type": "code",
      "execution_count": null,
      "metadata": {
        "id": "CSJDaBRxeDtO"
      },
      "outputs": [],
      "source": [
        "abc = AdaBoostClassifier()\n",
        "param_grid = {\n",
        "    'n_estimators' : [100, 200, 300, 500],\n",
        "    'learning_rate' : [0.0001, 0.001, 0.01, 0.1, 1],\n",
        "}\n",
        "\n",
        "rand5 = RandomizedSearchCV(abc, param_grid, cv=5, scoring='accuracy', n_jobs=-1)"
      ]
    },
    {
      "cell_type": "code",
      "execution_count": null,
      "metadata": {
        "colab": {
          "base_uri": "https://localhost:8080/"
        },
        "id": "fzbyzvqyeDrE",
        "outputId": "b3a9038d-daae-40da-82d7-1f3535a1af30"
      },
      "outputs": [
        {
          "name": "stderr",
          "output_type": "stream",
          "text": [
            "INFO:distributed.scheduler:Receive client connection: Client-worker-3199bfe2-39bc-11ef-b591-0242ac1c000c\n",
            "INFO:distributed.core:Starting established connection to tcp://127.0.0.1:42720\n",
            "INFO:distributed.scheduler:Receive client connection: Client-worker-319bbed2-39bc-11ef-b5aa-0242ac1c000c\n",
            "INFO:distributed.core:Starting established connection to tcp://127.0.0.1:42736\n",
            "INFO:distributed.scheduler:Receive client connection: Client-worker-31af514a-39bc-11ef-b5cc-0242ac1c000c\n",
            "INFO:distributed.core:Starting established connection to tcp://127.0.0.1:42740\n",
            "INFO:distributed.scheduler:Receive client connection: Client-worker-31af6596-39bc-11ef-b574-0242ac1c000c\n",
            "INFO:distributed.core:Starting established connection to tcp://127.0.0.1:42750\n",
            "INFO:distributed.scheduler:Receive client connection: Client-worker-31af247d-39bc-11ef-b5b1-0242ac1c000c\n",
            "INFO:distributed.core:Starting established connection to tcp://127.0.0.1:42764\n",
            "INFO:distributed.scheduler:Receive client connection: Client-worker-31b1aa70-39bc-11ef-b5b5-0242ac1c000c\n",
            "INFO:distributed.core:Starting established connection to tcp://127.0.0.1:42772\n",
            "INFO:distributed.scheduler:Receive client connection: Client-worker-31b3ab44-39bc-11ef-b578-0242ac1c000c\n",
            "INFO:distributed.core:Starting established connection to tcp://127.0.0.1:42776\n",
            "INFO:distributed.scheduler:Receive client connection: Client-worker-31b2ad53-39bc-11ef-b594-0242ac1c000c\n",
            "INFO:distributed.core:Starting established connection to tcp://127.0.0.1:42802\n",
            "INFO:distributed.scheduler:Receive client connection: Client-worker-31b3cff1-39bc-11ef-b5ba-0242ac1c000c\n",
            "INFO:distributed.core:Starting established connection to tcp://127.0.0.1:42788\n",
            "INFO:distributed.scheduler:Receive client connection: Client-worker-31b40288-39bc-11ef-b5c1-0242ac1c000c\n",
            "INFO:distributed.core:Starting established connection to tcp://127.0.0.1:42818\n",
            "INFO:distributed.scheduler:Receive client connection: Client-worker-31b29198-39bc-11ef-b5d5-0242ac1c000c\n",
            "INFO:distributed.core:Starting established connection to tcp://127.0.0.1:42806\n",
            "INFO:distributed.scheduler:Receive client connection: Client-worker-31b45373-39bc-11ef-b5a6-0242ac1c000c\n",
            "INFO:distributed.core:Starting established connection to tcp://127.0.0.1:42822\n",
            "INFO:distributed.scheduler:Receive client connection: Client-worker-31b6916b-39bc-11ef-b5ca-0242ac1c000c\n",
            "INFO:distributed.core:Starting established connection to tcp://127.0.0.1:42838\n",
            "INFO:distributed.scheduler:Receive client connection: Client-worker-31b6ec7e-39bc-11ef-b5e1-0242ac1c000c\n",
            "INFO:distributed.core:Starting established connection to tcp://127.0.0.1:42840\n",
            "INFO:distributed.scheduler:Receive client connection: Client-worker-31b8429b-39bc-11ef-b5e4-0242ac1c000c\n",
            "INFO:distributed.core:Starting established connection to tcp://127.0.0.1:42858\n",
            "INFO:distributed.scheduler:Receive client connection: Client-worker-31b711dc-39bc-11ef-b5dd-0242ac1c000c\n",
            "INFO:distributed.core:Starting established connection to tcp://127.0.0.1:42844\n",
            "INFO:distributed.scheduler:Receive client connection: Client-worker-31b91246-39bc-11ef-b5ad-0242ac1c000c\n",
            "INFO:distributed.core:Starting established connection to tcp://127.0.0.1:42866\n",
            "INFO:distributed.scheduler:Receive client connection: Client-worker-31b90e3d-39bc-11ef-b5da-0242ac1c000c\n",
            "INFO:distributed.core:Starting established connection to tcp://127.0.0.1:42882\n",
            "INFO:distributed.scheduler:Receive client connection: Client-worker-31bd140e-39bc-11ef-b581-0242ac1c000c\n",
            "INFO:distributed.core:Starting established connection to tcp://127.0.0.1:42962\n",
            "INFO:distributed.scheduler:Receive client connection: Client-worker-31bb9f42-39bc-11ef-b58e-0242ac1c000c\n",
            "INFO:distributed.core:Starting established connection to tcp://127.0.0.1:42952\n",
            "INFO:distributed.scheduler:Receive client connection: Client-worker-31be1885-39bc-11ef-b59e-0242ac1c000c\n",
            "INFO:distributed.core:Starting established connection to tcp://127.0.0.1:42956\n",
            "INFO:distributed.scheduler:Receive client connection: Client-worker-31baab22-39bc-11ef-b584-0242ac1c000c\n",
            "INFO:distributed.core:Starting established connection to tcp://127.0.0.1:42934\n",
            "INFO:distributed.scheduler:Receive client connection: Client-worker-31b9ba25-39bc-11ef-b56c-0242ac1c000c\n",
            "INFO:distributed.core:Starting established connection to tcp://127.0.0.1:42898\n",
            "INFO:distributed.scheduler:Receive client connection: Client-worker-31bae34e-39bc-11ef-b5d1-0242ac1c000c\n",
            "INFO:distributed.core:Starting established connection to tcp://127.0.0.1:42920\n",
            "INFO:distributed.scheduler:Receive client connection: Client-worker-31baf931-39bc-11ef-b569-0242ac1c000c\n",
            "INFO:distributed.core:Starting established connection to tcp://127.0.0.1:42950\n",
            "INFO:distributed.scheduler:Receive client connection: Client-worker-31bb0e0b-39bc-11ef-b570-0242ac1c000c\n",
            "INFO:distributed.core:Starting established connection to tcp://127.0.0.1:42942\n",
            "INFO:distributed.scheduler:Receive client connection: Client-worker-31b62ddd-39bc-11ef-b598-0242ac1c000c\n",
            "INFO:distributed.core:Starting established connection to tcp://127.0.0.1:42834\n",
            "INFO:distributed.scheduler:Receive client connection: Client-worker-31c080de-39bc-11ef-b5bc-0242ac1c000c\n",
            "INFO:distributed.core:Starting established connection to tcp://127.0.0.1:42972\n",
            "INFO:distributed.scheduler:Receive client connection: Client-worker-31bf78c6-39bc-11ef-b5c6-0242ac1c000c\n",
            "INFO:distributed.core:Starting established connection to tcp://127.0.0.1:42964\n",
            "INFO:distributed.scheduler:Receive client connection: Client-worker-31baf00e-39bc-11ef-b5a1-0242ac1c000c\n",
            "INFO:distributed.core:Starting established connection to tcp://127.0.0.1:42936\n",
            "INFO:distributed.scheduler:Receive client connection: Client-worker-31c13333-39bc-11ef-b589-0242ac1c000c\n",
            "INFO:distributed.core:Starting established connection to tcp://127.0.0.1:42996\n",
            "INFO:distributed.scheduler:Receive client connection: Client-worker-31b8df03-39bc-11ef-b57c-0242ac1c000c\n",
            "INFO:distributed.core:Starting established connection to tcp://127.0.0.1:42904\n"
          ]
        }
      ],
      "source": [
        "with joblib.parallel_backend(\"dask\", scatter=[X_train,y_train]):\n",
        "    rand5.fit(X_train,y_train)"
      ]
    },
    {
      "cell_type": "code",
      "execution_count": null,
      "metadata": {
        "colab": {
          "base_uri": "https://localhost:8080/"
        },
        "id": "37mwjGmLeDot",
        "outputId": "59943ec7-c49c-4a01-8b64-c0c89a80d01a"
      },
      "outputs": [
        {
          "data": {
            "text/plain": [
              "{'n_estimators': 300, 'learning_rate': 1}"
            ]
          },
          "execution_count": 23,
          "metadata": {},
          "output_type": "execute_result"
        }
      ],
      "source": [
        "rand5.best_params_"
      ]
    },
    {
      "cell_type": "code",
      "execution_count": null,
      "metadata": {
        "colab": {
          "base_uri": "https://localhost:8080/"
        },
        "id": "MjlNBEkHeDmn",
        "outputId": "1e708684-9f67-4392-e58d-08b5fba1bc33"
      },
      "outputs": [
        {
          "data": {
            "text/plain": [
              "0.9999422465181397"
            ]
          },
          "execution_count": 24,
          "metadata": {},
          "output_type": "execute_result"
        }
      ],
      "source": [
        "rand5.best_score_"
      ]
    },
    {
      "cell_type": "code",
      "execution_count": null,
      "metadata": {
        "id": "tHD6KXiWeUPW"
      },
      "outputs": [],
      "source": [
        "##Training with best parameters\n",
        "adabest = AdaBoostClassifier(n_estimators=300, learning_rate=1)\n",
        "with joblib.parallel_backend(\"dask\", scatter=[X_train,y_train]):\n",
        "    adabest.fit(X_train,y_train)\n",
        "\n",
        "y_pred = adabest.predict(X_test)"
      ]
    },
    {
      "cell_type": "code",
      "execution_count": null,
      "metadata": {
        "colab": {
          "base_uri": "https://localhost:8080/"
        },
        "id": "8yvxEtDceULa",
        "outputId": "bb8ff0ab-c40d-48b8-e709-4adb9bb6068b"
      },
      "outputs": [
        {
          "name": "stdout",
          "output_type": "stream",
          "text": [
            "                   pre       rec       spe        f1       geo       iba       sup\n",
            "\n",
            "          0       1.00      1.00      1.00      1.00      1.00      1.00    262417\n",
            "          1       1.00      1.00      1.00      1.00      1.00      1.00    261362\n",
            "\n",
            "avg / total       1.00      1.00      1.00      1.00      1.00      1.00    523779\n",
            "\n"
          ]
        }
      ],
      "source": [
        "print(classification_report_imbalanced(y_test,y_pred))"
      ]
    },
    {
      "cell_type": "code",
      "execution_count": null,
      "metadata": {
        "colab": {
          "base_uri": "https://localhost:8080/",
          "height": 449
        },
        "id": "IFxPobvNeUIu",
        "outputId": "8a801213-eb75-435b-e15a-619bf70a48d6"
      },
      "outputs": [
        {
          "data": {
            "image/png": "[encoded data removed]",
            "text/plain": [
              "<Figure size 640x480 with 2 Axes>"
            ]
          },
          "metadata": {},
          "output_type": "display_data"
        }
      ],
      "source": [
        "##Plotting Confusion matrix\n",
        "\n",
        "cm = confusion_matrix(y_test, y_pred, labels=adabest.classes_)\n",
        "disp = ConfusionMatrixDisplay(confusion_matrix=cm,\n",
        "                              display_labels=adabest.classes_)\n",
        "disp.plot()\n",
        "plt.show()"
      ]
    },
    {
      "cell_type": "code",
      "execution_count": null,
      "metadata": {
        "colab": {
          "base_uri": "https://localhost:8080/",
          "height": 472
        },
        "id": "2JMRKghnecll",
        "outputId": "a0f8bbb4-549e-4aa8-9d95-c1d56efb1556"
      },
      "outputs": [
        {
          "data": {
            "image/png": "[encoded data removed]",
            "text/plain": [
              "<Figure size 640x480 with 1 Axes>"
            ]
          },
          "metadata": {},
          "output_type": "display_data"
        }
      ],
      "source": [
        "##Plotting ROC Curve\n",
        "\n",
        "ax = plt.gca()\n",
        "roc_display = RocCurveDisplay.from_estimator(adabest, X_test, y_test, ax=ax, alpha=0.8)\n",
        "plt.title('Receiver Operating Characteristic (ROC) Curve')\n",
        "plt.show()"
      ]
    },
    {
      "cell_type": "code",
      "execution_count": null,
      "metadata": {
        "colab": {
          "base_uri": "https://localhost:8080/"
        },
        "id": "HkOZ9Aheeci4",
        "outputId": "fe68932d-48a1-4360-b91c-bf790b2cafe3"
      },
      "outputs": [
        {
          "name": "stdout",
          "output_type": "stream",
          "text": [
            "(array([0.99990092, 0.99999617]), array([0.99999617, 0.99990092]), array([262417, 261362]))\n"
          ]
        }
      ],
      "source": [
        "print(sensitivity_specificity_support(y_test, y_pred))"
      ]
    },
    {
      "cell_type": "code",
      "execution_count": null,
      "metadata": {
        "colab": {
          "base_uri": "https://localhost:8080/"
        },
        "id": "26GSmAg2ecgy",
        "outputId": "7a690563-0cb8-4f92-af35-5dbbfea6fd74"
      },
      "outputs": [
        {
          "name": "stdout",
          "output_type": "stream",
          "text": [
            "(0.9999485474711108, 0.9999485474711108, None)\n"
          ]
        }
      ],
      "source": [
        "print(sensitivity_specificity_support(y_test, y_pred, average='macro'))"
      ]
    },
    {
      "cell_type": "code",
      "execution_count": null,
      "metadata": {
        "colab": {
          "base_uri": "https://localhost:8080/"
        },
        "id": "0PfDCdYHecd6",
        "outputId": "1b38da94-a4dd-4c78-a1a8-e2599b5e611f"
      },
      "outputs": [
        {
          "name": "stdout",
          "output_type": "stream",
          "text": [
            "(0.9999484515415853, 0.9999484515415853, None)\n"
          ]
        }
      ],
      "source": [
        "print(sensitivity_specificity_support(y_test, y_pred, average='micro'))"
      ]
    },
    {
      "cell_type": "code",
      "execution_count": null,
      "metadata": {
        "colab": {
          "base_uri": "https://localhost:8080/"
        },
        "id": "9DDuzDkEeUGW",
        "outputId": "b8d51dbf-f22c-4b9f-de24-c2183cae6835"
      },
      "outputs": [
        {
          "name": "stdout",
          "output_type": "stream",
          "text": [
            "(0.9999484515415853, 0.9999486434006364, None)\n"
          ]
        }
      ],
      "source": [
        "print(sensitivity_specificity_support(y_test, y_pred, average='weighted'))"
      ]
    },
    {
      "cell_type": "code",
      "execution_count": null,
      "metadata": {
        "id": "RV8KcaygeDj5"
      },
      "outputs": [],
      "source": []
    }
  ],
  "metadata": {
    "colab": {
      "provenance": []
    },
    "kernelspec": {
      "display_name": "Python 3",
      "name": "python3"
    },
    "language_info": {
      "name": "python"
    }
  },
  "nbformat": 4,
  "nbformat_minor": 0
}