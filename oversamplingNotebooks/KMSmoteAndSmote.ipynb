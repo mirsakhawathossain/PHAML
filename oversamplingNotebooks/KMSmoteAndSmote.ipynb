{
  "nbformat": 4,
  "nbformat_minor": 0,
  "metadata": {
    "colab": {
      "provenance": []
    },
    "kernelspec": {
      "name": "python3",
      "display_name": "Python 3"
    },
    "language_info": {
      "name": "python"
    }
  },
  "cells": [
    {
      "cell_type": "code",
      "execution_count": null,
      "metadata": {
        "id": "P6-dtg6mEg47"
      },
      "outputs": [],
      "source": [
        "import pandas as pd\n",
        "import numpy as np\n",
        "import matplotlib.pyplot as plt\n",
        "import seaborn as sns"
      ]
    },
    {
      "cell_type": "code",
      "source": [
        "df = pd.read_csv(\"/content/final_data.csv\")"
      ],
      "metadata": {
        "id": "2jr6VC3HIOk-"
      },
      "execution_count": null,
      "outputs": []
    },
    {
      "cell_type": "code",
      "source": [
        "y = pd.read_csv(\"/content/pha_map.csv\")"
      ],
      "metadata": {
        "id": "vPZJPayHIOng"
      },
      "execution_count": null,
      "outputs": []
    },
    {
      "cell_type": "code",
      "source": [
        "df"
      ],
      "metadata": {
        "colab": {
          "base_uri": "https://localhost:8080/",
          "height": 443
        },
        "id": "lpYDz9vsHjSb",
        "outputId": "1192e8f3-ab7a-43f8-9af7-80a075480cf2"
      },
      "execution_count": null,
      "outputs": [
        {
          "output_type": "execute_result",
          "data": {
            "text/plain": [
              "             H    diameter    albedo    rot_per       e      a      q      i  \\\n",
              "0         3.33  939.400000  0.090000   9.074170  0.0789  2.767  2.549  10.59   \n",
              "1         4.12  513.000000  0.155000   7.813221  0.2302  2.770  2.132  34.93   \n",
              "2         5.16  246.596000  0.214000   7.210000  0.2562  2.669  1.985  12.99   \n",
              "3         3.22  525.400000  0.422800   5.342128  0.0894  2.362  2.151   7.14   \n",
              "4         7.00  106.699000  0.274000  16.806000  0.1874  2.577  2.094   5.36   \n",
              "...        ...         ...       ...        ...     ...    ...    ...    ...   \n",
              "1311958  26.23  -31.270931  0.116500  10.355228  0.2989  1.412  0.990   5.87   \n",
              "1311959  23.36  -22.712515  0.076847  22.010418  0.2517  1.727  1.292  15.82   \n",
              "1311960  18.04   -5.177840  0.090914  25.318527  0.2493  2.424  1.820   5.73   \n",
              "1311961  18.50   -7.014612  0.090800  26.064191  0.2824  2.336  1.676   8.08   \n",
              "1311962  20.40  -16.150109 -0.016394  21.350975  0.6618  2.821  0.954   4.68   \n",
              "\n",
              "             om       w      ma    ad       n     per  moid_ld  \n",
              "0         80.25   73.42   60.08  2.99  0.2141  1680.0   616.00  \n",
              "1        172.92  310.87   40.60  3.41  0.2138  1680.0   478.00  \n",
              "2        169.84  247.74   37.02  3.35  0.2260  1590.0   403.00  \n",
              "3        103.71  151.66  169.35  2.57  0.2715  1330.0   443.00  \n",
              "4        141.47  359.14  303.40  3.06  0.2383  1510.0   430.00  \n",
              "...         ...     ...     ...   ...     ...     ...      ...  \n",
              "1311958  185.95  139.87   19.31  1.83  0.5876   613.0     9.53  \n",
              "1311959  190.64  154.93    6.06  2.16  0.4344   829.0   117.00  \n",
              "1311960   15.03  337.95  252.37  3.03  0.2611  1380.0   318.00  \n",
              "1311961  355.23    5.25  231.41  3.00  0.2761  1300.0   262.00  \n",
              "1311962  182.81  234.97  130.25  4.69  0.2080  1730.0    14.20  \n",
              "\n",
              "[1311963 rows x 15 columns]"
            ],
            "text/html": [
              "\n",
              "  <div id=\"df-99c8d704-2c9e-4b1c-a402-33be68b21d02\" class=\"colab-df-container\">\n",
              "    <div>\n",
              "<style scoped>\n",
              "    .dataframe tbody tr th:only-of-type {\n",
              "        vertical-align: middle;\n",
              "    }\n",
              "\n",
              "    .dataframe tbody tr th {\n",
              "        vertical-align: top;\n",
              "    }\n",
              "\n",
              "    .dataframe thead th {\n",
              "        text-align: right;\n",
              "    }\n",
              "</style>\n",
              "<table border=\"1\" class=\"dataframe\">\n",
              "  <thead>\n",
              "    <tr style=\"text-align: right;\">\n",
              "      <th></th>\n",
              "      <th>H</th>\n",
              "      <th>diameter</th>\n",
              "      <th>albedo</th>\n",
              "      <th>rot_per</th>\n",
              "      <th>e</th>\n",
              "      <th>a</th>\n",
              "      <th>q</th>\n",
              "      <th>i</th>\n",
              "      <th>om</th>\n",
              "      <th>w</th>\n",
              "      <th>ma</th>\n",
              "      <th>ad</th>\n",
              "      <th>n</th>\n",
              "      <th>per</th>\n",
              "      <th>moid_ld</th>\n",
              "    </tr>\n",
              "  </thead>\n",
              "  <tbody>\n",
              "    <tr>\n",
              "      <th>0</th>\n",
              "      <td>3.33</td>\n",
              "      <td>939.400000</td>\n",
              "      <td>0.090000</td>\n",
              "      <td>9.074170</td>\n",
              "      <td>0.0789</td>\n",
              "      <td>2.767</td>\n",
              "      <td>2.549</td>\n",
              "      <td>10.59</td>\n",
              "      <td>80.25</td>\n",
              "      <td>73.42</td>\n",
              "      <td>60.08</td>\n",
              "      <td>2.99</td>\n",
              "      <td>0.2141</td>\n",
              "      <td>1680.0</td>\n",
              "      <td>616.00</td>\n",
              "    </tr>\n",
              "    <tr>\n",
              "      <th>1</th>\n",
              "      <td>4.12</td>\n",
              "      <td>513.000000</td>\n",
              "      <td>0.155000</td>\n",
              "      <td>7.813221</td>\n",
              "      <td>0.2302</td>\n",
              "      <td>2.770</td>\n",
              "      <td>2.132</td>\n",
              "      <td>34.93</td>\n",
              "      <td>172.92</td>\n",
              "      <td>310.87</td>\n",
              "      <td>40.60</td>\n",
              "      <td>3.41</td>\n",
              "      <td>0.2138</td>\n",
              "      <td>1680.0</td>\n",
              "      <td>478.00</td>\n",
              "    </tr>\n",
              "    <tr>\n",
              "      <th>2</th>\n",
              "      <td>5.16</td>\n",
              "      <td>246.596000</td>\n",
              "      <td>0.214000</td>\n",
              "      <td>7.210000</td>\n",
              "      <td>0.2562</td>\n",
              "      <td>2.669</td>\n",
              "      <td>1.985</td>\n",
              "      <td>12.99</td>\n",
              "      <td>169.84</td>\n",
              "      <td>247.74</td>\n",
              "      <td>37.02</td>\n",
              "      <td>3.35</td>\n",
              "      <td>0.2260</td>\n",
              "      <td>1590.0</td>\n",
              "      <td>403.00</td>\n",
              "    </tr>\n",
              "    <tr>\n",
              "      <th>3</th>\n",
              "      <td>3.22</td>\n",
              "      <td>525.400000</td>\n",
              "      <td>0.422800</td>\n",
              "      <td>5.342128</td>\n",
              "      <td>0.0894</td>\n",
              "      <td>2.362</td>\n",
              "      <td>2.151</td>\n",
              "      <td>7.14</td>\n",
              "      <td>103.71</td>\n",
              "      <td>151.66</td>\n",
              "      <td>169.35</td>\n",
              "      <td>2.57</td>\n",
              "      <td>0.2715</td>\n",
              "      <td>1330.0</td>\n",
              "      <td>443.00</td>\n",
              "    </tr>\n",
              "    <tr>\n",
              "      <th>4</th>\n",
              "      <td>7.00</td>\n",
              "      <td>106.699000</td>\n",
              "      <td>0.274000</td>\n",
              "      <td>16.806000</td>\n",
              "      <td>0.1874</td>\n",
              "      <td>2.577</td>\n",
              "      <td>2.094</td>\n",
              "      <td>5.36</td>\n",
              "      <td>141.47</td>\n",
              "      <td>359.14</td>\n",
              "      <td>303.40</td>\n",
              "      <td>3.06</td>\n",
              "      <td>0.2383</td>\n",
              "      <td>1510.0</td>\n",
              "      <td>430.00</td>\n",
              "    </tr>\n",
              "    <tr>\n",
              "      <th>...</th>\n",
              "      <td>...</td>\n",
              "      <td>...</td>\n",
              "      <td>...</td>\n",
              "      <td>...</td>\n",
              "      <td>...</td>\n",
              "      <td>...</td>\n",
              "      <td>...</td>\n",
              "      <td>...</td>\n",
              "      <td>...</td>\n",
              "      <td>...</td>\n",
              "      <td>...</td>\n",
              "      <td>...</td>\n",
              "      <td>...</td>\n",
              "      <td>...</td>\n",
              "      <td>...</td>\n",
              "    </tr>\n",
              "    <tr>\n",
              "      <th>1311958</th>\n",
              "      <td>26.23</td>\n",
              "      <td>-31.270931</td>\n",
              "      <td>0.116500</td>\n",
              "      <td>10.355228</td>\n",
              "      <td>0.2989</td>\n",
              "      <td>1.412</td>\n",
              "      <td>0.990</td>\n",
              "      <td>5.87</td>\n",
              "      <td>185.95</td>\n",
              "      <td>139.87</td>\n",
              "      <td>19.31</td>\n",
              "      <td>1.83</td>\n",
              "      <td>0.5876</td>\n",
              "      <td>613.0</td>\n",
              "      <td>9.53</td>\n",
              "    </tr>\n",
              "    <tr>\n",
              "      <th>1311959</th>\n",
              "      <td>23.36</td>\n",
              "      <td>-22.712515</td>\n",
              "      <td>0.076847</td>\n",
              "      <td>22.010418</td>\n",
              "      <td>0.2517</td>\n",
              "      <td>1.727</td>\n",
              "      <td>1.292</td>\n",
              "      <td>15.82</td>\n",
              "      <td>190.64</td>\n",
              "      <td>154.93</td>\n",
              "      <td>6.06</td>\n",
              "      <td>2.16</td>\n",
              "      <td>0.4344</td>\n",
              "      <td>829.0</td>\n",
              "      <td>117.00</td>\n",
              "    </tr>\n",
              "    <tr>\n",
              "      <th>1311960</th>\n",
              "      <td>18.04</td>\n",
              "      <td>-5.177840</td>\n",
              "      <td>0.090914</td>\n",
              "      <td>25.318527</td>\n",
              "      <td>0.2493</td>\n",
              "      <td>2.424</td>\n",
              "      <td>1.820</td>\n",
              "      <td>5.73</td>\n",
              "      <td>15.03</td>\n",
              "      <td>337.95</td>\n",
              "      <td>252.37</td>\n",
              "      <td>3.03</td>\n",
              "      <td>0.2611</td>\n",
              "      <td>1380.0</td>\n",
              "      <td>318.00</td>\n",
              "    </tr>\n",
              "    <tr>\n",
              "      <th>1311961</th>\n",
              "      <td>18.50</td>\n",
              "      <td>-7.014612</td>\n",
              "      <td>0.090800</td>\n",
              "      <td>26.064191</td>\n",
              "      <td>0.2824</td>\n",
              "      <td>2.336</td>\n",
              "      <td>1.676</td>\n",
              "      <td>8.08</td>\n",
              "      <td>355.23</td>\n",
              "      <td>5.25</td>\n",
              "      <td>231.41</td>\n",
              "      <td>3.00</td>\n",
              "      <td>0.2761</td>\n",
              "      <td>1300.0</td>\n",
              "      <td>262.00</td>\n",
              "    </tr>\n",
              "    <tr>\n",
              "      <th>1311962</th>\n",
              "      <td>20.40</td>\n",
              "      <td>-16.150109</td>\n",
              "      <td>-0.016394</td>\n",
              "      <td>21.350975</td>\n",
              "      <td>0.6618</td>\n",
              "      <td>2.821</td>\n",
              "      <td>0.954</td>\n",
              "      <td>4.68</td>\n",
              "      <td>182.81</td>\n",
              "      <td>234.97</td>\n",
              "      <td>130.25</td>\n",
              "      <td>4.69</td>\n",
              "      <td>0.2080</td>\n",
              "      <td>1730.0</td>\n",
              "      <td>14.20</td>\n",
              "    </tr>\n",
              "  </tbody>\n",
              "</table>\n",
              "<p>1311963 rows × 15 columns</p>\n",
              "</div>\n",
              "    <div class=\"colab-df-buttons\">\n",
              "\n",
              "  <div class=\"colab-df-container\">\n",
              "    <button class=\"colab-df-convert\" onclick=\"convertToInteractive('df-99c8d704-2c9e-4b1c-a402-33be68b21d02')\"\n",
              "            title=\"Convert this dataframe to an interactive table.\"\n",
              "            style=\"display:none;\">\n",
              "\n",
              "  <svg xmlns=\"http://www.w3.org/2000/svg\" height=\"24px\" viewBox=\"0 -960 960 960\">\n",
              "    <path d=\"M120-120v-720h720v720H120Zm60-500h600v-160H180v160Zm220 220h160v-160H400v160Zm0 220h160v-160H400v160ZM180-400h160v-160H180v160Zm440 0h160v-160H620v160ZM180-180h160v-160H180v160Zm440 0h160v-160H620v160Z\"/>\n",
              "  </svg>\n",
              "    </button>\n",
              "\n",
              "  <style>\n",
              "    .colab-df-container {\n",
              "      display:flex;\n",
              "      gap: 12px;\n",
              "    }\n",
              "\n",
              "    .colab-df-convert {\n",
              "      background-color: #E8F0FE;\n",
              "      border: none;\n",
              "      border-radius: 50%;\n",
              "      cursor: pointer;\n",
              "      display: none;\n",
              "      fill: #1967D2;\n",
              "      height: 32px;\n",
              "      padding: 0 0 0 0;\n",
              "      width: 32px;\n",
              "    }\n",
              "\n",
              "    .colab-df-convert:hover {\n",
              "      background-color: #E2EBFA;\n",
              "      box-shadow: 0px 1px 2px rgba(60, 64, 67, 0.3), 0px 1px 3px 1px rgba(60, 64, 67, 0.15);\n",
              "      fill: #174EA6;\n",
              "    }\n",
              "\n",
              "    .colab-df-buttons div {\n",
              "      margin-bottom: 4px;\n",
              "    }\n",
              "\n",
              "    [theme=dark] .colab-df-convert {\n",
              "      background-color: #3B4455;\n",
              "      fill: #D2E3FC;\n",
              "    }\n",
              "\n",
              "    [theme=dark] .colab-df-convert:hover {\n",
              "      background-color: #434B5C;\n",
              "      box-shadow: 0px 1px 3px 1px rgba(0, 0, 0, 0.15);\n",
              "      filter: drop-shadow(0px 1px 2px rgba(0, 0, 0, 0.3));\n",
              "      fill: #FFFFFF;\n",
              "    }\n",
              "  </style>\n",
              "\n",
              "    <script>\n",
              "      const buttonEl =\n",
              "        document.querySelector('#df-99c8d704-2c9e-4b1c-a402-33be68b21d02 button.colab-df-convert');\n",
              "      buttonEl.style.display =\n",
              "        google.colab.kernel.accessAllowed ? 'block' : 'none';\n",
              "\n",
              "      async function convertToInteractive(key) {\n",
              "        const element = document.querySelector('#df-99c8d704-2c9e-4b1c-a402-33be68b21d02');\n",
              "        const dataTable =\n",
              "          await google.colab.kernel.invokeFunction('convertToInteractive',\n",
              "                                                    [key], {});\n",
              "        if (!dataTable) return;\n",
              "\n",
              "        const docLinkHtml = 'Like what you see? Visit the ' +\n",
              "          '<a target=\"_blank\" href=https://colab.research.google.com/notebooks/data_table.ipynb>data table notebook</a>'\n",
              "          + ' to learn more about interactive tables.';\n",
              "        element.innerHTML = '';\n",
              "        dataTable['output_type'] = 'display_data';\n",
              "        await google.colab.output.renderOutput(dataTable, element);\n",
              "        const docLink = document.createElement('div');\n",
              "        docLink.innerHTML = docLinkHtml;\n",
              "        element.appendChild(docLink);\n",
              "      }\n",
              "    </script>\n",
              "  </div>\n",
              "\n",
              "\n",
              "<div id=\"df-522ed910-2b1b-4cde-b34b-4d94186128ff\">\n",
              "  <button class=\"colab-df-quickchart\" onclick=\"quickchart('df-522ed910-2b1b-4cde-b34b-4d94186128ff')\"\n",
              "            title=\"Suggest charts\"\n",
              "            style=\"display:none;\">\n",
              "\n",
              "<svg xmlns=\"http://www.w3.org/2000/svg\" height=\"24px\"viewBox=\"0 0 24 24\"\n",
              "     width=\"24px\">\n",
              "    <g>\n",
              "        <path d=\"M19 3H5c-1.1 0-2 .9-2 2v14c0 1.1.9 2 2 2h14c1.1 0 2-.9 2-2V5c0-1.1-.9-2-2-2zM9 17H7v-7h2v7zm4 0h-2V7h2v10zm4 0h-2v-4h2v4z\"/>\n",
              "    </g>\n",
              "</svg>\n",
              "  </button>\n",
              "\n",
              "<style>\n",
              "  .colab-df-quickchart {\n",
              "      --bg-color: #E8F0FE;\n",
              "      --fill-color: #1967D2;\n",
              "      --hover-bg-color: #E2EBFA;\n",
              "      --hover-fill-color: #174EA6;\n",
              "      --disabled-fill-color: #AAA;\n",
              "      --disabled-bg-color: #DDD;\n",
              "  }\n",
              "\n",
              "  [theme=dark] .colab-df-quickchart {\n",
              "      --bg-color: #3B4455;\n",
              "      --fill-color: #D2E3FC;\n",
              "      --hover-bg-color: #434B5C;\n",
              "      --hover-fill-color: #FFFFFF;\n",
              "      --disabled-bg-color: #3B4455;\n",
              "      --disabled-fill-color: #666;\n",
              "  }\n",
              "\n",
              "  .colab-df-quickchart {\n",
              "    background-color: var(--bg-color);\n",
              "    border: none;\n",
              "    border-radius: 50%;\n",
              "    cursor: pointer;\n",
              "    display: none;\n",
              "    fill: var(--fill-color);\n",
              "    height: 32px;\n",
              "    padding: 0;\n",
              "    width: 32px;\n",
              "  }\n",
              "\n",
              "  .colab-df-quickchart:hover {\n",
              "    background-color: var(--hover-bg-color);\n",
              "    box-shadow: 0 1px 2px rgba(60, 64, 67, 0.3), 0 1px 3px 1px rgba(60, 64, 67, 0.15);\n",
              "    fill: var(--button-hover-fill-color);\n",
              "  }\n",
              "\n",
              "  .colab-df-quickchart-complete:disabled,\n",
              "  .colab-df-quickchart-complete:disabled:hover {\n",
              "    background-color: var(--disabled-bg-color);\n",
              "    fill: var(--disabled-fill-color);\n",
              "    box-shadow: none;\n",
              "  }\n",
              "\n",
              "  .colab-df-spinner {\n",
              "    border: 2px solid var(--fill-color);\n",
              "    border-color: transparent;\n",
              "    border-bottom-color: var(--fill-color);\n",
              "    animation:\n",
              "      spin 1s steps(1) infinite;\n",
              "  }\n",
              "\n",
              "  @keyframes spin {\n",
              "    0% {\n",
              "      border-color: transparent;\n",
              "      border-bottom-color: var(--fill-color);\n",
              "      border-left-color: var(--fill-color);\n",
              "    }\n",
              "    20% {\n",
              "      border-color: transparent;\n",
              "      border-left-color: var(--fill-color);\n",
              "      border-top-color: var(--fill-color);\n",
              "    }\n",
              "    30% {\n",
              "      border-color: transparent;\n",
              "      border-left-color: var(--fill-color);\n",
              "      border-top-color: var(--fill-color);\n",
              "      border-right-color: var(--fill-color);\n",
              "    }\n",
              "    40% {\n",
              "      border-color: transparent;\n",
              "      border-right-color: var(--fill-color);\n",
              "      border-top-color: var(--fill-color);\n",
              "    }\n",
              "    60% {\n",
              "      border-color: transparent;\n",
              "      border-right-color: var(--fill-color);\n",
              "    }\n",
              "    80% {\n",
              "      border-color: transparent;\n",
              "      border-right-color: var(--fill-color);\n",
              "      border-bottom-color: var(--fill-color);\n",
              "    }\n",
              "    90% {\n",
              "      border-color: transparent;\n",
              "      border-bottom-color: var(--fill-color);\n",
              "    }\n",
              "  }\n",
              "</style>\n",
              "\n",
              "  <script>\n",
              "    async function quickchart(key) {\n",
              "      const quickchartButtonEl =\n",
              "        document.querySelector('#' + key + ' button');\n",
              "      quickchartButtonEl.disabled = true;  // To prevent multiple clicks.\n",
              "      quickchartButtonEl.classList.add('colab-df-spinner');\n",
              "      try {\n",
              "        const charts = await google.colab.kernel.invokeFunction(\n",
              "            'suggestCharts', [key], {});\n",
              "      } catch (error) {\n",
              "        console.error('Error during call to suggestCharts:', error);\n",
              "      }\n",
              "      quickchartButtonEl.classList.remove('colab-df-spinner');\n",
              "      quickchartButtonEl.classList.add('colab-df-quickchart-complete');\n",
              "    }\n",
              "    (() => {\n",
              "      let quickchartButtonEl =\n",
              "        document.querySelector('#df-522ed910-2b1b-4cde-b34b-4d94186128ff button');\n",
              "      quickchartButtonEl.style.display =\n",
              "        google.colab.kernel.accessAllowed ? 'block' : 'none';\n",
              "    })();\n",
              "  </script>\n",
              "</div>\n",
              "\n",
              "  <div id=\"id_b52ebe6f-fe54-4dd0-aed8-a89944381bc5\">\n",
              "    <style>\n",
              "      .colab-df-generate {\n",
              "        background-color: #E8F0FE;\n",
              "        border: none;\n",
              "        border-radius: 50%;\n",
              "        cursor: pointer;\n",
              "        display: none;\n",
              "        fill: #1967D2;\n",
              "        height: 32px;\n",
              "        padding: 0 0 0 0;\n",
              "        width: 32px;\n",
              "      }\n",
              "\n",
              "      .colab-df-generate:hover {\n",
              "        background-color: #E2EBFA;\n",
              "        box-shadow: 0px 1px 2px rgba(60, 64, 67, 0.3), 0px 1px 3px 1px rgba(60, 64, 67, 0.15);\n",
              "        fill: #174EA6;\n",
              "      }\n",
              "\n",
              "      [theme=dark] .colab-df-generate {\n",
              "        background-color: #3B4455;\n",
              "        fill: #D2E3FC;\n",
              "      }\n",
              "\n",
              "      [theme=dark] .colab-df-generate:hover {\n",
              "        background-color: #434B5C;\n",
              "        box-shadow: 0px 1px 3px 1px rgba(0, 0, 0, 0.15);\n",
              "        filter: drop-shadow(0px 1px 2px rgba(0, 0, 0, 0.3));\n",
              "        fill: #FFFFFF;\n",
              "      }\n",
              "    </style>\n",
              "    <button class=\"colab-df-generate\" onclick=\"generateWithVariable('df')\"\n",
              "            title=\"Generate code using this dataframe.\"\n",
              "            style=\"display:none;\">\n",
              "\n",
              "  <svg xmlns=\"http://www.w3.org/2000/svg\" height=\"24px\"viewBox=\"0 0 24 24\"\n",
              "       width=\"24px\">\n",
              "    <path d=\"M7,19H8.4L18.45,9,17,7.55,7,17.6ZM5,21V16.75L18.45,3.32a2,2,0,0,1,2.83,0l1.4,1.43a1.91,1.91,0,0,1,.58,1.4,1.91,1.91,0,0,1-.58,1.4L9.25,21ZM18.45,9,17,7.55Zm-12,3A5.31,5.31,0,0,0,4.9,8.1,5.31,5.31,0,0,0,1,6.5,5.31,5.31,0,0,0,4.9,4.9,5.31,5.31,0,0,0,6.5,1,5.31,5.31,0,0,0,8.1,4.9,5.31,5.31,0,0,0,12,6.5,5.46,5.46,0,0,0,6.5,12Z\"/>\n",
              "  </svg>\n",
              "    </button>\n",
              "    <script>\n",
              "      (() => {\n",
              "      const buttonEl =\n",
              "        document.querySelector('#id_b52ebe6f-fe54-4dd0-aed8-a89944381bc5 button.colab-df-generate');\n",
              "      buttonEl.style.display =\n",
              "        google.colab.kernel.accessAllowed ? 'block' : 'none';\n",
              "\n",
              "      buttonEl.onclick = () => {\n",
              "        google.colab.notebook.generateWithVariable('df');\n",
              "      }\n",
              "      })();\n",
              "    </script>\n",
              "  </div>\n",
              "\n",
              "    </div>\n",
              "  </div>\n"
            ],
            "application/vnd.google.colaboratory.intrinsic+json": {
              "type": "dataframe",
              "variable_name": "df"
            }
          },
          "metadata": {},
          "execution_count": 4
        }
      ]
    },
    {
      "cell_type": "code",
      "source": [
        "X = df.drop(columns=['albedo', 'rot_per', 'e', 'a', 'q', 'om', 'w', 'ma', 'ad'])"
      ],
      "metadata": {
        "id": "Qi8oAXSdIOqR"
      },
      "execution_count": null,
      "outputs": []
    },
    {
      "cell_type": "code",
      "source": [
        "!pip install imbalanced-learn"
      ],
      "metadata": {
        "id": "uJKuqa2oIOv2",
        "colab": {
          "base_uri": "https://localhost:8080/"
        },
        "outputId": "15cf3cb0-c7ea-4cd6-84b8-9fcc261d0bf3"
      },
      "execution_count": null,
      "outputs": [
        {
          "output_type": "stream",
          "name": "stdout",
          "text": [
            "Requirement already satisfied: imbalanced-learn in /usr/local/lib/python3.10/dist-packages (0.12.3)\n",
            "Requirement already satisfied: numpy>=1.17.3 in /usr/local/lib/python3.10/dist-packages (from imbalanced-learn) (1.25.2)\n",
            "Requirement already satisfied: scipy>=1.5.0 in /usr/local/lib/python3.10/dist-packages (from imbalanced-learn) (1.11.4)\n",
            "Requirement already satisfied: scikit-learn>=1.0.2 in /usr/local/lib/python3.10/dist-packages (from imbalanced-learn) (1.2.2)\n",
            "Requirement already satisfied: joblib>=1.1.1 in /usr/local/lib/python3.10/dist-packages (from imbalanced-learn) (1.4.2)\n",
            "Requirement already satisfied: threadpoolctl>=2.0.0 in /usr/local/lib/python3.10/dist-packages (from imbalanced-learn) (3.5.0)\n"
          ]
        }
      ]
    },
    {
      "cell_type": "code",
      "source": [
        "!pip install lightgbm"
      ],
      "metadata": {
        "colab": {
          "base_uri": "https://localhost:8080/"
        },
        "id": "BcYYcH_wFhye",
        "outputId": "d359b909-fe2b-4709-c046-a08cb14efa44"
      },
      "execution_count": null,
      "outputs": [
        {
          "output_type": "stream",
          "name": "stdout",
          "text": [
            "Requirement already satisfied: lightgbm in /usr/local/lib/python3.10/dist-packages (4.4.0)\n",
            "Requirement already satisfied: numpy>=1.17.0 in /usr/local/lib/python3.10/dist-packages (from lightgbm) (1.25.2)\n",
            "Requirement already satisfied: scipy in /usr/local/lib/python3.10/dist-packages (from lightgbm) (1.11.4)\n"
          ]
        }
      ]
    },
    {
      "cell_type": "code",
      "source": [
        "from sklearn.model_selection import train_test_split\n",
        "from sklearn.model_selection import RandomizedSearchCV\n",
        "from sklearn.ensemble import AdaBoostClassifier\n",
        "from sklearn.ensemble import RandomForestClassifier\n",
        "from sklearn.ensemble import HistGradientBoostingClassifier\n",
        "# from xgboost import XGBClassifier\n",
        "from lightgbm import LGBMClassifier\n",
        "from sklearn.metrics import accuracy_score, confusion_matrix, roc_auc_score, f1_score, roc_curve, ConfusionMatrixDisplay, RocCurveDisplay\n",
        "from imblearn.metrics import sensitivity_specificity_support, classification_report_imbalanced\n",
        "from imblearn.over_sampling import KMeansSMOTE, SMOTE"
      ],
      "metadata": {
        "id": "kr6jxlU5IOyb",
        "colab": {
          "base_uri": "https://localhost:8080/"
        },
        "outputId": "2cbb3348-28cc-4a2a-c800-0948a072b4d0"
      },
      "execution_count": null,
      "outputs": [
        {
          "output_type": "stream",
          "name": "stderr",
          "text": [
            "/usr/local/lib/python3.10/dist-packages/dask/dataframe/__init__.py:42: FutureWarning: \n",
            "Dask dataframe query planning is disabled because dask-expr is not installed.\n",
            "\n",
            "You can install it with `pip install dask[dataframe]` or `conda install dask`.\n",
            "This will raise in a future version.\n",
            "\n",
            "  warnings.warn(msg, FutureWarning)\n"
          ]
        }
      ]
    },
    {
      "cell_type": "code",
      "source": [
        "kms = KMeansSMOTE(cluster_balance_threshold=0.01,random_state=42)\n",
        "X_resampled, y_resampled = kms.fit_resample(X, y)"
      ],
      "metadata": {
        "id": "rxUKcNaxJR5Q",
        "colab": {
          "base_uri": "https://localhost:8080/"
        },
        "outputId": "1d058a03-c0a5-4c75-d3ce-89b019b51752"
      },
      "execution_count": null,
      "outputs": [
        {
          "output_type": "stream",
          "name": "stderr",
          "text": [
            "/usr/local/lib/python3.10/dist-packages/sklearn/cluster/_kmeans.py:870: FutureWarning: The default value of `n_init` will change from 3 to 'auto' in 1.4. Set the value of `n_init` explicitly to suppress the warning\n",
            "  warnings.warn(\n"
          ]
        }
      ]
    },
    {
      "cell_type": "code",
      "source": [
        "X_resampled.shape"
      ],
      "metadata": {
        "id": "sNEdKgseJRzu",
        "colab": {
          "base_uri": "https://localhost:8080/"
        },
        "outputId": "2888a33f-c796-460c-df3b-1329b6d18a0c"
      },
      "execution_count": null,
      "outputs": [
        {
          "output_type": "execute_result",
          "data": {
            "text/plain": [
              "(2619186, 6)"
            ]
          },
          "metadata": {},
          "execution_count": 10
        }
      ]
    },
    {
      "cell_type": "code",
      "source": [
        "y_resampled.value_counts()"
      ],
      "metadata": {
        "id": "e2elAEJXJRxi",
        "colab": {
          "base_uri": "https://localhost:8080/"
        },
        "outputId": "e504a9fa-8f1e-404a-b617-93d7b3247e4e"
      },
      "execution_count": null,
      "outputs": [
        {
          "output_type": "execute_result",
          "data": {
            "text/plain": [
              "pha\n",
              "0      1309593\n",
              "1      1309593\n",
              "Name: count, dtype: int64"
            ]
          },
          "metadata": {},
          "execution_count": 11
        }
      ]
    },
    {
      "cell_type": "code",
      "source": [
        "X_train,X_test,y_train,y_test = train_test_split(X_resampled,y_resampled, test_size=0.2, random_state=43)"
      ],
      "metadata": {
        "id": "JAKO77OAJRu9"
      },
      "execution_count": null,
      "outputs": []
    },
    {
      "cell_type": "code",
      "source": [
        "y_train.value_counts()"
      ],
      "metadata": {
        "id": "ftDyOIwZJRsl",
        "colab": {
          "base_uri": "https://localhost:8080/"
        },
        "outputId": "e0620770-f0ba-41cc-d858-43c09810ba71"
      },
      "execution_count": null,
      "outputs": [
        {
          "output_type": "execute_result",
          "data": {
            "text/plain": [
              "pha\n",
              "1      1048325\n",
              "0      1047023\n",
              "Name: count, dtype: int64"
            ]
          },
          "metadata": {},
          "execution_count": 13
        }
      ]
    },
    {
      "cell_type": "code",
      "source": [
        "y_test.value_counts()"
      ],
      "metadata": {
        "id": "3acWN9G1JRqF",
        "colab": {
          "base_uri": "https://localhost:8080/"
        },
        "outputId": "391c011f-5578-472f-dc0f-279605e26c1a"
      },
      "execution_count": null,
      "outputs": [
        {
          "output_type": "execute_result",
          "data": {
            "text/plain": [
              "pha\n",
              "0      262570\n",
              "1      261268\n",
              "Name: count, dtype: int64"
            ]
          },
          "metadata": {},
          "execution_count": 14
        }
      ]
    },
    {
      "cell_type": "code",
      "source": [
        "!pip install dask"
      ],
      "metadata": {
        "id": "0mflgPDbJRjB",
        "colab": {
          "base_uri": "https://localhost:8080/"
        },
        "outputId": "5a7156d0-12eb-42ec-85a7-492615731b66"
      },
      "execution_count": null,
      "outputs": [
        {
          "output_type": "stream",
          "name": "stdout",
          "text": [
            "Requirement already satisfied: dask in /usr/local/lib/python3.10/dist-packages (2024.7.0)\n",
            "Requirement already satisfied: click>=8.1 in /usr/local/lib/python3.10/dist-packages (from dask) (8.1.7)\n",
            "Requirement already satisfied: cloudpickle>=1.5.0 in /usr/local/lib/python3.10/dist-packages (from dask) (3.0.0)\n",
            "Requirement already satisfied: fsspec>=2021.09.0 in /usr/local/lib/python3.10/dist-packages (from dask) (2024.6.1)\n",
            "Requirement already satisfied: packaging>=20.0 in /usr/local/lib/python3.10/dist-packages (from dask) (24.1)\n",
            "Requirement already satisfied: partd>=1.4.0 in /usr/local/lib/python3.10/dist-packages (from dask) (1.4.2)\n",
            "Requirement already satisfied: pyyaml>=5.3.1 in /usr/local/lib/python3.10/dist-packages (from dask) (6.0.1)\n",
            "Requirement already satisfied: toolz>=0.10.0 in /usr/local/lib/python3.10/dist-packages (from dask) (0.12.1)\n",
            "Requirement already satisfied: importlib-metadata>=4.13.0 in /usr/local/lib/python3.10/dist-packages (from dask) (8.0.0)\n",
            "Requirement already satisfied: zipp>=0.5 in /usr/local/lib/python3.10/dist-packages (from importlib-metadata>=4.13.0->dask) (3.19.2)\n",
            "Requirement already satisfied: locket in /usr/local/lib/python3.10/dist-packages (from partd>=1.4.0->dask) (1.0.0)\n"
          ]
        }
      ]
    },
    {
      "cell_type": "code",
      "source": [
        "!python -m pip install dask distributed --upgrade"
      ],
      "metadata": {
        "id": "zG51lWOvJ2s_",
        "colab": {
          "base_uri": "https://localhost:8080/"
        },
        "outputId": "731881d7-eb60-4263-f27b-07ebf872ade6"
      },
      "execution_count": null,
      "outputs": [
        {
          "output_type": "stream",
          "name": "stdout",
          "text": [
            "Requirement already satisfied: dask in /usr/local/lib/python3.10/dist-packages (2024.7.0)\n",
            "Requirement already satisfied: distributed in /usr/local/lib/python3.10/dist-packages (2024.7.0)\n",
            "Requirement already satisfied: click>=8.1 in /usr/local/lib/python3.10/dist-packages (from dask) (8.1.7)\n",
            "Requirement already satisfied: cloudpickle>=1.5.0 in /usr/local/lib/python3.10/dist-packages (from dask) (3.0.0)\n",
            "Requirement already satisfied: fsspec>=2021.09.0 in /usr/local/lib/python3.10/dist-packages (from dask) (2024.6.1)\n",
            "Requirement already satisfied: packaging>=20.0 in /usr/local/lib/python3.10/dist-packages (from dask) (24.1)\n",
            "Requirement already satisfied: partd>=1.4.0 in /usr/local/lib/python3.10/dist-packages (from dask) (1.4.2)\n",
            "Requirement already satisfied: pyyaml>=5.3.1 in /usr/local/lib/python3.10/dist-packages (from dask) (6.0.1)\n",
            "Requirement already satisfied: toolz>=0.10.0 in /usr/local/lib/python3.10/dist-packages (from dask) (0.12.1)\n",
            "Requirement already satisfied: importlib-metadata>=4.13.0 in /usr/local/lib/python3.10/dist-packages (from dask) (8.0.0)\n",
            "Requirement already satisfied: jinja2>=2.10.3 in /usr/local/lib/python3.10/dist-packages (from distributed) (3.1.4)\n",
            "Requirement already satisfied: locket>=1.0.0 in /usr/local/lib/python3.10/dist-packages (from distributed) (1.0.0)\n",
            "Requirement already satisfied: msgpack>=1.0.0 in /usr/local/lib/python3.10/dist-packages (from distributed) (1.0.8)\n",
            "Requirement already satisfied: psutil>=5.7.2 in /usr/local/lib/python3.10/dist-packages (from distributed) (5.9.5)\n",
            "Requirement already satisfied: sortedcontainers>=2.0.5 in /usr/local/lib/python3.10/dist-packages (from distributed) (2.4.0)\n",
            "Requirement already satisfied: tblib>=1.6.0 in /usr/local/lib/python3.10/dist-packages (from distributed) (3.0.0)\n",
            "Requirement already satisfied: tornado>=6.0.4 in /usr/local/lib/python3.10/dist-packages (from distributed) (6.3.3)\n",
            "Requirement already satisfied: urllib3>=1.24.3 in /usr/local/lib/python3.10/dist-packages (from distributed) (2.0.7)\n",
            "Requirement already satisfied: zict>=3.0.0 in /usr/local/lib/python3.10/dist-packages (from distributed) (3.0.0)\n",
            "Requirement already satisfied: zipp>=0.5 in /usr/local/lib/python3.10/dist-packages (from importlib-metadata>=4.13.0->dask) (3.19.2)\n",
            "Requirement already satisfied: MarkupSafe>=2.0 in /usr/local/lib/python3.10/dist-packages (from jinja2>=2.10.3->distributed) (2.1.5)\n"
          ]
        }
      ]
    },
    {
      "cell_type": "code",
      "source": [
        "from dask.distributed import Client\n",
        "client = Client(n_workers=32)\n",
        "client"
      ],
      "metadata": {
        "colab": {
          "base_uri": "https://localhost:8080/",
          "height": 1000
        },
        "id": "36fl0BrFES2v",
        "outputId": "41ae022c-26c0-48ba-a644-cf964a6b8f63"
      },
      "execution_count": null,
      "outputs": [
        {
          "output_type": "stream",
          "name": "stderr",
          "text": [
            "INFO:distributed.http.proxy:To route to workers diagnostics web server please install jupyter-server-proxy: python -m pip install jupyter-server-proxy\n",
            "INFO:distributed.scheduler:State start\n",
            "INFO:distributed.diskutils:Found stale lock file and directory '/tmp/dask-scratch-space/worker-lsqrp9_k', purging\n",
            "INFO:distributed.diskutils:Found stale lock file and directory '/tmp/dask-scratch-space/worker-edbs_m9f', purging\n",
            "INFO:distributed.diskutils:Found stale lock file and directory '/tmp/dask-scratch-space/worker-_bjo7592', purging\n",
            "INFO:distributed.diskutils:Found stale lock file and directory '/tmp/dask-scratch-space/worker-qdl8hjos', purging\n",
            "INFO:distributed.diskutils:Found stale lock file and directory '/tmp/dask-scratch-space/worker-bzikuxif', purging\n",
            "INFO:distributed.diskutils:Found stale lock file and directory '/tmp/dask-scratch-space/worker-d5tho_0q', purging\n",
            "INFO:distributed.diskutils:Found stale lock file and directory '/tmp/dask-scratch-space/worker-ju90p4dr', purging\n",
            "INFO:distributed.diskutils:Found stale lock file and directory '/tmp/dask-scratch-space/worker-v6q8yrun', purging\n",
            "INFO:distributed.diskutils:Found stale lock file and directory '/tmp/dask-scratch-space/worker-c8p8j9lh', purging\n",
            "INFO:distributed.diskutils:Found stale lock file and directory '/tmp/dask-scratch-space/worker-pimnluqn', purging\n",
            "INFO:distributed.diskutils:Found stale lock file and directory '/tmp/dask-scratch-space/worker-t4qw1p9f', purging\n",
            "INFO:distributed.diskutils:Found stale lock file and directory '/tmp/dask-scratch-space/worker-scey0axm', purging\n",
            "INFO:distributed.diskutils:Found stale lock file and directory '/tmp/dask-scratch-space/worker-pebq8kmr', purging\n",
            "INFO:distributed.diskutils:Found stale lock file and directory '/tmp/dask-scratch-space/worker-hjora7t1', purging\n",
            "INFO:distributed.diskutils:Found stale lock file and directory '/tmp/dask-scratch-space/worker-ic2za4p9', purging\n",
            "INFO:distributed.diskutils:Found stale lock file and directory '/tmp/dask-scratch-space/worker-gl5ard8h', purging\n",
            "INFO:distributed.diskutils:Found stale lock file and directory '/tmp/dask-scratch-space/worker-g1a8beqy', purging\n",
            "INFO:distributed.diskutils:Found stale lock file and directory '/tmp/dask-scratch-space/worker-nas_k0z8', purging\n",
            "INFO:distributed.diskutils:Found stale lock file and directory '/tmp/dask-scratch-space/worker-7oezqy0u', purging\n",
            "INFO:distributed.diskutils:Found stale lock file and directory '/tmp/dask-scratch-space/worker-hdi43t5m', purging\n",
            "INFO:distributed.diskutils:Found stale lock file and directory '/tmp/dask-scratch-space/worker-8gs0_8ws', purging\n",
            "INFO:distributed.diskutils:Found stale lock file and directory '/tmp/dask-scratch-space/scheduler-1h6ogaoo', purging\n",
            "INFO:distributed.diskutils:Found stale lock file and directory '/tmp/dask-scratch-space/worker-m2uvfdua', purging\n",
            "INFO:distributed.diskutils:Found stale lock file and directory '/tmp/dask-scratch-space/worker-3th8vpsz', purging\n",
            "INFO:distributed.diskutils:Found stale lock file and directory '/tmp/dask-scratch-space/worker-r6xs1nxf', purging\n",
            "INFO:distributed.diskutils:Found stale lock file and directory '/tmp/dask-scratch-space/worker-b_z7uv6o', purging\n",
            "INFO:distributed.diskutils:Found stale lock file and directory '/tmp/dask-scratch-space/worker-4kiw13_t', purging\n",
            "INFO:distributed.diskutils:Found stale lock file and directory '/tmp/dask-scratch-space/worker-b9oy6ta3', purging\n",
            "INFO:distributed.diskutils:Found stale lock file and directory '/tmp/dask-scratch-space/worker-as3deq23', purging\n",
            "INFO:distributed.diskutils:Found stale lock file and directory '/tmp/dask-scratch-space/worker-qnaxx5w5', purging\n",
            "INFO:distributed.diskutils:Found stale lock file and directory '/tmp/dask-scratch-space/worker-by15gsk6', purging\n",
            "INFO:distributed.diskutils:Found stale lock file and directory '/tmp/dask-scratch-space/worker-7ltl3zys', purging\n",
            "INFO:distributed.diskutils:Found stale lock file and directory '/tmp/dask-scratch-space/worker-8d2kyyom', purging\n",
            "INFO:distributed.scheduler:  Scheduler at:     tcp://127.0.0.1:40391\n",
            "INFO:distributed.scheduler:  dashboard at:  http://127.0.0.1:8787/status\n",
            "INFO:distributed.scheduler:Registering Worker plugin shuffle\n",
            "INFO:distributed.nanny:        Start Nanny at: 'tcp://127.0.0.1:38149'\n",
            "INFO:distributed.nanny:        Start Nanny at: 'tcp://127.0.0.1:33853'\n",
            "INFO:distributed.nanny:        Start Nanny at: 'tcp://127.0.0.1:35631'\n",
            "INFO:distributed.nanny:        Start Nanny at: 'tcp://127.0.0.1:43743'\n",
            "INFO:distributed.nanny:        Start Nanny at: 'tcp://127.0.0.1:37005'\n",
            "INFO:distributed.nanny:        Start Nanny at: 'tcp://127.0.0.1:45835'\n",
            "INFO:distributed.nanny:        Start Nanny at: 'tcp://127.0.0.1:34857'\n",
            "INFO:distributed.nanny:        Start Nanny at: 'tcp://127.0.0.1:37345'\n",
            "INFO:distributed.nanny:        Start Nanny at: 'tcp://127.0.0.1:39033'\n",
            "INFO:distributed.nanny:        Start Nanny at: 'tcp://127.0.0.1:32921'\n",
            "INFO:distributed.nanny:        Start Nanny at: 'tcp://127.0.0.1:33743'\n",
            "INFO:distributed.nanny:        Start Nanny at: 'tcp://127.0.0.1:34309'\n",
            "INFO:distributed.nanny:        Start Nanny at: 'tcp://127.0.0.1:40007'\n",
            "INFO:distributed.nanny:        Start Nanny at: 'tcp://127.0.0.1:32951'\n",
            "INFO:distributed.nanny:        Start Nanny at: 'tcp://127.0.0.1:45763'\n",
            "INFO:distributed.nanny:        Start Nanny at: 'tcp://127.0.0.1:36395'\n",
            "INFO:distributed.nanny:        Start Nanny at: 'tcp://127.0.0.1:42855'\n",
            "INFO:distributed.nanny:        Start Nanny at: 'tcp://127.0.0.1:44991'\n",
            "INFO:distributed.nanny:        Start Nanny at: 'tcp://127.0.0.1:42079'\n",
            "INFO:distributed.nanny:        Start Nanny at: 'tcp://127.0.0.1:34529'\n",
            "INFO:distributed.nanny:        Start Nanny at: 'tcp://127.0.0.1:39219'\n",
            "INFO:distributed.nanny:        Start Nanny at: 'tcp://127.0.0.1:43755'\n",
            "INFO:distributed.nanny:        Start Nanny at: 'tcp://127.0.0.1:38353'\n",
            "INFO:distributed.nanny:        Start Nanny at: 'tcp://127.0.0.1:34795'\n",
            "INFO:distributed.nanny:        Start Nanny at: 'tcp://127.0.0.1:37799'\n",
            "INFO:distributed.nanny:        Start Nanny at: 'tcp://127.0.0.1:42475'\n",
            "INFO:distributed.nanny:        Start Nanny at: 'tcp://127.0.0.1:42701'\n",
            "INFO:distributed.nanny:        Start Nanny at: 'tcp://127.0.0.1:36715'\n",
            "INFO:distributed.nanny:        Start Nanny at: 'tcp://127.0.0.1:36087'\n",
            "INFO:distributed.nanny:        Start Nanny at: 'tcp://127.0.0.1:38199'\n",
            "INFO:distributed.nanny:        Start Nanny at: 'tcp://127.0.0.1:35557'\n",
            "INFO:distributed.nanny:        Start Nanny at: 'tcp://127.0.0.1:37991'\n",
            "INFO:distributed.scheduler:Register worker <WorkerState 'tcp://127.0.0.1:45767', name: 1, status: init, memory: 0, processing: 0>\n",
            "INFO:distributed.scheduler:Starting worker compute stream, tcp://127.0.0.1:45767\n",
            "INFO:distributed.core:Starting established connection to tcp://127.0.0.1:39432\n",
            "INFO:distributed.scheduler:Register worker <WorkerState 'tcp://127.0.0.1:39053', name: 0, status: init, memory: 0, processing: 0>\n",
            "INFO:distributed.scheduler:Starting worker compute stream, tcp://127.0.0.1:39053\n",
            "INFO:distributed.core:Starting established connection to tcp://127.0.0.1:39424\n",
            "INFO:distributed.scheduler:Register worker <WorkerState 'tcp://127.0.0.1:38361', name: 2, status: init, memory: 0, processing: 0>\n",
            "INFO:distributed.scheduler:Starting worker compute stream, tcp://127.0.0.1:38361\n",
            "INFO:distributed.core:Starting established connection to tcp://127.0.0.1:39442\n",
            "INFO:distributed.scheduler:Register worker <WorkerState 'tcp://127.0.0.1:42179', name: 4, status: init, memory: 0, processing: 0>\n",
            "INFO:distributed.scheduler:Starting worker compute stream, tcp://127.0.0.1:42179\n",
            "INFO:distributed.core:Starting established connection to tcp://127.0.0.1:39458\n",
            "INFO:distributed.scheduler:Register worker <WorkerState 'tcp://127.0.0.1:41669', name: 3, status: init, memory: 0, processing: 0>\n",
            "INFO:distributed.scheduler:Starting worker compute stream, tcp://127.0.0.1:41669\n",
            "INFO:distributed.core:Starting established connection to tcp://127.0.0.1:39454\n",
            "INFO:distributed.scheduler:Register worker <WorkerState 'tcp://127.0.0.1:39627', name: 6, status: init, memory: 0, processing: 0>\n",
            "INFO:distributed.scheduler:Starting worker compute stream, tcp://127.0.0.1:39627\n",
            "INFO:distributed.core:Starting established connection to tcp://127.0.0.1:39468\n",
            "INFO:distributed.scheduler:Register worker <WorkerState 'tcp://127.0.0.1:37775', name: 9, status: init, memory: 0, processing: 0>\n",
            "INFO:distributed.scheduler:Starting worker compute stream, tcp://127.0.0.1:37775\n",
            "INFO:distributed.core:Starting established connection to tcp://127.0.0.1:39504\n",
            "INFO:distributed.scheduler:Register worker <WorkerState 'tcp://127.0.0.1:37681', name: 10, status: init, memory: 0, processing: 0>\n",
            "INFO:distributed.scheduler:Starting worker compute stream, tcp://127.0.0.1:37681\n",
            "INFO:distributed.core:Starting established connection to tcp://127.0.0.1:39510\n",
            "INFO:distributed.scheduler:Register worker <WorkerState 'tcp://127.0.0.1:41883', name: 5, status: init, memory: 0, processing: 0>\n",
            "INFO:distributed.scheduler:Starting worker compute stream, tcp://127.0.0.1:41883\n",
            "INFO:distributed.core:Starting established connection to tcp://127.0.0.1:39484\n",
            "INFO:distributed.scheduler:Register worker <WorkerState 'tcp://127.0.0.1:45151', name: 7, status: init, memory: 0, processing: 0>\n",
            "INFO:distributed.scheduler:Starting worker compute stream, tcp://127.0.0.1:45151\n",
            "INFO:distributed.core:Starting established connection to tcp://127.0.0.1:39526\n",
            "INFO:distributed.scheduler:Register worker <WorkerState 'tcp://127.0.0.1:34943', name: 13, status: init, memory: 0, processing: 0>\n",
            "INFO:distributed.scheduler:Starting worker compute stream, tcp://127.0.0.1:34943\n",
            "INFO:distributed.core:Starting established connection to tcp://127.0.0.1:39548\n",
            "INFO:distributed.scheduler:Register worker <WorkerState 'tcp://127.0.0.1:38169', name: 8, status: init, memory: 0, processing: 0>\n",
            "INFO:distributed.scheduler:Starting worker compute stream, tcp://127.0.0.1:38169\n",
            "INFO:distributed.core:Starting established connection to tcp://127.0.0.1:39496\n",
            "INFO:distributed.scheduler:Register worker <WorkerState 'tcp://127.0.0.1:37463', name: 14, status: init, memory: 0, processing: 0>\n",
            "INFO:distributed.scheduler:Starting worker compute stream, tcp://127.0.0.1:37463\n",
            "INFO:distributed.core:Starting established connection to tcp://127.0.0.1:39562\n",
            "INFO:distributed.scheduler:Register worker <WorkerState 'tcp://127.0.0.1:38831', name: 15, status: init, memory: 0, processing: 0>\n",
            "INFO:distributed.scheduler:Starting worker compute stream, tcp://127.0.0.1:38831\n",
            "INFO:distributed.core:Starting established connection to tcp://127.0.0.1:39578\n",
            "INFO:distributed.scheduler:Register worker <WorkerState 'tcp://127.0.0.1:40103', name: 11, status: init, memory: 0, processing: 0>\n",
            "INFO:distributed.scheduler:Starting worker compute stream, tcp://127.0.0.1:40103\n",
            "INFO:distributed.core:Starting established connection to tcp://127.0.0.1:39554\n",
            "INFO:distributed.scheduler:Register worker <WorkerState 'tcp://127.0.0.1:39771', name: 21, status: init, memory: 0, processing: 0>\n",
            "INFO:distributed.scheduler:Starting worker compute stream, tcp://127.0.0.1:39771\n",
            "INFO:distributed.core:Starting established connection to tcp://127.0.0.1:39624\n",
            "INFO:distributed.scheduler:Register worker <WorkerState 'tcp://127.0.0.1:41617', name: 16, status: init, memory: 0, processing: 0>\n",
            "INFO:distributed.scheduler:Starting worker compute stream, tcp://127.0.0.1:41617\n",
            "INFO:distributed.core:Starting established connection to tcp://127.0.0.1:39590\n",
            "INFO:distributed.scheduler:Register worker <WorkerState 'tcp://127.0.0.1:39595', name: 12, status: init, memory: 0, processing: 0>\n",
            "INFO:distributed.scheduler:Starting worker compute stream, tcp://127.0.0.1:39595\n",
            "INFO:distributed.core:Starting established connection to tcp://127.0.0.1:39542\n",
            "INFO:distributed.scheduler:Register worker <WorkerState 'tcp://127.0.0.1:35289', name: 22, status: init, memory: 0, processing: 0>\n",
            "INFO:distributed.scheduler:Starting worker compute stream, tcp://127.0.0.1:35289\n",
            "INFO:distributed.core:Starting established connection to tcp://127.0.0.1:39632\n",
            "INFO:distributed.scheduler:Register worker <WorkerState 'tcp://127.0.0.1:38587', name: 23, status: init, memory: 0, processing: 0>\n",
            "INFO:distributed.scheduler:Starting worker compute stream, tcp://127.0.0.1:38587\n",
            "INFO:distributed.core:Starting established connection to tcp://127.0.0.1:39634\n",
            "INFO:distributed.scheduler:Register worker <WorkerState 'tcp://127.0.0.1:34403', name: 19, status: init, memory: 0, processing: 0>\n",
            "INFO:distributed.scheduler:Starting worker compute stream, tcp://127.0.0.1:34403\n",
            "INFO:distributed.core:Starting established connection to tcp://127.0.0.1:39610\n",
            "INFO:distributed.scheduler:Register worker <WorkerState 'tcp://127.0.0.1:40895', name: 17, status: init, memory: 0, processing: 0>\n",
            "INFO:distributed.scheduler:Starting worker compute stream, tcp://127.0.0.1:40895\n",
            "INFO:distributed.core:Starting established connection to tcp://127.0.0.1:39598\n",
            "INFO:distributed.scheduler:Register worker <WorkerState 'tcp://127.0.0.1:40223', name: 20, status: init, memory: 0, processing: 0>\n",
            "INFO:distributed.scheduler:Starting worker compute stream, tcp://127.0.0.1:40223\n",
            "INFO:distributed.core:Starting established connection to tcp://127.0.0.1:39622\n",
            "INFO:distributed.scheduler:Register worker <WorkerState 'tcp://127.0.0.1:33077', name: 24, status: init, memory: 0, processing: 0>\n",
            "INFO:distributed.scheduler:Starting worker compute stream, tcp://127.0.0.1:33077\n",
            "INFO:distributed.core:Starting established connection to tcp://127.0.0.1:39642\n",
            "INFO:distributed.scheduler:Register worker <WorkerState 'tcp://127.0.0.1:46293', name: 18, status: init, memory: 0, processing: 0>\n",
            "INFO:distributed.scheduler:Starting worker compute stream, tcp://127.0.0.1:46293\n",
            "INFO:distributed.core:Starting established connection to tcp://127.0.0.1:39656\n",
            "INFO:distributed.scheduler:Register worker <WorkerState 'tcp://127.0.0.1:33635', name: 26, status: init, memory: 0, processing: 0>\n",
            "INFO:distributed.scheduler:Starting worker compute stream, tcp://127.0.0.1:33635\n",
            "INFO:distributed.core:Starting established connection to tcp://127.0.0.1:39682\n",
            "INFO:distributed.scheduler:Register worker <WorkerState 'tcp://127.0.0.1:38329', name: 25, status: init, memory: 0, processing: 0>\n",
            "INFO:distributed.scheduler:Starting worker compute stream, tcp://127.0.0.1:38329\n",
            "INFO:distributed.core:Starting established connection to tcp://127.0.0.1:39668\n",
            "INFO:distributed.scheduler:Register worker <WorkerState 'tcp://127.0.0.1:43605', name: 27, status: init, memory: 0, processing: 0>\n",
            "INFO:distributed.scheduler:Starting worker compute stream, tcp://127.0.0.1:43605\n",
            "INFO:distributed.core:Starting established connection to tcp://127.0.0.1:39726\n",
            "INFO:distributed.scheduler:Register worker <WorkerState 'tcp://127.0.0.1:33455', name: 28, status: init, memory: 0, processing: 0>\n",
            "INFO:distributed.scheduler:Starting worker compute stream, tcp://127.0.0.1:33455\n",
            "INFO:distributed.core:Starting established connection to tcp://127.0.0.1:39688\n",
            "INFO:distributed.scheduler:Register worker <WorkerState 'tcp://127.0.0.1:39303', name: 29, status: init, memory: 0, processing: 0>\n",
            "INFO:distributed.scheduler:Starting worker compute stream, tcp://127.0.0.1:39303\n",
            "INFO:distributed.core:Starting established connection to tcp://127.0.0.1:39694\n",
            "INFO:distributed.scheduler:Register worker <WorkerState 'tcp://127.0.0.1:33295', name: 30, status: init, memory: 0, processing: 0>\n",
            "INFO:distributed.scheduler:Starting worker compute stream, tcp://127.0.0.1:33295\n",
            "INFO:distributed.core:Starting established connection to tcp://127.0.0.1:39730\n",
            "INFO:distributed.scheduler:Register worker <WorkerState 'tcp://127.0.0.1:37859', name: 31, status: init, memory: 0, processing: 0>\n",
            "INFO:distributed.scheduler:Starting worker compute stream, tcp://127.0.0.1:37859\n",
            "INFO:distributed.core:Starting established connection to tcp://127.0.0.1:39710\n",
            "INFO:distributed.scheduler:Receive client connection: Client-490beb2c-3d09-11ef-a762-0242ac1c000c\n",
            "INFO:distributed.core:Starting established connection to tcp://127.0.0.1:39734\n"
          ]
        },
        {
          "output_type": "execute_result",
          "data": {
            "text/plain": [
              "<Client: 'tcp://127.0.0.1:40391' processes=32 threads=96, memory=334.56 GiB>"
            ],
            "text/html": [
              "<div>\n",
              "    <div style=\"width: 24px; height: 24px; background-color: #e1e1e1; border: 3px solid #9D9D9D; border-radius: 5px; position: absolute;\"> </div>\n",
              "    <div style=\"margin-left: 48px;\">\n",
              "        <h3 style=\"margin-bottom: 0px;\">Client</h3>\n",
              "        <p style=\"color: #9D9D9D; margin-bottom: 0px;\">Client-490beb2c-3d09-11ef-a762-0242ac1c000c</p>\n",
              "        <table style=\"width: 100%; text-align: left;\">\n",
              "\n",
              "        <tr>\n",
              "        \n",
              "            <td style=\"text-align: left;\"><strong>Connection method:</strong> Cluster object</td>\n",
              "            <td style=\"text-align: left;\"><strong>Cluster type:</strong> distributed.LocalCluster</td>\n",
              "        \n",
              "        </tr>\n",
              "\n",
              "        \n",
              "            <tr>\n",
              "                <td style=\"text-align: left;\">\n",
              "                    <strong>Dashboard: </strong> <a href=\"http://127.0.0.1:8787/status\" target=\"_blank\">http://127.0.0.1:8787/status</a>\n",
              "                </td>\n",
              "                <td style=\"text-align: left;\"></td>\n",
              "            </tr>\n",
              "        \n",
              "\n",
              "        </table>\n",
              "\n",
              "        \n",
              "\n",
              "        \n",
              "            <details>\n",
              "            <summary style=\"margin-bottom: 20px;\"><h3 style=\"display: inline;\">Cluster Info</h3></summary>\n",
              "            <div class=\"jp-RenderedHTMLCommon jp-RenderedHTML jp-mod-trusted jp-OutputArea-output\">\n",
              "    <div style=\"width: 24px; height: 24px; background-color: #e1e1e1; border: 3px solid #9D9D9D; border-radius: 5px; position: absolute;\">\n",
              "    </div>\n",
              "    <div style=\"margin-left: 48px;\">\n",
              "        <h3 style=\"margin-bottom: 0px; margin-top: 0px;\">LocalCluster</h3>\n",
              "        <p style=\"color: #9D9D9D; margin-bottom: 0px;\">4dc72102</p>\n",
              "        <table style=\"width: 100%; text-align: left;\">\n",
              "            <tr>\n",
              "                <td style=\"text-align: left;\">\n",
              "                    <strong>Dashboard:</strong> <a href=\"http://127.0.0.1:8787/status\" target=\"_blank\">http://127.0.0.1:8787/status</a>\n",
              "                </td>\n",
              "                <td style=\"text-align: left;\">\n",
              "                    <strong>Workers:</strong> 32\n",
              "                </td>\n",
              "            </tr>\n",
              "            <tr>\n",
              "                <td style=\"text-align: left;\">\n",
              "                    <strong>Total threads:</strong> 96\n",
              "                </td>\n",
              "                <td style=\"text-align: left;\">\n",
              "                    <strong>Total memory:</strong> 334.56 GiB\n",
              "                </td>\n",
              "            </tr>\n",
              "            \n",
              "            <tr>\n",
              "    <td style=\"text-align: left;\"><strong>Status:</strong> running</td>\n",
              "    <td style=\"text-align: left;\"><strong>Using processes:</strong> True</td>\n",
              "</tr>\n",
              "\n",
              "            \n",
              "        </table>\n",
              "\n",
              "        <details>\n",
              "            <summary style=\"margin-bottom: 20px;\">\n",
              "                <h3 style=\"display: inline;\">Scheduler Info</h3>\n",
              "            </summary>\n",
              "\n",
              "            <div style=\"\">\n",
              "    <div>\n",
              "        <div style=\"width: 24px; height: 24px; background-color: #FFF7E5; border: 3px solid #FF6132; border-radius: 5px; position: absolute;\"> </div>\n",
              "        <div style=\"margin-left: 48px;\">\n",
              "            <h3 style=\"margin-bottom: 0px;\">Scheduler</h3>\n",
              "            <p style=\"color: #9D9D9D; margin-bottom: 0px;\">Scheduler-776d2995-cee8-4f88-a274-9d18a17e2e78</p>\n",
              "            <table style=\"width: 100%; text-align: left;\">\n",
              "                <tr>\n",
              "                    <td style=\"text-align: left;\">\n",
              "                        <strong>Comm:</strong> tcp://127.0.0.1:40391\n",
              "                    </td>\n",
              "                    <td style=\"text-align: left;\">\n",
              "                        <strong>Workers:</strong> 32\n",
              "                    </td>\n",
              "                </tr>\n",
              "                <tr>\n",
              "                    <td style=\"text-align: left;\">\n",
              "                        <strong>Dashboard:</strong> <a href=\"http://127.0.0.1:8787/status\" target=\"_blank\">http://127.0.0.1:8787/status</a>\n",
              "                    </td>\n",
              "                    <td style=\"text-align: left;\">\n",
              "                        <strong>Total threads:</strong> 96\n",
              "                    </td>\n",
              "                </tr>\n",
              "                <tr>\n",
              "                    <td style=\"text-align: left;\">\n",
              "                        <strong>Started:</strong> Just now\n",
              "                    </td>\n",
              "                    <td style=\"text-align: left;\">\n",
              "                        <strong>Total memory:</strong> 334.56 GiB\n",
              "                    </td>\n",
              "                </tr>\n",
              "            </table>\n",
              "        </div>\n",
              "    </div>\n",
              "\n",
              "    <details style=\"margin-left: 48px;\">\n",
              "        <summary style=\"margin-bottom: 20px;\">\n",
              "            <h3 style=\"display: inline;\">Workers</h3>\n",
              "        </summary>\n",
              "\n",
              "        \n",
              "        <div style=\"margin-bottom: 20px;\">\n",
              "            <div style=\"width: 24px; height: 24px; background-color: #DBF5FF; border: 3px solid #4CC9FF; border-radius: 5px; position: absolute;\"> </div>\n",
              "            <div style=\"margin-left: 48px;\">\n",
              "            <details>\n",
              "                <summary>\n",
              "                    <h4 style=\"margin-bottom: 0px; display: inline;\">Worker: 0</h4>\n",
              "                </summary>\n",
              "                <table style=\"width: 100%; text-align: left;\">\n",
              "                    <tr>\n",
              "                        <td style=\"text-align: left;\">\n",
              "                            <strong>Comm: </strong> tcp://127.0.0.1:39053\n",
              "                        </td>\n",
              "                        <td style=\"text-align: left;\">\n",
              "                            <strong>Total threads: </strong> 3\n",
              "                        </td>\n",
              "                    </tr>\n",
              "                    <tr>\n",
              "                        <td style=\"text-align: left;\">\n",
              "                            <strong>Dashboard: </strong> <a href=\"http://127.0.0.1:33915/status\" target=\"_blank\">http://127.0.0.1:33915/status</a>\n",
              "                        </td>\n",
              "                        <td style=\"text-align: left;\">\n",
              "                            <strong>Memory: </strong> 10.46 GiB\n",
              "                        </td>\n",
              "                    </tr>\n",
              "                    <tr>\n",
              "                        <td style=\"text-align: left;\">\n",
              "                            <strong>Nanny: </strong> tcp://127.0.0.1:38149\n",
              "                        </td>\n",
              "                        <td style=\"text-align: left;\"></td>\n",
              "                    </tr>\n",
              "                    <tr>\n",
              "                        <td colspan=\"2\" style=\"text-align: left;\">\n",
              "                            <strong>Local directory: </strong> /tmp/dask-scratch-space/worker-b1hytequ\n",
              "                        </td>\n",
              "                    </tr>\n",
              "\n",
              "                    \n",
              "\n",
              "                    \n",
              "\n",
              "                </table>\n",
              "            </details>\n",
              "            </div>\n",
              "        </div>\n",
              "        \n",
              "        <div style=\"margin-bottom: 20px;\">\n",
              "            <div style=\"width: 24px; height: 24px; background-color: #DBF5FF; border: 3px solid #4CC9FF; border-radius: 5px; position: absolute;\"> </div>\n",
              "            <div style=\"margin-left: 48px;\">\n",
              "            <details>\n",
              "                <summary>\n",
              "                    <h4 style=\"margin-bottom: 0px; display: inline;\">Worker: 1</h4>\n",
              "                </summary>\n",
              "                <table style=\"width: 100%; text-align: left;\">\n",
              "                    <tr>\n",
              "                        <td style=\"text-align: left;\">\n",
              "                            <strong>Comm: </strong> tcp://127.0.0.1:45767\n",
              "                        </td>\n",
              "                        <td style=\"text-align: left;\">\n",
              "                            <strong>Total threads: </strong> 3\n",
              "                        </td>\n",
              "                    </tr>\n",
              "                    <tr>\n",
              "                        <td style=\"text-align: left;\">\n",
              "                            <strong>Dashboard: </strong> <a href=\"http://127.0.0.1:38207/status\" target=\"_blank\">http://127.0.0.1:38207/status</a>\n",
              "                        </td>\n",
              "                        <td style=\"text-align: left;\">\n",
              "                            <strong>Memory: </strong> 10.46 GiB\n",
              "                        </td>\n",
              "                    </tr>\n",
              "                    <tr>\n",
              "                        <td style=\"text-align: left;\">\n",
              "                            <strong>Nanny: </strong> tcp://127.0.0.1:33853\n",
              "                        </td>\n",
              "                        <td style=\"text-align: left;\"></td>\n",
              "                    </tr>\n",
              "                    <tr>\n",
              "                        <td colspan=\"2\" style=\"text-align: left;\">\n",
              "                            <strong>Local directory: </strong> /tmp/dask-scratch-space/worker-ji22olxc\n",
              "                        </td>\n",
              "                    </tr>\n",
              "\n",
              "                    \n",
              "\n",
              "                    \n",
              "\n",
              "                </table>\n",
              "            </details>\n",
              "            </div>\n",
              "        </div>\n",
              "        \n",
              "        <div style=\"margin-bottom: 20px;\">\n",
              "            <div style=\"width: 24px; height: 24px; background-color: #DBF5FF; border: 3px solid #4CC9FF; border-radius: 5px; position: absolute;\"> </div>\n",
              "            <div style=\"margin-left: 48px;\">\n",
              "            <details>\n",
              "                <summary>\n",
              "                    <h4 style=\"margin-bottom: 0px; display: inline;\">Worker: 2</h4>\n",
              "                </summary>\n",
              "                <table style=\"width: 100%; text-align: left;\">\n",
              "                    <tr>\n",
              "                        <td style=\"text-align: left;\">\n",
              "                            <strong>Comm: </strong> tcp://127.0.0.1:38361\n",
              "                        </td>\n",
              "                        <td style=\"text-align: left;\">\n",
              "                            <strong>Total threads: </strong> 3\n",
              "                        </td>\n",
              "                    </tr>\n",
              "                    <tr>\n",
              "                        <td style=\"text-align: left;\">\n",
              "                            <strong>Dashboard: </strong> <a href=\"http://127.0.0.1:33597/status\" target=\"_blank\">http://127.0.0.1:33597/status</a>\n",
              "                        </td>\n",
              "                        <td style=\"text-align: left;\">\n",
              "                            <strong>Memory: </strong> 10.46 GiB\n",
              "                        </td>\n",
              "                    </tr>\n",
              "                    <tr>\n",
              "                        <td style=\"text-align: left;\">\n",
              "                            <strong>Nanny: </strong> tcp://127.0.0.1:35631\n",
              "                        </td>\n",
              "                        <td style=\"text-align: left;\"></td>\n",
              "                    </tr>\n",
              "                    <tr>\n",
              "                        <td colspan=\"2\" style=\"text-align: left;\">\n",
              "                            <strong>Local directory: </strong> /tmp/dask-scratch-space/worker-3viup1og\n",
              "                        </td>\n",
              "                    </tr>\n",
              "\n",
              "                    \n",
              "\n",
              "                    \n",
              "\n",
              "                </table>\n",
              "            </details>\n",
              "            </div>\n",
              "        </div>\n",
              "        \n",
              "        <div style=\"margin-bottom: 20px;\">\n",
              "            <div style=\"width: 24px; height: 24px; background-color: #DBF5FF; border: 3px solid #4CC9FF; border-radius: 5px; position: absolute;\"> </div>\n",
              "            <div style=\"margin-left: 48px;\">\n",
              "            <details>\n",
              "                <summary>\n",
              "                    <h4 style=\"margin-bottom: 0px; display: inline;\">Worker: 3</h4>\n",
              "                </summary>\n",
              "                <table style=\"width: 100%; text-align: left;\">\n",
              "                    <tr>\n",
              "                        <td style=\"text-align: left;\">\n",
              "                            <strong>Comm: </strong> tcp://127.0.0.1:41669\n",
              "                        </td>\n",
              "                        <td style=\"text-align: left;\">\n",
              "                            <strong>Total threads: </strong> 3\n",
              "                        </td>\n",
              "                    </tr>\n",
              "                    <tr>\n",
              "                        <td style=\"text-align: left;\">\n",
              "                            <strong>Dashboard: </strong> <a href=\"http://127.0.0.1:36689/status\" target=\"_blank\">http://127.0.0.1:36689/status</a>\n",
              "                        </td>\n",
              "                        <td style=\"text-align: left;\">\n",
              "                            <strong>Memory: </strong> 10.46 GiB\n",
              "                        </td>\n",
              "                    </tr>\n",
              "                    <tr>\n",
              "                        <td style=\"text-align: left;\">\n",
              "                            <strong>Nanny: </strong> tcp://127.0.0.1:43743\n",
              "                        </td>\n",
              "                        <td style=\"text-align: left;\"></td>\n",
              "                    </tr>\n",
              "                    <tr>\n",
              "                        <td colspan=\"2\" style=\"text-align: left;\">\n",
              "                            <strong>Local directory: </strong> /tmp/dask-scratch-space/worker-vhz29ygp\n",
              "                        </td>\n",
              "                    </tr>\n",
              "\n",
              "                    \n",
              "\n",
              "                    \n",
              "\n",
              "                </table>\n",
              "            </details>\n",
              "            </div>\n",
              "        </div>\n",
              "        \n",
              "        <div style=\"margin-bottom: 20px;\">\n",
              "            <div style=\"width: 24px; height: 24px; background-color: #DBF5FF; border: 3px solid #4CC9FF; border-radius: 5px; position: absolute;\"> </div>\n",
              "            <div style=\"margin-left: 48px;\">\n",
              "            <details>\n",
              "                <summary>\n",
              "                    <h4 style=\"margin-bottom: 0px; display: inline;\">Worker: 4</h4>\n",
              "                </summary>\n",
              "                <table style=\"width: 100%; text-align: left;\">\n",
              "                    <tr>\n",
              "                        <td style=\"text-align: left;\">\n",
              "                            <strong>Comm: </strong> tcp://127.0.0.1:42179\n",
              "                        </td>\n",
              "                        <td style=\"text-align: left;\">\n",
              "                            <strong>Total threads: </strong> 3\n",
              "                        </td>\n",
              "                    </tr>\n",
              "                    <tr>\n",
              "                        <td style=\"text-align: left;\">\n",
              "                            <strong>Dashboard: </strong> <a href=\"http://127.0.0.1:46501/status\" target=\"_blank\">http://127.0.0.1:46501/status</a>\n",
              "                        </td>\n",
              "                        <td style=\"text-align: left;\">\n",
              "                            <strong>Memory: </strong> 10.46 GiB\n",
              "                        </td>\n",
              "                    </tr>\n",
              "                    <tr>\n",
              "                        <td style=\"text-align: left;\">\n",
              "                            <strong>Nanny: </strong> tcp://127.0.0.1:37005\n",
              "                        </td>\n",
              "                        <td style=\"text-align: left;\"></td>\n",
              "                    </tr>\n",
              "                    <tr>\n",
              "                        <td colspan=\"2\" style=\"text-align: left;\">\n",
              "                            <strong>Local directory: </strong> /tmp/dask-scratch-space/worker-cqo2bqlz\n",
              "                        </td>\n",
              "                    </tr>\n",
              "\n",
              "                    \n",
              "\n",
              "                    \n",
              "\n",
              "                </table>\n",
              "            </details>\n",
              "            </div>\n",
              "        </div>\n",
              "        \n",
              "        <div style=\"margin-bottom: 20px;\">\n",
              "            <div style=\"width: 24px; height: 24px; background-color: #DBF5FF; border: 3px solid #4CC9FF; border-radius: 5px; position: absolute;\"> </div>\n",
              "            <div style=\"margin-left: 48px;\">\n",
              "            <details>\n",
              "                <summary>\n",
              "                    <h4 style=\"margin-bottom: 0px; display: inline;\">Worker: 5</h4>\n",
              "                </summary>\n",
              "                <table style=\"width: 100%; text-align: left;\">\n",
              "                    <tr>\n",
              "                        <td style=\"text-align: left;\">\n",
              "                            <strong>Comm: </strong> tcp://127.0.0.1:41883\n",
              "                        </td>\n",
              "                        <td style=\"text-align: left;\">\n",
              "                            <strong>Total threads: </strong> 3\n",
              "                        </td>\n",
              "                    </tr>\n",
              "                    <tr>\n",
              "                        <td style=\"text-align: left;\">\n",
              "                            <strong>Dashboard: </strong> <a href=\"http://127.0.0.1:39971/status\" target=\"_blank\">http://127.0.0.1:39971/status</a>\n",
              "                        </td>\n",
              "                        <td style=\"text-align: left;\">\n",
              "                            <strong>Memory: </strong> 10.46 GiB\n",
              "                        </td>\n",
              "                    </tr>\n",
              "                    <tr>\n",
              "                        <td style=\"text-align: left;\">\n",
              "                            <strong>Nanny: </strong> tcp://127.0.0.1:45835\n",
              "                        </td>\n",
              "                        <td style=\"text-align: left;\"></td>\n",
              "                    </tr>\n",
              "                    <tr>\n",
              "                        <td colspan=\"2\" style=\"text-align: left;\">\n",
              "                            <strong>Local directory: </strong> /tmp/dask-scratch-space/worker-yqpu_p9f\n",
              "                        </td>\n",
              "                    </tr>\n",
              "\n",
              "                    \n",
              "\n",
              "                    \n",
              "\n",
              "                </table>\n",
              "            </details>\n",
              "            </div>\n",
              "        </div>\n",
              "        \n",
              "        <div style=\"margin-bottom: 20px;\">\n",
              "            <div style=\"width: 24px; height: 24px; background-color: #DBF5FF; border: 3px solid #4CC9FF; border-radius: 5px; position: absolute;\"> </div>\n",
              "            <div style=\"margin-left: 48px;\">\n",
              "            <details>\n",
              "                <summary>\n",
              "                    <h4 style=\"margin-bottom: 0px; display: inline;\">Worker: 6</h4>\n",
              "                </summary>\n",
              "                <table style=\"width: 100%; text-align: left;\">\n",
              "                    <tr>\n",
              "                        <td style=\"text-align: left;\">\n",
              "                            <strong>Comm: </strong> tcp://127.0.0.1:39627\n",
              "                        </td>\n",
              "                        <td style=\"text-align: left;\">\n",
              "                            <strong>Total threads: </strong> 3\n",
              "                        </td>\n",
              "                    </tr>\n",
              "                    <tr>\n",
              "                        <td style=\"text-align: left;\">\n",
              "                            <strong>Dashboard: </strong> <a href=\"http://127.0.0.1:42291/status\" target=\"_blank\">http://127.0.0.1:42291/status</a>\n",
              "                        </td>\n",
              "                        <td style=\"text-align: left;\">\n",
              "                            <strong>Memory: </strong> 10.46 GiB\n",
              "                        </td>\n",
              "                    </tr>\n",
              "                    <tr>\n",
              "                        <td style=\"text-align: left;\">\n",
              "                            <strong>Nanny: </strong> tcp://127.0.0.1:34857\n",
              "                        </td>\n",
              "                        <td style=\"text-align: left;\"></td>\n",
              "                    </tr>\n",
              "                    <tr>\n",
              "                        <td colspan=\"2\" style=\"text-align: left;\">\n",
              "                            <strong>Local directory: </strong> /tmp/dask-scratch-space/worker-541_ndze\n",
              "                        </td>\n",
              "                    </tr>\n",
              "\n",
              "                    \n",
              "\n",
              "                    \n",
              "\n",
              "                </table>\n",
              "            </details>\n",
              "            </div>\n",
              "        </div>\n",
              "        \n",
              "        <div style=\"margin-bottom: 20px;\">\n",
              "            <div style=\"width: 24px; height: 24px; background-color: #DBF5FF; border: 3px solid #4CC9FF; border-radius: 5px; position: absolute;\"> </div>\n",
              "            <div style=\"margin-left: 48px;\">\n",
              "            <details>\n",
              "                <summary>\n",
              "                    <h4 style=\"margin-bottom: 0px; display: inline;\">Worker: 7</h4>\n",
              "                </summary>\n",
              "                <table style=\"width: 100%; text-align: left;\">\n",
              "                    <tr>\n",
              "                        <td style=\"text-align: left;\">\n",
              "                            <strong>Comm: </strong> tcp://127.0.0.1:45151\n",
              "                        </td>\n",
              "                        <td style=\"text-align: left;\">\n",
              "                            <strong>Total threads: </strong> 3\n",
              "                        </td>\n",
              "                    </tr>\n",
              "                    <tr>\n",
              "                        <td style=\"text-align: left;\">\n",
              "                            <strong>Dashboard: </strong> <a href=\"http://127.0.0.1:36377/status\" target=\"_blank\">http://127.0.0.1:36377/status</a>\n",
              "                        </td>\n",
              "                        <td style=\"text-align: left;\">\n",
              "                            <strong>Memory: </strong> 10.46 GiB\n",
              "                        </td>\n",
              "                    </tr>\n",
              "                    <tr>\n",
              "                        <td style=\"text-align: left;\">\n",
              "                            <strong>Nanny: </strong> tcp://127.0.0.1:37345\n",
              "                        </td>\n",
              "                        <td style=\"text-align: left;\"></td>\n",
              "                    </tr>\n",
              "                    <tr>\n",
              "                        <td colspan=\"2\" style=\"text-align: left;\">\n",
              "                            <strong>Local directory: </strong> /tmp/dask-scratch-space/worker-3p04062e\n",
              "                        </td>\n",
              "                    </tr>\n",
              "\n",
              "                    \n",
              "\n",
              "                    \n",
              "\n",
              "                </table>\n",
              "            </details>\n",
              "            </div>\n",
              "        </div>\n",
              "        \n",
              "        <div style=\"margin-bottom: 20px;\">\n",
              "            <div style=\"width: 24px; height: 24px; background-color: #DBF5FF; border: 3px solid #4CC9FF; border-radius: 5px; position: absolute;\"> </div>\n",
              "            <div style=\"margin-left: 48px;\">\n",
              "            <details>\n",
              "                <summary>\n",
              "                    <h4 style=\"margin-bottom: 0px; display: inline;\">Worker: 8</h4>\n",
              "                </summary>\n",
              "                <table style=\"width: 100%; text-align: left;\">\n",
              "                    <tr>\n",
              "                        <td style=\"text-align: left;\">\n",
              "                            <strong>Comm: </strong> tcp://127.0.0.1:38169\n",
              "                        </td>\n",
              "                        <td style=\"text-align: left;\">\n",
              "                            <strong>Total threads: </strong> 3\n",
              "                        </td>\n",
              "                    </tr>\n",
              "                    <tr>\n",
              "                        <td style=\"text-align: left;\">\n",
              "                            <strong>Dashboard: </strong> <a href=\"http://127.0.0.1:39215/status\" target=\"_blank\">http://127.0.0.1:39215/status</a>\n",
              "                        </td>\n",
              "                        <td style=\"text-align: left;\">\n",
              "                            <strong>Memory: </strong> 10.46 GiB\n",
              "                        </td>\n",
              "                    </tr>\n",
              "                    <tr>\n",
              "                        <td style=\"text-align: left;\">\n",
              "                            <strong>Nanny: </strong> tcp://127.0.0.1:39033\n",
              "                        </td>\n",
              "                        <td style=\"text-align: left;\"></td>\n",
              "                    </tr>\n",
              "                    <tr>\n",
              "                        <td colspan=\"2\" style=\"text-align: left;\">\n",
              "                            <strong>Local directory: </strong> /tmp/dask-scratch-space/worker-uchcj900\n",
              "                        </td>\n",
              "                    </tr>\n",
              "\n",
              "                    \n",
              "\n",
              "                    \n",
              "\n",
              "                </table>\n",
              "            </details>\n",
              "            </div>\n",
              "        </div>\n",
              "        \n",
              "        <div style=\"margin-bottom: 20px;\">\n",
              "            <div style=\"width: 24px; height: 24px; background-color: #DBF5FF; border: 3px solid #4CC9FF; border-radius: 5px; position: absolute;\"> </div>\n",
              "            <div style=\"margin-left: 48px;\">\n",
              "            <details>\n",
              "                <summary>\n",
              "                    <h4 style=\"margin-bottom: 0px; display: inline;\">Worker: 9</h4>\n",
              "                </summary>\n",
              "                <table style=\"width: 100%; text-align: left;\">\n",
              "                    <tr>\n",
              "                        <td style=\"text-align: left;\">\n",
              "                            <strong>Comm: </strong> tcp://127.0.0.1:37775\n",
              "                        </td>\n",
              "                        <td style=\"text-align: left;\">\n",
              "                            <strong>Total threads: </strong> 3\n",
              "                        </td>\n",
              "                    </tr>\n",
              "                    <tr>\n",
              "                        <td style=\"text-align: left;\">\n",
              "                            <strong>Dashboard: </strong> <a href=\"http://127.0.0.1:33431/status\" target=\"_blank\">http://127.0.0.1:33431/status</a>\n",
              "                        </td>\n",
              "                        <td style=\"text-align: left;\">\n",
              "                            <strong>Memory: </strong> 10.46 GiB\n",
              "                        </td>\n",
              "                    </tr>\n",
              "                    <tr>\n",
              "                        <td style=\"text-align: left;\">\n",
              "                            <strong>Nanny: </strong> tcp://127.0.0.1:32921\n",
              "                        </td>\n",
              "                        <td style=\"text-align: left;\"></td>\n",
              "                    </tr>\n",
              "                    <tr>\n",
              "                        <td colspan=\"2\" style=\"text-align: left;\">\n",
              "                            <strong>Local directory: </strong> /tmp/dask-scratch-space/worker-6f7etyfp\n",
              "                        </td>\n",
              "                    </tr>\n",
              "\n",
              "                    \n",
              "\n",
              "                    \n",
              "\n",
              "                </table>\n",
              "            </details>\n",
              "            </div>\n",
              "        </div>\n",
              "        \n",
              "        <div style=\"margin-bottom: 20px;\">\n",
              "            <div style=\"width: 24px; height: 24px; background-color: #DBF5FF; border: 3px solid #4CC9FF; border-radius: 5px; position: absolute;\"> </div>\n",
              "            <div style=\"margin-left: 48px;\">\n",
              "            <details>\n",
              "                <summary>\n",
              "                    <h4 style=\"margin-bottom: 0px; display: inline;\">Worker: 10</h4>\n",
              "                </summary>\n",
              "                <table style=\"width: 100%; text-align: left;\">\n",
              "                    <tr>\n",
              "                        <td style=\"text-align: left;\">\n",
              "                            <strong>Comm: </strong> tcp://127.0.0.1:37681\n",
              "                        </td>\n",
              "                        <td style=\"text-align: left;\">\n",
              "                            <strong>Total threads: </strong> 3\n",
              "                        </td>\n",
              "                    </tr>\n",
              "                    <tr>\n",
              "                        <td style=\"text-align: left;\">\n",
              "                            <strong>Dashboard: </strong> <a href=\"http://127.0.0.1:39431/status\" target=\"_blank\">http://127.0.0.1:39431/status</a>\n",
              "                        </td>\n",
              "                        <td style=\"text-align: left;\">\n",
              "                            <strong>Memory: </strong> 10.46 GiB\n",
              "                        </td>\n",
              "                    </tr>\n",
              "                    <tr>\n",
              "                        <td style=\"text-align: left;\">\n",
              "                            <strong>Nanny: </strong> tcp://127.0.0.1:33743\n",
              "                        </td>\n",
              "                        <td style=\"text-align: left;\"></td>\n",
              "                    </tr>\n",
              "                    <tr>\n",
              "                        <td colspan=\"2\" style=\"text-align: left;\">\n",
              "                            <strong>Local directory: </strong> /tmp/dask-scratch-space/worker-wlpjpnf0\n",
              "                        </td>\n",
              "                    </tr>\n",
              "\n",
              "                    \n",
              "\n",
              "                    \n",
              "\n",
              "                </table>\n",
              "            </details>\n",
              "            </div>\n",
              "        </div>\n",
              "        \n",
              "        <div style=\"margin-bottom: 20px;\">\n",
              "            <div style=\"width: 24px; height: 24px; background-color: #DBF5FF; border: 3px solid #4CC9FF; border-radius: 5px; position: absolute;\"> </div>\n",
              "            <div style=\"margin-left: 48px;\">\n",
              "            <details>\n",
              "                <summary>\n",
              "                    <h4 style=\"margin-bottom: 0px; display: inline;\">Worker: 11</h4>\n",
              "                </summary>\n",
              "                <table style=\"width: 100%; text-align: left;\">\n",
              "                    <tr>\n",
              "                        <td style=\"text-align: left;\">\n",
              "                            <strong>Comm: </strong> tcp://127.0.0.1:40103\n",
              "                        </td>\n",
              "                        <td style=\"text-align: left;\">\n",
              "                            <strong>Total threads: </strong> 3\n",
              "                        </td>\n",
              "                    </tr>\n",
              "                    <tr>\n",
              "                        <td style=\"text-align: left;\">\n",
              "                            <strong>Dashboard: </strong> <a href=\"http://127.0.0.1:42383/status\" target=\"_blank\">http://127.0.0.1:42383/status</a>\n",
              "                        </td>\n",
              "                        <td style=\"text-align: left;\">\n",
              "                            <strong>Memory: </strong> 10.46 GiB\n",
              "                        </td>\n",
              "                    </tr>\n",
              "                    <tr>\n",
              "                        <td style=\"text-align: left;\">\n",
              "                            <strong>Nanny: </strong> tcp://127.0.0.1:34309\n",
              "                        </td>\n",
              "                        <td style=\"text-align: left;\"></td>\n",
              "                    </tr>\n",
              "                    <tr>\n",
              "                        <td colspan=\"2\" style=\"text-align: left;\">\n",
              "                            <strong>Local directory: </strong> /tmp/dask-scratch-space/worker-n4or6jbf\n",
              "                        </td>\n",
              "                    </tr>\n",
              "\n",
              "                    \n",
              "\n",
              "                    \n",
              "\n",
              "                </table>\n",
              "            </details>\n",
              "            </div>\n",
              "        </div>\n",
              "        \n",
              "        <div style=\"margin-bottom: 20px;\">\n",
              "            <div style=\"width: 24px; height: 24px; background-color: #DBF5FF; border: 3px solid #4CC9FF; border-radius: 5px; position: absolute;\"> </div>\n",
              "            <div style=\"margin-left: 48px;\">\n",
              "            <details>\n",
              "                <summary>\n",
              "                    <h4 style=\"margin-bottom: 0px; display: inline;\">Worker: 12</h4>\n",
              "                </summary>\n",
              "                <table style=\"width: 100%; text-align: left;\">\n",
              "                    <tr>\n",
              "                        <td style=\"text-align: left;\">\n",
              "                            <strong>Comm: </strong> tcp://127.0.0.1:39595\n",
              "                        </td>\n",
              "                        <td style=\"text-align: left;\">\n",
              "                            <strong>Total threads: </strong> 3\n",
              "                        </td>\n",
              "                    </tr>\n",
              "                    <tr>\n",
              "                        <td style=\"text-align: left;\">\n",
              "                            <strong>Dashboard: </strong> <a href=\"http://127.0.0.1:37561/status\" target=\"_blank\">http://127.0.0.1:37561/status</a>\n",
              "                        </td>\n",
              "                        <td style=\"text-align: left;\">\n",
              "                            <strong>Memory: </strong> 10.46 GiB\n",
              "                        </td>\n",
              "                    </tr>\n",
              "                    <tr>\n",
              "                        <td style=\"text-align: left;\">\n",
              "                            <strong>Nanny: </strong> tcp://127.0.0.1:40007\n",
              "                        </td>\n",
              "                        <td style=\"text-align: left;\"></td>\n",
              "                    </tr>\n",
              "                    <tr>\n",
              "                        <td colspan=\"2\" style=\"text-align: left;\">\n",
              "                            <strong>Local directory: </strong> /tmp/dask-scratch-space/worker-ikt02_lx\n",
              "                        </td>\n",
              "                    </tr>\n",
              "\n",
              "                    \n",
              "\n",
              "                    \n",
              "\n",
              "                </table>\n",
              "            </details>\n",
              "            </div>\n",
              "        </div>\n",
              "        \n",
              "        <div style=\"margin-bottom: 20px;\">\n",
              "            <div style=\"width: 24px; height: 24px; background-color: #DBF5FF; border: 3px solid #4CC9FF; border-radius: 5px; position: absolute;\"> </div>\n",
              "            <div style=\"margin-left: 48px;\">\n",
              "            <details>\n",
              "                <summary>\n",
              "                    <h4 style=\"margin-bottom: 0px; display: inline;\">Worker: 13</h4>\n",
              "                </summary>\n",
              "                <table style=\"width: 100%; text-align: left;\">\n",
              "                    <tr>\n",
              "                        <td style=\"text-align: left;\">\n",
              "                            <strong>Comm: </strong> tcp://127.0.0.1:34943\n",
              "                        </td>\n",
              "                        <td style=\"text-align: left;\">\n",
              "                            <strong>Total threads: </strong> 3\n",
              "                        </td>\n",
              "                    </tr>\n",
              "                    <tr>\n",
              "                        <td style=\"text-align: left;\">\n",
              "                            <strong>Dashboard: </strong> <a href=\"http://127.0.0.1:42147/status\" target=\"_blank\">http://127.0.0.1:42147/status</a>\n",
              "                        </td>\n",
              "                        <td style=\"text-align: left;\">\n",
              "                            <strong>Memory: </strong> 10.46 GiB\n",
              "                        </td>\n",
              "                    </tr>\n",
              "                    <tr>\n",
              "                        <td style=\"text-align: left;\">\n",
              "                            <strong>Nanny: </strong> tcp://127.0.0.1:32951\n",
              "                        </td>\n",
              "                        <td style=\"text-align: left;\"></td>\n",
              "                    </tr>\n",
              "                    <tr>\n",
              "                        <td colspan=\"2\" style=\"text-align: left;\">\n",
              "                            <strong>Local directory: </strong> /tmp/dask-scratch-space/worker-z_caztuq\n",
              "                        </td>\n",
              "                    </tr>\n",
              "\n",
              "                    \n",
              "\n",
              "                    \n",
              "\n",
              "                </table>\n",
              "            </details>\n",
              "            </div>\n",
              "        </div>\n",
              "        \n",
              "        <div style=\"margin-bottom: 20px;\">\n",
              "            <div style=\"width: 24px; height: 24px; background-color: #DBF5FF; border: 3px solid #4CC9FF; border-radius: 5px; position: absolute;\"> </div>\n",
              "            <div style=\"margin-left: 48px;\">\n",
              "            <details>\n",
              "                <summary>\n",
              "                    <h4 style=\"margin-bottom: 0px; display: inline;\">Worker: 14</h4>\n",
              "                </summary>\n",
              "                <table style=\"width: 100%; text-align: left;\">\n",
              "                    <tr>\n",
              "                        <td style=\"text-align: left;\">\n",
              "                            <strong>Comm: </strong> tcp://127.0.0.1:37463\n",
              "                        </td>\n",
              "                        <td style=\"text-align: left;\">\n",
              "                            <strong>Total threads: </strong> 3\n",
              "                        </td>\n",
              "                    </tr>\n",
              "                    <tr>\n",
              "                        <td style=\"text-align: left;\">\n",
              "                            <strong>Dashboard: </strong> <a href=\"http://127.0.0.1:42135/status\" target=\"_blank\">http://127.0.0.1:42135/status</a>\n",
              "                        </td>\n",
              "                        <td style=\"text-align: left;\">\n",
              "                            <strong>Memory: </strong> 10.46 GiB\n",
              "                        </td>\n",
              "                    </tr>\n",
              "                    <tr>\n",
              "                        <td style=\"text-align: left;\">\n",
              "                            <strong>Nanny: </strong> tcp://127.0.0.1:45763\n",
              "                        </td>\n",
              "                        <td style=\"text-align: left;\"></td>\n",
              "                    </tr>\n",
              "                    <tr>\n",
              "                        <td colspan=\"2\" style=\"text-align: left;\">\n",
              "                            <strong>Local directory: </strong> /tmp/dask-scratch-space/worker-ymf7osfv\n",
              "                        </td>\n",
              "                    </tr>\n",
              "\n",
              "                    \n",
              "\n",
              "                    \n",
              "\n",
              "                </table>\n",
              "            </details>\n",
              "            </div>\n",
              "        </div>\n",
              "        \n",
              "        <div style=\"margin-bottom: 20px;\">\n",
              "            <div style=\"width: 24px; height: 24px; background-color: #DBF5FF; border: 3px solid #4CC9FF; border-radius: 5px; position: absolute;\"> </div>\n",
              "            <div style=\"margin-left: 48px;\">\n",
              "            <details>\n",
              "                <summary>\n",
              "                    <h4 style=\"margin-bottom: 0px; display: inline;\">Worker: 15</h4>\n",
              "                </summary>\n",
              "                <table style=\"width: 100%; text-align: left;\">\n",
              "                    <tr>\n",
              "                        <td style=\"text-align: left;\">\n",
              "                            <strong>Comm: </strong> tcp://127.0.0.1:38831\n",
              "                        </td>\n",
              "                        <td style=\"text-align: left;\">\n",
              "                            <strong>Total threads: </strong> 3\n",
              "                        </td>\n",
              "                    </tr>\n",
              "                    <tr>\n",
              "                        <td style=\"text-align: left;\">\n",
              "                            <strong>Dashboard: </strong> <a href=\"http://127.0.0.1:43963/status\" target=\"_blank\">http://127.0.0.1:43963/status</a>\n",
              "                        </td>\n",
              "                        <td style=\"text-align: left;\">\n",
              "                            <strong>Memory: </strong> 10.46 GiB\n",
              "                        </td>\n",
              "                    </tr>\n",
              "                    <tr>\n",
              "                        <td style=\"text-align: left;\">\n",
              "                            <strong>Nanny: </strong> tcp://127.0.0.1:36395\n",
              "                        </td>\n",
              "                        <td style=\"text-align: left;\"></td>\n",
              "                    </tr>\n",
              "                    <tr>\n",
              "                        <td colspan=\"2\" style=\"text-align: left;\">\n",
              "                            <strong>Local directory: </strong> /tmp/dask-scratch-space/worker-4izstku4\n",
              "                        </td>\n",
              "                    </tr>\n",
              "\n",
              "                    \n",
              "\n",
              "                    \n",
              "\n",
              "                </table>\n",
              "            </details>\n",
              "            </div>\n",
              "        </div>\n",
              "        \n",
              "        <div style=\"margin-bottom: 20px;\">\n",
              "            <div style=\"width: 24px; height: 24px; background-color: #DBF5FF; border: 3px solid #4CC9FF; border-radius: 5px; position: absolute;\"> </div>\n",
              "            <div style=\"margin-left: 48px;\">\n",
              "            <details>\n",
              "                <summary>\n",
              "                    <h4 style=\"margin-bottom: 0px; display: inline;\">Worker: 16</h4>\n",
              "                </summary>\n",
              "                <table style=\"width: 100%; text-align: left;\">\n",
              "                    <tr>\n",
              "                        <td style=\"text-align: left;\">\n",
              "                            <strong>Comm: </strong> tcp://127.0.0.1:41617\n",
              "                        </td>\n",
              "                        <td style=\"text-align: left;\">\n",
              "                            <strong>Total threads: </strong> 3\n",
              "                        </td>\n",
              "                    </tr>\n",
              "                    <tr>\n",
              "                        <td style=\"text-align: left;\">\n",
              "                            <strong>Dashboard: </strong> <a href=\"http://127.0.0.1:34519/status\" target=\"_blank\">http://127.0.0.1:34519/status</a>\n",
              "                        </td>\n",
              "                        <td style=\"text-align: left;\">\n",
              "                            <strong>Memory: </strong> 10.46 GiB\n",
              "                        </td>\n",
              "                    </tr>\n",
              "                    <tr>\n",
              "                        <td style=\"text-align: left;\">\n",
              "                            <strong>Nanny: </strong> tcp://127.0.0.1:42855\n",
              "                        </td>\n",
              "                        <td style=\"text-align: left;\"></td>\n",
              "                    </tr>\n",
              "                    <tr>\n",
              "                        <td colspan=\"2\" style=\"text-align: left;\">\n",
              "                            <strong>Local directory: </strong> /tmp/dask-scratch-space/worker-ybnlmlei\n",
              "                        </td>\n",
              "                    </tr>\n",
              "\n",
              "                    \n",
              "\n",
              "                    \n",
              "\n",
              "                </table>\n",
              "            </details>\n",
              "            </div>\n",
              "        </div>\n",
              "        \n",
              "        <div style=\"margin-bottom: 20px;\">\n",
              "            <div style=\"width: 24px; height: 24px; background-color: #DBF5FF; border: 3px solid #4CC9FF; border-radius: 5px; position: absolute;\"> </div>\n",
              "            <div style=\"margin-left: 48px;\">\n",
              "            <details>\n",
              "                <summary>\n",
              "                    <h4 style=\"margin-bottom: 0px; display: inline;\">Worker: 17</h4>\n",
              "                </summary>\n",
              "                <table style=\"width: 100%; text-align: left;\">\n",
              "                    <tr>\n",
              "                        <td style=\"text-align: left;\">\n",
              "                            <strong>Comm: </strong> tcp://127.0.0.1:40895\n",
              "                        </td>\n",
              "                        <td style=\"text-align: left;\">\n",
              "                            <strong>Total threads: </strong> 3\n",
              "                        </td>\n",
              "                    </tr>\n",
              "                    <tr>\n",
              "                        <td style=\"text-align: left;\">\n",
              "                            <strong>Dashboard: </strong> <a href=\"http://127.0.0.1:42043/status\" target=\"_blank\">http://127.0.0.1:42043/status</a>\n",
              "                        </td>\n",
              "                        <td style=\"text-align: left;\">\n",
              "                            <strong>Memory: </strong> 10.46 GiB\n",
              "                        </td>\n",
              "                    </tr>\n",
              "                    <tr>\n",
              "                        <td style=\"text-align: left;\">\n",
              "                            <strong>Nanny: </strong> tcp://127.0.0.1:44991\n",
              "                        </td>\n",
              "                        <td style=\"text-align: left;\"></td>\n",
              "                    </tr>\n",
              "                    <tr>\n",
              "                        <td colspan=\"2\" style=\"text-align: left;\">\n",
              "                            <strong>Local directory: </strong> /tmp/dask-scratch-space/worker-cr65i2jb\n",
              "                        </td>\n",
              "                    </tr>\n",
              "\n",
              "                    \n",
              "\n",
              "                    \n",
              "\n",
              "                </table>\n",
              "            </details>\n",
              "            </div>\n",
              "        </div>\n",
              "        \n",
              "        <div style=\"margin-bottom: 20px;\">\n",
              "            <div style=\"width: 24px; height: 24px; background-color: #DBF5FF; border: 3px solid #4CC9FF; border-radius: 5px; position: absolute;\"> </div>\n",
              "            <div style=\"margin-left: 48px;\">\n",
              "            <details>\n",
              "                <summary>\n",
              "                    <h4 style=\"margin-bottom: 0px; display: inline;\">Worker: 18</h4>\n",
              "                </summary>\n",
              "                <table style=\"width: 100%; text-align: left;\">\n",
              "                    <tr>\n",
              "                        <td style=\"text-align: left;\">\n",
              "                            <strong>Comm: </strong> tcp://127.0.0.1:46293\n",
              "                        </td>\n",
              "                        <td style=\"text-align: left;\">\n",
              "                            <strong>Total threads: </strong> 3\n",
              "                        </td>\n",
              "                    </tr>\n",
              "                    <tr>\n",
              "                        <td style=\"text-align: left;\">\n",
              "                            <strong>Dashboard: </strong> <a href=\"http://127.0.0.1:43183/status\" target=\"_blank\">http://127.0.0.1:43183/status</a>\n",
              "                        </td>\n",
              "                        <td style=\"text-align: left;\">\n",
              "                            <strong>Memory: </strong> 10.46 GiB\n",
              "                        </td>\n",
              "                    </tr>\n",
              "                    <tr>\n",
              "                        <td style=\"text-align: left;\">\n",
              "                            <strong>Nanny: </strong> tcp://127.0.0.1:42079\n",
              "                        </td>\n",
              "                        <td style=\"text-align: left;\"></td>\n",
              "                    </tr>\n",
              "                    <tr>\n",
              "                        <td colspan=\"2\" style=\"text-align: left;\">\n",
              "                            <strong>Local directory: </strong> /tmp/dask-scratch-space/worker-hgjypgh5\n",
              "                        </td>\n",
              "                    </tr>\n",
              "\n",
              "                    \n",
              "\n",
              "                    \n",
              "\n",
              "                </table>\n",
              "            </details>\n",
              "            </div>\n",
              "        </div>\n",
              "        \n",
              "        <div style=\"margin-bottom: 20px;\">\n",
              "            <div style=\"width: 24px; height: 24px; background-color: #DBF5FF; border: 3px solid #4CC9FF; border-radius: 5px; position: absolute;\"> </div>\n",
              "            <div style=\"margin-left: 48px;\">\n",
              "            <details>\n",
              "                <summary>\n",
              "                    <h4 style=\"margin-bottom: 0px; display: inline;\">Worker: 19</h4>\n",
              "                </summary>\n",
              "                <table style=\"width: 100%; text-align: left;\">\n",
              "                    <tr>\n",
              "                        <td style=\"text-align: left;\">\n",
              "                            <strong>Comm: </strong> tcp://127.0.0.1:34403\n",
              "                        </td>\n",
              "                        <td style=\"text-align: left;\">\n",
              "                            <strong>Total threads: </strong> 3\n",
              "                        </td>\n",
              "                    </tr>\n",
              "                    <tr>\n",
              "                        <td style=\"text-align: left;\">\n",
              "                            <strong>Dashboard: </strong> <a href=\"http://127.0.0.1:34833/status\" target=\"_blank\">http://127.0.0.1:34833/status</a>\n",
              "                        </td>\n",
              "                        <td style=\"text-align: left;\">\n",
              "                            <strong>Memory: </strong> 10.46 GiB\n",
              "                        </td>\n",
              "                    </tr>\n",
              "                    <tr>\n",
              "                        <td style=\"text-align: left;\">\n",
              "                            <strong>Nanny: </strong> tcp://127.0.0.1:34529\n",
              "                        </td>\n",
              "                        <td style=\"text-align: left;\"></td>\n",
              "                    </tr>\n",
              "                    <tr>\n",
              "                        <td colspan=\"2\" style=\"text-align: left;\">\n",
              "                            <strong>Local directory: </strong> /tmp/dask-scratch-space/worker-3vn8mxaf\n",
              "                        </td>\n",
              "                    </tr>\n",
              "\n",
              "                    \n",
              "\n",
              "                    \n",
              "\n",
              "                </table>\n",
              "            </details>\n",
              "            </div>\n",
              "        </div>\n",
              "        \n",
              "        <div style=\"margin-bottom: 20px;\">\n",
              "            <div style=\"width: 24px; height: 24px; background-color: #DBF5FF; border: 3px solid #4CC9FF; border-radius: 5px; position: absolute;\"> </div>\n",
              "            <div style=\"margin-left: 48px;\">\n",
              "            <details>\n",
              "                <summary>\n",
              "                    <h4 style=\"margin-bottom: 0px; display: inline;\">Worker: 20</h4>\n",
              "                </summary>\n",
              "                <table style=\"width: 100%; text-align: left;\">\n",
              "                    <tr>\n",
              "                        <td style=\"text-align: left;\">\n",
              "                            <strong>Comm: </strong> tcp://127.0.0.1:40223\n",
              "                        </td>\n",
              "                        <td style=\"text-align: left;\">\n",
              "                            <strong>Total threads: </strong> 3\n",
              "                        </td>\n",
              "                    </tr>\n",
              "                    <tr>\n",
              "                        <td style=\"text-align: left;\">\n",
              "                            <strong>Dashboard: </strong> <a href=\"http://127.0.0.1:34091/status\" target=\"_blank\">http://127.0.0.1:34091/status</a>\n",
              "                        </td>\n",
              "                        <td style=\"text-align: left;\">\n",
              "                            <strong>Memory: </strong> 10.46 GiB\n",
              "                        </td>\n",
              "                    </tr>\n",
              "                    <tr>\n",
              "                        <td style=\"text-align: left;\">\n",
              "                            <strong>Nanny: </strong> tcp://127.0.0.1:39219\n",
              "                        </td>\n",
              "                        <td style=\"text-align: left;\"></td>\n",
              "                    </tr>\n",
              "                    <tr>\n",
              "                        <td colspan=\"2\" style=\"text-align: left;\">\n",
              "                            <strong>Local directory: </strong> /tmp/dask-scratch-space/worker-djzdlbmh\n",
              "                        </td>\n",
              "                    </tr>\n",
              "\n",
              "                    \n",
              "\n",
              "                    \n",
              "\n",
              "                </table>\n",
              "            </details>\n",
              "            </div>\n",
              "        </div>\n",
              "        \n",
              "        <div style=\"margin-bottom: 20px;\">\n",
              "            <div style=\"width: 24px; height: 24px; background-color: #DBF5FF; border: 3px solid #4CC9FF; border-radius: 5px; position: absolute;\"> </div>\n",
              "            <div style=\"margin-left: 48px;\">\n",
              "            <details>\n",
              "                <summary>\n",
              "                    <h4 style=\"margin-bottom: 0px; display: inline;\">Worker: 21</h4>\n",
              "                </summary>\n",
              "                <table style=\"width: 100%; text-align: left;\">\n",
              "                    <tr>\n",
              "                        <td style=\"text-align: left;\">\n",
              "                            <strong>Comm: </strong> tcp://127.0.0.1:39771\n",
              "                        </td>\n",
              "                        <td style=\"text-align: left;\">\n",
              "                            <strong>Total threads: </strong> 3\n",
              "                        </td>\n",
              "                    </tr>\n",
              "                    <tr>\n",
              "                        <td style=\"text-align: left;\">\n",
              "                            <strong>Dashboard: </strong> <a href=\"http://127.0.0.1:42037/status\" target=\"_blank\">http://127.0.0.1:42037/status</a>\n",
              "                        </td>\n",
              "                        <td style=\"text-align: left;\">\n",
              "                            <strong>Memory: </strong> 10.46 GiB\n",
              "                        </td>\n",
              "                    </tr>\n",
              "                    <tr>\n",
              "                        <td style=\"text-align: left;\">\n",
              "                            <strong>Nanny: </strong> tcp://127.0.0.1:43755\n",
              "                        </td>\n",
              "                        <td style=\"text-align: left;\"></td>\n",
              "                    </tr>\n",
              "                    <tr>\n",
              "                        <td colspan=\"2\" style=\"text-align: left;\">\n",
              "                            <strong>Local directory: </strong> /tmp/dask-scratch-space/worker-ymtyp5a_\n",
              "                        </td>\n",
              "                    </tr>\n",
              "\n",
              "                    \n",
              "\n",
              "                    \n",
              "\n",
              "                </table>\n",
              "            </details>\n",
              "            </div>\n",
              "        </div>\n",
              "        \n",
              "        <div style=\"margin-bottom: 20px;\">\n",
              "            <div style=\"width: 24px; height: 24px; background-color: #DBF5FF; border: 3px solid #4CC9FF; border-radius: 5px; position: absolute;\"> </div>\n",
              "            <div style=\"margin-left: 48px;\">\n",
              "            <details>\n",
              "                <summary>\n",
              "                    <h4 style=\"margin-bottom: 0px; display: inline;\">Worker: 22</h4>\n",
              "                </summary>\n",
              "                <table style=\"width: 100%; text-align: left;\">\n",
              "                    <tr>\n",
              "                        <td style=\"text-align: left;\">\n",
              "                            <strong>Comm: </strong> tcp://127.0.0.1:35289\n",
              "                        </td>\n",
              "                        <td style=\"text-align: left;\">\n",
              "                            <strong>Total threads: </strong> 3\n",
              "                        </td>\n",
              "                    </tr>\n",
              "                    <tr>\n",
              "                        <td style=\"text-align: left;\">\n",
              "                            <strong>Dashboard: </strong> <a href=\"http://127.0.0.1:36479/status\" target=\"_blank\">http://127.0.0.1:36479/status</a>\n",
              "                        </td>\n",
              "                        <td style=\"text-align: left;\">\n",
              "                            <strong>Memory: </strong> 10.46 GiB\n",
              "                        </td>\n",
              "                    </tr>\n",
              "                    <tr>\n",
              "                        <td style=\"text-align: left;\">\n",
              "                            <strong>Nanny: </strong> tcp://127.0.0.1:38353\n",
              "                        </td>\n",
              "                        <td style=\"text-align: left;\"></td>\n",
              "                    </tr>\n",
              "                    <tr>\n",
              "                        <td colspan=\"2\" style=\"text-align: left;\">\n",
              "                            <strong>Local directory: </strong> /tmp/dask-scratch-space/worker-hnrgyvfz\n",
              "                        </td>\n",
              "                    </tr>\n",
              "\n",
              "                    \n",
              "\n",
              "                    \n",
              "\n",
              "                </table>\n",
              "            </details>\n",
              "            </div>\n",
              "        </div>\n",
              "        \n",
              "        <div style=\"margin-bottom: 20px;\">\n",
              "            <div style=\"width: 24px; height: 24px; background-color: #DBF5FF; border: 3px solid #4CC9FF; border-radius: 5px; position: absolute;\"> </div>\n",
              "            <div style=\"margin-left: 48px;\">\n",
              "            <details>\n",
              "                <summary>\n",
              "                    <h4 style=\"margin-bottom: 0px; display: inline;\">Worker: 23</h4>\n",
              "                </summary>\n",
              "                <table style=\"width: 100%; text-align: left;\">\n",
              "                    <tr>\n",
              "                        <td style=\"text-align: left;\">\n",
              "                            <strong>Comm: </strong> tcp://127.0.0.1:38587\n",
              "                        </td>\n",
              "                        <td style=\"text-align: left;\">\n",
              "                            <strong>Total threads: </strong> 3\n",
              "                        </td>\n",
              "                    </tr>\n",
              "                    <tr>\n",
              "                        <td style=\"text-align: left;\">\n",
              "                            <strong>Dashboard: </strong> <a href=\"http://127.0.0.1:42443/status\" target=\"_blank\">http://127.0.0.1:42443/status</a>\n",
              "                        </td>\n",
              "                        <td style=\"text-align: left;\">\n",
              "                            <strong>Memory: </strong> 10.46 GiB\n",
              "                        </td>\n",
              "                    </tr>\n",
              "                    <tr>\n",
              "                        <td style=\"text-align: left;\">\n",
              "                            <strong>Nanny: </strong> tcp://127.0.0.1:34795\n",
              "                        </td>\n",
              "                        <td style=\"text-align: left;\"></td>\n",
              "                    </tr>\n",
              "                    <tr>\n",
              "                        <td colspan=\"2\" style=\"text-align: left;\">\n",
              "                            <strong>Local directory: </strong> /tmp/dask-scratch-space/worker-h_14edfm\n",
              "                        </td>\n",
              "                    </tr>\n",
              "\n",
              "                    \n",
              "\n",
              "                    \n",
              "\n",
              "                </table>\n",
              "            </details>\n",
              "            </div>\n",
              "        </div>\n",
              "        \n",
              "        <div style=\"margin-bottom: 20px;\">\n",
              "            <div style=\"width: 24px; height: 24px; background-color: #DBF5FF; border: 3px solid #4CC9FF; border-radius: 5px; position: absolute;\"> </div>\n",
              "            <div style=\"margin-left: 48px;\">\n",
              "            <details>\n",
              "                <summary>\n",
              "                    <h4 style=\"margin-bottom: 0px; display: inline;\">Worker: 24</h4>\n",
              "                </summary>\n",
              "                <table style=\"width: 100%; text-align: left;\">\n",
              "                    <tr>\n",
              "                        <td style=\"text-align: left;\">\n",
              "                            <strong>Comm: </strong> tcp://127.0.0.1:33077\n",
              "                        </td>\n",
              "                        <td style=\"text-align: left;\">\n",
              "                            <strong>Total threads: </strong> 3\n",
              "                        </td>\n",
              "                    </tr>\n",
              "                    <tr>\n",
              "                        <td style=\"text-align: left;\">\n",
              "                            <strong>Dashboard: </strong> <a href=\"http://127.0.0.1:33467/status\" target=\"_blank\">http://127.0.0.1:33467/status</a>\n",
              "                        </td>\n",
              "                        <td style=\"text-align: left;\">\n",
              "                            <strong>Memory: </strong> 10.46 GiB\n",
              "                        </td>\n",
              "                    </tr>\n",
              "                    <tr>\n",
              "                        <td style=\"text-align: left;\">\n",
              "                            <strong>Nanny: </strong> tcp://127.0.0.1:37799\n",
              "                        </td>\n",
              "                        <td style=\"text-align: left;\"></td>\n",
              "                    </tr>\n",
              "                    <tr>\n",
              "                        <td colspan=\"2\" style=\"text-align: left;\">\n",
              "                            <strong>Local directory: </strong> /tmp/dask-scratch-space/worker-w8ss617w\n",
              "                        </td>\n",
              "                    </tr>\n",
              "\n",
              "                    \n",
              "\n",
              "                    \n",
              "\n",
              "                </table>\n",
              "            </details>\n",
              "            </div>\n",
              "        </div>\n",
              "        \n",
              "        <div style=\"margin-bottom: 20px;\">\n",
              "            <div style=\"width: 24px; height: 24px; background-color: #DBF5FF; border: 3px solid #4CC9FF; border-radius: 5px; position: absolute;\"> </div>\n",
              "            <div style=\"margin-left: 48px;\">\n",
              "            <details>\n",
              "                <summary>\n",
              "                    <h4 style=\"margin-bottom: 0px; display: inline;\">Worker: 25</h4>\n",
              "                </summary>\n",
              "                <table style=\"width: 100%; text-align: left;\">\n",
              "                    <tr>\n",
              "                        <td style=\"text-align: left;\">\n",
              "                            <strong>Comm: </strong> tcp://127.0.0.1:38329\n",
              "                        </td>\n",
              "                        <td style=\"text-align: left;\">\n",
              "                            <strong>Total threads: </strong> 3\n",
              "                        </td>\n",
              "                    </tr>\n",
              "                    <tr>\n",
              "                        <td style=\"text-align: left;\">\n",
              "                            <strong>Dashboard: </strong> <a href=\"http://127.0.0.1:39271/status\" target=\"_blank\">http://127.0.0.1:39271/status</a>\n",
              "                        </td>\n",
              "                        <td style=\"text-align: left;\">\n",
              "                            <strong>Memory: </strong> 10.46 GiB\n",
              "                        </td>\n",
              "                    </tr>\n",
              "                    <tr>\n",
              "                        <td style=\"text-align: left;\">\n",
              "                            <strong>Nanny: </strong> tcp://127.0.0.1:42475\n",
              "                        </td>\n",
              "                        <td style=\"text-align: left;\"></td>\n",
              "                    </tr>\n",
              "                    <tr>\n",
              "                        <td colspan=\"2\" style=\"text-align: left;\">\n",
              "                            <strong>Local directory: </strong> /tmp/dask-scratch-space/worker-c8eg6xss\n",
              "                        </td>\n",
              "                    </tr>\n",
              "\n",
              "                    \n",
              "\n",
              "                    \n",
              "\n",
              "                </table>\n",
              "            </details>\n",
              "            </div>\n",
              "        </div>\n",
              "        \n",
              "        <div style=\"margin-bottom: 20px;\">\n",
              "            <div style=\"width: 24px; height: 24px; background-color: #DBF5FF; border: 3px solid #4CC9FF; border-radius: 5px; position: absolute;\"> </div>\n",
              "            <div style=\"margin-left: 48px;\">\n",
              "            <details>\n",
              "                <summary>\n",
              "                    <h4 style=\"margin-bottom: 0px; display: inline;\">Worker: 26</h4>\n",
              "                </summary>\n",
              "                <table style=\"width: 100%; text-align: left;\">\n",
              "                    <tr>\n",
              "                        <td style=\"text-align: left;\">\n",
              "                            <strong>Comm: </strong> tcp://127.0.0.1:33635\n",
              "                        </td>\n",
              "                        <td style=\"text-align: left;\">\n",
              "                            <strong>Total threads: </strong> 3\n",
              "                        </td>\n",
              "                    </tr>\n",
              "                    <tr>\n",
              "                        <td style=\"text-align: left;\">\n",
              "                            <strong>Dashboard: </strong> <a href=\"http://127.0.0.1:41853/status\" target=\"_blank\">http://127.0.0.1:41853/status</a>\n",
              "                        </td>\n",
              "                        <td style=\"text-align: left;\">\n",
              "                            <strong>Memory: </strong> 10.46 GiB\n",
              "                        </td>\n",
              "                    </tr>\n",
              "                    <tr>\n",
              "                        <td style=\"text-align: left;\">\n",
              "                            <strong>Nanny: </strong> tcp://127.0.0.1:42701\n",
              "                        </td>\n",
              "                        <td style=\"text-align: left;\"></td>\n",
              "                    </tr>\n",
              "                    <tr>\n",
              "                        <td colspan=\"2\" style=\"text-align: left;\">\n",
              "                            <strong>Local directory: </strong> /tmp/dask-scratch-space/worker-73_a0p9m\n",
              "                        </td>\n",
              "                    </tr>\n",
              "\n",
              "                    \n",
              "\n",
              "                    \n",
              "\n",
              "                </table>\n",
              "            </details>\n",
              "            </div>\n",
              "        </div>\n",
              "        \n",
              "        <div style=\"margin-bottom: 20px;\">\n",
              "            <div style=\"width: 24px; height: 24px; background-color: #DBF5FF; border: 3px solid #4CC9FF; border-radius: 5px; position: absolute;\"> </div>\n",
              "            <div style=\"margin-left: 48px;\">\n",
              "            <details>\n",
              "                <summary>\n",
              "                    <h4 style=\"margin-bottom: 0px; display: inline;\">Worker: 27</h4>\n",
              "                </summary>\n",
              "                <table style=\"width: 100%; text-align: left;\">\n",
              "                    <tr>\n",
              "                        <td style=\"text-align: left;\">\n",
              "                            <strong>Comm: </strong> tcp://127.0.0.1:43605\n",
              "                        </td>\n",
              "                        <td style=\"text-align: left;\">\n",
              "                            <strong>Total threads: </strong> 3\n",
              "                        </td>\n",
              "                    </tr>\n",
              "                    <tr>\n",
              "                        <td style=\"text-align: left;\">\n",
              "                            <strong>Dashboard: </strong> <a href=\"http://127.0.0.1:40943/status\" target=\"_blank\">http://127.0.0.1:40943/status</a>\n",
              "                        </td>\n",
              "                        <td style=\"text-align: left;\">\n",
              "                            <strong>Memory: </strong> 10.46 GiB\n",
              "                        </td>\n",
              "                    </tr>\n",
              "                    <tr>\n",
              "                        <td style=\"text-align: left;\">\n",
              "                            <strong>Nanny: </strong> tcp://127.0.0.1:36715\n",
              "                        </td>\n",
              "                        <td style=\"text-align: left;\"></td>\n",
              "                    </tr>\n",
              "                    <tr>\n",
              "                        <td colspan=\"2\" style=\"text-align: left;\">\n",
              "                            <strong>Local directory: </strong> /tmp/dask-scratch-space/worker-4i7a6zgm\n",
              "                        </td>\n",
              "                    </tr>\n",
              "\n",
              "                    \n",
              "\n",
              "                    \n",
              "\n",
              "                </table>\n",
              "            </details>\n",
              "            </div>\n",
              "        </div>\n",
              "        \n",
              "        <div style=\"margin-bottom: 20px;\">\n",
              "            <div style=\"width: 24px; height: 24px; background-color: #DBF5FF; border: 3px solid #4CC9FF; border-radius: 5px; position: absolute;\"> </div>\n",
              "            <div style=\"margin-left: 48px;\">\n",
              "            <details>\n",
              "                <summary>\n",
              "                    <h4 style=\"margin-bottom: 0px; display: inline;\">Worker: 28</h4>\n",
              "                </summary>\n",
              "                <table style=\"width: 100%; text-align: left;\">\n",
              "                    <tr>\n",
              "                        <td style=\"text-align: left;\">\n",
              "                            <strong>Comm: </strong> tcp://127.0.0.1:33455\n",
              "                        </td>\n",
              "                        <td style=\"text-align: left;\">\n",
              "                            <strong>Total threads: </strong> 3\n",
              "                        </td>\n",
              "                    </tr>\n",
              "                    <tr>\n",
              "                        <td style=\"text-align: left;\">\n",
              "                            <strong>Dashboard: </strong> <a href=\"http://127.0.0.1:46175/status\" target=\"_blank\">http://127.0.0.1:46175/status</a>\n",
              "                        </td>\n",
              "                        <td style=\"text-align: left;\">\n",
              "                            <strong>Memory: </strong> 10.46 GiB\n",
              "                        </td>\n",
              "                    </tr>\n",
              "                    <tr>\n",
              "                        <td style=\"text-align: left;\">\n",
              "                            <strong>Nanny: </strong> tcp://127.0.0.1:36087\n",
              "                        </td>\n",
              "                        <td style=\"text-align: left;\"></td>\n",
              "                    </tr>\n",
              "                    <tr>\n",
              "                        <td colspan=\"2\" style=\"text-align: left;\">\n",
              "                            <strong>Local directory: </strong> /tmp/dask-scratch-space/worker-9jq0j9kk\n",
              "                        </td>\n",
              "                    </tr>\n",
              "\n",
              "                    \n",
              "\n",
              "                    \n",
              "\n",
              "                </table>\n",
              "            </details>\n",
              "            </div>\n",
              "        </div>\n",
              "        \n",
              "        <div style=\"margin-bottom: 20px;\">\n",
              "            <div style=\"width: 24px; height: 24px; background-color: #DBF5FF; border: 3px solid #4CC9FF; border-radius: 5px; position: absolute;\"> </div>\n",
              "            <div style=\"margin-left: 48px;\">\n",
              "            <details>\n",
              "                <summary>\n",
              "                    <h4 style=\"margin-bottom: 0px; display: inline;\">Worker: 29</h4>\n",
              "                </summary>\n",
              "                <table style=\"width: 100%; text-align: left;\">\n",
              "                    <tr>\n",
              "                        <td style=\"text-align: left;\">\n",
              "                            <strong>Comm: </strong> tcp://127.0.0.1:39303\n",
              "                        </td>\n",
              "                        <td style=\"text-align: left;\">\n",
              "                            <strong>Total threads: </strong> 3\n",
              "                        </td>\n",
              "                    </tr>\n",
              "                    <tr>\n",
              "                        <td style=\"text-align: left;\">\n",
              "                            <strong>Dashboard: </strong> <a href=\"http://127.0.0.1:43901/status\" target=\"_blank\">http://127.0.0.1:43901/status</a>\n",
              "                        </td>\n",
              "                        <td style=\"text-align: left;\">\n",
              "                            <strong>Memory: </strong> 10.46 GiB\n",
              "                        </td>\n",
              "                    </tr>\n",
              "                    <tr>\n",
              "                        <td style=\"text-align: left;\">\n",
              "                            <strong>Nanny: </strong> tcp://127.0.0.1:38199\n",
              "                        </td>\n",
              "                        <td style=\"text-align: left;\"></td>\n",
              "                    </tr>\n",
              "                    <tr>\n",
              "                        <td colspan=\"2\" style=\"text-align: left;\">\n",
              "                            <strong>Local directory: </strong> /tmp/dask-scratch-space/worker-et6pmag7\n",
              "                        </td>\n",
              "                    </tr>\n",
              "\n",
              "                    \n",
              "\n",
              "                    \n",
              "\n",
              "                </table>\n",
              "            </details>\n",
              "            </div>\n",
              "        </div>\n",
              "        \n",
              "        <div style=\"margin-bottom: 20px;\">\n",
              "            <div style=\"width: 24px; height: 24px; background-color: #DBF5FF; border: 3px solid #4CC9FF; border-radius: 5px; position: absolute;\"> </div>\n",
              "            <div style=\"margin-left: 48px;\">\n",
              "            <details>\n",
              "                <summary>\n",
              "                    <h4 style=\"margin-bottom: 0px; display: inline;\">Worker: 30</h4>\n",
              "                </summary>\n",
              "                <table style=\"width: 100%; text-align: left;\">\n",
              "                    <tr>\n",
              "                        <td style=\"text-align: left;\">\n",
              "                            <strong>Comm: </strong> tcp://127.0.0.1:33295\n",
              "                        </td>\n",
              "                        <td style=\"text-align: left;\">\n",
              "                            <strong>Total threads: </strong> 3\n",
              "                        </td>\n",
              "                    </tr>\n",
              "                    <tr>\n",
              "                        <td style=\"text-align: left;\">\n",
              "                            <strong>Dashboard: </strong> <a href=\"http://127.0.0.1:44071/status\" target=\"_blank\">http://127.0.0.1:44071/status</a>\n",
              "                        </td>\n",
              "                        <td style=\"text-align: left;\">\n",
              "                            <strong>Memory: </strong> 10.46 GiB\n",
              "                        </td>\n",
              "                    </tr>\n",
              "                    <tr>\n",
              "                        <td style=\"text-align: left;\">\n",
              "                            <strong>Nanny: </strong> tcp://127.0.0.1:35557\n",
              "                        </td>\n",
              "                        <td style=\"text-align: left;\"></td>\n",
              "                    </tr>\n",
              "                    <tr>\n",
              "                        <td colspan=\"2\" style=\"text-align: left;\">\n",
              "                            <strong>Local directory: </strong> /tmp/dask-scratch-space/worker-kdn8uc1y\n",
              "                        </td>\n",
              "                    </tr>\n",
              "\n",
              "                    \n",
              "\n",
              "                    \n",
              "\n",
              "                </table>\n",
              "            </details>\n",
              "            </div>\n",
              "        </div>\n",
              "        \n",
              "        <div style=\"margin-bottom: 20px;\">\n",
              "            <div style=\"width: 24px; height: 24px; background-color: #DBF5FF; border: 3px solid #4CC9FF; border-radius: 5px; position: absolute;\"> </div>\n",
              "            <div style=\"margin-left: 48px;\">\n",
              "            <details>\n",
              "                <summary>\n",
              "                    <h4 style=\"margin-bottom: 0px; display: inline;\">Worker: 31</h4>\n",
              "                </summary>\n",
              "                <table style=\"width: 100%; text-align: left;\">\n",
              "                    <tr>\n",
              "                        <td style=\"text-align: left;\">\n",
              "                            <strong>Comm: </strong> tcp://127.0.0.1:37859\n",
              "                        </td>\n",
              "                        <td style=\"text-align: left;\">\n",
              "                            <strong>Total threads: </strong> 3\n",
              "                        </td>\n",
              "                    </tr>\n",
              "                    <tr>\n",
              "                        <td style=\"text-align: left;\">\n",
              "                            <strong>Dashboard: </strong> <a href=\"http://127.0.0.1:39153/status\" target=\"_blank\">http://127.0.0.1:39153/status</a>\n",
              "                        </td>\n",
              "                        <td style=\"text-align: left;\">\n",
              "                            <strong>Memory: </strong> 10.46 GiB\n",
              "                        </td>\n",
              "                    </tr>\n",
              "                    <tr>\n",
              "                        <td style=\"text-align: left;\">\n",
              "                            <strong>Nanny: </strong> tcp://127.0.0.1:37991\n",
              "                        </td>\n",
              "                        <td style=\"text-align: left;\"></td>\n",
              "                    </tr>\n",
              "                    <tr>\n",
              "                        <td colspan=\"2\" style=\"text-align: left;\">\n",
              "                            <strong>Local directory: </strong> /tmp/dask-scratch-space/worker-myz99wni\n",
              "                        </td>\n",
              "                    </tr>\n",
              "\n",
              "                    \n",
              "\n",
              "                    \n",
              "\n",
              "                </table>\n",
              "            </details>\n",
              "            </div>\n",
              "        </div>\n",
              "        \n",
              "\n",
              "    </details>\n",
              "</div>\n",
              "\n",
              "        </details>\n",
              "    </div>\n",
              "</div>\n",
              "            </details>\n",
              "        \n",
              "\n",
              "    </div>\n",
              "</div>"
            ]
          },
          "metadata": {},
          "execution_count": 17
        }
      ]
    },
    {
      "cell_type": "code",
      "source": [
        "import joblib"
      ],
      "metadata": {
        "id": "9YcEkzF5J2x0"
      },
      "execution_count": null,
      "outputs": []
    },
    {
      "cell_type": "code",
      "source": [
        "y_train = y_train.squeeze()\n",
        "y_train"
      ],
      "metadata": {
        "id": "2jDGDxBFJ20O",
        "colab": {
          "base_uri": "https://localhost:8080/"
        },
        "outputId": "3ad6e508-f0f8-4ec0-86b9-a44a33d845a2"
      },
      "execution_count": null,
      "outputs": [
        {
          "output_type": "execute_result",
          "data": {
            "text/plain": [
              "1205167    0\n",
              "575514     0\n",
              "1212305    0\n",
              "1847891    1\n",
              "1411332    1\n",
              "          ..\n",
              "1106227    0\n",
              "1525776    1\n",
              "1439802    1\n",
              "2484501    1\n",
              "1613617    1\n",
              "Name: pha, Length: 2095348, dtype: int64"
            ]
          },
          "metadata": {},
          "execution_count": 19
        }
      ]
    },
    {
      "cell_type": "markdown",
      "source": [
        "# Training with LightGBM"
      ],
      "metadata": {
        "id": "jPXSeF8WHIac"
      }
    },
    {
      "cell_type": "code",
      "source": [
        "lgb = LGBMClassifier()\n",
        "with joblib.parallel_backend(\"dask\", scatter=[X_train,y_train]):\n",
        "    lgb.fit(X_train,y_train)\n",
        "y_pred = lgb.predict(X_test)"
      ],
      "metadata": {
        "id": "d30XowAtE7jE"
      },
      "execution_count": null,
      "outputs": []
    },
    {
      "cell_type": "code",
      "source": [
        "accuracy_score(y_test,y_pred)"
      ],
      "metadata": {
        "id": "uqvhv4oIE7bX"
      },
      "execution_count": null,
      "outputs": []
    },
    {
      "cell_type": "code",
      "source": [
        "confusion_matrix(y_test,y_pred)"
      ],
      "metadata": {
        "id": "5vddELkVE7Xh"
      },
      "execution_count": null,
      "outputs": []
    },
    {
      "cell_type": "code",
      "source": [
        "roc_auc_score(y_test,y_pred)"
      ],
      "metadata": {
        "id": "xMgURWmJE7Uf"
      },
      "execution_count": null,
      "outputs": []
    },
    {
      "cell_type": "code",
      "source": [
        "from sklearn.model_selection import RandomizedSearchCV\n",
        "lgb = LGBMClassifier()\n",
        "param_grid = {\n",
        "    'num_leaves': [30, 50, 70],\n",
        "    'num_iterations': [100, 200, 300, 500],\n",
        "    'max_depth': [None, 20, 30, 50],\n",
        "    'learning_rate' : [0.0001, 0.001, 0.01, 0.1, 1],\n",
        "}\n",
        "\n",
        "rand3 = RandomizedSearchCV(lgb, param_grid, cv=5, scoring='accuracy', n_jobs=-1)"
      ],
      "metadata": {
        "id": "_TPKn6YrE7QZ"
      },
      "execution_count": null,
      "outputs": []
    },
    {
      "cell_type": "code",
      "source": [
        "with joblib.parallel_backend(\"dask\", scatter=[X_train,y_train]):\n",
        "    rand3.fit(X_train,y_train)"
      ],
      "metadata": {
        "id": "tKNuEEXcE7LA"
      },
      "execution_count": null,
      "outputs": []
    },
    {
      "cell_type": "code",
      "source": [
        "rand3.best_params_"
      ],
      "metadata": {
        "id": "k16xldPXF4kZ",
        "colab": {
          "base_uri": "https://localhost:8080/"
        },
        "outputId": "3d211cd6-3628-4602-8be8-aa6271273aec"
      },
      "execution_count": null,
      "outputs": [
        {
          "output_type": "execute_result",
          "data": {
            "text/plain": [
              "{'num_leaves': 70,\n",
              " 'num_iterations': 100,\n",
              " 'max_depth': None,\n",
              " 'learning_rate': 0.1}"
            ]
          },
          "metadata": {},
          "execution_count": 23
        }
      ]
    },
    {
      "cell_type": "code",
      "source": [
        "rand3.best_score_"
      ],
      "metadata": {
        "id": "alNzdMkzF4iE",
        "colab": {
          "base_uri": "https://localhost:8080/"
        },
        "outputId": "2ed8400d-2db6-49d3-fefe-c594269c2869"
      },
      "execution_count": null,
      "outputs": [
        {
          "output_type": "execute_result",
          "data": {
            "text/plain": [
              "0.9999522752215432"
            ]
          },
          "metadata": {},
          "execution_count": 24
        }
      ]
    },
    {
      "cell_type": "code",
      "source": [
        "##Training with best parameters\n",
        "lgbest = LGBMClassifier(num_leaves= 70,\n",
        " num_iterations= 100,\n",
        " max_depth= None,\n",
        " learning_rate= 0.1)\n",
        "with joblib.parallel_backend(\"dask\", scatter=[X_train,y_train]):\n",
        "    lgbest.fit(X_train,y_train)\n",
        "\n",
        "y_pred = lgbest.predict(X_test)"
      ],
      "metadata": {
        "id": "30QUx62uF4fp",
        "colab": {
          "base_uri": "https://localhost:8080/"
        },
        "outputId": "738ab729-dee9-4fad-ac85-18e6b9c80f18"
      },
      "execution_count": null,
      "outputs": [
        {
          "output_type": "stream",
          "name": "stderr",
          "text": [
            "/usr/local/lib/python3.10/dist-packages/lightgbm/engine.py:204: UserWarning: Found `num_iterations` in params. Will use it instead of argument\n",
            "  _log_warning(f\"Found `{alias}` in params. Will use it instead of argument\")\n"
          ]
        },
        {
          "output_type": "stream",
          "name": "stdout",
          "text": [
            "[LightGBM] [Info] Number of positive: 1048325, number of negative: 1047023\n",
            "[LightGBM] [Info] Auto-choosing row-wise multi-threading, the overhead of testing was 0.006321 seconds.\n",
            "You can set `force_row_wise=true` to remove the overhead.\n",
            "And if memory is not enough, you can set `force_col_wise=true`.\n",
            "[LightGBM] [Info] Total Bins 1530\n",
            "[LightGBM] [Info] Number of data points in the train set: 2095348, number of used features: 6\n",
            "[LightGBM] [Info] [binary:BoostFromScore]: pavg=0.500311 -> initscore=0.001243\n",
            "[LightGBM] [Info] Start training from score 0.001243\n"
          ]
        }
      ]
    },
    {
      "cell_type": "code",
      "source": [
        "print(classification_report_imbalanced(y_test,y_pred))"
      ],
      "metadata": {
        "id": "K0poJGF-F4dA",
        "colab": {
          "base_uri": "https://localhost:8080/"
        },
        "outputId": "5b3ed166-93d3-4604-a155-c78fe911cf65"
      },
      "execution_count": null,
      "outputs": [
        {
          "output_type": "stream",
          "name": "stdout",
          "text": [
            "                   pre       rec       spe        f1       geo       iba       sup\n",
            "\n",
            "          0       1.00      1.00      1.00      1.00      1.00      1.00    262570\n",
            "          1       1.00      1.00      1.00      1.00      1.00      1.00    261268\n",
            "\n",
            "avg / total       1.00      1.00      1.00      1.00      1.00      1.00    523838\n",
            "\n"
          ]
        }
      ]
    },
    {
      "cell_type": "code",
      "source": [
        "##Plotting Confusion matrix\n",
        "\n",
        "cm = confusion_matrix(y_test, y_pred, labels=lgbest.classes_)\n",
        "disp = ConfusionMatrixDisplay(confusion_matrix=cm,\n",
        "                              display_labels=lgbest.classes_)\n",
        "disp.plot()\n",
        "plt.show()"
      ],
      "metadata": {
        "id": "h28ypQcRE7IY",
        "colab": {
          "base_uri": "https://localhost:8080/",
          "height": 449
        },
        "outputId": "b72dddd3-3c61-46f8-9893-1c091d63116d"
      },
      "execution_count": null,
      "outputs": [
        {
          "output_type": "display_data",
          "data": {
            "text/plain": [
              "<Figure size 640x480 with 2 Axes>"
            ],
            "image/png": "[encoded data removed]"
          },
          "metadata": {}
        }
      ]
    },
    {
      "cell_type": "code",
      "source": [
        "##Plotting ROC Curve\n",
        "\n",
        "ax = plt.gca()\n",
        "roc_display = RocCurveDisplay.from_estimator(lgbest, X_test, y_test, ax=ax, alpha=0.8)\n",
        "plt.title('Receiver Operating Characteristic (ROC) Curve')\n",
        "plt.show()"
      ],
      "metadata": {
        "id": "5xe8EMoxGD3J"
      },
      "execution_count": null,
      "outputs": []
    },
    {
      "cell_type": "code",
      "source": [
        "print(sensitivity_specificity_support(y_test, y_pred))"
      ],
      "metadata": {
        "id": "BaQ9VSUdGDy2"
      },
      "execution_count": null,
      "outputs": []
    },
    {
      "cell_type": "code",
      "source": [
        "print(sensitivity_specificity_support(y_test, y_pred, average='macro'))"
      ],
      "metadata": {
        "id": "SIm5LUxJGIBY"
      },
      "execution_count": null,
      "outputs": []
    },
    {
      "cell_type": "code",
      "source": [
        "print(sensitivity_specificity_support(y_test, y_pred, average='micro'))"
      ],
      "metadata": {
        "id": "oC08DGiTGH6V"
      },
      "execution_count": null,
      "outputs": []
    },
    {
      "cell_type": "code",
      "source": [
        "print(sensitivity_specificity_support(y_test, y_pred, average='weighted'))"
      ],
      "metadata": {
        "id": "9Bm9mVKvGH3H"
      },
      "execution_count": null,
      "outputs": []
    },
    {
      "cell_type": "code",
      "source": [],
      "metadata": {
        "id": "LekpVo27GOFw"
      },
      "execution_count": null,
      "outputs": []
    },
    {
      "cell_type": "markdown",
      "source": [
        "# Training with Random Forest"
      ],
      "metadata": {
        "id": "n3KKos92HVS-"
      }
    },
    {
      "cell_type": "code",
      "source": [
        "rf = RandomForestClassifier()\n",
        "with joblib.parallel_backend(\"dask\", scatter=[X_train,y_train]):\n",
        "    rf.fit(X_train,y_train)\n",
        "y_pred = rf.predict(X_test)"
      ],
      "metadata": {
        "id": "XJe2wCdnJ22Q",
        "colab": {
          "base_uri": "https://localhost:8080/"
        },
        "outputId": "80d2fdae-46af-4324-8ee1-c0802b5f5a7b"
      },
      "execution_count": null,
      "outputs": [
        {
          "output_type": "stream",
          "name": "stderr",
          "text": [
            "INFO:distributed.scheduler:Receive client connection: Client-worker-a2b05548-3abc-11ef-9a99-0242ac1c000c\n",
            "INFO:distributed.core:Starting established connection to tcp://127.0.0.1:40336\n",
            "INFO:distributed.scheduler:Receive client connection: Client-worker-a2b0715a-3abc-11ef-9a6b-0242ac1c000c\n",
            "INFO:distributed.core:Starting established connection to tcp://127.0.0.1:40338\n",
            "INFO:distributed.scheduler:Receive client connection: Client-worker-a313a560-3abc-11ef-9a3e-0242ac1c000c\n",
            "INFO:distributed.core:Starting established connection to tcp://127.0.0.1:40346\n",
            "INFO:distributed.scheduler:Receive client connection: Client-worker-a32385b0-3abc-11ef-9aa8-0242ac1c000c\n",
            "INFO:distributed.core:Starting established connection to tcp://127.0.0.1:40356\n",
            "INFO:distributed.scheduler:Receive client connection: Client-worker-a32e0e03-3abc-11ef-9ab0-0242ac1c000c\n",
            "INFO:distributed.core:Starting established connection to tcp://127.0.0.1:40362\n",
            "INFO:distributed.scheduler:Receive client connection: Client-worker-a32e4570-3abc-11ef-9aaa-0242ac1c000c\n",
            "INFO:distributed.core:Starting established connection to tcp://127.0.0.1:40372\n",
            "INFO:distributed.scheduler:Receive client connection: Client-worker-a32f41a4-3abc-11ef-9aa3-0242ac1c000c\n",
            "INFO:distributed.core:Starting established connection to tcp://127.0.0.1:40382\n",
            "INFO:distributed.scheduler:Receive client connection: Client-worker-a3342bfa-3abc-11ef-9a4d-0242ac1c000c\n",
            "INFO:distributed.core:Starting established connection to tcp://127.0.0.1:40392\n",
            "INFO:distributed.scheduler:Receive client connection: Client-worker-a33797ac-3abc-11ef-9a49-0242ac1c000c\n",
            "INFO:distributed.core:Starting established connection to tcp://127.0.0.1:40400\n",
            "INFO:distributed.scheduler:Receive client connection: Client-worker-a33dac41-3abc-11ef-9ab2-0242ac1c000c\n",
            "INFO:distributed.core:Starting established connection to tcp://127.0.0.1:40416\n",
            "INFO:distributed.scheduler:Receive client connection: Client-worker-a33f6204-3abc-11ef-9a8b-0242ac1c000c\n",
            "INFO:distributed.core:Starting established connection to tcp://127.0.0.1:40426\n",
            "INFO:distributed.scheduler:Receive client connection: Client-worker-a33dca00-3abc-11ef-9a6e-0242ac1c000c\n",
            "INFO:distributed.core:Starting established connection to tcp://127.0.0.1:40424\n",
            "INFO:distributed.scheduler:Receive client connection: Client-worker-a3460ec9-3abc-11ef-9a83-0242ac1c000c\n",
            "INFO:distributed.core:Starting established connection to tcp://127.0.0.1:40436\n",
            "INFO:distributed.scheduler:Receive client connection: Client-worker-a350137a-3abc-11ef-9a5e-0242ac1c000c\n",
            "INFO:distributed.core:Starting established connection to tcp://127.0.0.1:40452\n",
            "INFO:distributed.scheduler:Receive client connection: Client-worker-a34d6e12-3abc-11ef-9a3a-0242ac1c000c\n",
            "INFO:distributed.core:Starting established connection to tcp://127.0.0.1:40440\n",
            "INFO:distributed.scheduler:Receive client connection: Client-worker-a35145be-3abc-11ef-9a90-0242ac1c000c\n",
            "INFO:distributed.core:Starting established connection to tcp://127.0.0.1:40462\n",
            "INFO:distributed.scheduler:Receive client connection: Client-worker-a3510e71-3abc-11ef-9a36-0242ac1c000c\n",
            "INFO:distributed.core:Starting established connection to tcp://127.0.0.1:40478\n",
            "INFO:distributed.scheduler:Receive client connection: Client-worker-a351f5eb-3abc-11ef-9a46-0242ac1c000c\n",
            "INFO:distributed.core:Starting established connection to tcp://127.0.0.1:40486\n",
            "INFO:distributed.scheduler:Receive client connection: Client-worker-a356253b-3abc-11ef-9a73-0242ac1c000c\n",
            "INFO:distributed.core:Starting established connection to tcp://127.0.0.1:40500\n",
            "INFO:distributed.scheduler:Receive client connection: Client-worker-a35523fd-3abc-11ef-9a56-0242ac1c000c\n",
            "INFO:distributed.core:Starting established connection to tcp://127.0.0.1:40490\n",
            "INFO:distributed.scheduler:Receive client connection: Client-worker-a3563624-3abc-11ef-9a87-0242ac1c000c\n",
            "INFO:distributed.core:Starting established connection to tcp://127.0.0.1:40504\n",
            "INFO:distributed.scheduler:Receive client connection: Client-worker-a359de7b-3abc-11ef-9a64-0242ac1c000c\n",
            "INFO:distributed.core:Starting established connection to tcp://127.0.0.1:40528\n",
            "INFO:distributed.scheduler:Receive client connection: Client-worker-a3578d5b-3abc-11ef-9a9a-0242ac1c000c\n",
            "INFO:distributed.core:Starting established connection to tcp://127.0.0.1:40518\n",
            "INFO:distributed.scheduler:Receive client connection: Client-worker-a35b2bc9-3abc-11ef-9a77-0242ac1c000c\n",
            "INFO:distributed.core:Starting established connection to tcp://127.0.0.1:40530\n",
            "INFO:distributed.scheduler:Receive client connection: Client-worker-a35cfce8-3abc-11ef-9a5b-0242ac1c000c\n",
            "INFO:distributed.core:Starting established connection to tcp://127.0.0.1:40546\n",
            "INFO:distributed.scheduler:Receive client connection: Client-worker-a35e15e1-3abc-11ef-9aa0-0242ac1c000c\n",
            "INFO:distributed.core:Starting established connection to tcp://127.0.0.1:40556\n",
            "INFO:distributed.scheduler:Receive client connection: Client-worker-a3626c76-3abc-11ef-9a7c-0242ac1c000c\n",
            "INFO:distributed.core:Starting established connection to tcp://127.0.0.1:40592\n",
            "INFO:distributed.scheduler:Receive client connection: Client-worker-a36090f5-3abc-11ef-9a65-0242ac1c000c\n",
            "INFO:distributed.core:Starting established connection to tcp://127.0.0.1:40582\n",
            "INFO:distributed.scheduler:Receive client connection: Client-worker-a3689a24-3abc-11ef-9a7f-0242ac1c000c\n",
            "INFO:distributed.core:Starting established connection to tcp://127.0.0.1:40604\n",
            "INFO:distributed.scheduler:Receive client connection: Client-worker-a3699e63-3abc-11ef-9a94-0242ac1c000c\n",
            "INFO:distributed.core:Starting established connection to tcp://127.0.0.1:40630\n",
            "INFO:distributed.scheduler:Receive client connection: Client-worker-a36777d6-3abc-11ef-9a51-0242ac1c000c\n",
            "INFO:distributed.core:Starting established connection to tcp://127.0.0.1:40614\n",
            "INFO:distributed.scheduler:Receive client connection: Client-worker-a35f7093-3abc-11ef-9a42-0242ac1c000c\n",
            "INFO:distributed.core:Starting established connection to tcp://127.0.0.1:40566\n"
          ]
        }
      ]
    },
    {
      "cell_type": "code",
      "source": [
        "accuracy_score(y_test,y_pred)"
      ],
      "metadata": {
        "id": "b3jZb9bwJ24t",
        "colab": {
          "base_uri": "https://localhost:8080/"
        },
        "outputId": "9fdf67f8-7e28-4f74-da11-da6015702a58"
      },
      "execution_count": null,
      "outputs": [
        {
          "output_type": "execute_result",
          "data": {
            "text/plain": [
              "0.9999732741801854"
            ]
          },
          "metadata": {},
          "execution_count": 25
        }
      ]
    },
    {
      "cell_type": "code",
      "source": [
        "confusion_matrix(y_test,y_pred)"
      ],
      "metadata": {
        "id": "A_ASb3QeJ265",
        "colab": {
          "base_uri": "https://localhost:8080/"
        },
        "outputId": "3e29da63-5df2-46e6-d70e-2567e5b9ab08"
      },
      "execution_count": null,
      "outputs": [
        {
          "output_type": "execute_result",
          "data": {
            "text/plain": [
              "array([[262557,     13],\n",
              "       [     1, 261267]])"
            ]
          },
          "metadata": {},
          "execution_count": 26
        }
      ]
    },
    {
      "cell_type": "code",
      "source": [
        "print(classification_report_imbalanced(y_test,y_pred))"
      ],
      "metadata": {
        "id": "dkux3ORwJ29f",
        "colab": {
          "base_uri": "https://localhost:8080/"
        },
        "outputId": "46de2f33-e55f-4970-e3c1-5c73c65e1fcf"
      },
      "execution_count": null,
      "outputs": [
        {
          "output_type": "stream",
          "name": "stdout",
          "text": [
            "                   pre       rec       spe        f1       geo       iba       sup\n",
            "\n",
            "          0       1.00      1.00      1.00      1.00      1.00      1.00    262570\n",
            "          1       1.00      1.00      1.00      1.00      1.00      1.00    261268\n",
            "\n",
            "avg / total       1.00      1.00      1.00      1.00      1.00      1.00    523838\n",
            "\n"
          ]
        }
      ]
    },
    {
      "cell_type": "code",
      "source": [
        "print(sensitivity_specificity_support(y_test, y_pred))"
      ],
      "metadata": {
        "id": "GmvQK5PVJ2_3",
        "colab": {
          "base_uri": "https://localhost:8080/"
        },
        "outputId": "6455d067-bb11-485b-f9d3-610f67d840a1"
      },
      "execution_count": null,
      "outputs": [
        {
          "output_type": "stream",
          "name": "stdout",
          "text": [
            "(array([0.99995049, 0.99999617]), array([0.99999617, 0.99995049]), array([262570, 261268]))\n"
          ]
        }
      ]
    },
    {
      "cell_type": "code",
      "source": [
        "model = RandomForestClassifier()\n",
        "\n",
        "param_grid = {\n",
        "    'n_estimators': [100, 200, 300, 500],\n",
        "    'max_depth': [None, 20, 30, 50]\n",
        "}\n",
        "\n",
        "rand = RandomizedSearchCV(model, param_grid, cv=5, scoring='accuracy', n_jobs=-1)"
      ],
      "metadata": {
        "id": "NdMayAPvJ3CT"
      },
      "execution_count": null,
      "outputs": []
    },
    {
      "cell_type": "code",
      "source": [
        "with joblib.parallel_backend(\"dask\", scatter=[X_train,y_train]):\n",
        "    rand.fit(X_train,y_train)"
      ],
      "metadata": {
        "id": "fddbiF8dJ3E9"
      },
      "execution_count": null,
      "outputs": []
    },
    {
      "cell_type": "code",
      "source": [
        "rand.best_params_"
      ],
      "metadata": {
        "id": "5NixEFT2J3Hx",
        "colab": {
          "base_uri": "https://localhost:8080/"
        },
        "outputId": "561f44e7-6fd0-4cf8-971f-604cf024fe87"
      },
      "execution_count": null,
      "outputs": [
        {
          "output_type": "execute_result",
          "data": {
            "text/plain": [
              "{'n_estimators': 500, 'max_depth': 30}"
            ]
          },
          "metadata": {},
          "execution_count": 31
        }
      ]
    },
    {
      "cell_type": "code",
      "source": [
        "rand.best_score_"
      ],
      "metadata": {
        "id": "PIu51EcdJRgt",
        "colab": {
          "base_uri": "https://localhost:8080/"
        },
        "outputId": "977bba7b-ee1c-421b-8495-0ec552c0fb35"
      },
      "execution_count": null,
      "outputs": [
        {
          "output_type": "execute_result",
          "data": {
            "text/plain": [
              "0.9999699333921231"
            ]
          },
          "metadata": {},
          "execution_count": 32
        }
      ]
    },
    {
      "cell_type": "code",
      "source": [
        "##Training with best parameters\n",
        "rfbest = RandomForestClassifier(n_estimators= 500, max_depth= 30)\n",
        "with joblib.parallel_backend(\"dask\", scatter=[X_train,y_train]):\n",
        "    rfbest.fit(X_train,y_train)"
      ],
      "metadata": {
        "id": "6QG6j0d5JReg"
      },
      "execution_count": null,
      "outputs": []
    },
    {
      "cell_type": "code",
      "source": [
        "y_pred = rfbest.predict(X_test)"
      ],
      "metadata": {
        "id": "-GU3-1YWJRcI"
      },
      "execution_count": null,
      "outputs": []
    },
    {
      "cell_type": "code",
      "source": [
        "print(classification_report_imbalanced(y_test,y_pred))"
      ],
      "metadata": {
        "id": "EjrY6j7QJRZg",
        "colab": {
          "base_uri": "https://localhost:8080/"
        },
        "outputId": "d369068d-f015-412f-ac50-5fb882e5b8f0"
      },
      "execution_count": null,
      "outputs": [
        {
          "output_type": "stream",
          "name": "stdout",
          "text": [
            "                   pre       rec       spe        f1       geo       iba       sup\n",
            "\n",
            "          0       1.00      1.00      1.00      1.00      1.00      1.00    262570\n",
            "          1       1.00      1.00      1.00      1.00      1.00      1.00    261268\n",
            "\n",
            "avg / total       1.00      1.00      1.00      1.00      1.00      1.00    523838\n",
            "\n"
          ]
        }
      ]
    },
    {
      "cell_type": "code",
      "source": [
        "##Plotting Confusion matrix\n",
        "\n",
        "cm = confusion_matrix(y_test, y_pred, labels=rfbest.classes_)\n",
        "disp = ConfusionMatrixDisplay(confusion_matrix=cm,\n",
        "                              display_labels=rfbest.classes_)\n",
        "disp.plot()\n",
        "plt.show()"
      ],
      "metadata": {
        "id": "aOpwaiwSK8Xe",
        "colab": {
          "base_uri": "https://localhost:8080/",
          "height": 449
        },
        "outputId": "5a903901-19a8-42dc-890c-1d6f59e981b1"
      },
      "execution_count": null,
      "outputs": [
        {
          "output_type": "display_data",
          "data": {
            "text/plain": [
              "<Figure size 640x480 with 2 Axes>"
            ],
            "image/png": "[encoded data removed]"
          },
          "metadata": {}
        }
      ]
    },
    {
      "cell_type": "code",
      "source": [
        "##Plotting ROC Curve\n",
        "\n",
        "ax = plt.gca()\n",
        "roc_display = RocCurveDisplay.from_estimator(rfbest, X_test, y_test, ax=ax, alpha=0.8)\n",
        "plt.title('Receiver Operating Characteristic (ROC) Curve')\n",
        "plt.show()"
      ],
      "metadata": {
        "id": "dR85OIi-K8U1",
        "colab": {
          "base_uri": "https://localhost:8080/",
          "height": 472
        },
        "outputId": "af68bbe7-f6ea-4a5e-aa4f-2f4a6459ccd7"
      },
      "execution_count": null,
      "outputs": [
        {
          "output_type": "display_data",
          "data": {
            "text/plain": [
              "<Figure size 640x480 with 1 Axes>"
            ],
            "image/png": "[encoded data removed]"
          },
          "metadata": {}
        }
      ]
    },
    {
      "cell_type": "code",
      "source": [
        "print(sensitivity_specificity_support(y_test, y_pred))"
      ],
      "metadata": {
        "id": "0jmfAhikK8SU",
        "colab": {
          "base_uri": "https://localhost:8080/"
        },
        "outputId": "f3d42d43-6675-4e55-b03d-9cb2872de8ad"
      },
      "execution_count": null,
      "outputs": [
        {
          "output_type": "stream",
          "name": "stdout",
          "text": [
            "(array([0.99995811, 1.        ]), array([1.        , 0.99995811]), array([262570, 261268]))\n"
          ]
        }
      ]
    },
    {
      "cell_type": "code",
      "source": [
        "print(sensitivity_specificity_support(y_test, y_pred, average='macro'))"
      ],
      "metadata": {
        "id": "z7HGMORrK8QD",
        "colab": {
          "base_uri": "https://localhost:8080/"
        },
        "outputId": "9ad2fb31-27e7-4012-f862-61d5b3108066"
      },
      "execution_count": null,
      "outputs": [
        {
          "output_type": "stream",
          "name": "stdout",
          "text": [
            "(0.9999790532048596, 0.9999790532048596, None)\n"
          ]
        }
      ]
    },
    {
      "cell_type": "code",
      "source": [
        "print(sensitivity_specificity_support(y_test, y_pred, average='micro'))"
      ],
      "metadata": {
        "id": "iUdNYwZcK8N6",
        "colab": {
          "base_uri": "https://localhost:8080/"
        },
        "outputId": "7840150e-ec7d-4716-dc1b-6eb0820210ec"
      },
      "execution_count": null,
      "outputs": [
        {
          "output_type": "stream",
          "name": "stdout",
          "text": [
            "(0.9999790011415743, 0.9999790011415743, None)\n"
          ]
        }
      ]
    },
    {
      "cell_type": "code",
      "source": [
        "print(sensitivity_specificity_support(y_test, y_pred, average='weighted'))"
      ],
      "metadata": {
        "id": "3D4BxQOCK8La",
        "colab": {
          "base_uri": "https://localhost:8080/"
        },
        "outputId": "c507761e-5f1d-4f2b-bf90-b6db693c7652"
      },
      "execution_count": null,
      "outputs": [
        {
          "output_type": "stream",
          "name": "stdout",
          "text": [
            "(0.9999790011415743, 0.999979105268145, None)\n"
          ]
        }
      ]
    },
    {
      "cell_type": "code",
      "source": [
        "abc = AdaBoostClassifier()\n",
        "abc.fit(X_train,y_train)\n",
        "y_pred = abc.predict(X_test)"
      ],
      "metadata": {
        "id": "60rlf0ovK8JH"
      },
      "execution_count": null,
      "outputs": []
    },
    {
      "cell_type": "code",
      "source": [
        "accuracy_score(y_test,y_pred)"
      ],
      "metadata": {
        "id": "zLaGp-3nK8Ge",
        "colab": {
          "base_uri": "https://localhost:8080/"
        },
        "outputId": "faee4481-5df7-40b6-e932-ff0d21421d60"
      },
      "execution_count": null,
      "outputs": [
        {
          "output_type": "execute_result",
          "data": {
            "text/plain": [
              "0.9999102776049084"
            ]
          },
          "metadata": {},
          "execution_count": 43
        }
      ]
    },
    {
      "cell_type": "code",
      "source": [
        "confusion_matrix(y_test,y_pred)"
      ],
      "metadata": {
        "id": "y2_PVFJWLaqt",
        "colab": {
          "base_uri": "https://localhost:8080/"
        },
        "outputId": "255c3642-709a-4f25-b293-836971e5159f"
      },
      "execution_count": null,
      "outputs": [
        {
          "output_type": "execute_result",
          "data": {
            "text/plain": [
              "array([[262523,     47],\n",
              "       [     0, 261268]])"
            ]
          },
          "metadata": {},
          "execution_count": 44
        }
      ]
    },
    {
      "cell_type": "code",
      "source": [
        "roc_auc_score(y_test,y_pred)"
      ],
      "metadata": {
        "id": "7ylK2ailLald",
        "colab": {
          "base_uri": "https://localhost:8080/"
        },
        "outputId": "f42cd730-db0e-41c7-d725-13847b270450"
      },
      "execution_count": null,
      "outputs": [
        {
          "output_type": "execute_result",
          "data": {
            "text/plain": [
              "0.9999105000571276"
            ]
          },
          "metadata": {},
          "execution_count": 45
        }
      ]
    },
    {
      "cell_type": "markdown",
      "source": [
        "# Training with AdaBoost"
      ],
      "metadata": {
        "id": "7TZ5Igj3HbV-"
      }
    },
    {
      "cell_type": "code",
      "source": [
        "abc = AdaBoostClassifier()\n",
        "param_grid = {\n",
        "    'n_estimators' : [100, 200, 300, 500],\n",
        "    'learning_rate' : [0.0001, 0.001, 0.01, 0.1, 1],\n",
        "}\n",
        "rand5 = RandomizedSearchCV(abc, param_grid, cv=5, scoring='accuracy', n_jobs=-1)"
      ],
      "metadata": {
        "id": "qbsG65xELai3"
      },
      "execution_count": null,
      "outputs": []
    },
    {
      "cell_type": "code",
      "source": [
        "with joblib.parallel_backend(\"dask\", scatter=[X_train,y_train]):\n",
        "    rand5.fit(X_train,y_train)"
      ],
      "metadata": {
        "id": "Q81k0c_oLagI"
      },
      "execution_count": null,
      "outputs": []
    },
    {
      "cell_type": "code",
      "source": [
        "rand5.best_params_"
      ],
      "metadata": {
        "id": "aQ_LvVOoMR88",
        "colab": {
          "base_uri": "https://localhost:8080/"
        },
        "outputId": "794d5f39-d2b8-4c27-b6a3-13ea24ab20de"
      },
      "execution_count": null,
      "outputs": [
        {
          "output_type": "execute_result",
          "data": {
            "text/plain": [
              "{'n_estimators': 200, 'learning_rate': 1}"
            ]
          },
          "metadata": {},
          "execution_count": 48
        }
      ]
    },
    {
      "cell_type": "code",
      "source": [
        "rand5.best_score_"
      ],
      "metadata": {
        "id": "zI-F-InzMR6p",
        "colab": {
          "base_uri": "https://localhost:8080/"
        },
        "outputId": "cd7856b1-e011-4840-f373-9937d1faba0c"
      },
      "execution_count": null,
      "outputs": [
        {
          "output_type": "execute_result",
          "data": {
            "text/plain": [
              "0.9999494117460873"
            ]
          },
          "metadata": {},
          "execution_count": 49
        }
      ]
    },
    {
      "cell_type": "code",
      "source": [
        "##Training with best parameters\n",
        "adabest = AdaBoostClassifier(n_estimators=200, learning_rate=1)\n",
        "with joblib.parallel_backend(\"dask\", scatter=[X_train,y_train]):\n",
        "    adabest.fit(X_train,y_train)\n",
        "\n",
        "y_pred = adabest.predict(X_test)"
      ],
      "metadata": {
        "id": "jSFxWGlbcHwH"
      },
      "execution_count": null,
      "outputs": []
    },
    {
      "cell_type": "code",
      "source": [
        "print(classification_report_imbalanced(y_test,y_pred))"
      ],
      "metadata": {
        "id": "S7IgE0-nMR2L",
        "colab": {
          "base_uri": "https://localhost:8080/"
        },
        "outputId": "fb1eb807-db08-4bea-d788-c200c5cea489"
      },
      "execution_count": null,
      "outputs": [
        {
          "output_type": "stream",
          "name": "stdout",
          "text": [
            "                   pre       rec       spe        f1       geo       iba       sup\n",
            "\n",
            "          0       1.00      1.00      1.00      1.00      1.00      1.00    262570\n",
            "          1       1.00      1.00      1.00      1.00      1.00      1.00    261268\n",
            "\n",
            "avg / total       1.00      1.00      1.00      1.00      1.00      1.00    523838\n",
            "\n"
          ]
        }
      ]
    },
    {
      "cell_type": "code",
      "source": [
        "##Plotting Confusion matrix\n",
        "\n",
        "cm = confusion_matrix(y_test, y_pred, labels=adabest.classes_)\n",
        "disp = ConfusionMatrixDisplay(confusion_matrix=cm,\n",
        "                              display_labels=adabest.classes_)\n",
        "disp.plot()\n",
        "plt.show()"
      ],
      "metadata": {
        "id": "uXDnZ_f4MRzu",
        "colab": {
          "base_uri": "https://localhost:8080/",
          "height": 449
        },
        "outputId": "59ed2d2b-ea2c-4c0c-b5fa-08adef8ed880"
      },
      "execution_count": null,
      "outputs": [
        {
          "output_type": "display_data",
          "data": {
            "text/plain": [
              "<Figure size 640x480 with 2 Axes>"
            ],
            "image/png": "[encoded data removed]"
          },
          "metadata": {}
        }
      ]
    },
    {
      "cell_type": "code",
      "source": [
        "##Plotting ROC Curve\n",
        "\n",
        "ax = plt.gca()\n",
        "roc_display = RocCurveDisplay.from_estimator(adabest, X_test, y_test, ax=ax, alpha=0.8)\n",
        "plt.title('Receiver Operating Characteristic (ROC) Curve')\n",
        "plt.show()"
      ],
      "metadata": {
        "id": "MGkxuuP7MRx1",
        "colab": {
          "base_uri": "https://localhost:8080/",
          "height": 472
        },
        "outputId": "09f08759-6dad-450a-bcf8-8bc7c6884511"
      },
      "execution_count": null,
      "outputs": [
        {
          "output_type": "display_data",
          "data": {
            "text/plain": [
              "<Figure size 640x480 with 1 Axes>"
            ],
            "image/png": "[encoded data removed]"
          },
          "metadata": {}
        }
      ]
    },
    {
      "cell_type": "code",
      "source": [
        "print(sensitivity_specificity_support(y_test, y_pred))"
      ],
      "metadata": {
        "id": "PcxZwiOwMRu_",
        "colab": {
          "base_uri": "https://localhost:8080/"
        },
        "outputId": "dbefe9d8-5f99-4b1a-a05c-ee6d457de10d"
      },
      "execution_count": null,
      "outputs": [
        {
          "output_type": "stream",
          "name": "stdout",
          "text": [
            "(array([0.99993906, 1.        ]), array([1.        , 0.99993906]), array([262570, 261268]))\n"
          ]
        }
      ]
    },
    {
      "cell_type": "code",
      "source": [
        "print(sensitivity_specificity_support(y_test, y_pred, average='macro'))"
      ],
      "metadata": {
        "id": "SR9qUkWAMRsw",
        "colab": {
          "base_uri": "https://localhost:8080/"
        },
        "outputId": "5696cfcc-e1fe-4d22-c1fb-4b9c1bc04b30"
      },
      "execution_count": null,
      "outputs": [
        {
          "output_type": "stream",
          "name": "stdout",
          "text": [
            "(0.9999695319343413, 0.9999695319343413, None)\n"
          ]
        }
      ]
    },
    {
      "cell_type": "code",
      "source": [
        "print(sensitivity_specificity_support(y_test, y_pred, average='micro'))"
      ],
      "metadata": {
        "id": "0Qqt2fgHMrQF",
        "colab": {
          "base_uri": "https://localhost:8080/"
        },
        "outputId": "7522afe6-133f-46b7-a921-c150775b0f90"
      },
      "execution_count": null,
      "outputs": [
        {
          "output_type": "stream",
          "name": "stdout",
          "text": [
            "(0.9999694562059263, 0.9999694562059263, None)\n"
          ]
        }
      ]
    },
    {
      "cell_type": "code",
      "source": [
        "print(sensitivity_specificity_support(y_test, y_pred, average='weighted'))"
      ],
      "metadata": {
        "id": "xl9VR318MrNZ",
        "colab": {
          "base_uri": "https://localhost:8080/"
        },
        "outputId": "6280c20b-f6ef-45e2-966b-0af08c3b0161"
      },
      "execution_count": null,
      "outputs": [
        {
          "output_type": "stream",
          "name": "stdout",
          "text": [
            "(0.9999694562059263, 0.9999696076627564, None)\n"
          ]
        }
      ]
    },
    {
      "cell_type": "code",
      "source": [],
      "metadata": {
        "id": "uCpdCtfqMRp9"
      },
      "execution_count": null,
      "outputs": []
    },
    {
      "cell_type": "markdown",
      "source": [
        "# Oversampling using SMOTE"
      ],
      "metadata": {
        "id": "pSuFyZc2C-4x"
      }
    },
    {
      "cell_type": "code",
      "source": [
        "sm = SMOTE(random_state=42)\n",
        "X_resampled, y_resampled = sm.fit_resample(X, y)"
      ],
      "metadata": {
        "id": "QeBjPMmtK1Qu"
      },
      "execution_count": null,
      "outputs": []
    },
    {
      "cell_type": "code",
      "source": [
        "X_train,X_test,y_train,y_test = train_test_split(X_resampled,y_resampled, test_size=0.2, random_state=43)"
      ],
      "metadata": {
        "id": "K6q6WAoLLBVK"
      },
      "execution_count": null,
      "outputs": []
    },
    {
      "cell_type": "code",
      "source": [
        "y_train.value_counts()"
      ],
      "metadata": {
        "id": "G31IQi-MLBYX",
        "colab": {
          "base_uri": "https://localhost:8080/"
        },
        "outputId": "d38a85f0-3b05-48b9-bf3b-5d469e3dd4db"
      },
      "execution_count": null,
      "outputs": [
        {
          "output_type": "execute_result",
          "data": {
            "text/plain": [
              "pha\n",
              "1      1048325\n",
              "0      1047023\n",
              "Name: count, dtype: int64"
            ]
          },
          "metadata": {},
          "execution_count": 15
        }
      ]
    },
    {
      "cell_type": "code",
      "source": [
        "y_test.value_counts()"
      ],
      "metadata": {
        "id": "Fak9TshYLBba",
        "colab": {
          "base_uri": "https://localhost:8080/"
        },
        "outputId": "98d53fcc-2ec4-4c8b-c687-fc9ddd73fd58"
      },
      "execution_count": null,
      "outputs": [
        {
          "output_type": "execute_result",
          "data": {
            "text/plain": [
              "pha\n",
              "0      262570\n",
              "1      261268\n",
              "Name: count, dtype: int64"
            ]
          },
          "metadata": {},
          "execution_count": 16
        }
      ]
    },
    {
      "cell_type": "code",
      "source": [
        "y_train = y_train.squeeze()\n",
        "y_train"
      ],
      "metadata": {
        "id": "cTsuzRpyLBeS",
        "colab": {
          "base_uri": "https://localhost:8080/"
        },
        "outputId": "0678ceef-25ad-4a6d-cbbc-6e940bd7cccb"
      },
      "execution_count": null,
      "outputs": [
        {
          "output_type": "execute_result",
          "data": {
            "text/plain": [
              "1205167    0\n",
              "575514     0\n",
              "1212305    0\n",
              "1847891    1\n",
              "1411332    1\n",
              "          ..\n",
              "1106227    0\n",
              "1525776    1\n",
              "1439802    1\n",
              "2484501    1\n",
              "1613617    1\n",
              "Name: pha, Length: 2095348, dtype: int64"
            ]
          },
          "metadata": {},
          "execution_count": 17
        }
      ]
    },
    {
      "cell_type": "markdown",
      "source": [
        "# Training with Random Forest"
      ],
      "metadata": {
        "id": "_UPX6rarH9G9"
      }
    },
    {
      "cell_type": "code",
      "source": [
        "rf = RandomForestClassifier()\n",
        "with joblib.parallel_backend(\"dask\", scatter=[X_train,y_train]):\n",
        "    rf.fit(X_train,y_train)\n",
        "y_pred = rf.predict(X_test)"
      ],
      "metadata": {
        "id": "fwD6k2SFLBhT",
        "colab": {
          "base_uri": "https://localhost:8080/"
        },
        "outputId": "a3946a85-e0c8-4617-bfd1-05fe168419f5"
      },
      "execution_count": null,
      "outputs": [
        {
          "output_type": "stream",
          "name": "stderr",
          "text": [
            "INFO:distributed.scheduler:Receive client connection: Client-worker-23a920ff-3cf7-11ef-8263-0242ac1c000c\n",
            "INFO:distributed.core:Starting established connection to tcp://127.0.0.1:49658\n",
            "INFO:distributed.scheduler:Receive client connection: Client-worker-23a7baa5-3cf7-11ef-822f-0242ac1c000c\n",
            "INFO:distributed.core:Starting established connection to tcp://127.0.0.1:49672\n",
            "INFO:distributed.scheduler:Receive client connection: Client-worker-23ff161e-3cf7-11ef-8217-0242ac1c000c\n",
            "INFO:distributed.core:Starting established connection to tcp://127.0.0.1:49676\n",
            "INFO:distributed.scheduler:Receive client connection: Client-worker-24056ac9-3cf7-11ef-8267-0242ac1c000c\n",
            "INFO:distributed.core:Starting established connection to tcp://127.0.0.1:49686\n",
            "INFO:distributed.scheduler:Receive client connection: Client-worker-24099a1a-3cf7-11ef-8247-0242ac1c000c\n",
            "INFO:distributed.core:Starting established connection to tcp://127.0.0.1:49688\n",
            "INFO:distributed.scheduler:Receive client connection: Client-worker-240aae67-3cf7-11ef-8233-0242ac1c000c\n",
            "INFO:distributed.core:Starting established connection to tcp://127.0.0.1:49690\n",
            "INFO:distributed.scheduler:Receive client connection: Client-worker-2426f075-3cf7-11ef-8224-0242ac1c000c\n",
            "INFO:distributed.core:Starting established connection to tcp://127.0.0.1:49700\n",
            "INFO:distributed.scheduler:Receive client connection: Client-worker-24288189-3cf7-11ef-825d-0242ac1c000c\n",
            "INFO:distributed.core:Starting established connection to tcp://127.0.0.1:49712\n",
            "INFO:distributed.scheduler:Receive client connection: Client-worker-2438da00-3cf7-11ef-821b-0242ac1c000c\n",
            "INFO:distributed.core:Starting established connection to tcp://127.0.0.1:49714\n",
            "INFO:distributed.scheduler:Receive client connection: Client-worker-24412266-3cf7-11ef-81fe-0242ac1c000c\n",
            "INFO:distributed.core:Starting established connection to tcp://127.0.0.1:49720\n",
            "INFO:distributed.scheduler:Receive client connection: Client-worker-24411968-3cf7-11ef-8260-0242ac1c000c\n",
            "INFO:distributed.core:Starting established connection to tcp://127.0.0.1:49734\n",
            "INFO:distributed.scheduler:Receive client connection: Client-worker-2442cbc0-3cf7-11ef-8254-0242ac1c000c\n",
            "INFO:distributed.core:Starting established connection to tcp://127.0.0.1:49740\n",
            "INFO:distributed.scheduler:Receive client connection: Client-worker-2445a596-3cf7-11ef-8258-0242ac1c000c\n",
            "INFO:distributed.core:Starting established connection to tcp://127.0.0.1:49752\n",
            "INFO:distributed.scheduler:Receive client connection: Client-worker-244569c1-3cf7-11ef-8220-0242ac1c000c\n",
            "INFO:distributed.core:Starting established connection to tcp://127.0.0.1:49764\n",
            "INFO:distributed.scheduler:Receive client connection: Client-worker-2445ff27-3cf7-11ef-824c-0242ac1c000c\n",
            "INFO:distributed.core:Starting established connection to tcp://127.0.0.1:49776\n",
            "INFO:distributed.scheduler:Receive client connection: Client-worker-24444187-3cf7-11ef-8229-0242ac1c000c\n",
            "INFO:distributed.core:Starting established connection to tcp://127.0.0.1:49754\n",
            "INFO:distributed.scheduler:Receive client connection: Client-worker-244a5623-3cf7-11ef-820e-0242ac1c000c\n",
            "INFO:distributed.core:Starting established connection to tcp://127.0.0.1:49786\n",
            "INFO:distributed.scheduler:Receive client connection: Client-worker-244d04ae-3cf7-11ef-8251-0242ac1c000c\n",
            "INFO:distributed.core:Starting established connection to tcp://127.0.0.1:49796\n",
            "INFO:distributed.scheduler:Receive client connection: Client-worker-244d534f-3cf7-11ef-826c-0242ac1c000c\n",
            "INFO:distributed.core:Starting established connection to tcp://127.0.0.1:49806\n",
            "INFO:distributed.scheduler:Receive client connection: Client-worker-244f4d17-3cf7-11ef-8270-0242ac1c000c\n",
            "INFO:distributed.core:Starting established connection to tcp://127.0.0.1:49828\n",
            "INFO:distributed.scheduler:Receive client connection: Client-worker-244f72b9-3cf7-11ef-823f-0242ac1c000c\n",
            "INFO:distributed.core:Starting established connection to tcp://127.0.0.1:49820\n",
            "INFO:distributed.scheduler:Receive client connection: Client-worker-2451d6c4-3cf7-11ef-8214-0242ac1c000c\n",
            "INFO:distributed.core:Starting established connection to tcp://127.0.0.1:49848\n",
            "INFO:distributed.scheduler:Receive client connection: Client-worker-2453793b-3cf7-11ef-8244-0242ac1c000c\n",
            "INFO:distributed.core:Starting established connection to tcp://127.0.0.1:49850\n",
            "INFO:distributed.scheduler:Receive client connection: Client-worker-24553a65-3cf7-11ef-8228-0242ac1c000c\n",
            "INFO:distributed.core:Starting established connection to tcp://127.0.0.1:49870\n",
            "INFO:distributed.scheduler:Receive client connection: Client-worker-245642ff-3cf7-11ef-81f7-0242ac1c000c\n",
            "INFO:distributed.core:Starting established connection to tcp://127.0.0.1:49878\n",
            "INFO:distributed.scheduler:Receive client connection: Client-worker-245921e9-3cf7-11ef-8237-0242ac1c000c\n",
            "INFO:distributed.core:Starting established connection to tcp://127.0.0.1:49902\n",
            "INFO:distributed.scheduler:Receive client connection: Client-worker-24593f9e-3cf7-11ef-823c-0242ac1c000c\n",
            "INFO:distributed.core:Starting established connection to tcp://127.0.0.1:49890\n",
            "INFO:distributed.scheduler:Receive client connection: Client-worker-24516a00-3cf7-11ef-8202-0242ac1c000c\n",
            "INFO:distributed.core:Starting established connection to tcp://127.0.0.1:49836\n",
            "INFO:distributed.scheduler:Receive client connection: Client-worker-245a47eb-3cf7-11ef-8207-0242ac1c000c\n",
            "INFO:distributed.core:Starting established connection to tcp://127.0.0.1:49882\n",
            "INFO:distributed.scheduler:Receive client connection: Client-worker-24505d50-3cf7-11ef-81fc-0242ac1c000c\n",
            "INFO:distributed.core:Starting established connection to tcp://127.0.0.1:49832\n",
            "INFO:distributed.scheduler:Receive client connection: Client-worker-245aa9f2-3cf7-11ef-8272-0242ac1c000c\n",
            "INFO:distributed.core:Starting established connection to tcp://127.0.0.1:49916\n",
            "INFO:distributed.scheduler:Receive client connection: Client-worker-248c9316-3cf7-11ef-820a-0242ac1c000c\n",
            "INFO:distributed.core:Starting established connection to tcp://127.0.0.1:50008\n"
          ]
        }
      ]
    },
    {
      "cell_type": "code",
      "source": [
        "accuracy_score(y_test,y_pred)"
      ],
      "metadata": {
        "id": "jaXxbzkjLBkP",
        "colab": {
          "base_uri": "https://localhost:8080/"
        },
        "outputId": "f1b445a4-0df0-4814-c1ad-e86aeafe28f8"
      },
      "execution_count": null,
      "outputs": [
        {
          "output_type": "execute_result",
          "data": {
            "text/plain": [
              "0.9999790011415743"
            ]
          },
          "metadata": {},
          "execution_count": 19
        }
      ]
    },
    {
      "cell_type": "code",
      "source": [
        "confusion_matrix(y_test,y_pred)"
      ],
      "metadata": {
        "colab": {
          "base_uri": "https://localhost:8080/"
        },
        "id": "6XhEK9D7pbMf",
        "outputId": "c7111ad9-341f-4b66-853a-4d97a9e4e2e0"
      },
      "execution_count": null,
      "outputs": [
        {
          "output_type": "execute_result",
          "data": {
            "text/plain": [
              "array([[262559,     11],\n",
              "       [     0, 261268]])"
            ]
          },
          "metadata": {},
          "execution_count": 20
        }
      ]
    },
    {
      "cell_type": "code",
      "source": [
        "print(classification_report_imbalanced(y_test,y_pred))"
      ],
      "metadata": {
        "colab": {
          "base_uri": "https://localhost:8080/"
        },
        "id": "oBq3bkccpbJ2",
        "outputId": "c0974f33-dad3-4918-abd5-116185f1535f"
      },
      "execution_count": null,
      "outputs": [
        {
          "output_type": "stream",
          "name": "stdout",
          "text": [
            "                   pre       rec       spe        f1       geo       iba       sup\n",
            "\n",
            "          0       1.00      1.00      1.00      1.00      1.00      1.00    262570\n",
            "          1       1.00      1.00      1.00      1.00      1.00      1.00    261268\n",
            "\n",
            "avg / total       1.00      1.00      1.00      1.00      1.00      1.00    523838\n",
            "\n"
          ]
        }
      ]
    },
    {
      "cell_type": "code",
      "source": [
        "print(sensitivity_specificity_support(y_test, y_pred))"
      ],
      "metadata": {
        "colab": {
          "base_uri": "https://localhost:8080/"
        },
        "id": "3GWIcurVpbHG",
        "outputId": "7de1c32c-cd4f-45db-9da8-57157627c9f4"
      },
      "execution_count": null,
      "outputs": [
        {
          "output_type": "stream",
          "name": "stdout",
          "text": [
            "(array([0.99995811, 1.        ]), array([1.        , 0.99995811]), array([262570, 261268]))\n"
          ]
        }
      ]
    },
    {
      "cell_type": "code",
      "source": [
        "model = RandomForestClassifier()\n",
        "\n",
        "param_grid = {\n",
        "    'n_estimators': [100, 200, 300, 500],\n",
        "    'max_depth': [None, 20, 30, 50]\n",
        "}\n",
        "\n",
        "rand = RandomizedSearchCV(model, param_grid, cv=5, scoring='accuracy', n_jobs=-1)"
      ],
      "metadata": {
        "id": "JASet3jqpbEW"
      },
      "execution_count": null,
      "outputs": []
    },
    {
      "cell_type": "code",
      "source": [
        "with joblib.parallel_backend(\"dask\", scatter=[X_train,y_train]):\n",
        "    rand.fit(X_train,y_train)"
      ],
      "metadata": {
        "id": "kuarvRq2cOoe"
      },
      "execution_count": null,
      "outputs": []
    },
    {
      "cell_type": "code",
      "source": [
        "rand.best_params_"
      ],
      "metadata": {
        "id": "dkRsTDDWpa-6",
        "colab": {
          "base_uri": "https://localhost:8080/"
        },
        "outputId": "f49b0e2a-bb00-458e-98a0-9ceb53e68b3a"
      },
      "execution_count": null,
      "outputs": [
        {
          "output_type": "execute_result",
          "data": {
            "text/plain": [
              "{'n_estimators': 200, 'max_depth': 20}"
            ]
          },
          "metadata": {},
          "execution_count": 25
        }
      ]
    },
    {
      "cell_type": "code",
      "source": [
        "rand.best_score_"
      ],
      "metadata": {
        "id": "OELzxK_epa8p",
        "colab": {
          "base_uri": "https://localhost:8080/"
        },
        "outputId": "083e6702-31d6-4d31-b78f-3dec6f1f0b36"
      },
      "execution_count": null,
      "outputs": [
        {
          "output_type": "execute_result",
          "data": {
            "text/plain": [
              "0.9999675471525171"
            ]
          },
          "metadata": {},
          "execution_count": 26
        }
      ]
    },
    {
      "cell_type": "code",
      "source": [
        "##Training with best parameters\n",
        "rfbest = RandomForestClassifier(n_estimators= 200, max_depth= 20)\n",
        "with joblib.parallel_backend(\"dask\", scatter=[X_train,y_train]):\n",
        "    rfbest.fit(X_train,y_train)"
      ],
      "metadata": {
        "id": "p1ebILC1pa6E"
      },
      "execution_count": null,
      "outputs": []
    },
    {
      "cell_type": "code",
      "source": [
        "y_pred = rfbest.predict(X_test)"
      ],
      "metadata": {
        "id": "SS9Teyd2pa3S"
      },
      "execution_count": null,
      "outputs": []
    },
    {
      "cell_type": "code",
      "source": [
        "print(classification_report_imbalanced(y_test,y_pred))"
      ],
      "metadata": {
        "id": "IEVo64_8pa0m",
        "colab": {
          "base_uri": "https://localhost:8080/"
        },
        "outputId": "b1894ee1-ab2e-4a79-c332-8c5a642070db"
      },
      "execution_count": null,
      "outputs": [
        {
          "output_type": "stream",
          "name": "stdout",
          "text": [
            "                   pre       rec       spe        f1       geo       iba       sup\n",
            "\n",
            "          0       1.00      1.00      1.00      1.00      1.00      1.00    262570\n",
            "          1       1.00      1.00      1.00      1.00      1.00      1.00    261268\n",
            "\n",
            "avg / total       1.00      1.00      1.00      1.00      1.00      1.00    523838\n",
            "\n"
          ]
        }
      ]
    },
    {
      "cell_type": "code",
      "source": [
        "##Plotting Confusion matrix\n",
        "\n",
        "cm = confusion_matrix(y_test, y_pred, labels=rfbest.classes_)\n",
        "disp = ConfusionMatrixDisplay(confusion_matrix=cm,\n",
        "                              display_labels=rfbest.classes_)\n",
        "disp.plot()\n",
        "plt.show()"
      ],
      "metadata": {
        "id": "MLpY8GgEpaxo",
        "colab": {
          "base_uri": "https://localhost:8080/",
          "height": 449
        },
        "outputId": "d3c9067a-d23c-4baa-8103-1c0123d4948c"
      },
      "execution_count": null,
      "outputs": [
        {
          "output_type": "display_data",
          "data": {
            "text/plain": [
              "<Figure size 640x480 with 2 Axes>"
            ],
            "image/png": "[encoded data removed]"
          },
          "metadata": {}
        }
      ]
    },
    {
      "cell_type": "code",
      "source": [
        "##Plotting ROC Curve\n",
        "\n",
        "ax = plt.gca()\n",
        "roc_display = RocCurveDisplay.from_estimator(rfbest, X_test, y_test, ax=ax, alpha=0.8)\n",
        "plt.title('Receiver Operating Characteristic (ROC) Curve')\n",
        "plt.show()"
      ],
      "metadata": {
        "id": "J_UJPch0pat-",
        "colab": {
          "base_uri": "https://localhost:8080/",
          "height": 472
        },
        "outputId": "381acacf-da09-4e5b-928f-0b6279d47d30"
      },
      "execution_count": null,
      "outputs": [
        {
          "output_type": "display_data",
          "data": {
            "text/plain": [
              "<Figure size 640x480 with 1 Axes>"
            ],
            "image/png": "[encoded data removed]"
          },
          "metadata": {}
        }
      ]
    },
    {
      "cell_type": "code",
      "source": [
        "print(sensitivity_specificity_support(y_test, y_pred))"
      ],
      "metadata": {
        "id": "rjVw17rIpapB",
        "colab": {
          "base_uri": "https://localhost:8080/"
        },
        "outputId": "009a20a7-215b-480a-f986-8bac1d9a7b44"
      },
      "execution_count": null,
      "outputs": [
        {
          "output_type": "stream",
          "name": "stdout",
          "text": [
            "(array([0.9999543, 1.       ]), array([1.       , 0.9999543]), array([262570, 261268]))\n"
          ]
        }
      ]
    },
    {
      "cell_type": "code",
      "source": [
        "print(sensitivity_specificity_support(y_test, y_pred, average='macro'))"
      ],
      "metadata": {
        "id": "aaBNCPDgpaln",
        "colab": {
          "base_uri": "https://localhost:8080/"
        },
        "outputId": "2bdb4805-08ca-478f-aa7e-75873a5596fa"
      },
      "execution_count": null,
      "outputs": [
        {
          "output_type": "stream",
          "name": "stdout",
          "text": [
            "(0.9999771489507561, 0.9999771489507561, None)\n"
          ]
        }
      ]
    },
    {
      "cell_type": "code",
      "source": [
        "print(sensitivity_specificity_support(y_test, y_pred, average='micro'))"
      ],
      "metadata": {
        "id": "NxaUW2wOpagB",
        "colab": {
          "base_uri": "https://localhost:8080/"
        },
        "outputId": "e6da4752-c170-4722-f376-18e00575e7cd"
      },
      "execution_count": null,
      "outputs": [
        {
          "output_type": "stream",
          "name": "stdout",
          "text": [
            "(0.9999770921544447, 0.9999770921544447, None)\n"
          ]
        }
      ]
    },
    {
      "cell_type": "code",
      "source": [
        "print(sensitivity_specificity_support(y_test, y_pred, average='weighted'))"
      ],
      "metadata": {
        "id": "5DpxqYdr257w",
        "colab": {
          "base_uri": "https://localhost:8080/"
        },
        "outputId": "c7aa7f61-7aa0-4552-b9e3-6dedba91b5a9"
      },
      "execution_count": null,
      "outputs": [
        {
          "output_type": "stream",
          "name": "stdout",
          "text": [
            "(0.9999770921544447, 0.9999772057470673, None)\n"
          ]
        }
      ]
    },
    {
      "cell_type": "code",
      "source": [
        "abc = AdaBoostClassifier()\n",
        "abc.fit(X_train,y_train)\n",
        "y_pred = abc.predict(X_test)"
      ],
      "metadata": {
        "id": "-OvKH9wA283R",
        "colab": {
          "base_uri": "https://localhost:8080/",
          "height": 182
        },
        "outputId": "486ceaf2-118b-46b1-e882-975d4853ce51"
      },
      "execution_count": 1,
      "outputs": [
        {
          "output_type": "error",
          "ename": "NameError",
          "evalue": "name 'AdaBoostClassifier' is not defined",
          "traceback": [
            "\u001b[0;31m---------------------------------------------------------------------------\u001b[0m",
            "\u001b[0;31mNameError\u001b[0m                                 Traceback (most recent call last)",
            "\u001b[0;32m<ipython-input-1-e3cdd032b31c>\u001b[0m in \u001b[0;36m<cell line: 1>\u001b[0;34m()\u001b[0m\n\u001b[0;32m----> 1\u001b[0;31m \u001b[0mabc\u001b[0m \u001b[0;34m=\u001b[0m \u001b[0mAdaBoostClassifier\u001b[0m\u001b[0;34m(\u001b[0m\u001b[0;34m)\u001b[0m\u001b[0;34m\u001b[0m\u001b[0;34m\u001b[0m\u001b[0m\n\u001b[0m\u001b[1;32m      2\u001b[0m \u001b[0mabc\u001b[0m\u001b[0;34m.\u001b[0m\u001b[0mfit\u001b[0m\u001b[0;34m(\u001b[0m\u001b[0mX_train\u001b[0m\u001b[0;34m,\u001b[0m\u001b[0my_train\u001b[0m\u001b[0;34m)\u001b[0m\u001b[0;34m\u001b[0m\u001b[0;34m\u001b[0m\u001b[0m\n\u001b[1;32m      3\u001b[0m \u001b[0my_pred\u001b[0m \u001b[0;34m=\u001b[0m \u001b[0mabc\u001b[0m\u001b[0;34m.\u001b[0m\u001b[0mpredict\u001b[0m\u001b[0;34m(\u001b[0m\u001b[0mX_test\u001b[0m\u001b[0;34m)\u001b[0m\u001b[0;34m\u001b[0m\u001b[0;34m\u001b[0m\u001b[0m\n",
            "\u001b[0;31mNameError\u001b[0m: name 'AdaBoostClassifier' is not defined"
          ]
        }
      ]
    },
    {
      "cell_type": "code",
      "source": [
        "accuracy_score(y_test,y_pred)"
      ],
      "metadata": {
        "id": "mwOhHAi9280Q",
        "colab": {
          "base_uri": "https://localhost:8080/",
          "height": 146
        },
        "outputId": "4fd9cf58-9604-4f88-cb1d-2b0e8ddad103"
      },
      "execution_count": 2,
      "outputs": [
        {
          "output_type": "error",
          "ename": "NameError",
          "evalue": "name 'accuracy_score' is not defined",
          "traceback": [
            "\u001b[0;31m---------------------------------------------------------------------------\u001b[0m",
            "\u001b[0;31mNameError\u001b[0m                                 Traceback (most recent call last)",
            "\u001b[0;32m<ipython-input-2-86e1b10703d2>\u001b[0m in \u001b[0;36m<cell line: 1>\u001b[0;34m()\u001b[0m\n\u001b[0;32m----> 1\u001b[0;31m \u001b[0maccuracy_score\u001b[0m\u001b[0;34m(\u001b[0m\u001b[0my_test\u001b[0m\u001b[0;34m,\u001b[0m\u001b[0my_pred\u001b[0m\u001b[0;34m)\u001b[0m\u001b[0;34m\u001b[0m\u001b[0;34m\u001b[0m\u001b[0m\n\u001b[0m",
            "\u001b[0;31mNameError\u001b[0m: name 'accuracy_score' is not defined"
          ]
        }
      ]
    },
    {
      "cell_type": "code",
      "source": [
        "confusion_matrix(y_test,y_pred)"
      ],
      "metadata": {
        "id": "LxAO2Y3m28xt",
        "colab": {
          "base_uri": "https://localhost:8080/",
          "height": 146
        },
        "outputId": "2d538c4c-7735-4ace-ebb0-7f97567a689c"
      },
      "execution_count": 3,
      "outputs": [
        {
          "output_type": "error",
          "ename": "NameError",
          "evalue": "name 'confusion_matrix' is not defined",
          "traceback": [
            "\u001b[0;31m---------------------------------------------------------------------------\u001b[0m",
            "\u001b[0;31mNameError\u001b[0m                                 Traceback (most recent call last)",
            "\u001b[0;32m<ipython-input-3-e5b86ff07486>\u001b[0m in \u001b[0;36m<cell line: 1>\u001b[0;34m()\u001b[0m\n\u001b[0;32m----> 1\u001b[0;31m \u001b[0mconfusion_matrix\u001b[0m\u001b[0;34m(\u001b[0m\u001b[0my_test\u001b[0m\u001b[0;34m,\u001b[0m\u001b[0my_pred\u001b[0m\u001b[0;34m)\u001b[0m\u001b[0;34m\u001b[0m\u001b[0;34m\u001b[0m\u001b[0m\n\u001b[0m",
            "\u001b[0;31mNameError\u001b[0m: name 'confusion_matrix' is not defined"
          ]
        }
      ]
    },
    {
      "cell_type": "code",
      "source": [
        "roc_auc_score(y_test,y_pred)"
      ],
      "metadata": {
        "id": "2d3GdptB28tm"
      },
      "execution_count": null,
      "outputs": []
    },
    {
      "cell_type": "code",
      "source": [
        "abc = AdaBoostClassifier()\n",
        "param_grid = {\n",
        "    'n_estimators' : [100, 200, 300, 500],\n",
        "    'learning_rate' : [0.0001, 0.001, 0.01, 0.1, 1],\n",
        "}\n",
        "\n",
        "rand5 = RandomizedSearchCV(abc, param_grid, cv=5, scoring='accuracy', n_jobs=-1)"
      ],
      "metadata": {
        "id": "TbBD4FTs255A"
      },
      "execution_count": null,
      "outputs": []
    },
    {
      "cell_type": "code",
      "source": [
        "with joblib.parallel_backend(\"dask\", scatter=[X_train,y_train]):\n",
        "    rand5.fit(X_train,y_train)"
      ],
      "metadata": {
        "id": "fwlOvlcr252X"
      },
      "execution_count": null,
      "outputs": []
    },
    {
      "cell_type": "code",
      "source": [
        "rand5.best_params_"
      ],
      "metadata": {
        "id": "JbsRVSGI25zv"
      },
      "execution_count": null,
      "outputs": []
    },
    {
      "cell_type": "code",
      "source": [
        "rand5.best_score_"
      ],
      "metadata": {
        "id": "Tw8B56nA25xP",
        "colab": {
          "base_uri": "https://localhost:8080/",
          "height": 146
        },
        "outputId": "e2aa1085-d2c5-4edf-bfe6-e84fd678552f"
      },
      "execution_count": 4,
      "outputs": [
        {
          "output_type": "error",
          "ename": "NameError",
          "evalue": "name 'rand5' is not defined",
          "traceback": [
            "\u001b[0;31m---------------------------------------------------------------------------\u001b[0m",
            "\u001b[0;31mNameError\u001b[0m                                 Traceback (most recent call last)",
            "\u001b[0;32m<ipython-input-4-163eeac48f46>\u001b[0m in \u001b[0;36m<cell line: 1>\u001b[0;34m()\u001b[0m\n\u001b[0;32m----> 1\u001b[0;31m \u001b[0mrand5\u001b[0m\u001b[0;34m.\u001b[0m\u001b[0mbest_score_\u001b[0m\u001b[0;34m\u001b[0m\u001b[0;34m\u001b[0m\u001b[0m\n\u001b[0m",
            "\u001b[0;31mNameError\u001b[0m: name 'rand5' is not defined"
          ]
        }
      ]
    },
    {
      "cell_type": "code",
      "source": [
        "##Training with best parameters\n",
        "adabest = AdaBoostClassifier(n_estimators=500, learning_rate=1)\n",
        "with joblib.parallel_backend(\"dask\", scatter=[X_train,y_train]):\n",
        "    adabest.fit(X_train,y_train)\n",
        "\n",
        "y_pred = adabest.predict(X_test)"
      ],
      "metadata": {
        "id": "kKBiYaT425uq"
      },
      "execution_count": null,
      "outputs": []
    },
    {
      "cell_type": "code",
      "source": [
        "print(classification_report_imbalanced(y_test,y_pred))"
      ],
      "metadata": {
        "id": "uzezijoT25pk",
        "colab": {
          "base_uri": "https://localhost:8080/"
        },
        "outputId": "e5126bcc-2ac2-4c45-9768-26998f6ae03b"
      },
      "execution_count": null,
      "outputs": [
        {
          "output_type": "stream",
          "name": "stdout",
          "text": [
            "                   pre       rec       spe        f1       geo       iba       sup\n",
            "\n",
            "          0       1.00      1.00      1.00      1.00      1.00      1.00    262570\n",
            "          1       1.00      1.00      1.00      1.00      1.00      1.00    261268\n",
            "\n",
            "avg / total       1.00      1.00      1.00      1.00      1.00      1.00    523838\n",
            "\n"
          ]
        }
      ]
    },
    {
      "cell_type": "code",
      "source": [
        "##Plotting Confusion matrix\n",
        "\n",
        "cm = confusion_matrix(y_test, y_pred, labels=adabest.classes_)\n",
        "disp = ConfusionMatrixDisplay(confusion_matrix=cm,\n",
        "                              display_labels=adabest.classes_)\n",
        "disp.plot()\n",
        "plt.show()"
      ],
      "metadata": {
        "id": "YL5kXbSr3UVf",
        "colab": {
          "base_uri": "https://localhost:8080/",
          "height": 449
        },
        "outputId": "ccebf204-f758-42f5-f5c6-f486245fe871"
      },
      "execution_count": null,
      "outputs": [
        {
          "output_type": "display_data",
          "data": {
            "text/plain": [
              "<Figure size 640x480 with 2 Axes>"
            ],
            "image/png": "[encoded data removed]"
          },
          "metadata": {}
        }
      ]
    },
    {
      "cell_type": "code",
      "source": [
        "##Plotting ROC Curve\n",
        "\n",
        "ax = plt.gca()\n",
        "roc_display = RocCurveDisplay.from_estimator(adabest, X_test, y_test, ax=ax, alpha=0.8)\n",
        "plt.title('Receiver Operating Characteristic (ROC) Curve')\n",
        "plt.show()"
      ],
      "metadata": {
        "id": "Wl6gVyz43US3",
        "colab": {
          "base_uri": "https://localhost:8080/",
          "height": 472
        },
        "outputId": "04ca569a-739a-48c4-dbc8-06b98c3f9a35"
      },
      "execution_count": null,
      "outputs": [
        {
          "output_type": "display_data",
          "data": {
            "text/plain": [
              "<Figure size 640x480 with 1 Axes>"
            ],
            "image/png": "[encoded data removed]"
          },
          "metadata": {}
        }
      ]
    },
    {
      "cell_type": "code",
      "source": [
        "print(sensitivity_specificity_support(y_test, y_pred))"
      ],
      "metadata": {
        "id": "keATsoUF3UQS",
        "colab": {
          "base_uri": "https://localhost:8080/"
        },
        "outputId": "e27b70ac-ef04-4aed-fa90-642506e89bf5"
      },
      "execution_count": null,
      "outputs": [
        {
          "output_type": "stream",
          "name": "stdout",
          "text": [
            "(array([0.99991621, 1.        ]), array([1.        , 0.99991621]), array([262570, 261268]))\n"
          ]
        }
      ]
    },
    {
      "cell_type": "code",
      "source": [
        "print(sensitivity_specificity_support(y_test, y_pred, average='macro'))"
      ],
      "metadata": {
        "id": "e5Gl9p043dNk",
        "colab": {
          "base_uri": "https://localhost:8080/"
        },
        "outputId": "7270cd71-bcc0-4e47-eea8-4820f4954e8b"
      },
      "execution_count": null,
      "outputs": [
        {
          "output_type": "stream",
          "name": "stdout",
          "text": [
            "(0.9999581064097194, 0.9999581064097194, None)\n"
          ]
        }
      ]
    },
    {
      "cell_type": "code",
      "source": [
        "print(sensitivity_specificity_support(y_test, y_pred, average='micro'))"
      ],
      "metadata": {
        "id": "TLFswItM3dKc",
        "colab": {
          "base_uri": "https://localhost:8080/"
        },
        "outputId": "96a73c9a-2f07-47c1-dbd1-f18a83811c91"
      },
      "execution_count": null,
      "outputs": [
        {
          "output_type": "stream",
          "name": "stdout",
          "text": [
            "(0.9999580022831486, 0.9999580022831486, None)\n"
          ]
        }
      ]
    },
    {
      "cell_type": "code",
      "source": [
        "print(sensitivity_specificity_support(y_test, y_pred, average='weighted'))"
      ],
      "metadata": {
        "id": "ekNWVjuH3jCF",
        "colab": {
          "base_uri": "https://localhost:8080/"
        },
        "outputId": "42722264-a11e-44ea-f294-5468079f4a6f"
      },
      "execution_count": null,
      "outputs": [
        {
          "output_type": "stream",
          "name": "stdout",
          "text": [
            "(0.9999580022831486, 0.9999582105362901, None)\n"
          ]
        }
      ]
    }
  ]
}