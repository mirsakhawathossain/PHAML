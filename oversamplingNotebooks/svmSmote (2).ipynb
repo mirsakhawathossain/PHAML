{
  "nbformat": 4,
  "nbformat_minor": 0,
  "metadata": {
    "colab": {
      "provenance": []
    },
    "kernelspec": {
      "name": "python3",
      "display_name": "Python 3"
    },
    "language_info": {
      "name": "python"
    }
  },
  "cells": [
    {
      "cell_type": "code",
      "execution_count": null,
      "metadata": {
        "id": "xAngQLP4-Iuf"
      },
      "outputs": [],
      "source": [
        "import pandas as pd\n",
        "import numpy as np\n",
        "import matplotlib.pyplot as plt\n",
        "import seaborn as sns"
      ]
    },
    {
      "cell_type": "code",
      "source": [
        "df = pd.read_csv(\"/content/final_data.csv\")"
      ],
      "metadata": {
        "id": "o-tgyzfM-OuZ"
      },
      "execution_count": null,
      "outputs": []
    },
    {
      "cell_type": "code",
      "source": [
        "y = pd.read_csv(\"/content/pha_map.csv\")"
      ],
      "metadata": {
        "id": "sHz2JsZQ-OxL"
      },
      "execution_count": null,
      "outputs": []
    },
    {
      "cell_type": "code",
      "source": [
        "X = df.drop(columns=['albedo', 'rot_per', 'e', 'a', 'q', 'om', 'w', 'ma', 'ad'])"
      ],
      "metadata": {
        "id": "nXLDe6NnRGw4"
      },
      "execution_count": null,
      "outputs": []
    },
    {
      "cell_type": "code",
      "source": [
        "!pip install imbalanced-learn"
      ],
      "metadata": {
        "colab": {
          "base_uri": "https://localhost:8080/"
        },
        "id": "CCm_Yz2ZRGzp",
        "outputId": "b4954d19-cd7e-465d-c9f6-9fba2c7192ef"
      },
      "execution_count": null,
      "outputs": [
        {
          "output_type": "stream",
          "name": "stdout",
          "text": [
            "Requirement already satisfied: imbalanced-learn in /usr/local/lib/python3.10/dist-packages (0.10.1)\n",
            "Requirement already satisfied: numpy>=1.17.3 in /usr/local/lib/python3.10/dist-packages (from imbalanced-learn) (1.25.2)\n",
            "Requirement already satisfied: scipy>=1.3.2 in /usr/local/lib/python3.10/dist-packages (from imbalanced-learn) (1.11.4)\n",
            "Requirement already satisfied: scikit-learn>=1.0.2 in /usr/local/lib/python3.10/dist-packages (from imbalanced-learn) (1.2.2)\n",
            "Requirement already satisfied: joblib>=1.1.1 in /usr/local/lib/python3.10/dist-packages (from imbalanced-learn) (1.4.2)\n",
            "Requirement already satisfied: threadpoolctl>=2.0.0 in /usr/local/lib/python3.10/dist-packages (from imbalanced-learn) (3.5.0)\n"
          ]
        }
      ]
    },
    {
      "cell_type": "code",
      "source": [
        "from sklearn.model_selection import train_test_split\n",
        "from sklearn.model_selection import RandomizedSearchCV\n",
        "from sklearn.ensemble import AdaBoostClassifier\n",
        "from sklearn.ensemble import RandomForestClassifier\n",
        "from sklearn.ensemble import HistGradientBoostingClassifier\n",
        "# from xgboost import XGBClassifier\n",
        "# from lightgbm import LGBMClassifier\n",
        "from sklearn.metrics import accuracy_score, confusion_matrix, roc_auc_score, f1_score, roc_curve, ConfusionMatrixDisplay, RocCurveDisplay\n",
        "from imblearn.metrics import sensitivity_specificity_support, classification_report_imbalanced\n",
        "from imblearn.over_sampling import SVMSMOTE"
      ],
      "metadata": {
        "id": "nqIHx0h6RG2R"
      },
      "execution_count": null,
      "outputs": []
    },
    {
      "cell_type": "code",
      "source": [
        "!pip install dask"
      ],
      "metadata": {
        "colab": {
          "base_uri": "https://localhost:8080/"
        },
        "id": "2fP5SVtaRG5J",
        "outputId": "27e8bab6-2f9d-47bd-8b12-79d463896068"
      },
      "execution_count": null,
      "outputs": [
        {
          "output_type": "stream",
          "name": "stdout",
          "text": [
            "Requirement already satisfied: dask in /usr/local/lib/python3.10/dist-packages (2023.8.1)\n",
            "Requirement already satisfied: click>=8.0 in /usr/local/lib/python3.10/dist-packages (from dask) (8.1.7)\n",
            "Requirement already satisfied: cloudpickle>=1.5.0 in /usr/local/lib/python3.10/dist-packages (from dask) (2.2.1)\n",
            "Requirement already satisfied: fsspec>=2021.09.0 in /usr/local/lib/python3.10/dist-packages (from dask) (2023.6.0)\n",
            "Requirement already satisfied: packaging>=20.0 in /usr/local/lib/python3.10/dist-packages (from dask) (24.1)\n",
            "Requirement already satisfied: partd>=1.2.0 in /usr/local/lib/python3.10/dist-packages (from dask) (1.4.2)\n",
            "Requirement already satisfied: pyyaml>=5.3.1 in /usr/local/lib/python3.10/dist-packages (from dask) (6.0.1)\n",
            "Requirement already satisfied: toolz>=0.10.0 in /usr/local/lib/python3.10/dist-packages (from dask) (0.12.1)\n",
            "Requirement already satisfied: importlib-metadata>=4.13.0 in /usr/local/lib/python3.10/dist-packages (from dask) (8.0.0)\n",
            "Requirement already satisfied: zipp>=0.5 in /usr/local/lib/python3.10/dist-packages (from importlib-metadata>=4.13.0->dask) (3.19.2)\n",
            "Requirement already satisfied: locket in /usr/local/lib/python3.10/dist-packages (from partd>=1.2.0->dask) (1.0.0)\n"
          ]
        }
      ]
    },
    {
      "cell_type": "code",
      "source": [
        "!python -m pip install dask distributed --upgrade"
      ],
      "metadata": {
        "colab": {
          "base_uri": "https://localhost:8080/"
        },
        "id": "oqSRo_CoRG7n",
        "outputId": "3f5e6538-6cd5-4632-c192-a230a485e5c0"
      },
      "execution_count": null,
      "outputs": [
        {
          "output_type": "stream",
          "name": "stdout",
          "text": [
            "Requirement already satisfied: dask in /usr/local/lib/python3.10/dist-packages (2023.8.1)\n",
            "Collecting dask\n",
            "  Downloading dask-2024.7.0-py3-none-any.whl (1.2 MB)\n",
            "\u001b[2K     \u001b[90m━━━━━━━━━━━━━━━━━━━━━━━━━━━━━━━━━━━━━━━━\u001b[0m \u001b[32m1.2/1.2 MB\u001b[0m \u001b[31m6.4 MB/s\u001b[0m eta \u001b[36m0:00:00\u001b[0m\n",
            "\u001b[?25hRequirement already satisfied: distributed in /usr/local/lib/python3.10/dist-packages (2023.8.1)\n",
            "Collecting distributed\n",
            "  Downloading distributed-2024.7.0-py3-none-any.whl (1.0 MB)\n",
            "\u001b[2K     \u001b[90m━━━━━━━━━━━━━━━━━━━━━━━━━━━━━━━━━━━━━━━━\u001b[0m \u001b[32m1.0/1.0 MB\u001b[0m \u001b[31m12.4 MB/s\u001b[0m eta \u001b[36m0:00:00\u001b[0m\n",
            "\u001b[?25hRequirement already satisfied: click>=8.1 in /usr/local/lib/python3.10/dist-packages (from dask) (8.1.7)\n",
            "Requirement already satisfied: cloudpickle>=1.5.0 in /usr/local/lib/python3.10/dist-packages (from dask) (2.2.1)\n",
            "Requirement already satisfied: fsspec>=2021.09.0 in /usr/local/lib/python3.10/dist-packages (from dask) (2023.6.0)\n",
            "Requirement already satisfied: packaging>=20.0 in /usr/local/lib/python3.10/dist-packages (from dask) (24.1)\n",
            "Requirement already satisfied: partd>=1.4.0 in /usr/local/lib/python3.10/dist-packages (from dask) (1.4.2)\n",
            "Requirement already satisfied: pyyaml>=5.3.1 in /usr/local/lib/python3.10/dist-packages (from dask) (6.0.1)\n",
            "Requirement already satisfied: toolz>=0.10.0 in /usr/local/lib/python3.10/dist-packages (from dask) (0.12.1)\n",
            "Requirement already satisfied: importlib-metadata>=4.13.0 in /usr/local/lib/python3.10/dist-packages (from dask) (8.0.0)\n",
            "Requirement already satisfied: jinja2>=2.10.3 in /usr/local/lib/python3.10/dist-packages (from distributed) (3.1.4)\n",
            "Requirement already satisfied: locket>=1.0.0 in /usr/local/lib/python3.10/dist-packages (from distributed) (1.0.0)\n",
            "Requirement already satisfied: msgpack>=1.0.0 in /usr/local/lib/python3.10/dist-packages (from distributed) (1.0.8)\n",
            "Requirement already satisfied: psutil>=5.7.2 in /usr/local/lib/python3.10/dist-packages (from distributed) (5.9.5)\n",
            "Requirement already satisfied: sortedcontainers>=2.0.5 in /usr/local/lib/python3.10/dist-packages (from distributed) (2.4.0)\n",
            "Requirement already satisfied: tblib>=1.6.0 in /usr/local/lib/python3.10/dist-packages (from distributed) (3.0.0)\n",
            "Requirement already satisfied: tornado>=6.0.4 in /usr/local/lib/python3.10/dist-packages (from distributed) (6.3.3)\n",
            "Requirement already satisfied: urllib3>=1.24.3 in /usr/local/lib/python3.10/dist-packages (from distributed) (2.0.7)\n",
            "Requirement already satisfied: zict>=3.0.0 in /usr/local/lib/python3.10/dist-packages (from distributed) (3.0.0)\n",
            "Requirement already satisfied: zipp>=0.5 in /usr/local/lib/python3.10/dist-packages (from importlib-metadata>=4.13.0->dask) (3.19.2)\n",
            "Requirement already satisfied: MarkupSafe>=2.0 in /usr/local/lib/python3.10/dist-packages (from jinja2>=2.10.3->distributed) (2.1.5)\n",
            "Installing collected packages: dask, distributed\n",
            "  Attempting uninstall: dask\n",
            "    Found existing installation: dask 2023.8.1\n",
            "    Uninstalling dask-2023.8.1:\n",
            "      Successfully uninstalled dask-2023.8.1\n",
            "  Attempting uninstall: distributed\n",
            "    Found existing installation: distributed 2023.8.1\n",
            "    Uninstalling distributed-2023.8.1:\n",
            "      Successfully uninstalled distributed-2023.8.1\n",
            "Successfully installed dask-2024.7.0 distributed-2024.7.0\n"
          ]
        }
      ]
    },
    {
      "cell_type": "code",
      "source": [
        "import os\n",
        "os.cpu_count()"
      ],
      "metadata": {
        "colab": {
          "base_uri": "https://localhost:8080/"
        },
        "id": "e8fOc45Q6pPJ",
        "outputId": "73b9e9fb-b159-4780-9352-4afc14777d18"
      },
      "execution_count": null,
      "outputs": [
        {
          "output_type": "execute_result",
          "data": {
            "text/plain": [
              "2"
            ]
          },
          "metadata": {},
          "execution_count": 9
        }
      ]
    },
    {
      "cell_type": "code",
      "source": [
        "from dask.distributed import Client\n",
        "client = Client(n_workers=2)\n",
        "client"
      ],
      "metadata": {
        "colab": {
          "base_uri": "https://localhost:8080/",
          "height": 581
        },
        "id": "GzY5UuFfRG-e",
        "outputId": "59b1f98a-11b8-4b99-c7c8-09153e79bd65"
      },
      "execution_count": null,
      "outputs": [
        {
          "output_type": "stream",
          "name": "stderr",
          "text": [
            "INFO:distributed.http.proxy:To route to workers diagnostics web server please install jupyter-server-proxy: python -m pip install jupyter-server-proxy\n",
            "INFO:distributed.scheduler:State start\n",
            "INFO:distributed.scheduler:  Scheduler at:     tcp://127.0.0.1:44309\n",
            "INFO:distributed.scheduler:  dashboard at:  http://127.0.0.1:8787/status\n",
            "INFO:distributed.scheduler:Registering Worker plugin shuffle\n",
            "INFO:distributed.nanny:        Start Nanny at: 'tcp://127.0.0.1:45329'\n",
            "INFO:distributed.nanny:        Start Nanny at: 'tcp://127.0.0.1:44503'\n",
            "INFO:distributed.scheduler:Register worker <WorkerState 'tcp://127.0.0.1:42307', name: 1, status: init, memory: 0, processing: 0>\n",
            "INFO:distributed.scheduler:Starting worker compute stream, tcp://127.0.0.1:42307\n",
            "INFO:distributed.core:Starting established connection to tcp://127.0.0.1:39252\n",
            "INFO:distributed.scheduler:Register worker <WorkerState 'tcp://127.0.0.1:34997', name: 0, status: init, memory: 0, processing: 0>\n",
            "INFO:distributed.scheduler:Starting worker compute stream, tcp://127.0.0.1:34997\n",
            "INFO:distributed.core:Starting established connection to tcp://127.0.0.1:39246\n",
            "INFO:distributed.scheduler:Receive client connection: Client-41d5f44e-4023-11ef-80ad-0242ac1c000c\n",
            "INFO:distributed.core:Starting established connection to tcp://127.0.0.1:39268\n"
          ]
        },
        {
          "output_type": "execute_result",
          "data": {
            "text/plain": [
              "<Client: 'tcp://127.0.0.1:44309' processes=2 threads=2, memory=12.67 GiB>"
            ],
            "text/html": [
              "<div>\n",
              "    <div style=\"width: 24px; height: 24px; background-color: #e1e1e1; border: 3px solid #9D9D9D; border-radius: 5px; position: absolute;\"> </div>\n",
              "    <div style=\"margin-left: 48px;\">\n",
              "        <h3 style=\"margin-bottom: 0px;\">Client</h3>\n",
              "        <p style=\"color: #9D9D9D; margin-bottom: 0px;\">Client-41d5f44e-4023-11ef-80ad-0242ac1c000c</p>\n",
              "        <table style=\"width: 100%; text-align: left;\">\n",
              "\n",
              "        <tr>\n",
              "        \n",
              "            <td style=\"text-align: left;\"><strong>Connection method:</strong> Cluster object</td>\n",
              "            <td style=\"text-align: left;\"><strong>Cluster type:</strong> distributed.LocalCluster</td>\n",
              "        \n",
              "        </tr>\n",
              "\n",
              "        \n",
              "            <tr>\n",
              "                <td style=\"text-align: left;\">\n",
              "                    <strong>Dashboard: </strong> <a href=\"http://127.0.0.1:8787/status\" target=\"_blank\">http://127.0.0.1:8787/status</a>\n",
              "                </td>\n",
              "                <td style=\"text-align: left;\"></td>\n",
              "            </tr>\n",
              "        \n",
              "\n",
              "        </table>\n",
              "\n",
              "        \n",
              "\n",
              "        \n",
              "            <details>\n",
              "            <summary style=\"margin-bottom: 20px;\"><h3 style=\"display: inline;\">Cluster Info</h3></summary>\n",
              "            <div class=\"jp-RenderedHTMLCommon jp-RenderedHTML jp-mod-trusted jp-OutputArea-output\">\n",
              "    <div style=\"width: 24px; height: 24px; background-color: #e1e1e1; border: 3px solid #9D9D9D; border-radius: 5px; position: absolute;\">\n",
              "    </div>\n",
              "    <div style=\"margin-left: 48px;\">\n",
              "        <h3 style=\"margin-bottom: 0px; margin-top: 0px;\">LocalCluster</h3>\n",
              "        <p style=\"color: #9D9D9D; margin-bottom: 0px;\">c2030017</p>\n",
              "        <table style=\"width: 100%; text-align: left;\">\n",
              "            <tr>\n",
              "                <td style=\"text-align: left;\">\n",
              "                    <strong>Dashboard:</strong> <a href=\"http://127.0.0.1:8787/status\" target=\"_blank\">http://127.0.0.1:8787/status</a>\n",
              "                </td>\n",
              "                <td style=\"text-align: left;\">\n",
              "                    <strong>Workers:</strong> 2\n",
              "                </td>\n",
              "            </tr>\n",
              "            <tr>\n",
              "                <td style=\"text-align: left;\">\n",
              "                    <strong>Total threads:</strong> 2\n",
              "                </td>\n",
              "                <td style=\"text-align: left;\">\n",
              "                    <strong>Total memory:</strong> 12.67 GiB\n",
              "                </td>\n",
              "            </tr>\n",
              "            \n",
              "            <tr>\n",
              "    <td style=\"text-align: left;\"><strong>Status:</strong> running</td>\n",
              "    <td style=\"text-align: left;\"><strong>Using processes:</strong> True</td>\n",
              "</tr>\n",
              "\n",
              "            \n",
              "        </table>\n",
              "\n",
              "        <details>\n",
              "            <summary style=\"margin-bottom: 20px;\">\n",
              "                <h3 style=\"display: inline;\">Scheduler Info</h3>\n",
              "            </summary>\n",
              "\n",
              "            <div style=\"\">\n",
              "    <div>\n",
              "        <div style=\"width: 24px; height: 24px; background-color: #FFF7E5; border: 3px solid #FF6132; border-radius: 5px; position: absolute;\"> </div>\n",
              "        <div style=\"margin-left: 48px;\">\n",
              "            <h3 style=\"margin-bottom: 0px;\">Scheduler</h3>\n",
              "            <p style=\"color: #9D9D9D; margin-bottom: 0px;\">Scheduler-7512f2bb-24a3-45a7-bc50-1fbe2fac62fc</p>\n",
              "            <table style=\"width: 100%; text-align: left;\">\n",
              "                <tr>\n",
              "                    <td style=\"text-align: left;\">\n",
              "                        <strong>Comm:</strong> tcp://127.0.0.1:44309\n",
              "                    </td>\n",
              "                    <td style=\"text-align: left;\">\n",
              "                        <strong>Workers:</strong> 2\n",
              "                    </td>\n",
              "                </tr>\n",
              "                <tr>\n",
              "                    <td style=\"text-align: left;\">\n",
              "                        <strong>Dashboard:</strong> <a href=\"http://127.0.0.1:8787/status\" target=\"_blank\">http://127.0.0.1:8787/status</a>\n",
              "                    </td>\n",
              "                    <td style=\"text-align: left;\">\n",
              "                        <strong>Total threads:</strong> 2\n",
              "                    </td>\n",
              "                </tr>\n",
              "                <tr>\n",
              "                    <td style=\"text-align: left;\">\n",
              "                        <strong>Started:</strong> Just now\n",
              "                    </td>\n",
              "                    <td style=\"text-align: left;\">\n",
              "                        <strong>Total memory:</strong> 12.67 GiB\n",
              "                    </td>\n",
              "                </tr>\n",
              "            </table>\n",
              "        </div>\n",
              "    </div>\n",
              "\n",
              "    <details style=\"margin-left: 48px;\">\n",
              "        <summary style=\"margin-bottom: 20px;\">\n",
              "            <h3 style=\"display: inline;\">Workers</h3>\n",
              "        </summary>\n",
              "\n",
              "        \n",
              "        <div style=\"margin-bottom: 20px;\">\n",
              "            <div style=\"width: 24px; height: 24px; background-color: #DBF5FF; border: 3px solid #4CC9FF; border-radius: 5px; position: absolute;\"> </div>\n",
              "            <div style=\"margin-left: 48px;\">\n",
              "            <details>\n",
              "                <summary>\n",
              "                    <h4 style=\"margin-bottom: 0px; display: inline;\">Worker: 0</h4>\n",
              "                </summary>\n",
              "                <table style=\"width: 100%; text-align: left;\">\n",
              "                    <tr>\n",
              "                        <td style=\"text-align: left;\">\n",
              "                            <strong>Comm: </strong> tcp://127.0.0.1:34997\n",
              "                        </td>\n",
              "                        <td style=\"text-align: left;\">\n",
              "                            <strong>Total threads: </strong> 1\n",
              "                        </td>\n",
              "                    </tr>\n",
              "                    <tr>\n",
              "                        <td style=\"text-align: left;\">\n",
              "                            <strong>Dashboard: </strong> <a href=\"http://127.0.0.1:41565/status\" target=\"_blank\">http://127.0.0.1:41565/status</a>\n",
              "                        </td>\n",
              "                        <td style=\"text-align: left;\">\n",
              "                            <strong>Memory: </strong> 6.34 GiB\n",
              "                        </td>\n",
              "                    </tr>\n",
              "                    <tr>\n",
              "                        <td style=\"text-align: left;\">\n",
              "                            <strong>Nanny: </strong> tcp://127.0.0.1:45329\n",
              "                        </td>\n",
              "                        <td style=\"text-align: left;\"></td>\n",
              "                    </tr>\n",
              "                    <tr>\n",
              "                        <td colspan=\"2\" style=\"text-align: left;\">\n",
              "                            <strong>Local directory: </strong> /tmp/dask-scratch-space/worker-fbvmvqpz\n",
              "                        </td>\n",
              "                    </tr>\n",
              "\n",
              "                    \n",
              "\n",
              "                    \n",
              "\n",
              "                </table>\n",
              "            </details>\n",
              "            </div>\n",
              "        </div>\n",
              "        \n",
              "        <div style=\"margin-bottom: 20px;\">\n",
              "            <div style=\"width: 24px; height: 24px; background-color: #DBF5FF; border: 3px solid #4CC9FF; border-radius: 5px; position: absolute;\"> </div>\n",
              "            <div style=\"margin-left: 48px;\">\n",
              "            <details>\n",
              "                <summary>\n",
              "                    <h4 style=\"margin-bottom: 0px; display: inline;\">Worker: 1</h4>\n",
              "                </summary>\n",
              "                <table style=\"width: 100%; text-align: left;\">\n",
              "                    <tr>\n",
              "                        <td style=\"text-align: left;\">\n",
              "                            <strong>Comm: </strong> tcp://127.0.0.1:42307\n",
              "                        </td>\n",
              "                        <td style=\"text-align: left;\">\n",
              "                            <strong>Total threads: </strong> 1\n",
              "                        </td>\n",
              "                    </tr>\n",
              "                    <tr>\n",
              "                        <td style=\"text-align: left;\">\n",
              "                            <strong>Dashboard: </strong> <a href=\"http://127.0.0.1:46409/status\" target=\"_blank\">http://127.0.0.1:46409/status</a>\n",
              "                        </td>\n",
              "                        <td style=\"text-align: left;\">\n",
              "                            <strong>Memory: </strong> 6.34 GiB\n",
              "                        </td>\n",
              "                    </tr>\n",
              "                    <tr>\n",
              "                        <td style=\"text-align: left;\">\n",
              "                            <strong>Nanny: </strong> tcp://127.0.0.1:44503\n",
              "                        </td>\n",
              "                        <td style=\"text-align: left;\"></td>\n",
              "                    </tr>\n",
              "                    <tr>\n",
              "                        <td colspan=\"2\" style=\"text-align: left;\">\n",
              "                            <strong>Local directory: </strong> /tmp/dask-scratch-space/worker-om3xepr5\n",
              "                        </td>\n",
              "                    </tr>\n",
              "\n",
              "                    \n",
              "\n",
              "                    \n",
              "\n",
              "                </table>\n",
              "            </details>\n",
              "            </div>\n",
              "        </div>\n",
              "        \n",
              "\n",
              "    </details>\n",
              "</div>\n",
              "\n",
              "        </details>\n",
              "    </div>\n",
              "</div>\n",
              "            </details>\n",
              "        \n",
              "\n",
              "    </div>\n",
              "</div>"
            ]
          },
          "metadata": {},
          "execution_count": 10
        }
      ]
    },
    {
      "cell_type": "code",
      "source": [
        "import joblib"
      ],
      "metadata": {
        "id": "eo7VRZ4IRHBL"
      },
      "execution_count": null,
      "outputs": []
    },
    {
      "cell_type": "code",
      "source": [
        "svm = SVMSMOTE(random_state=42)\n",
        "X_resampled, y_resampled = svm.fit_resample(X, y)"
      ],
      "metadata": {
        "id": "PPrljNQdRHDo",
        "colab": {
          "base_uri": "https://localhost:8080/"
        },
        "outputId": "7f1435f1-71b4-4889-d36d-0b90d5aecf17"
      },
      "execution_count": null,
      "outputs": [
        {
          "output_type": "stream",
          "name": "stderr",
          "text": [
            "INFO:distributed.core:Event loop was unresponsive in Nanny for 4.15s.  This is often caused by long-running GIL-holding functions or moving large chunks of data. This can cause timeouts and instability.\n",
            "INFO:distributed.core:Event loop was unresponsive in Nanny for 4.16s.  This is often caused by long-running GIL-holding functions or moving large chunks of data. This can cause timeouts and instability.\n",
            "INFO:distributed.core:Event loop was unresponsive in Scheduler for 4.16s.  This is often caused by long-running GIL-holding functions or moving large chunks of data. This can cause timeouts and instability.\n"
          ]
        }
      ]
    },
    {
      "cell_type": "code",
      "source": [
        "y_resampled.value_counts()"
      ],
      "metadata": {
        "id": "SNLm5k6e-OzW",
        "colab": {
          "base_uri": "https://localhost:8080/"
        },
        "outputId": "6db1535f-06a4-47ea-ba16-08a479c84f5d"
      },
      "execution_count": null,
      "outputs": [
        {
          "output_type": "execute_result",
          "data": {
            "text/plain": [
              "pha\n",
              "0      1309593\n",
              "1      1309593\n",
              "Name: count, dtype: int64"
            ]
          },
          "metadata": {},
          "execution_count": 13
        }
      ]
    },
    {
      "cell_type": "code",
      "source": [
        "X_train,X_test,y_train,y_test = train_test_split(X_resampled,y_resampled, test_size=0.2, random_state=43)"
      ],
      "metadata": {
        "id": "QevlXElvSMCu"
      },
      "execution_count": null,
      "outputs": []
    },
    {
      "cell_type": "code",
      "source": [
        "y_train.value_counts()"
      ],
      "metadata": {
        "colab": {
          "base_uri": "https://localhost:8080/"
        },
        "id": "uF6nPNc7SL_p",
        "outputId": "6ed99e36-c57d-488e-dfa3-bf262114cec9"
      },
      "execution_count": null,
      "outputs": [
        {
          "output_type": "execute_result",
          "data": {
            "text/plain": [
              "pha\n",
              "1      1048325\n",
              "0      1047023\n",
              "Name: count, dtype: int64"
            ]
          },
          "metadata": {},
          "execution_count": 15
        }
      ]
    },
    {
      "cell_type": "code",
      "source": [
        "y_test.value_counts()"
      ],
      "metadata": {
        "colab": {
          "base_uri": "https://localhost:8080/"
        },
        "id": "vql1W1M5SL82",
        "outputId": "82d3f13f-85e6-4019-be58-be65e636451a"
      },
      "execution_count": null,
      "outputs": [
        {
          "output_type": "execute_result",
          "data": {
            "text/plain": [
              "pha\n",
              "0      262570\n",
              "1      261268\n",
              "Name: count, dtype: int64"
            ]
          },
          "metadata": {},
          "execution_count": 16
        }
      ]
    },
    {
      "cell_type": "code",
      "source": [
        "y_train = y_train.squeeze()\n",
        "y_train"
      ],
      "metadata": {
        "colab": {
          "base_uri": "https://localhost:8080/"
        },
        "id": "35xp06bcSL6J",
        "outputId": "21b3981d-e21c-4ad6-c6ba-140d52f99014"
      },
      "execution_count": null,
      "outputs": [
        {
          "output_type": "execute_result",
          "data": {
            "text/plain": [
              "1205167    0\n",
              "575514     0\n",
              "1212305    0\n",
              "1847891    1\n",
              "1411332    1\n",
              "          ..\n",
              "1106227    0\n",
              "1525776    1\n",
              "1439802    1\n",
              "2484501    1\n",
              "1613617    1\n",
              "Name: pha, Length: 2095348, dtype: int64"
            ]
          },
          "metadata": {},
          "execution_count": 17
        }
      ]
    },
    {
      "cell_type": "code",
      "source": [
        "abc = AdaBoostClassifier()\n",
        "abc.fit(X_train,y_train)\n",
        "y_pred = abc.predict(X_test)"
      ],
      "metadata": {
        "id": "fUtFWLiQSL3W"
      },
      "execution_count": null,
      "outputs": []
    },
    {
      "cell_type": "code",
      "source": [
        "accuracy_score(y_test,y_pred)"
      ],
      "metadata": {
        "colab": {
          "base_uri": "https://localhost:8080/"
        },
        "id": "CJJw3a3tSLjW",
        "outputId": "cb5507e2-4d6c-447c-ca91-0d7794707ab8"
      },
      "execution_count": null,
      "outputs": [
        {
          "output_type": "execute_result",
          "data": {
            "text/plain": [
              "0.9991619546501017"
            ]
          },
          "metadata": {},
          "execution_count": 18
        }
      ]
    },
    {
      "cell_type": "code",
      "source": [
        "confusion_matrix(y_test,y_pred)"
      ],
      "metadata": {
        "colab": {
          "base_uri": "https://localhost:8080/"
        },
        "id": "pglxm1fKSLgO",
        "outputId": "1bb54775-2dd2-4b76-f2db-576c10e8e65f"
      },
      "execution_count": null,
      "outputs": [
        {
          "output_type": "execute_result",
          "data": {
            "text/plain": [
              "array([[262229,    341],\n",
              "       [    98, 261170]])"
            ]
          },
          "metadata": {},
          "execution_count": 19
        }
      ]
    },
    {
      "cell_type": "code",
      "source": [
        "roc_auc_score(y_test,y_pred)"
      ],
      "metadata": {
        "id": "E7FYdgPp-O2B",
        "colab": {
          "base_uri": "https://localhost:8080/"
        },
        "outputId": "2a1b04ce-b1b8-4751-8a87-5cbcf23bf061"
      },
      "execution_count": null,
      "outputs": [
        {
          "output_type": "execute_result",
          "data": {
            "text/plain": [
              "0.9991631024639278"
            ]
          },
          "metadata": {},
          "execution_count": 20
        }
      ]
    },
    {
      "cell_type": "code",
      "source": [
        "abc = AdaBoostClassifier()\n",
        "param_grid = {\n",
        "    'n_estimators' : [100, 200, 300, 500],\n",
        "    'learning_rate' : [0.0001, 0.001, 0.01, 0.1, 1],\n",
        "}\n",
        "\n",
        "rand5 = RandomizedSearchCV(abc, param_grid, cv=5, scoring='accuracy', n_jobs=-1)"
      ],
      "metadata": {
        "id": "zrVhgd95SoLZ"
      },
      "execution_count": null,
      "outputs": []
    },
    {
      "cell_type": "code",
      "source": [
        "with joblib.parallel_backend(\"dask\", scatter=[X_train,y_train]):\n",
        "    rand5.fit(X_train,y_train)"
      ],
      "metadata": {
        "colab": {
          "base_uri": "https://localhost:8080/",
          "height": 1000
        },
        "id": "inj3Lr41SoIm",
        "outputId": "3c387ef0-40de-41cd-895c-999497fd12d8"
      },
      "execution_count": null,
      "outputs": [
        {
          "output_type": "stream",
          "name": "stderr",
          "text": [
            "INFO:distributed.scheduler:Receive client connection: Client-worker-c686ec09-3f9a-11ef-ac19-0242ac1c000c\n",
            "INFO:distributed.core:Starting established connection to tcp://127.0.0.1:34232\n",
            "INFO:distributed.scheduler:Receive client connection: Client-worker-c68740fa-3f9a-11ef-abf2-0242ac1c000c\n",
            "INFO:distributed.core:Starting established connection to tcp://127.0.0.1:34236\n",
            "INFO:distributed.scheduler:Receive client connection: Client-worker-c6874526-3f9a-11ef-abcf-0242ac1c000c\n",
            "INFO:distributed.core:Starting established connection to tcp://127.0.0.1:34244\n",
            "INFO:distributed.scheduler:Receive client connection: Client-worker-c6898e2a-3f9a-11ef-ac21-0242ac1c000c\n",
            "INFO:distributed.core:Starting established connection to tcp://127.0.0.1:34256\n",
            "INFO:distributed.scheduler:Receive client connection: Client-worker-c68d2fa2-3f9a-11ef-abc1-0242ac1c000c\n",
            "INFO:distributed.core:Starting established connection to tcp://127.0.0.1:34258\n",
            "INFO:distributed.scheduler:Receive client connection: Client-worker-c68eae8a-3f9a-11ef-abe3-0242ac1c000c\n",
            "INFO:distributed.core:Starting established connection to tcp://127.0.0.1:34278\n",
            "INFO:distributed.scheduler:Receive client connection: Client-worker-c68e097e-3f9a-11ef-abd6-0242ac1c000c\n",
            "INFO:distributed.core:Starting established connection to tcp://127.0.0.1:34262\n",
            "INFO:distributed.scheduler:Receive client connection: Client-worker-c68f888a-3f9a-11ef-ac0a-0242ac1c000c\n",
            "INFO:distributed.core:Starting established connection to tcp://127.0.0.1:34286\n",
            "INFO:distributed.scheduler:Receive client connection: Client-worker-c690742c-3f9a-11ef-aba5-0242ac1c000c\n",
            "INFO:distributed.core:Starting established connection to tcp://127.0.0.1:34298\n",
            "INFO:distributed.scheduler:Receive client connection: Client-worker-c69383ef-3f9a-11ef-ac09-0242ac1c000c\n",
            "INFO:distributed.core:Starting established connection to tcp://127.0.0.1:34318\n",
            "INFO:distributed.scheduler:Receive client connection: Client-worker-c6945322-3f9a-11ef-ac14-0242ac1c000c\n",
            "INFO:distributed.core:Starting established connection to tcp://127.0.0.1:34332\n",
            "INFO:distributed.scheduler:Receive client connection: Client-worker-c6949fab-3f9a-11ef-abff-0242ac1c000c\n",
            "INFO:distributed.core:Starting established connection to tcp://127.0.0.1:34334\n",
            "INFO:distributed.scheduler:Receive client connection: Client-worker-c6921dbd-3f9a-11ef-ac1a-0242ac1c000c\n",
            "INFO:distributed.core:Starting established connection to tcp://127.0.0.1:34314\n",
            "INFO:distributed.scheduler:Receive client connection: Client-worker-c69647fb-3f9a-11ef-abfb-0242ac1c000c\n",
            "INFO:distributed.core:Starting established connection to tcp://127.0.0.1:34340\n",
            "INFO:distributed.scheduler:Receive client connection: Client-worker-c697bbd2-3f9a-11ef-abbb-0242ac1c000c\n",
            "INFO:distributed.core:Starting established connection to tcp://127.0.0.1:34342\n",
            "INFO:distributed.scheduler:Receive client connection: Client-worker-c699ca50-3f9a-11ef-abdf-0242ac1c000c\n",
            "INFO:distributed.core:Starting established connection to tcp://127.0.0.1:34348\n",
            "INFO:distributed.scheduler:Receive client connection: Client-worker-c699b59b-3f9a-11ef-abe7-0242ac1c000c\n",
            "INFO:distributed.core:Starting established connection to tcp://127.0.0.1:34362\n",
            "INFO:distributed.scheduler:Receive client connection: Client-worker-c69af617-3f9a-11ef-aba9-0242ac1c000c\n",
            "INFO:distributed.core:Starting established connection to tcp://127.0.0.1:34374\n",
            "INFO:distributed.scheduler:Receive client connection: Client-worker-c69b27f4-3f9a-11ef-abc6-0242ac1c000c\n",
            "INFO:distributed.core:Starting established connection to tcp://127.0.0.1:34382\n",
            "INFO:distributed.scheduler:Receive client connection: Client-worker-c69c35c5-3f9a-11ef-abd2-0242ac1c000c\n",
            "INFO:distributed.core:Starting established connection to tcp://127.0.0.1:34426\n",
            "INFO:distributed.scheduler:Receive client connection: Client-worker-c69c1d40-3f9a-11ef-abb5-0242ac1c000c\n",
            "INFO:distributed.core:Starting established connection to tcp://127.0.0.1:34438\n",
            "INFO:distributed.scheduler:Receive client connection: Client-worker-c69ba483-3f9a-11ef-abbe-0242ac1c000c\n",
            "INFO:distributed.core:Starting established connection to tcp://127.0.0.1:34402\n",
            "INFO:distributed.scheduler:Receive client connection: Client-worker-c69ccda9-3f9a-11ef-ac0f-0242ac1c000c\n",
            "INFO:distributed.core:Starting established connection to tcp://127.0.0.1:34476\n",
            "INFO:distributed.scheduler:Receive client connection: Client-worker-c69de6d9-3f9a-11ef-abe9-0242ac1c000c\n",
            "INFO:distributed.core:Starting established connection to tcp://127.0.0.1:34492\n",
            "INFO:distributed.scheduler:Receive client connection: Client-worker-c6997b1d-3f9a-11ef-abca-0242ac1c000c\n",
            "INFO:distributed.core:Starting established connection to tcp://127.0.0.1:34460\n",
            "INFO:distributed.scheduler:Receive client connection: Client-worker-c69ec401-3f9a-11ef-ac1f-0242ac1c000c\n",
            "INFO:distributed.core:Starting established connection to tcp://127.0.0.1:34512\n",
            "INFO:distributed.scheduler:Receive client connection: Client-worker-c69f03b0-3f9a-11ef-abdb-0242ac1c000c\n",
            "INFO:distributed.core:Starting established connection to tcp://127.0.0.1:34518\n",
            "INFO:distributed.scheduler:Receive client connection: Client-worker-c69a8af3-3f9a-11ef-abee-0242ac1c000c\n",
            "INFO:distributed.core:Starting established connection to tcp://127.0.0.1:34394\n",
            "INFO:distributed.scheduler:Receive client connection: Client-worker-c69e0650-3f9a-11ef-ac02-0242ac1c000c\n",
            "INFO:distributed.core:Starting established connection to tcp://127.0.0.1:34508\n",
            "INFO:distributed.scheduler:Receive client connection: Client-worker-c69a2c40-3f9a-11ef-abf8-0242ac1c000c\n",
            "INFO:distributed.core:Starting established connection to tcp://127.0.0.1:34414\n",
            "INFO:distributed.scheduler:Receive client connection: Client-worker-c6a2442d-3f9a-11ef-abad-0242ac1c000c\n",
            "INFO:distributed.core:Starting established connection to tcp://127.0.0.1:34532\n",
            "INFO:distributed.scheduler:Receive client connection: Client-worker-c699c6e5-3f9a-11ef-abb1-0242ac1c000c\n",
            "INFO:distributed.core:Starting established connection to tcp://127.0.0.1:34448\n",
            "INFO:distributed.core:Connection to tcp://127.0.0.1:34314 has been closed.\n",
            "INFO:distributed.scheduler:Remove client Client-worker-c6921dbd-3f9a-11ef-ac1a-0242ac1c000c\n",
            "INFO:distributed.core:Connection to tcp://127.0.0.1:34332 has been closed.\n",
            "INFO:distributed.scheduler:Remove client Client-worker-c6945322-3f9a-11ef-ac14-0242ac1c000c\n",
            "INFO:distributed.core:Connection to tcp://127.0.0.1:34438 has been closed.\n",
            "INFO:distributed.scheduler:Remove client Client-worker-c69c1d40-3f9a-11ef-abb5-0242ac1c000c\n",
            "INFO:distributed.core:Connection to tcp://127.0.0.1:44510 has been closed.\n",
            "INFO:distributed.scheduler:Remove worker <WorkerState 'tcp://127.0.0.1:45173', name: 28, status: running, memory: 0, processing: 0> (stimulus_id='handle-worker-cleanup-1720714832.1613328')\n",
            "INFO:distributed.core:Connection to tcp://127.0.0.1:34256 has been closed.\n",
            "INFO:distributed.scheduler:Remove client Client-worker-c6898e2a-3f9a-11ef-ac21-0242ac1c000c\n",
            "INFO:distributed.core:Connection to tcp://127.0.0.1:44500 has been closed.\n",
            "INFO:distributed.scheduler:Remove worker <WorkerState 'tcp://127.0.0.1:39413', name: 29, status: running, memory: 0, processing: 0> (stimulus_id='handle-worker-cleanup-1720714832.1653512')\n",
            "INFO:distributed.core:Connection to tcp://127.0.0.1:34278 has been closed.\n",
            "INFO:distributed.scheduler:Remove client Client-worker-c68eae8a-3f9a-11ef-abe3-0242ac1c000c\n",
            "INFO:distributed.core:Connection to tcp://127.0.0.1:34460 has been closed.\n",
            "INFO:distributed.scheduler:Remove client Client-worker-c6997b1d-3f9a-11ef-abca-0242ac1c000c\n",
            "INFO:distributed.core:Connection to tcp://127.0.0.1:44406 has been closed.\n",
            "INFO:distributed.scheduler:Remove worker <WorkerState 'tcp://127.0.0.1:43571', name: 15, status: running, memory: 0, processing: 0> (stimulus_id='handle-worker-cleanup-1720714832.171297')\n",
            "INFO:distributed.core:Connection to tcp://127.0.0.1:34512 has been closed.\n",
            "INFO:distributed.scheduler:Remove client Client-worker-c69ec401-3f9a-11ef-ac1f-0242ac1c000c\n",
            "INFO:distributed.core:Connection to tcp://127.0.0.1:34318 has been closed.\n",
            "INFO:distributed.scheduler:Remove client Client-worker-c69383ef-3f9a-11ef-ac09-0242ac1c000c\n",
            "INFO:distributed.core:Connection to tcp://127.0.0.1:34402 has been closed.\n",
            "INFO:distributed.scheduler:Remove client Client-worker-c69ba483-3f9a-11ef-abbe-0242ac1c000c\n",
            "INFO:distributed.core:Connection to tcp://127.0.0.1:44498 has been closed.\n",
            "INFO:distributed.scheduler:Remove worker <WorkerState 'tcp://127.0.0.1:41615', name: 27, status: running, memory: 0, processing: 0> (stimulus_id='handle-worker-cleanup-1720714832.1822155')\n",
            "INFO:distributed.core:Connection to tcp://127.0.0.1:34232 has been closed.\n",
            "INFO:distributed.scheduler:Remove client Client-worker-c686ec09-3f9a-11ef-ac19-0242ac1c000c\n",
            "INFO:distributed.core:Connection to tcp://127.0.0.1:34236 has been closed.\n",
            "INFO:distributed.scheduler:Remove client Client-worker-c68740fa-3f9a-11ef-abf2-0242ac1c000c\n",
            "INFO:distributed.core:Connection to tcp://127.0.0.1:44324 has been closed.\n",
            "INFO:distributed.scheduler:Remove worker <WorkerState 'tcp://127.0.0.1:42631', name: 6, status: running, memory: 0, processing: 0> (stimulus_id='handle-worker-cleanup-1720714832.1891546')\n",
            "INFO:distributed.core:Connection to tcp://127.0.0.1:34334 has been closed.\n",
            "INFO:distributed.scheduler:Remove client Client-worker-c6949fab-3f9a-11ef-abff-0242ac1c000c\n",
            "INFO:distributed.core:Connection to tcp://127.0.0.1:44518 has been closed.\n",
            "INFO:distributed.scheduler:Remove worker <WorkerState 'tcp://127.0.0.1:46527', name: 31, status: running, memory: 0, processing: 0> (stimulus_id='handle-worker-cleanup-1720714832.1927338')\n",
            "INFO:distributed.core:Connection to tcp://127.0.0.1:44488 has been closed.\n",
            "INFO:distributed.scheduler:Remove worker <WorkerState 'tcp://127.0.0.1:45949', name: 25, status: running, memory: 0, processing: 0> (stimulus_id='handle-worker-cleanup-1720714832.1945016')\n",
            "INFO:distributed.core:Connection to tcp://127.0.0.1:34374 has been closed.\n",
            "INFO:distributed.scheduler:Remove client Client-worker-c69af617-3f9a-11ef-aba9-0242ac1c000c\n",
            "INFO:distributed.core:Connection to tcp://127.0.0.1:34476 has been closed.\n",
            "INFO:distributed.scheduler:Remove client Client-worker-c69ccda9-3f9a-11ef-ac0f-0242ac1c000c\n",
            "INFO:distributed.core:Connection to tcp://127.0.0.1:44476 has been closed.\n",
            "INFO:distributed.scheduler:Remove worker <WorkerState 'tcp://127.0.0.1:42059', name: 24, status: running, memory: 0, processing: 0> (stimulus_id='handle-worker-cleanup-1720714832.2013175')\n",
            "INFO:distributed.core:Connection to tcp://127.0.0.1:44434 has been closed.\n",
            "INFO:distributed.scheduler:Remove worker <WorkerState 'tcp://127.0.0.1:40839', name: 19, status: running, memory: 0, processing: 0> (stimulus_id='handle-worker-cleanup-1720714832.2033002')\n",
            "INFO:distributed.core:Connection to tcp://127.0.0.1:34340 has been closed.\n",
            "INFO:distributed.scheduler:Remove client Client-worker-c69647fb-3f9a-11ef-abfb-0242ac1c000c\n",
            "INFO:distributed.core:Connection to tcp://127.0.0.1:44512 has been closed.\n",
            "INFO:distributed.scheduler:Remove worker <WorkerState 'tcp://127.0.0.1:39387', name: 30, status: running, memory: 0, processing: 0> (stimulus_id='handle-worker-cleanup-1720714832.2180395')\n",
            "INFO:distributed.core:Connection to tcp://127.0.0.1:44376 has been closed.\n",
            "INFO:distributed.scheduler:Remove worker <WorkerState 'tcp://127.0.0.1:35877', name: 12, status: running, memory: 0, processing: 0> (stimulus_id='handle-worker-cleanup-1720714832.2199037')\n",
            "INFO:distributed.core:Connection to tcp://127.0.0.1:44458 has been closed.\n",
            "INFO:distributed.scheduler:Remove worker <WorkerState 'tcp://127.0.0.1:39639', name: 22, status: running, memory: 0, processing: 0> (stimulus_id='handle-worker-cleanup-1720714832.2238138')\n",
            "INFO:distributed.core:Connection to tcp://127.0.0.1:44282 has been closed.\n",
            "INFO:distributed.scheduler:Remove worker <WorkerState 'tcp://127.0.0.1:43037', name: 1, status: running, memory: 0, processing: 0> (stimulus_id='handle-worker-cleanup-1720714832.225874')\n",
            "INFO:distributed.core:Connection to tcp://127.0.0.1:34448 has been closed.\n",
            "INFO:distributed.scheduler:Remove client Client-worker-c699c6e5-3f9a-11ef-abb1-0242ac1c000c\n",
            "INFO:distributed.core:Connection to tcp://127.0.0.1:44370 has been closed.\n",
            "INFO:distributed.scheduler:Remove worker <WorkerState 'tcp://127.0.0.1:45267', name: 11, status: running, memory: 0, processing: 0> (stimulus_id='handle-worker-cleanup-1720714832.2295887')\n",
            "INFO:distributed.core:Connection to tcp://127.0.0.1:34298 has been closed.\n",
            "INFO:distributed.scheduler:Remove client Client-worker-c690742c-3f9a-11ef-aba5-0242ac1c000c\n",
            "INFO:distributed.core:Connection to tcp://127.0.0.1:44422 has been closed.\n",
            "INFO:distributed.scheduler:Remove worker <WorkerState 'tcp://127.0.0.1:32819', name: 17, status: running, memory: 0, processing: 0> (stimulus_id='handle-worker-cleanup-1720714832.2332137')\n",
            "INFO:distributed.core:Connection to tcp://127.0.0.1:34258 has been closed.\n",
            "INFO:distributed.scheduler:Remove client Client-worker-c68d2fa2-3f9a-11ef-abc1-0242ac1c000c\n",
            "INFO:distributed.core:Connection to tcp://127.0.0.1:44490 has been closed.\n",
            "INFO:distributed.scheduler:Remove worker <WorkerState 'tcp://127.0.0.1:44951', name: 26, status: running, memory: 0, processing: 0> (stimulus_id='handle-worker-cleanup-1720714832.2369268')\n",
            "INFO:distributed.core:Connection to tcp://127.0.0.1:34518 has been closed.\n",
            "INFO:distributed.scheduler:Remove client Client-worker-c69f03b0-3f9a-11ef-abdb-0242ac1c000c\n",
            "INFO:distributed.core:Connection to tcp://127.0.0.1:44450 has been closed.\n",
            "INFO:distributed.scheduler:Remove worker <WorkerState 'tcp://127.0.0.1:40079', name: 20, status: running, memory: 0, processing: 0> (stimulus_id='handle-worker-cleanup-1720714832.2458854')\n",
            "INFO:distributed.core:Connection to tcp://127.0.0.1:44280 has been closed.\n",
            "INFO:distributed.scheduler:Remove worker <WorkerState 'tcp://127.0.0.1:42697', name: 0, status: running, memory: 0, processing: 0> (stimulus_id='handle-worker-cleanup-1720714832.2491083')\n",
            "INFO:distributed.core:Connection to tcp://127.0.0.1:44460 has been closed.\n",
            "INFO:distributed.scheduler:Remove worker <WorkerState 'tcp://127.0.0.1:38785', name: 23, status: running, memory: 0, processing: 0> (stimulus_id='handle-worker-cleanup-1720714832.251035')\n",
            "INFO:distributed.core:Connection to tcp://127.0.0.1:34286 has been closed.\n",
            "INFO:distributed.scheduler:Remove client Client-worker-c68f888a-3f9a-11ef-ac0a-0242ac1c000c\n",
            "INFO:distributed.core:Connection to tcp://127.0.0.1:34382 has been closed.\n",
            "INFO:distributed.scheduler:Remove client Client-worker-c69b27f4-3f9a-11ef-abc6-0242ac1c000c\n",
            "INFO:distributed.core:Connection to tcp://127.0.0.1:44310 has been closed.\n",
            "INFO:distributed.scheduler:Remove worker <WorkerState 'tcp://127.0.0.1:42777', name: 7, status: running, memory: 0, processing: 0> (stimulus_id='handle-worker-cleanup-1720714832.2564106')\n",
            "INFO:distributed.core:Connection to tcp://127.0.0.1:44390 has been closed.\n",
            "INFO:distributed.scheduler:Remove worker <WorkerState 'tcp://127.0.0.1:40279', name: 13, status: running, memory: 0, processing: 0> (stimulus_id='handle-worker-cleanup-1720714832.2584376')\n",
            "INFO:distributed.core:Connection to tcp://127.0.0.1:34394 has been closed.\n",
            "INFO:distributed.scheduler:Remove client Client-worker-c69a8af3-3f9a-11ef-abee-0242ac1c000c\n",
            "INFO:distributed.core:Connection to tcp://127.0.0.1:34492 has been closed.\n",
            "INFO:distributed.scheduler:Remove client Client-worker-c69de6d9-3f9a-11ef-abe9-0242ac1c000c\n",
            "INFO:distributed.core:Connection to tcp://127.0.0.1:44400 has been closed.\n",
            "INFO:distributed.scheduler:Remove worker <WorkerState 'tcp://127.0.0.1:37135', name: 14, status: running, memory: 0, processing: 0> (stimulus_id='handle-worker-cleanup-1720714832.269192')\n",
            "INFO:distributed.core:Connection to tcp://127.0.0.1:44300 has been closed.\n",
            "INFO:distributed.scheduler:Remove worker <WorkerState 'tcp://127.0.0.1:33699', name: 5, status: running, memory: 0, processing: 0> (stimulus_id='handle-worker-cleanup-1720714832.2726808')\n",
            "INFO:distributed.core:Connection to tcp://127.0.0.1:34426 has been closed.\n",
            "INFO:distributed.scheduler:Remove client Client-worker-c69c35c5-3f9a-11ef-abd2-0242ac1c000c\n",
            "INFO:distributed.core:Connection to tcp://127.0.0.1:44288 has been closed.\n",
            "INFO:distributed.scheduler:Remove worker <WorkerState 'tcp://127.0.0.1:35197', name: 3, status: running, memory: 0, processing: 0> (stimulus_id='handle-worker-cleanup-1720714832.2768857')\n",
            "INFO:distributed.core:Connection to tcp://127.0.0.1:44340 has been closed.\n",
            "INFO:distributed.scheduler:Remove worker <WorkerState 'tcp://127.0.0.1:42067', name: 8, status: running, memory: 0, processing: 0> (stimulus_id='handle-worker-cleanup-1720714832.281759')\n",
            "INFO:distributed.core:Connection to tcp://127.0.0.1:34348 has been closed.\n",
            "INFO:distributed.scheduler:Remove client Client-worker-c699ca50-3f9a-11ef-abdf-0242ac1c000c\n",
            "INFO:distributed.core:Connection to tcp://127.0.0.1:34262 has been closed.\n",
            "INFO:distributed.scheduler:Remove client Client-worker-c68e097e-3f9a-11ef-abd6-0242ac1c000c\n",
            "INFO:distributed.core:Connection to tcp://127.0.0.1:44444 has been closed.\n",
            "INFO:distributed.scheduler:Remove worker <WorkerState 'tcp://127.0.0.1:39249', name: 16, status: running, memory: 0, processing: 0> (stimulus_id='handle-worker-cleanup-1720714832.2887764')\n",
            "INFO:distributed.core:Connection to tcp://127.0.0.1:44290 has been closed.\n",
            "INFO:distributed.scheduler:Remove worker <WorkerState 'tcp://127.0.0.1:44445', name: 4, status: running, memory: 0, processing: 0> (stimulus_id='handle-worker-cleanup-1720714832.2924376')\n",
            "INFO:distributed.core:Connection to tcp://127.0.0.1:34508 has been closed.\n",
            "INFO:distributed.scheduler:Remove client Client-worker-c69e0650-3f9a-11ef-ac02-0242ac1c000c\n",
            "INFO:distributed.core:Connection to tcp://127.0.0.1:34414 has been closed.\n",
            "INFO:distributed.scheduler:Remove client Client-worker-c69a2c40-3f9a-11ef-abf8-0242ac1c000c\n",
            "INFO:distributed.core:Connection to tcp://127.0.0.1:34244 has been closed.\n",
            "INFO:distributed.scheduler:Remove client Client-worker-c6874526-3f9a-11ef-abcf-0242ac1c000c\n",
            "INFO:distributed.core:Connection to tcp://127.0.0.1:34362 has been closed.\n",
            "INFO:distributed.scheduler:Remove client Client-worker-c699b59b-3f9a-11ef-abe7-0242ac1c000c\n",
            "INFO:distributed.core:Connection to tcp://127.0.0.1:44430 has been closed.\n",
            "INFO:distributed.scheduler:Remove worker <WorkerState 'tcp://127.0.0.1:35163', name: 18, status: running, memory: 0, processing: 0> (stimulus_id='handle-worker-cleanup-1720714832.3071816')\n",
            "INFO:distributed.core:Connection to tcp://127.0.0.1:34342 has been closed.\n",
            "INFO:distributed.scheduler:Remove client Client-worker-c697bbd2-3f9a-11ef-abbb-0242ac1c000c\n",
            "INFO:distributed.core:Connection to tcp://127.0.0.1:34532 has been closed.\n",
            "INFO:distributed.scheduler:Remove client Client-worker-c6a2442d-3f9a-11ef-abad-0242ac1c000c\n",
            "INFO:distributed.core:Connection to tcp://127.0.0.1:44342 has been closed.\n",
            "INFO:distributed.scheduler:Remove worker <WorkerState 'tcp://127.0.0.1:34275', name: 10, status: running, memory: 0, processing: 0> (stimulus_id='handle-worker-cleanup-1720714832.317333')\n",
            "INFO:distributed.core:Connection to tcp://127.0.0.1:44446 has been closed.\n",
            "INFO:distributed.scheduler:Remove worker <WorkerState 'tcp://127.0.0.1:35343', name: 21, status: running, memory: 0, processing: 0> (stimulus_id='handle-worker-cleanup-1720714832.3192115')\n",
            "INFO:distributed.core:Connection to tcp://127.0.0.1:44284 has been closed.\n",
            "INFO:distributed.scheduler:Remove worker <WorkerState 'tcp://127.0.0.1:38477', name: 2, status: running, memory: 0, processing: 0> (stimulus_id='handle-worker-cleanup-1720714832.3246272')\n",
            "INFO:distributed.core:Connection to tcp://127.0.0.1:44354 has been closed.\n",
            "INFO:distributed.scheduler:Remove worker <WorkerState 'tcp://127.0.0.1:34949', name: 9, status: running, memory: 2, processing: 0> (stimulus_id='handle-worker-cleanup-1720714832.3293726')\n",
            "ERROR:distributed.scheduler:Removing worker 'tcp://127.0.0.1:34949' caused the cluster to lose scattered data, which can't be recovered: {'DataFrame-5d478acede78819c284d88fb8fee9da0', 'Series-1aa076e01ad6cc02871e2f32f24b28d7'} (stimulus_id='handle-worker-cleanup-1720714832.3293726')\n",
            "INFO:distributed.scheduler:Lost all workers\n",
            "INFO:distributed.nanny:Closing Nanny gracefully at 'tcp://127.0.0.1:35411'. Reason: worker-close\n",
            "INFO:distributed.nanny:Closing Nanny gracefully at 'tcp://127.0.0.1:33715'. Reason: worker-close\n",
            "INFO:distributed.nanny:Closing Nanny gracefully at 'tcp://127.0.0.1:37473'. Reason: worker-close\n",
            "INFO:distributed.nanny:Closing Nanny gracefully at 'tcp://127.0.0.1:45823'. Reason: worker-close\n",
            "INFO:distributed.nanny:Closing Nanny gracefully at 'tcp://127.0.0.1:37955'. Reason: worker-close\n",
            "INFO:distributed.nanny:Closing Nanny gracefully at 'tcp://127.0.0.1:35513'. Reason: worker-close\n",
            "INFO:distributed.nanny:Closing Nanny gracefully at 'tcp://127.0.0.1:37771'. Reason: worker-close\n",
            "INFO:distributed.nanny:Closing Nanny gracefully at 'tcp://127.0.0.1:38697'. Reason: worker-close\n",
            "INFO:distributed.nanny:Closing Nanny gracefully at 'tcp://127.0.0.1:45989'. Reason: worker-close\n",
            "INFO:distributed.nanny:Closing Nanny gracefully at 'tcp://127.0.0.1:36317'. Reason: worker-close\n",
            "INFO:distributed.nanny:Closing Nanny gracefully at 'tcp://127.0.0.1:46411'. Reason: worker-close\n",
            "INFO:distributed.nanny:Closing Nanny gracefully at 'tcp://127.0.0.1:45481'. Reason: worker-close\n",
            "INFO:distributed.nanny:Closing Nanny gracefully at 'tcp://127.0.0.1:33635'. Reason: worker-close\n",
            "INFO:distributed.nanny:Closing Nanny gracefully at 'tcp://127.0.0.1:39747'. Reason: worker-close\n",
            "INFO:distributed.nanny:Closing Nanny gracefully at 'tcp://127.0.0.1:43697'. Reason: worker-close\n",
            "INFO:distributed.nanny:Closing Nanny gracefully at 'tcp://127.0.0.1:44833'. Reason: worker-close\n",
            "INFO:distributed.nanny:Closing Nanny gracefully at 'tcp://127.0.0.1:38657'. Reason: worker-close\n",
            "INFO:distributed.nanny:Closing Nanny gracefully at 'tcp://127.0.0.1:44569'. Reason: worker-close\n",
            "INFO:distributed.nanny:Closing Nanny gracefully at 'tcp://127.0.0.1:40667'. Reason: worker-close\n",
            "INFO:distributed.nanny:Closing Nanny gracefully at 'tcp://127.0.0.1:43631'. Reason: worker-close\n",
            "INFO:distributed.nanny:Closing Nanny gracefully at 'tcp://127.0.0.1:38281'. Reason: worker-close\n",
            "INFO:distributed.nanny:Closing Nanny gracefully at 'tcp://127.0.0.1:38713'. Reason: worker-close\n",
            "INFO:distributed.nanny:Closing Nanny gracefully at 'tcp://127.0.0.1:41383'. Reason: worker-close\n",
            "INFO:distributed.nanny:Closing Nanny gracefully at 'tcp://127.0.0.1:33467'. Reason: worker-close\n",
            "INFO:distributed.nanny:Closing Nanny gracefully at 'tcp://127.0.0.1:46621'. Reason: worker-close\n",
            "INFO:distributed.nanny:Closing Nanny gracefully at 'tcp://127.0.0.1:43981'. Reason: worker-close\n",
            "INFO:distributed.nanny:Closing Nanny gracefully at 'tcp://127.0.0.1:44925'. Reason: worker-close\n",
            "INFO:distributed.nanny:Closing Nanny gracefully at 'tcp://127.0.0.1:35295'. Reason: worker-close\n",
            "INFO:distributed.nanny:Closing Nanny gracefully at 'tcp://127.0.0.1:34137'. Reason: worker-close\n",
            "INFO:distributed.nanny:Closing Nanny gracefully at 'tcp://127.0.0.1:43339'. Reason: worker-close\n",
            "INFO:distributed.nanny:Closing Nanny gracefully at 'tcp://127.0.0.1:35131'. Reason: worker-close\n",
            "INFO:distributed.nanny:Closing Nanny gracefully at 'tcp://127.0.0.1:39499'. Reason: worker-close\n",
            "INFO:distributed.scheduler:Close client connection: Client-worker-c6921dbd-3f9a-11ef-ac1a-0242ac1c000c\n",
            "INFO:distributed.scheduler:Close client connection: Client-worker-c6945322-3f9a-11ef-ac14-0242ac1c000c\n",
            "INFO:distributed.scheduler:Close client connection: Client-worker-c69c1d40-3f9a-11ef-abb5-0242ac1c000c\n",
            "INFO:distributed.scheduler:Close client connection: Client-worker-c6898e2a-3f9a-11ef-ac21-0242ac1c000c\n",
            "INFO:distributed.scheduler:Close client connection: Client-worker-c68eae8a-3f9a-11ef-abe3-0242ac1c000c\n",
            "INFO:distributed.scheduler:Close client connection: Client-worker-c6997b1d-3f9a-11ef-abca-0242ac1c000c\n",
            "INFO:distributed.scheduler:Close client connection: Client-worker-c69ec401-3f9a-11ef-ac1f-0242ac1c000c\n",
            "INFO:distributed.scheduler:Close client connection: Client-worker-c69383ef-3f9a-11ef-ac09-0242ac1c000c\n",
            "INFO:distributed.scheduler:Close client connection: Client-worker-c69ba483-3f9a-11ef-abbe-0242ac1c000c\n",
            "INFO:distributed.scheduler:Close client connection: Client-worker-c686ec09-3f9a-11ef-ac19-0242ac1c000c\n",
            "INFO:distributed.scheduler:Close client connection: Client-worker-c68740fa-3f9a-11ef-abf2-0242ac1c000c\n",
            "INFO:distributed.scheduler:Close client connection: Client-worker-c6949fab-3f9a-11ef-abff-0242ac1c000c\n",
            "INFO:distributed.scheduler:Close client connection: Client-worker-c69af617-3f9a-11ef-aba9-0242ac1c000c\n",
            "INFO:distributed.scheduler:Close client connection: Client-worker-c69ccda9-3f9a-11ef-ac0f-0242ac1c000c\n",
            "INFO:distributed.scheduler:Close client connection: Client-worker-c69647fb-3f9a-11ef-abfb-0242ac1c000c\n",
            "INFO:distributed.scheduler:Close client connection: Client-worker-c699c6e5-3f9a-11ef-abb1-0242ac1c000c\n",
            "INFO:distributed.scheduler:Close client connection: Client-worker-c690742c-3f9a-11ef-aba5-0242ac1c000c\n",
            "INFO:distributed.scheduler:Close client connection: Client-worker-c68d2fa2-3f9a-11ef-abc1-0242ac1c000c\n",
            "INFO:distributed.scheduler:Close client connection: Client-worker-c69f03b0-3f9a-11ef-abdb-0242ac1c000c\n",
            "INFO:distributed.scheduler:Close client connection: Client-worker-c68f888a-3f9a-11ef-ac0a-0242ac1c000c\n",
            "INFO:distributed.scheduler:Close client connection: Client-worker-c69b27f4-3f9a-11ef-abc6-0242ac1c000c\n",
            "INFO:distributed.scheduler:Close client connection: Client-worker-c69a8af3-3f9a-11ef-abee-0242ac1c000c\n",
            "INFO:distributed.scheduler:Close client connection: Client-worker-c69de6d9-3f9a-11ef-abe9-0242ac1c000c\n",
            "INFO:distributed.scheduler:Close client connection: Client-worker-c69c35c5-3f9a-11ef-abd2-0242ac1c000c\n",
            "INFO:distributed.scheduler:Close client connection: Client-worker-c699ca50-3f9a-11ef-abdf-0242ac1c000c\n",
            "INFO:distributed.scheduler:Close client connection: Client-worker-c68e097e-3f9a-11ef-abd6-0242ac1c000c\n",
            "INFO:distributed.scheduler:Close client connection: Client-worker-c69e0650-3f9a-11ef-ac02-0242ac1c000c\n",
            "INFO:distributed.scheduler:Close client connection: Client-worker-c69a2c40-3f9a-11ef-abf8-0242ac1c000c\n",
            "INFO:distributed.scheduler:Close client connection: Client-worker-c6874526-3f9a-11ef-abcf-0242ac1c000c\n",
            "INFO:distributed.scheduler:Close client connection: Client-worker-c699b59b-3f9a-11ef-abe7-0242ac1c000c\n",
            "INFO:distributed.scheduler:Close client connection: Client-worker-c697bbd2-3f9a-11ef-abbb-0242ac1c000c\n",
            "INFO:distributed.scheduler:Close client connection: Client-worker-c6a2442d-3f9a-11ef-abad-0242ac1c000c\n"
          ]
        },
        {
          "output_type": "error",
          "ename": "KeyboardInterrupt",
          "evalue": "",
          "traceback": [
            "\u001b[0;31m---------------------------------------------------------------------------\u001b[0m",
            "\u001b[0;31mKeyboardInterrupt\u001b[0m                         Traceback (most recent call last)",
            "\u001b[0;32m<ipython-input-22-63bd50c317f9>\u001b[0m in \u001b[0;36m<cell line: 1>\u001b[0;34m()\u001b[0m\n\u001b[1;32m      1\u001b[0m \u001b[0;32mwith\u001b[0m \u001b[0mjoblib\u001b[0m\u001b[0;34m.\u001b[0m\u001b[0mparallel_backend\u001b[0m\u001b[0;34m(\u001b[0m\u001b[0;34m\"dask\"\u001b[0m\u001b[0;34m,\u001b[0m \u001b[0mscatter\u001b[0m\u001b[0;34m=\u001b[0m\u001b[0;34m[\u001b[0m\u001b[0mX_train\u001b[0m\u001b[0;34m,\u001b[0m\u001b[0my_train\u001b[0m\u001b[0;34m]\u001b[0m\u001b[0;34m)\u001b[0m\u001b[0;34m:\u001b[0m\u001b[0;34m\u001b[0m\u001b[0;34m\u001b[0m\u001b[0m\n\u001b[0;32m----> 2\u001b[0;31m     \u001b[0mrand5\u001b[0m\u001b[0;34m.\u001b[0m\u001b[0mfit\u001b[0m\u001b[0;34m(\u001b[0m\u001b[0mX_train\u001b[0m\u001b[0;34m,\u001b[0m\u001b[0my_train\u001b[0m\u001b[0;34m)\u001b[0m\u001b[0;34m\u001b[0m\u001b[0;34m\u001b[0m\u001b[0m\n\u001b[0m",
            "\u001b[0;32m/usr/local/lib/python3.10/dist-packages/sklearn/model_selection/_search.py\u001b[0m in \u001b[0;36mfit\u001b[0;34m(self, X, y, groups, **fit_params)\u001b[0m\n\u001b[1;32m    907\u001b[0m             \u001b[0mrefit_start_time\u001b[0m \u001b[0;34m=\u001b[0m \u001b[0mtime\u001b[0m\u001b[0;34m.\u001b[0m\u001b[0mtime\u001b[0m\u001b[0;34m(\u001b[0m\u001b[0;34m)\u001b[0m\u001b[0;34m\u001b[0m\u001b[0;34m\u001b[0m\u001b[0m\n\u001b[1;32m    908\u001b[0m             \u001b[0;32mif\u001b[0m \u001b[0my\u001b[0m \u001b[0;32mis\u001b[0m \u001b[0;32mnot\u001b[0m \u001b[0;32mNone\u001b[0m\u001b[0;34m:\u001b[0m\u001b[0;34m\u001b[0m\u001b[0;34m\u001b[0m\u001b[0m\n\u001b[0;32m--> 909\u001b[0;31m                 \u001b[0mself\u001b[0m\u001b[0;34m.\u001b[0m\u001b[0mbest_estimator_\u001b[0m\u001b[0;34m.\u001b[0m\u001b[0mfit\u001b[0m\u001b[0;34m(\u001b[0m\u001b[0mX\u001b[0m\u001b[0;34m,\u001b[0m \u001b[0my\u001b[0m\u001b[0;34m,\u001b[0m \u001b[0;34m**\u001b[0m\u001b[0mfit_params\u001b[0m\u001b[0;34m)\u001b[0m\u001b[0;34m\u001b[0m\u001b[0;34m\u001b[0m\u001b[0m\n\u001b[0m\u001b[1;32m    910\u001b[0m             \u001b[0;32melse\u001b[0m\u001b[0;34m:\u001b[0m\u001b[0;34m\u001b[0m\u001b[0;34m\u001b[0m\u001b[0m\n\u001b[1;32m    911\u001b[0m                 \u001b[0mself\u001b[0m\u001b[0;34m.\u001b[0m\u001b[0mbest_estimator_\u001b[0m\u001b[0;34m.\u001b[0m\u001b[0mfit\u001b[0m\u001b[0;34m(\u001b[0m\u001b[0mX\u001b[0m\u001b[0;34m,\u001b[0m \u001b[0;34m**\u001b[0m\u001b[0mfit_params\u001b[0m\u001b[0;34m)\u001b[0m\u001b[0;34m\u001b[0m\u001b[0;34m\u001b[0m\u001b[0m\n",
            "\u001b[0;32m/usr/local/lib/python3.10/dist-packages/sklearn/ensemble/_weight_boosting.py\u001b[0m in \u001b[0;36mfit\u001b[0;34m(self, X, y, sample_weight)\u001b[0m\n\u001b[1;32m    160\u001b[0m \u001b[0;34m\u001b[0m\u001b[0m\n\u001b[1;32m    161\u001b[0m             \u001b[0;31m# Boosting step\u001b[0m\u001b[0;34m\u001b[0m\u001b[0;34m\u001b[0m\u001b[0m\n\u001b[0;32m--> 162\u001b[0;31m             sample_weight, estimator_weight, estimator_error = self._boost(\n\u001b[0m\u001b[1;32m    163\u001b[0m                 \u001b[0miboost\u001b[0m\u001b[0;34m,\u001b[0m \u001b[0mX\u001b[0m\u001b[0;34m,\u001b[0m \u001b[0my\u001b[0m\u001b[0;34m,\u001b[0m \u001b[0msample_weight\u001b[0m\u001b[0;34m,\u001b[0m \u001b[0mrandom_state\u001b[0m\u001b[0;34m\u001b[0m\u001b[0;34m\u001b[0m\u001b[0m\n\u001b[1;32m    164\u001b[0m             )\n",
            "\u001b[0;32m/usr/local/lib/python3.10/dist-packages/sklearn/ensemble/_weight_boosting.py\u001b[0m in \u001b[0;36m_boost\u001b[0;34m(self, iboost, X, y, sample_weight, random_state)\u001b[0m\n\u001b[1;32m    567\u001b[0m         \"\"\"\n\u001b[1;32m    568\u001b[0m         \u001b[0;32mif\u001b[0m \u001b[0mself\u001b[0m\u001b[0;34m.\u001b[0m\u001b[0malgorithm\u001b[0m \u001b[0;34m==\u001b[0m \u001b[0;34m\"SAMME.R\"\u001b[0m\u001b[0;34m:\u001b[0m\u001b[0;34m\u001b[0m\u001b[0;34m\u001b[0m\u001b[0m\n\u001b[0;32m--> 569\u001b[0;31m             \u001b[0;32mreturn\u001b[0m \u001b[0mself\u001b[0m\u001b[0;34m.\u001b[0m\u001b[0m_boost_real\u001b[0m\u001b[0;34m(\u001b[0m\u001b[0miboost\u001b[0m\u001b[0;34m,\u001b[0m \u001b[0mX\u001b[0m\u001b[0;34m,\u001b[0m \u001b[0my\u001b[0m\u001b[0;34m,\u001b[0m \u001b[0msample_weight\u001b[0m\u001b[0;34m,\u001b[0m \u001b[0mrandom_state\u001b[0m\u001b[0;34m)\u001b[0m\u001b[0;34m\u001b[0m\u001b[0;34m\u001b[0m\u001b[0m\n\u001b[0m\u001b[1;32m    570\u001b[0m \u001b[0;34m\u001b[0m\u001b[0m\n\u001b[1;32m    571\u001b[0m         \u001b[0;32melse\u001b[0m\u001b[0;34m:\u001b[0m  \u001b[0;31m# elif self.algorithm == \"SAMME\":\u001b[0m\u001b[0;34m\u001b[0m\u001b[0;34m\u001b[0m\u001b[0m\n",
            "\u001b[0;32m/usr/local/lib/python3.10/dist-packages/sklearn/ensemble/_weight_boosting.py\u001b[0m in \u001b[0;36m_boost_real\u001b[0;34m(self, iboost, X, y, sample_weight, random_state)\u001b[0m\n\u001b[1;32m    576\u001b[0m         \u001b[0mestimator\u001b[0m \u001b[0;34m=\u001b[0m \u001b[0mself\u001b[0m\u001b[0;34m.\u001b[0m\u001b[0m_make_estimator\u001b[0m\u001b[0;34m(\u001b[0m\u001b[0mrandom_state\u001b[0m\u001b[0;34m=\u001b[0m\u001b[0mrandom_state\u001b[0m\u001b[0;34m)\u001b[0m\u001b[0;34m\u001b[0m\u001b[0;34m\u001b[0m\u001b[0m\n\u001b[1;32m    577\u001b[0m \u001b[0;34m\u001b[0m\u001b[0m\n\u001b[0;32m--> 578\u001b[0;31m         \u001b[0mestimator\u001b[0m\u001b[0;34m.\u001b[0m\u001b[0mfit\u001b[0m\u001b[0;34m(\u001b[0m\u001b[0mX\u001b[0m\u001b[0;34m,\u001b[0m \u001b[0my\u001b[0m\u001b[0;34m,\u001b[0m \u001b[0msample_weight\u001b[0m\u001b[0;34m=\u001b[0m\u001b[0msample_weight\u001b[0m\u001b[0;34m)\u001b[0m\u001b[0;34m\u001b[0m\u001b[0;34m\u001b[0m\u001b[0m\n\u001b[0m\u001b[1;32m    579\u001b[0m \u001b[0;34m\u001b[0m\u001b[0m\n\u001b[1;32m    580\u001b[0m         \u001b[0my_predict_proba\u001b[0m \u001b[0;34m=\u001b[0m \u001b[0mestimator\u001b[0m\u001b[0;34m.\u001b[0m\u001b[0mpredict_proba\u001b[0m\u001b[0;34m(\u001b[0m\u001b[0mX\u001b[0m\u001b[0;34m)\u001b[0m\u001b[0;34m\u001b[0m\u001b[0;34m\u001b[0m\u001b[0m\n",
            "\u001b[0;32m/usr/local/lib/python3.10/dist-packages/sklearn/tree/_classes.py\u001b[0m in \u001b[0;36mfit\u001b[0;34m(self, X, y, sample_weight, check_input)\u001b[0m\n\u001b[1;32m    887\u001b[0m         \"\"\"\n\u001b[1;32m    888\u001b[0m \u001b[0;34m\u001b[0m\u001b[0m\n\u001b[0;32m--> 889\u001b[0;31m         super().fit(\n\u001b[0m\u001b[1;32m    890\u001b[0m             \u001b[0mX\u001b[0m\u001b[0;34m,\u001b[0m\u001b[0;34m\u001b[0m\u001b[0;34m\u001b[0m\u001b[0m\n\u001b[1;32m    891\u001b[0m             \u001b[0my\u001b[0m\u001b[0;34m,\u001b[0m\u001b[0;34m\u001b[0m\u001b[0;34m\u001b[0m\u001b[0m\n",
            "\u001b[0;32m/usr/local/lib/python3.10/dist-packages/sklearn/tree/_classes.py\u001b[0m in \u001b[0;36mfit\u001b[0;34m(self, X, y, sample_weight, check_input)\u001b[0m\n\u001b[1;32m    377\u001b[0m             )\n\u001b[1;32m    378\u001b[0m \u001b[0;34m\u001b[0m\u001b[0m\n\u001b[0;32m--> 379\u001b[0;31m         \u001b[0mbuilder\u001b[0m\u001b[0;34m.\u001b[0m\u001b[0mbuild\u001b[0m\u001b[0;34m(\u001b[0m\u001b[0mself\u001b[0m\u001b[0;34m.\u001b[0m\u001b[0mtree_\u001b[0m\u001b[0;34m,\u001b[0m \u001b[0mX\u001b[0m\u001b[0;34m,\u001b[0m \u001b[0my\u001b[0m\u001b[0;34m,\u001b[0m \u001b[0msample_weight\u001b[0m\u001b[0;34m)\u001b[0m\u001b[0;34m\u001b[0m\u001b[0;34m\u001b[0m\u001b[0m\n\u001b[0m\u001b[1;32m    380\u001b[0m \u001b[0;34m\u001b[0m\u001b[0m\n\u001b[1;32m    381\u001b[0m         \u001b[0;32mif\u001b[0m \u001b[0mself\u001b[0m\u001b[0;34m.\u001b[0m\u001b[0mn_outputs_\u001b[0m \u001b[0;34m==\u001b[0m \u001b[0;36m1\u001b[0m \u001b[0;32mand\u001b[0m \u001b[0mis_classifier\u001b[0m\u001b[0;34m(\u001b[0m\u001b[0mself\u001b[0m\u001b[0;34m)\u001b[0m\u001b[0;34m:\u001b[0m\u001b[0;34m\u001b[0m\u001b[0;34m\u001b[0m\u001b[0m\n",
            "\u001b[0;31mKeyboardInterrupt\u001b[0m: "
          ]
        }
      ]
    },
    {
      "cell_type": "code",
      "source": [
        "rand5.best_params_"
      ],
      "metadata": {
        "id": "4oztd_X0SyAq",
        "colab": {
          "base_uri": "https://localhost:8080/"
        },
        "outputId": "08063a86-1be1-4579-c6a8-dca204c3b447"
      },
      "execution_count": null,
      "outputs": [
        {
          "output_type": "execute_result",
          "data": {
            "text/plain": [
              "{'n_estimators': 500, 'learning_rate': 1}"
            ]
          },
          "metadata": {},
          "execution_count": 23
        }
      ]
    },
    {
      "cell_type": "code",
      "source": [
        "rand5.best_score_"
      ],
      "metadata": {
        "id": "s3q_3YeYSx9g",
        "colab": {
          "base_uri": "https://localhost:8080/"
        },
        "outputId": "d2c83854-16e0-4939-96f9-778a19bf83e7"
      },
      "execution_count": null,
      "outputs": [
        {
          "output_type": "execute_result",
          "data": {
            "text/plain": [
              "0.9994416201963711"
            ]
          },
          "metadata": {},
          "execution_count": 24
        }
      ]
    },
    {
      "cell_type": "code",
      "source": [
        "##Training with best parameters\n",
        "adabest = AdaBoostClassifier(n_estimators=500, learning_rate=1)\n",
        "with joblib.parallel_backend(\"dask\", scatter=[X_train,y_train]):\n",
        "    adabest.fit(X_train,y_train)\n",
        "\n",
        "y_pred = adabest.predict(X_test)"
      ],
      "metadata": {
        "id": "sEI5pL8sSoF_"
      },
      "execution_count": null,
      "outputs": []
    },
    {
      "cell_type": "code",
      "source": [
        "print(classification_report_imbalanced(y_test,y_pred))"
      ],
      "metadata": {
        "id": "vM0IjV0HS5_e",
        "colab": {
          "base_uri": "https://localhost:8080/"
        },
        "outputId": "93b62a6f-d73d-4d1f-9f5e-dc132eb3f1a8"
      },
      "execution_count": null,
      "outputs": [
        {
          "output_type": "stream",
          "name": "stdout",
          "text": [
            "                   pre       rec       spe        f1       geo       iba       sup\n",
            "\n",
            "          0       1.00      1.00      1.00      1.00      1.00      1.00    262570\n",
            "          1       1.00      1.00      1.00      1.00      1.00      1.00    261268\n",
            "\n",
            "avg / total       1.00      1.00      1.00      1.00      1.00      1.00    523838\n",
            "\n"
          ]
        }
      ]
    },
    {
      "cell_type": "code",
      "source": [
        "##Plotting Confusion matrix\n",
        "\n",
        "cm = confusion_matrix(y_test, y_pred, labels=adabest.classes_)\n",
        "disp = ConfusionMatrixDisplay(confusion_matrix=cm,\n",
        "                              display_labels=adabest.classes_)\n",
        "disp.plot()\n",
        "plt.show()"
      ],
      "metadata": {
        "id": "zpt_l0QZS5xu",
        "colab": {
          "base_uri": "https://localhost:8080/",
          "height": 449
        },
        "outputId": "850d669a-8d9b-4e2e-ffdc-be370b46404d"
      },
      "execution_count": null,
      "outputs": [
        {
          "output_type": "display_data",
          "data": {
            "text/plain": [
              "<Figure size 640x480 with 2 Axes>"
            ],
            "image/png": "[encoded data removed]"
          },
          "metadata": {}
        }
      ]
    },
    {
      "cell_type": "code",
      "source": [
        "##Plotting ROC Curve\n",
        "\n",
        "ax = plt.gca()\n",
        "roc_display = RocCurveDisplay.from_estimator(adabest, X_test, y_test, ax=ax, alpha=0.8)\n",
        "plt.title('Receiver Operating Characteristic (ROC) Curve')\n",
        "plt.show()"
      ],
      "metadata": {
        "id": "oDpdY-J1S5um",
        "colab": {
          "base_uri": "https://localhost:8080/",
          "height": 472
        },
        "outputId": "924f9e66-dfc2-425d-dd5a-d8bb9a4b17c9"
      },
      "execution_count": null,
      "outputs": [
        {
          "output_type": "display_data",
          "data": {
            "text/plain": [
              "<Figure size 640x480 with 1 Axes>"
            ],
            "image/png": "[encoded data removed]"
          },
          "metadata": {}
        }
      ]
    },
    {
      "cell_type": "code",
      "source": [
        "print(sensitivity_specificity_support(y_test, y_pred))"
      ],
      "metadata": {
        "id": "EryjncyMSoDA",
        "colab": {
          "base_uri": "https://localhost:8080/"
        },
        "outputId": "f15c3125-018c-424d-901b-9384c47c1e78"
      },
      "execution_count": null,
      "outputs": [
        {
          "output_type": "stream",
          "name": "stdout",
          "text": [
            "(array([0.99902883, 0.9997359 ]), array([0.9997359 , 0.99902883]), array([262570, 261268]))\n"
          ]
        }
      ]
    },
    {
      "cell_type": "code",
      "source": [
        "print(sensitivity_specificity_support(y_test, y_pred, average='macro'))"
      ],
      "metadata": {
        "id": "X2mRcQYJTCit",
        "colab": {
          "base_uri": "https://localhost:8080/"
        },
        "outputId": "501d89b8-92ec-4c1f-dfc5-bc60b2c26a61"
      },
      "execution_count": null,
      "outputs": [
        {
          "output_type": "stream",
          "name": "stdout",
          "text": [
            "(0.9993823668853627, 0.9993823668853627, None)\n"
          ]
        }
      ]
    },
    {
      "cell_type": "code",
      "source": [
        "print(sensitivity_specificity_support(y_test, y_pred, average='micro'))"
      ],
      "metadata": {
        "id": "mcrntHmFTCfw",
        "colab": {
          "base_uri": "https://localhost:8080/"
        },
        "outputId": "ca5b820f-b63b-49e3-dad8-a1995402f842"
      },
      "execution_count": null,
      "outputs": [
        {
          "output_type": "stream",
          "name": "stdout",
          "text": [
            "(0.9993814881700067, 0.9993814881700067, None)\n"
          ]
        }
      ]
    },
    {
      "cell_type": "code",
      "source": [
        "print(sensitivity_specificity_support(y_test, y_pred, average='weighted'))"
      ],
      "metadata": {
        "id": "3T-ydPlETJRH",
        "colab": {
          "base_uri": "https://localhost:8080/"
        },
        "outputId": "44c6ad3d-100d-497f-ad70-a0ae002fd703"
      },
      "execution_count": null,
      "outputs": [
        {
          "output_type": "stream",
          "name": "stdout",
          "text": [
            "(0.9993814881700067, 0.9993832456007188, None)\n"
          ]
        }
      ]
    }
  ]
}